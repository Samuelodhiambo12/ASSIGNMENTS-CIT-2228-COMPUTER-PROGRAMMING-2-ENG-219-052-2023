{
 "cells": [
  {
   "cell_type": "markdown",
   "id": "a681794d",
   "metadata": {
    "papermill": {
     "duration": 0.005393,
     "end_time": "2025-04-28T18:30:12.610317",
     "exception": false,
     "start_time": "2025-04-28T18:30:12.604924",
     "status": "completed"
    },
    "tags": []
   },
   "source": [
    "**This notebook is an exercise in the [Python](https://www.kaggle.com/learn/python) course.  You can reference the tutorial at [this link](https://www.kaggle.com/colinmorris/strings-and-dictionaries).**\n",
    "\n",
    "---\n"
   ]
  },
  {
   "cell_type": "markdown",
   "id": "13a5eca6",
   "metadata": {
    "papermill": {
     "duration": 0.003654,
     "end_time": "2025-04-28T18:30:12.618184",
     "exception": false,
     "start_time": "2025-04-28T18:30:12.614530",
     "status": "completed"
    },
    "tags": []
   },
   "source": [
    "You are almost done with the course. Nice job!\n",
    "\n",
    "We have a couple more interesting problems for you before you go. \n",
    "\n",
    "As always, run the setup code below before working on the questions."
   ]
  },
  {
   "cell_type": "code",
   "execution_count": 1,
   "id": "1b066d40",
   "metadata": {
    "execution": {
     "iopub.execute_input": "2025-04-28T18:30:12.628981Z",
     "iopub.status.busy": "2025-04-28T18:30:12.628672Z",
     "iopub.status.idle": "2025-04-28T18:30:14.803850Z",
     "shell.execute_reply": "2025-04-28T18:30:14.795440Z"
    },
    "papermill": {
     "duration": 2.188632,
     "end_time": "2025-04-28T18:30:14.810787",
     "exception": false,
     "start_time": "2025-04-28T18:30:12.622155",
     "status": "completed"
    },
    "tags": []
   },
   "outputs": [
    {
     "name": "stdout",
     "output_type": "stream",
     "text": [
      "Setup complete.\n"
     ]
    }
   ],
   "source": [
    "from learntools.core import binder; binder.bind(globals())\n",
    "from learntools.python.ex6 import *\n",
    "print('Setup complete.')"
   ]
  },
  {
   "cell_type": "markdown",
   "id": "637f068f",
   "metadata": {
    "papermill": {
     "duration": 0.004187,
     "end_time": "2025-04-28T18:30:14.821171",
     "exception": false,
     "start_time": "2025-04-28T18:30:14.816984",
     "status": "completed"
    },
    "tags": []
   },
   "source": [
    "Let's start with a string lightning round to warm up. What are the lengths of the strings below?\n",
    "\n",
    "For each of the five strings below, predict what `len()` would return when passed that string. Use the variable `length` to record your answer, then run the cell to check whether you were right.  \n",
    "\n",
    "# 0a."
   ]
  },
  {
   "cell_type": "code",
   "execution_count": 2,
   "id": "6b12da57",
   "metadata": {
    "execution": {
     "iopub.execute_input": "2025-04-28T18:30:14.830553Z",
     "iopub.status.busy": "2025-04-28T18:30:14.830059Z",
     "iopub.status.idle": "2025-04-28T18:30:14.839320Z",
     "shell.execute_reply": "2025-04-28T18:30:14.838315Z"
    },
    "papermill": {
     "duration": 0.01586,
     "end_time": "2025-04-28T18:30:14.840987",
     "exception": false,
     "start_time": "2025-04-28T18:30:14.825127",
     "status": "completed"
    },
    "tags": []
   },
   "outputs": [
    {
     "data": {
      "application/javascript": [
       "parent.postMessage({\"jupyterEvent\": \"custom.exercise_interaction\", \"data\": {\"outcomeType\": 1, \"valueTowardsCompletion\": 0.3333333333333333, \"interactionType\": 1, \"questionType\": 1, \"questionId\": \"0.1_ZA\", \"learnToolsVersion\": \"0.3.5\", \"failureMessage\": \"\", \"exceptionClass\": \"\", \"trace\": \"\"}}, \"*\")"
      ],
      "text/plain": [
       "<IPython.core.display.Javascript object>"
      ]
     },
     "metadata": {},
     "output_type": "display_data"
    },
    {
     "data": {
      "text/markdown": [
       "<span style=\"color:#33cc33\">Correct:</span> \n",
       "\n",
       "The empty string has length zero. Note that the empty string is also the only string that Python considers as False when converting to boolean."
      ],
      "text/plain": [
       "Correct: \n",
       "\n",
       "The empty string has length zero. Note that the empty string is also the only string that Python considers as False when converting to boolean."
      ]
     },
     "metadata": {},
     "output_type": "display_data"
    }
   ],
   "source": [
    "a = \"\"\n",
    "length =0\n",
    "q0.a.check()"
   ]
  },
  {
   "cell_type": "markdown",
   "id": "c5fcdedc",
   "metadata": {
    "papermill": {
     "duration": 0.003865,
     "end_time": "2025-04-28T18:30:14.849184",
     "exception": false,
     "start_time": "2025-04-28T18:30:14.845319",
     "status": "completed"
    },
    "tags": []
   },
   "source": [
    "# 0b."
   ]
  },
  {
   "cell_type": "code",
   "execution_count": 3,
   "id": "af8ec7bd",
   "metadata": {
    "execution": {
     "iopub.execute_input": "2025-04-28T18:30:14.860891Z",
     "iopub.status.busy": "2025-04-28T18:30:14.859454Z",
     "iopub.status.idle": "2025-04-28T18:30:14.868942Z",
     "shell.execute_reply": "2025-04-28T18:30:14.868024Z"
    },
    "papermill": {
     "duration": 0.016395,
     "end_time": "2025-04-28T18:30:14.870311",
     "exception": false,
     "start_time": "2025-04-28T18:30:14.853916",
     "status": "completed"
    },
    "tags": []
   },
   "outputs": [
    {
     "data": {
      "application/javascript": [
       "parent.postMessage({\"jupyterEvent\": \"custom.exercise_interaction\", \"data\": {\"outcomeType\": 1, \"valueTowardsCompletion\": 0.3333333333333333, \"interactionType\": 1, \"questionType\": 1, \"questionId\": \"0.2_ZB\", \"learnToolsVersion\": \"0.3.5\", \"failureMessage\": \"\", \"exceptionClass\": \"\", \"trace\": \"\"}}, \"*\")"
      ],
      "text/plain": [
       "<IPython.core.display.Javascript object>"
      ]
     },
     "metadata": {},
     "output_type": "display_data"
    },
    {
     "data": {
      "text/markdown": [
       "<span style=\"color:#33cc33\">Correct:</span> \n",
       "\n",
       "Keep in mind Python includes spaces (and punctuation) when counting string length."
      ],
      "text/plain": [
       "Correct: \n",
       "\n",
       "Keep in mind Python includes spaces (and punctuation) when counting string length."
      ]
     },
     "metadata": {},
     "output_type": "display_data"
    }
   ],
   "source": [
    "b = \"it's ok\"\n",
    "length = len(b)\n",
    "q0.b.check()"
   ]
  },
  {
   "cell_type": "markdown",
   "id": "577049a4",
   "metadata": {
    "papermill": {
     "duration": 0.004011,
     "end_time": "2025-04-28T18:30:14.878807",
     "exception": false,
     "start_time": "2025-04-28T18:30:14.874796",
     "status": "completed"
    },
    "tags": []
   },
   "source": [
    "# 0c."
   ]
  },
  {
   "cell_type": "code",
   "execution_count": 4,
   "id": "d45a66e2",
   "metadata": {
    "execution": {
     "iopub.execute_input": "2025-04-28T18:30:14.888690Z",
     "iopub.status.busy": "2025-04-28T18:30:14.888304Z",
     "iopub.status.idle": "2025-04-28T18:30:14.896187Z",
     "shell.execute_reply": "2025-04-28T18:30:14.895326Z"
    },
    "papermill": {
     "duration": 0.014441,
     "end_time": "2025-04-28T18:30:14.897587",
     "exception": false,
     "start_time": "2025-04-28T18:30:14.883146",
     "status": "completed"
    },
    "tags": []
   },
   "outputs": [
    {
     "data": {
      "application/javascript": [
       "parent.postMessage({\"jupyterEvent\": \"custom.exercise_interaction\", \"data\": {\"outcomeType\": 1, \"valueTowardsCompletion\": 0.3333333333333333, \"interactionType\": 1, \"questionType\": 1, \"questionId\": \"0.3_ZC\", \"learnToolsVersion\": \"0.3.5\", \"failureMessage\": \"\", \"exceptionClass\": \"\", \"trace\": \"\"}}, \"*\")"
      ],
      "text/plain": [
       "<IPython.core.display.Javascript object>"
      ]
     },
     "metadata": {},
     "output_type": "display_data"
    },
    {
     "data": {
      "text/markdown": [
       "<span style=\"color:#33cc33\">Correct:</span> \n",
       "\n",
       "Even though we use different syntax to create it, the string `c` is identical to `b`. In particular, note that the backslash is not part of the string, so it doesn't contribute to its length."
      ],
      "text/plain": [
       "Correct: \n",
       "\n",
       "Even though we use different syntax to create it, the string `c` is identical to `b`. In particular, note that the backslash is not part of the string, so it doesn't contribute to its length."
      ]
     },
     "metadata": {},
     "output_type": "display_data"
    }
   ],
   "source": [
    "c = 'it\\'s ok'\n",
    "length = len(c)\n",
    "q0.c.check()"
   ]
  },
  {
   "cell_type": "markdown",
   "id": "0b684464",
   "metadata": {
    "papermill": {
     "duration": 0.004654,
     "end_time": "2025-04-28T18:30:14.907574",
     "exception": false,
     "start_time": "2025-04-28T18:30:14.902920",
     "status": "completed"
    },
    "tags": []
   },
   "source": [
    "# 0d."
   ]
  },
  {
   "cell_type": "code",
   "execution_count": 5,
   "id": "b0c888a1",
   "metadata": {
    "execution": {
     "iopub.execute_input": "2025-04-28T18:30:14.918101Z",
     "iopub.status.busy": "2025-04-28T18:30:14.917828Z",
     "iopub.status.idle": "2025-04-28T18:30:14.925780Z",
     "shell.execute_reply": "2025-04-28T18:30:14.924970Z"
    },
    "papermill": {
     "duration": 0.015125,
     "end_time": "2025-04-28T18:30:14.927391",
     "exception": false,
     "start_time": "2025-04-28T18:30:14.912266",
     "status": "completed"
    },
    "tags": []
   },
   "outputs": [
    {
     "data": {
      "application/javascript": [
       "parent.postMessage({\"jupyterEvent\": \"custom.exercise_interaction\", \"data\": {\"outcomeType\": 1, \"valueTowardsCompletion\": 0.3333333333333333, \"interactionType\": 1, \"questionType\": 1, \"questionId\": \"0.4_ZD\", \"learnToolsVersion\": \"0.3.5\", \"failureMessage\": \"\", \"exceptionClass\": \"\", \"trace\": \"\"}}, \"*\")"
      ],
      "text/plain": [
       "<IPython.core.display.Javascript object>"
      ]
     },
     "metadata": {},
     "output_type": "display_data"
    },
    {
     "data": {
      "text/markdown": [
       "<span style=\"color:#33cc33\">Correct:</span> \n",
       "\n",
       "The fact that this string was created using triple-quote syntax doesn't make any difference in terms of its content or length. This string is exactly the same as `'hey'`."
      ],
      "text/plain": [
       "Correct: \n",
       "\n",
       "The fact that this string was created using triple-quote syntax doesn't make any difference in terms of its content or length. This string is exactly the same as `'hey'`."
      ]
     },
     "metadata": {},
     "output_type": "display_data"
    }
   ],
   "source": [
    "d = \"\"\"hey\"\"\"\n",
    "length = len(d)\n",
    "q0.d.check()"
   ]
  },
  {
   "cell_type": "markdown",
   "id": "59253f64",
   "metadata": {
    "papermill": {
     "duration": 0.00461,
     "end_time": "2025-04-28T18:30:14.937208",
     "exception": false,
     "start_time": "2025-04-28T18:30:14.932598",
     "status": "completed"
    },
    "tags": []
   },
   "source": [
    "# 0e."
   ]
  },
  {
   "cell_type": "code",
   "execution_count": 6,
   "id": "f1d19184",
   "metadata": {
    "execution": {
     "iopub.execute_input": "2025-04-28T18:30:14.947915Z",
     "iopub.status.busy": "2025-04-28T18:30:14.947620Z",
     "iopub.status.idle": "2025-04-28T18:30:14.954938Z",
     "shell.execute_reply": "2025-04-28T18:30:14.953944Z"
    },
    "papermill": {
     "duration": 0.014556,
     "end_time": "2025-04-28T18:30:14.956457",
     "exception": false,
     "start_time": "2025-04-28T18:30:14.941901",
     "status": "completed"
    },
    "tags": []
   },
   "outputs": [
    {
     "data": {
      "application/javascript": [
       "parent.postMessage({\"jupyterEvent\": \"custom.exercise_interaction\", \"data\": {\"outcomeType\": 1, \"valueTowardsCompletion\": 0.3333333333333333, \"interactionType\": 1, \"questionType\": 1, \"questionId\": \"0.5_ZE\", \"learnToolsVersion\": \"0.3.5\", \"failureMessage\": \"\", \"exceptionClass\": \"\", \"trace\": \"\"}}, \"*\")"
      ],
      "text/plain": [
       "<IPython.core.display.Javascript object>"
      ]
     },
     "metadata": {},
     "output_type": "display_data"
    },
    {
     "data": {
      "text/markdown": [
       "<span style=\"color:#33cc33\">Correct:</span> \n",
       "\n",
       "The newline character is just a single character! (Even though we represent it to Python using a combination of two characters.)"
      ],
      "text/plain": [
       "Correct: \n",
       "\n",
       "The newline character is just a single character! (Even though we represent it to Python using a combination of two characters.)"
      ]
     },
     "metadata": {},
     "output_type": "display_data"
    }
   ],
   "source": [
    "e = '\\n'\n",
    "length = len(e)\n",
    "q0.e.check()"
   ]
  },
  {
   "cell_type": "markdown",
   "id": "25ef3bae",
   "metadata": {
    "papermill": {
     "duration": 0.00464,
     "end_time": "2025-04-28T18:30:14.966284",
     "exception": false,
     "start_time": "2025-04-28T18:30:14.961644",
     "status": "completed"
    },
    "tags": []
   },
   "source": [
    "# 1.\n",
    "\n",
    "There is a saying that \"Data scientists spend 80% of their time cleaning data, and 20% of their time complaining about cleaning data.\" Let's see if you can write a function to help clean US zip code data. Given a string, it should return whether or not that string represents a valid zip code. For our purposes, a valid zip code is any string consisting of exactly 5 digits.\n",
    "\n",
    "HINT: `str` has a method that will be useful here. Use `help(str)` to review a list of string methods."
   ]
  },
  {
   "cell_type": "code",
   "execution_count": 7,
   "id": "10d4f46b",
   "metadata": {
    "execution": {
     "iopub.execute_input": "2025-04-28T18:30:14.978001Z",
     "iopub.status.busy": "2025-04-28T18:30:14.976968Z",
     "iopub.status.idle": "2025-04-28T18:30:14.984990Z",
     "shell.execute_reply": "2025-04-28T18:30:14.984138Z"
    },
    "papermill": {
     "duration": 0.015306,
     "end_time": "2025-04-28T18:30:14.986337",
     "exception": false,
     "start_time": "2025-04-28T18:30:14.971031",
     "status": "completed"
    },
    "tags": []
   },
   "outputs": [
    {
     "data": {
      "application/javascript": [
       "parent.postMessage({\"jupyterEvent\": \"custom.exercise_interaction\", \"data\": {\"outcomeType\": 1, \"valueTowardsCompletion\": 0.3333333333333333, \"interactionType\": 1, \"questionType\": 2, \"questionId\": \"1_ZipValidator\", \"learnToolsVersion\": \"0.3.5\", \"failureMessage\": \"\", \"exceptionClass\": \"\", \"trace\": \"\"}}, \"*\")"
      ],
      "text/plain": [
       "<IPython.core.display.Javascript object>"
      ]
     },
     "metadata": {},
     "output_type": "display_data"
    },
    {
     "data": {
      "text/markdown": [
       "<span style=\"color:#33cc33\">Correct</span>"
      ],
      "text/plain": [
       "Correct"
      ]
     },
     "metadata": {},
     "output_type": "display_data"
    }
   ],
   "source": [
    "def is_valid_zip(zip_code):\n",
    "    \"\"\"Returns whether the input string is a valid (5 digit) zip code\n",
    "    \"\"\"\n",
    "    return len(zip_code)==5 and zip_code.isdigit()\n",
    "    pass\n",
    "\n",
    "# Check your answer\n",
    "q1.check()"
   ]
  },
  {
   "cell_type": "code",
   "execution_count": 8,
   "id": "2e90ec8c",
   "metadata": {
    "execution": {
     "iopub.execute_input": "2025-04-28T18:30:14.998459Z",
     "iopub.status.busy": "2025-04-28T18:30:14.998145Z",
     "iopub.status.idle": "2025-04-28T18:30:15.002194Z",
     "shell.execute_reply": "2025-04-28T18:30:15.001303Z"
    },
    "papermill": {
     "duration": 0.012049,
     "end_time": "2025-04-28T18:30:15.003723",
     "exception": false,
     "start_time": "2025-04-28T18:30:14.991674",
     "status": "completed"
    },
    "tags": []
   },
   "outputs": [],
   "source": [
    "#q1.hint()\n",
    "#q1.solution()"
   ]
  },
  {
   "cell_type": "markdown",
   "id": "5d4321bb",
   "metadata": {
    "papermill": {
     "duration": 0.004868,
     "end_time": "2025-04-28T18:30:15.014419",
     "exception": false,
     "start_time": "2025-04-28T18:30:15.009551",
     "status": "completed"
    },
    "tags": []
   },
   "source": [
    "# 2.\n",
    "\n",
    "A researcher has gathered thousands of news articles. But she wants to focus her attention on articles including a specific word. Complete the function below to help her filter her list of articles.\n",
    "\n",
    "Your function should meet the following criteria:\n",
    "\n",
    "- Do not include documents where the keyword string shows up only as a part of a larger word. For example, if she were looking for the keyword “closed”, you would not include the string “enclosed.” \n",
    "- She does not want you to distinguish upper case from lower case letters. So the phrase “Closed the case.” would be included when the keyword is “closed”\n",
    "- Do not let periods or commas affect what is matched. “It is closed.” would be included when the keyword is “closed”. But you can assume there are no other types of punctuation."
   ]
  },
  {
   "cell_type": "code",
   "execution_count": 9,
   "id": "c64c21d6",
   "metadata": {
    "execution": {
     "iopub.execute_input": "2025-04-28T18:30:15.026731Z",
     "iopub.status.busy": "2025-04-28T18:30:15.025973Z",
     "iopub.status.idle": "2025-04-28T18:30:15.034364Z",
     "shell.execute_reply": "2025-04-28T18:30:15.033563Z"
    },
    "papermill": {
     "duration": 0.016195,
     "end_time": "2025-04-28T18:30:15.035655",
     "exception": false,
     "start_time": "2025-04-28T18:30:15.019460",
     "status": "completed"
    },
    "tags": []
   },
   "outputs": [
    {
     "data": {
      "application/javascript": [
       "parent.postMessage({\"jupyterEvent\": \"custom.exercise_interaction\", \"data\": {\"outcomeType\": 1, \"valueTowardsCompletion\": 0.3333333333333333, \"interactionType\": 1, \"questionType\": 2, \"questionId\": \"2_WordSearch\", \"learnToolsVersion\": \"0.3.5\", \"failureMessage\": \"\", \"exceptionClass\": \"\", \"trace\": \"\"}}, \"*\")"
      ],
      "text/plain": [
       "<IPython.core.display.Javascript object>"
      ]
     },
     "metadata": {},
     "output_type": "display_data"
    },
    {
     "data": {
      "text/markdown": [
       "<span style=\"color:#33cc33\">Correct</span>"
      ],
      "text/plain": [
       "Correct"
      ]
     },
     "metadata": {},
     "output_type": "display_data"
    }
   ],
   "source": [
    "def word_search(doc_list, keyword):\n",
    "    \"\"\"\n",
    "    Takes a list of documents (each document is a string) and a keyword. \n",
    "    Returns list of the index values into the original list for all documents \n",
    "    containing the keyword.\n",
    "\n",
    "    Example:\n",
    "    doc_list = [\"The Learn Python Challenge Casino.\", \"They bought a car\", \"Casinoville\"]\n",
    "    >>> word_search(doc_list, 'casino')\n",
    "    >>> [0]\n",
    "    \"\"\"\n",
    "    indices = [] \n",
    "    # Iterate through the indices (i) and elements (doc) of documents\n",
    "    for i, doc in enumerate(doc_list):\n",
    "        # Split the string doc into a list of words (according to whitespace)\n",
    "        tokens = doc.split()\n",
    "        # Make a transformed list where we 'normalize' each word to facilitate matching.\n",
    "        # Periods and commas are removed from the end of each word, and it's set to all lowercase.\n",
    "        normalized = [token.rstrip('.,').lower() for token in tokens]\n",
    "        # Is there a match? If so, update the list of matching indices.\n",
    "        if keyword.lower() in normalized:\n",
    "            indices.append(i)\n",
    "    return indices\n",
    "    pass\n",
    "\n",
    "# Check your answer\n",
    "q2.check()"
   ]
  },
  {
   "cell_type": "code",
   "execution_count": 10,
   "id": "2949a13b",
   "metadata": {
    "execution": {
     "iopub.execute_input": "2025-04-28T18:30:15.047794Z",
     "iopub.status.busy": "2025-04-28T18:30:15.047156Z",
     "iopub.status.idle": "2025-04-28T18:30:15.050772Z",
     "shell.execute_reply": "2025-04-28T18:30:15.049989Z"
    },
    "papermill": {
     "duration": 0.011084,
     "end_time": "2025-04-28T18:30:15.052068",
     "exception": false,
     "start_time": "2025-04-28T18:30:15.040984",
     "status": "completed"
    },
    "tags": []
   },
   "outputs": [],
   "source": [
    "#q2.hint()\n",
    "#q2.solution()"
   ]
  },
  {
   "cell_type": "markdown",
   "id": "bef2058f",
   "metadata": {
    "papermill": {
     "duration": 0.005032,
     "end_time": "2025-04-28T18:30:15.062273",
     "exception": false,
     "start_time": "2025-04-28T18:30:15.057241",
     "status": "completed"
    },
    "tags": []
   },
   "source": [
    "# 3.\n",
    "\n",
    "Now the researcher wants to supply multiple keywords to search for. Complete the function below to help her.\n",
    "\n",
    "(You're encouraged to use the `word_search` function you just wrote when implementing this function. Reusing code in this way makes your programs more robust and readable - and it saves typing!)"
   ]
  },
  {
   "cell_type": "code",
   "execution_count": 11,
   "id": "41a091f1",
   "metadata": {
    "execution": {
     "iopub.execute_input": "2025-04-28T18:30:15.074464Z",
     "iopub.status.busy": "2025-04-28T18:30:15.074140Z",
     "iopub.status.idle": "2025-04-28T18:30:15.082489Z",
     "shell.execute_reply": "2025-04-28T18:30:15.081405Z"
    },
    "papermill": {
     "duration": 0.016479,
     "end_time": "2025-04-28T18:30:15.084305",
     "exception": false,
     "start_time": "2025-04-28T18:30:15.067826",
     "status": "completed"
    },
    "tags": []
   },
   "outputs": [
    {
     "data": {
      "application/javascript": [
       "parent.postMessage({\"jupyterEvent\": \"custom.exercise_interaction\", \"data\": {\"outcomeType\": 1, \"valueTowardsCompletion\": 0.3333333333333333, \"interactionType\": 1, \"questionType\": 2, \"questionId\": \"3_MultiWordSearch\", \"learnToolsVersion\": \"0.3.5\", \"failureMessage\": \"\", \"exceptionClass\": \"\", \"trace\": \"\"}}, \"*\")"
      ],
      "text/plain": [
       "<IPython.core.display.Javascript object>"
      ]
     },
     "metadata": {},
     "output_type": "display_data"
    },
    {
     "data": {
      "text/markdown": [
       "<span style=\"color:#33cc33\">Correct</span>"
      ],
      "text/plain": [
       "Correct"
      ]
     },
     "metadata": {},
     "output_type": "display_data"
    }
   ],
   "source": [
    "def multi_word_search(doc_list, keywords):\n",
    "    \"\"\"\n",
    "    Takes list of documents (each document is a string) and a list of keywords.  \n",
    "    Returns a dictionary where each key is a keyword, and the value is a list of indices\n",
    "    (from doc_list) of the documents containing that keyword\n",
    "\n",
    "    >>> doc_list = [\"The Learn Python Challenge Casino.\", \"They bought a car and a casino\", \"Casinoville\"]\n",
    "    >>> keywords = ['casino', 'they']\n",
    "    >>> multi_word_search(doc_list, keywords)\n",
    "    {'casino': [0, 1], 'they': [1]}\n",
    "    \"\"\"\n",
    "    keyword_to_indices = {}\n",
    "    for keyword in keywords:\n",
    "        keyword_to_indices[keyword] = word_search(doc_list, keyword)\n",
    "    return keyword_to_indices\n",
    "    pass\n",
    "\n",
    "# Check your answer\n",
    "q3.check()"
   ]
  },
  {
   "cell_type": "code",
   "execution_count": 12,
   "id": "1117768a",
   "metadata": {
    "execution": {
     "iopub.execute_input": "2025-04-28T18:30:15.096452Z",
     "iopub.status.busy": "2025-04-28T18:30:15.096183Z",
     "iopub.status.idle": "2025-04-28T18:30:15.099997Z",
     "shell.execute_reply": "2025-04-28T18:30:15.099266Z"
    },
    "papermill": {
     "duration": 0.011534,
     "end_time": "2025-04-28T18:30:15.101440",
     "exception": false,
     "start_time": "2025-04-28T18:30:15.089906",
     "status": "completed"
    },
    "tags": []
   },
   "outputs": [],
   "source": [
    "#q3.solution()"
   ]
  },
  {
   "cell_type": "markdown",
   "id": "a1c395a7",
   "metadata": {
    "papermill": {
     "duration": 0.007778,
     "end_time": "2025-04-28T18:30:15.114611",
     "exception": false,
     "start_time": "2025-04-28T18:30:15.106833",
     "status": "completed"
    },
    "tags": []
   },
   "source": [
    "# Keep Going\n",
    "\n",
    "You've learned a lot. But even the best programmers rely heavily on \"libraries\" of code from other programmers. You'll learn about that in **[the last lesson](https://www.kaggle.com/colinmorris/working-with-external-libraries)**.\n"
   ]
  },
  {
   "cell_type": "markdown",
   "id": "42a095d7",
   "metadata": {
    "papermill": {
     "duration": 0.005087,
     "end_time": "2025-04-28T18:30:15.124909",
     "exception": false,
     "start_time": "2025-04-28T18:30:15.119822",
     "status": "completed"
    },
    "tags": []
   },
   "source": [
    "---\n",
    "\n",
    "\n",
    "\n",
    "\n",
    "*Have questions or comments? Visit the [course discussion forum](https://www.kaggle.com/learn/python/discussion) to chat with other learners.*"
   ]
  }
 ],
 "metadata": {
  "kaggle": {
   "accelerator": "none",
   "dataSources": [],
   "isGpuEnabled": false,
   "isInternetEnabled": false,
   "language": "python",
   "sourceType": "notebook"
  },
  "kernelspec": {
   "display_name": "Python 3",
   "language": "python",
   "name": "python3"
  },
  "language_info": {
   "codemirror_mode": {
    "name": "ipython",
    "version": 3
   },
   "file_extension": ".py",
   "mimetype": "text/x-python",
   "name": "python",
   "nbconvert_exporter": "python",
   "pygments_lexer": "ipython3",
   "version": "3.11.11"
  },
  "learntools_metadata": {
   "lesson_index": 5,
   "type": "exercise"
  },
  "papermill": {
   "default_parameters": {},
   "duration": 9.56282,
   "end_time": "2025-04-28T18:30:15.752244",
   "environment_variables": {},
   "exception": null,
   "input_path": "__notebook__.ipynb",
   "output_path": "__notebook__.ipynb",
   "parameters": {},
   "start_time": "2025-04-28T18:30:06.189424",
   "version": "2.6.0"
  }
 },
 "nbformat": 4,
 "nbformat_minor": 5
}
