{
 "cells": [
  {
   "cell_type": "markdown",
   "id": "d97e7250",
   "metadata": {
    "papermill": {
     "duration": 0.005945,
     "end_time": "2025-02-22T12:54:19.457922",
     "exception": false,
     "start_time": "2025-02-22T12:54:19.451977",
     "status": "completed"
    },
    "tags": []
   },
   "source": [
    "**This notebook is an exercise in the [Intro to Programming](https://www.kaggle.com/learn/intro-to-programming) course.  You can reference the tutorial at [this link](https://www.kaggle.com/alexisbcook/functions).**\n",
    "\n",
    "---\n"
   ]
  },
  {
   "cell_type": "markdown",
   "id": "e6da2175",
   "metadata": {
    "papermill": {
     "duration": 0.004888,
     "end_time": "2025-02-22T12:54:19.468206",
     "exception": false,
     "start_time": "2025-02-22T12:54:19.463318",
     "status": "completed"
    },
    "tags": []
   },
   "source": [
    "In the tutorial, you learned about functions. In this exercise, you'll write some of your own!\n",
    "\n",
    "# Set up the notebook\n",
    "\n",
    "Run the next code cell without changes to set up the notebook."
   ]
  },
  {
   "cell_type": "code",
   "execution_count": 1,
   "id": "c632ce69",
   "metadata": {
    "execution": {
     "iopub.execute_input": "2025-02-22T12:54:19.480378Z",
     "iopub.status.busy": "2025-02-22T12:54:19.479881Z",
     "iopub.status.idle": "2025-02-22T12:54:20.601665Z",
     "shell.execute_reply": "2025-02-22T12:54:20.600043Z"
    },
    "papermill": {
     "duration": 1.130073,
     "end_time": "2025-02-22T12:54:20.603733",
     "exception": false,
     "start_time": "2025-02-22T12:54:19.473660",
     "status": "completed"
    },
    "tags": []
   },
   "outputs": [
    {
     "name": "stdout",
     "output_type": "stream",
     "text": [
      "Setup complete.\n"
     ]
    }
   ],
   "source": [
    "# Set up the exercise\n",
    "import math\n",
    "from learntools.core import binder\n",
    "binder.bind(globals())\n",
    "from learntools.intro_to_programming.ex2 import *\n",
    "print('Setup complete.')"
   ]
  },
  {
   "cell_type": "markdown",
   "id": "a19804ad",
   "metadata": {
    "papermill": {
     "duration": 0.005036,
     "end_time": "2025-02-22T12:54:20.614354",
     "exception": false,
     "start_time": "2025-02-22T12:54:20.609318",
     "status": "completed"
    },
    "tags": []
   },
   "source": [
    "# Question 1\n",
    "\n",
    "In the [House Prices - Advanced Regression Techniques competition](https://www.kaggle.com/c/house-prices-advanced-regression-techniques/overview), you need to use information like the number of bedrooms and bathrooms to predict the price of a house.  Inspired by this competition, you'll write your own function to do this.\n",
    "\n",
    "In the next code cell, create a function `get_expected_cost()` that has two arguments:\n",
    "- `beds` - number of bedrooms \n",
    "- `baths` - number of bathrooms\n",
    "\n",
    "It should return the expected cost of a house with that number of bedrooms and bathrooms.  Assume that:\n",
    "- the expected cost for a house with 0 bedrooms and 0 bathrooms is `80000`.  \n",
    "- each bedroom adds `30000` to the expected cost\n",
    "- each bathroom adds `10000` to the expected cost.\n",
    "\n",
    "For instance, \n",
    "- a house with 1 bedroom and 1 bathroom has an expected cost of `120000`, and \n",
    "- a house with 2 bedrooms and 1 bathroom has an expected cost of `150000`."
   ]
  },
  {
   "cell_type": "code",
   "execution_count": 2,
   "id": "18391889",
   "metadata": {
    "execution": {
     "iopub.execute_input": "2025-02-22T12:54:20.627786Z",
     "iopub.status.busy": "2025-02-22T12:54:20.627213Z",
     "iopub.status.idle": "2025-02-22T12:54:20.636772Z",
     "shell.execute_reply": "2025-02-22T12:54:20.635768Z"
    },
    "papermill": {
     "duration": 0.017676,
     "end_time": "2025-02-22T12:54:20.638452",
     "exception": false,
     "start_time": "2025-02-22T12:54:20.620776",
     "status": "completed"
    },
    "tags": []
   },
   "outputs": [
    {
     "data": {
      "application/javascript": [
       "parent.postMessage({\"jupyterEvent\": \"custom.exercise_interaction\", \"data\": {\"outcomeType\": 1, \"valueTowardsCompletion\": 0.2, \"interactionType\": 1, \"questionType\": 2, \"questionId\": \"1_GetExpectedCost\", \"learnToolsVersion\": \"0.3.4\", \"failureMessage\": \"\", \"exceptionClass\": \"\", \"trace\": \"\"}}, \"*\")"
      ],
      "text/plain": [
       "<IPython.core.display.Javascript object>"
      ]
     },
     "metadata": {},
     "output_type": "display_data"
    },
    {
     "data": {
      "text/markdown": [
       "<span style=\"color:#33cc33\">Correct</span>"
      ],
      "text/plain": [
       "Correct"
      ]
     },
     "metadata": {},
     "output_type": "display_data"
    }
   ],
   "source": [
    "# TODO: Complete the function\n",
    "def get_expected_cost(beds, baths):\n",
    "    value = 80000 + 30000 * beds + 10000 * baths\n",
    "    return value\n",
    "\n",
    "#Check your answer \n",
    "q1.check()"
   ]
  },
  {
   "cell_type": "code",
   "execution_count": 3,
   "id": "176a9711",
   "metadata": {
    "execution": {
     "iopub.execute_input": "2025-02-22T12:54:20.651453Z",
     "iopub.status.busy": "2025-02-22T12:54:20.651112Z",
     "iopub.status.idle": "2025-02-22T12:54:20.655154Z",
     "shell.execute_reply": "2025-02-22T12:54:20.653821Z"
    },
    "papermill": {
     "duration": 0.012447,
     "end_time": "2025-02-22T12:54:20.657142",
     "exception": false,
     "start_time": "2025-02-22T12:54:20.644695",
     "status": "completed"
    },
    "tags": []
   },
   "outputs": [],
   "source": [
    "# Uncomment to see a hint\n",
    "#q1.hint()\n",
    "\n",
    "# Uncomment to view the solution\n",
    "#q1.solution()"
   ]
  },
  {
   "cell_type": "code",
   "execution_count": 4,
   "id": "8e28268f",
   "metadata": {
    "execution": {
     "iopub.execute_input": "2025-02-22T12:54:20.670746Z",
     "iopub.status.busy": "2025-02-22T12:54:20.670321Z",
     "iopub.status.idle": "2025-02-22T12:54:20.674444Z",
     "shell.execute_reply": "2025-02-22T12:54:20.673144Z"
    },
    "papermill": {
     "duration": 0.013567,
     "end_time": "2025-02-22T12:54:20.676628",
     "exception": false,
     "start_time": "2025-02-22T12:54:20.663061",
     "status": "completed"
    },
    "tags": []
   },
   "outputs": [],
   "source": [
    "# Uncomment to see a hint\n",
    "#q1.hint()\n",
    "\n",
    "# Uncomment to view the solution\n",
    "#q1.solution()"
   ]
  },
  {
   "cell_type": "markdown",
   "id": "7b949b76",
   "metadata": {
    "papermill": {
     "duration": 0.005206,
     "end_time": "2025-02-22T12:54:20.687451",
     "exception": false,
     "start_time": "2025-02-22T12:54:20.682245",
     "status": "completed"
    },
    "tags": []
   },
   "source": [
    "# Question 2\n",
    "\n",
    "You are thinking about buying a home and want to get an idea of how much you will spend, based on the number of bedrooms and bathrooms.  You are trying to decide between four different options:\n",
    "- Option 1: house with two bedrooms and three bathrooms\n",
    "- Option 2: house with three bedrooms and two bathrooms\n",
    "- Option 3: house with three bedrooms and three bathrooms\n",
    "- Option 4: house with three bedrooms and four bathrooms\n",
    "\n",
    "Use the `get_expected_cost()` function you defined in question 1 to set `option_1`, `option_2`, `option_3`, and `option_4` to the expected cost of each option."
   ]
  },
  {
   "cell_type": "code",
   "execution_count": 5,
   "id": "d44a3b36",
   "metadata": {
    "execution": {
     "iopub.execute_input": "2025-02-22T12:54:20.699509Z",
     "iopub.status.busy": "2025-02-22T12:54:20.699170Z",
     "iopub.status.idle": "2025-02-22T12:54:20.709824Z",
     "shell.execute_reply": "2025-02-22T12:54:20.708705Z"
    },
    "papermill": {
     "duration": 0.018707,
     "end_time": "2025-02-22T12:54:20.711527",
     "exception": false,
     "start_time": "2025-02-22T12:54:20.692820",
     "status": "completed"
    },
    "tags": []
   },
   "outputs": [
    {
     "name": "stdout",
     "output_type": "stream",
     "text": [
      "170000\n",
      "190000\n",
      "200000\n",
      "210000\n"
     ]
    },
    {
     "data": {
      "application/javascript": [
       "parent.postMessage({\"jupyterEvent\": \"custom.exercise_interaction\", \"data\": {\"outcomeType\": 1, \"valueTowardsCompletion\": 0.2, \"interactionType\": 1, \"questionType\": 1, \"questionId\": \"2_RunGetExpectedCost\", \"learnToolsVersion\": \"0.3.4\", \"failureMessage\": \"\", \"exceptionClass\": \"\", \"trace\": \"\"}}, \"*\")"
      ],
      "text/plain": [
       "<IPython.core.display.Javascript object>"
      ]
     },
     "metadata": {},
     "output_type": "display_data"
    },
    {
     "data": {
      "text/markdown": [
       "<span style=\"color:#33cc33\">Correct</span>"
      ],
      "text/plain": [
       "Correct"
      ]
     },
     "metadata": {},
     "output_type": "display_data"
    }
   ],
   "source": [
    "# TODO: Use the get_expected_cost function to fill in each value\n",
    "option_one = get_expected_cost(2,3)\n",
    "option_two = get_expected_cost(3,2)\n",
    "option_three = get_expected_cost(3,3)\n",
    "option_four = get_expected_cost(3,4)\n",
    "\n",
    "print(option_one)\n",
    "print(option_two)\n",
    "print(option_three)\n",
    "print(option_four)\n",
    "\n",
    "# Check your answer\n",
    "q2.check()"
   ]
  },
  {
   "cell_type": "code",
   "execution_count": 6,
   "id": "9588a7c1",
   "metadata": {
    "execution": {
     "iopub.execute_input": "2025-02-22T12:54:20.724466Z",
     "iopub.status.busy": "2025-02-22T12:54:20.724145Z",
     "iopub.status.idle": "2025-02-22T12:54:20.728087Z",
     "shell.execute_reply": "2025-02-22T12:54:20.727069Z"
    },
    "papermill": {
     "duration": 0.012223,
     "end_time": "2025-02-22T12:54:20.729768",
     "exception": false,
     "start_time": "2025-02-22T12:54:20.717545",
     "status": "completed"
    },
    "tags": []
   },
   "outputs": [],
   "source": [
    "# Uncomment to see a hint\n",
    "#q2.hint()\n",
    "\n",
    "# Uncomment to view the solution\n",
    "#q2.solution()"
   ]
  },
  {
   "cell_type": "markdown",
   "id": "c16c9a05",
   "metadata": {
    "papermill": {
     "duration": 0.005365,
     "end_time": "2025-02-22T12:54:20.741084",
     "exception": false,
     "start_time": "2025-02-22T12:54:20.735719",
     "status": "completed"
    },
    "tags": []
   },
   "source": [
    "# # Question 3\n",
    "\n",
    "You're a home decorator, and you'd like to use Python to streamline some of your work.  Specifically, you're creating a tool that you intend to use to calculate the cost of painting a room.\n",
    "\n",
    "As a first step, define a function `get_cost()` that takes as input:\n",
    "- `sqft_walls` = total square feet of walls to be painted\n",
    "- `sqft_ceiling` = square feet of ceiling to be painted\n",
    "- `sqft_per_gallon` = number of square feet that you can cover with one gallon of paint\n",
    "- `cost_per_gallon` = cost (in dollars) of one gallon of paint\n",
    "\n",
    "It should return the cost (in dollars) of putting one coat of paint on all walls and the ceiling.  Assume you can buy the exact amount of paint that you need, so you can buy partial gallons (e.g., if you need 7.523 gallons, you can buy that exact amount, instead of needing to buy 8 gallons and waste some paint).  Do not round your answer."
   ]
  },
  {
   "cell_type": "code",
   "execution_count": 7,
   "id": "22b9039c",
   "metadata": {
    "execution": {
     "iopub.execute_input": "2025-02-22T12:54:20.754113Z",
     "iopub.status.busy": "2025-02-22T12:54:20.753763Z",
     "iopub.status.idle": "2025-02-22T12:54:20.762120Z",
     "shell.execute_reply": "2025-02-22T12:54:20.761094Z"
    },
    "papermill": {
     "duration": 0.016495,
     "end_time": "2025-02-22T12:54:20.763887",
     "exception": false,
     "start_time": "2025-02-22T12:54:20.747392",
     "status": "completed"
    },
    "tags": []
   },
   "outputs": [
    {
     "data": {
      "application/javascript": [
       "parent.postMessage({\"jupyterEvent\": \"custom.exercise_interaction\", \"data\": {\"outcomeType\": 1, \"valueTowardsCompletion\": 0.2, \"interactionType\": 1, \"questionType\": 2, \"questionId\": \"3_GetCostPaint\", \"learnToolsVersion\": \"0.3.4\", \"failureMessage\": \"\", \"exceptionClass\": \"\", \"trace\": \"\"}}, \"*\")"
      ],
      "text/plain": [
       "<IPython.core.display.Javascript object>"
      ]
     },
     "metadata": {},
     "output_type": "display_data"
    },
    {
     "data": {
      "text/markdown": [
       "<span style=\"color:#33cc33\">Correct</span>"
      ],
      "text/plain": [
       "Correct"
      ]
     },
     "metadata": {},
     "output_type": "display_data"
    }
   ],
   "source": [
    "# TODO: Finish defining the function\n",
    "def get_cost(sqft_walls, sqft_ceiling, sqft_per_gallon, cost_per_gallon):\n",
    "    total_sqft = sqft_walls + sqft_ceiling\n",
    "    gallons_needed= total_sqft / sqft_per_gallon\n",
    "    cost= cost_per_gallon * gallons_needed\n",
    "    return cost\n",
    "\n",
    "# Check your answer\n",
    "q3.check()"
   ]
  },
  {
   "cell_type": "code",
   "execution_count": 8,
   "id": "c4870870",
   "metadata": {
    "execution": {
     "iopub.execute_input": "2025-02-22T12:54:20.777414Z",
     "iopub.status.busy": "2025-02-22T12:54:20.777049Z",
     "iopub.status.idle": "2025-02-22T12:54:20.780929Z",
     "shell.execute_reply": "2025-02-22T12:54:20.779851Z"
    },
    "papermill": {
     "duration": 0.012561,
     "end_time": "2025-02-22T12:54:20.782631",
     "exception": false,
     "start_time": "2025-02-22T12:54:20.770070",
     "status": "completed"
    },
    "tags": []
   },
   "outputs": [],
   "source": [
    "# Uncomment to see a hint\n",
    "#q3.hint()\n",
    "\n",
    "# Uncomment to view the solution\n",
    "#q3.solution()"
   ]
  },
  {
   "cell_type": "markdown",
   "id": "8193711e",
   "metadata": {
    "papermill": {
     "duration": 0.005741,
     "end_time": "2025-02-22T12:54:20.794644",
     "exception": false,
     "start_time": "2025-02-22T12:54:20.788903",
     "status": "completed"
    },
    "tags": []
   },
   "source": [
    "# Question 4\n",
    "\n",
    "Use the `get_cost()` function you defined in Question 3 to calculate the cost of applying one coat of paint to a room with:\n",
    "- 432 square feet of walls, and\n",
    "- 144 square feet of ceiling.\n",
    "\n",
    "Assume that one gallon of paint covers 400 square feet and costs $15.  As in Question 3, assume you can buy partial gallons of paint.  Do not round your answer."
   ]
  },
  {
   "cell_type": "code",
   "execution_count": 9,
   "id": "9328e67f",
   "metadata": {
    "execution": {
     "iopub.execute_input": "2025-02-22T12:54:20.807706Z",
     "iopub.status.busy": "2025-02-22T12:54:20.807293Z",
     "iopub.status.idle": "2025-02-22T12:54:20.815327Z",
     "shell.execute_reply": "2025-02-22T12:54:20.814099Z"
    },
    "papermill": {
     "duration": 0.01674,
     "end_time": "2025-02-22T12:54:20.817365",
     "exception": false,
     "start_time": "2025-02-22T12:54:20.800625",
     "status": "completed"
    },
    "tags": []
   },
   "outputs": [
    {
     "data": {
      "application/javascript": [
       "parent.postMessage({\"jupyterEvent\": \"custom.exercise_interaction\", \"data\": {\"outcomeType\": 1, \"valueTowardsCompletion\": 0.2, \"interactionType\": 1, \"questionType\": 1, \"questionId\": \"4_GetCostPaintExample\", \"learnToolsVersion\": \"0.3.4\", \"failureMessage\": \"\", \"exceptionClass\": \"\", \"trace\": \"\"}}, \"*\")"
      ],
      "text/plain": [
       "<IPython.core.display.Javascript object>"
      ]
     },
     "metadata": {},
     "output_type": "display_data"
    },
    {
     "data": {
      "text/markdown": [
       "<span style=\"color:#33cc33\">Correct</span>"
      ],
      "text/plain": [
       "Correct"
      ]
     },
     "metadata": {},
     "output_type": "display_data"
    }
   ],
   "source": [
    "# TODO: Set the project_cost variable to the cost of the project\n",
    "project_cost = get_cost(432, 144, 400, 15)\n",
    "\n",
    "# Check your answer\n",
    "q4.check()"
   ]
  },
  {
   "cell_type": "code",
   "execution_count": 10,
   "id": "8caddc76",
   "metadata": {
    "execution": {
     "iopub.execute_input": "2025-02-22T12:54:20.831717Z",
     "iopub.status.busy": "2025-02-22T12:54:20.831234Z",
     "iopub.status.idle": "2025-02-22T12:54:20.835919Z",
     "shell.execute_reply": "2025-02-22T12:54:20.834344Z"
    },
    "papermill": {
     "duration": 0.014432,
     "end_time": "2025-02-22T12:54:20.838476",
     "exception": false,
     "start_time": "2025-02-22T12:54:20.824044",
     "status": "completed"
    },
    "tags": []
   },
   "outputs": [],
   "source": [
    "# Uncomment to see a hint\n",
    "#q4.hint()\n",
    "\n",
    "# Uncomment to view the solution\n",
    "#q4.solution()"
   ]
  },
  {
   "cell_type": "markdown",
   "id": "ecd14313",
   "metadata": {
    "papermill": {
     "duration": 0.005973,
     "end_time": "2025-02-22T12:54:20.850957",
     "exception": false,
     "start_time": "2025-02-22T12:54:20.844984",
     "status": "completed"
    },
    "tags": []
   },
   "source": [
    "# 🌶️ Question 5\n",
    "\n",
    "Now say you can no longer buy fractions of a gallon.  (For instance, if you need 4.3 gallons to do a project, then you have to buy 5 gallons of paint.)\n",
    "\n",
    "With this new scenario, you will create a new function `get_actual_cost` that uses the same inputs and calculates the cost of your project.\n",
    "\n",
    "One function that you'll need to use to do this is `math.ceil()`.  We demonstrate usage of this function in the code cell below.  It takes as a number as input and rounds the number up to the nearest integer.  \n",
    "\n",
    "Run the next code cell to test this function for yourself.  Feel free to change the value of `test_value` and make sure `math.ceil()` returns the number you expect."
   ]
  },
  {
   "cell_type": "code",
   "execution_count": 11,
   "id": "b5433a91",
   "metadata": {
    "execution": {
     "iopub.execute_input": "2025-02-22T12:54:20.864761Z",
     "iopub.status.busy": "2025-02-22T12:54:20.864341Z",
     "iopub.status.idle": "2025-02-22T12:54:20.869372Z",
     "shell.execute_reply": "2025-02-22T12:54:20.868129Z"
    },
    "papermill": {
     "duration": 0.01494,
     "end_time": "2025-02-22T12:54:20.872092",
     "exception": false,
     "start_time": "2025-02-22T12:54:20.857152",
     "status": "completed"
    },
    "tags": []
   },
   "outputs": [
    {
     "name": "stdout",
     "output_type": "stream",
     "text": [
      "3\n"
     ]
    }
   ],
   "source": [
    "test_value = 2.17\n",
    "\n",
    "rounded_value = math.ceil(test_value)\n",
    "print(rounded_value)"
   ]
  },
  {
   "cell_type": "markdown",
   "id": "5b05b05c",
   "metadata": {
    "papermill": {
     "duration": 0.006166,
     "end_time": "2025-02-22T12:54:20.884984",
     "exception": false,
     "start_time": "2025-02-22T12:54:20.878818",
     "status": "completed"
    },
    "tags": []
   },
   "source": [
    "Use the next code cell to define the function `get_actual_cost()`.  You'll need to use the `math.ceil()` function to do this.\n",
    "\n",
    "When answering this question, note that it's completely valid to define a function that makes use of another function.  For instance, we can define a function `round_up_and_divide_by_three` that makes use of the `math.ceil` function:\n",
    "```\n",
    "def round_up_and_divide_by_three(num):\n",
    "    new_value = math.ceil(num)\n",
    "    final_value = new_value / 3\n",
    "    return final_value\n",
    "```"
   ]
  },
  {
   "cell_type": "code",
   "execution_count": 12,
   "id": "a5699f03",
   "metadata": {
    "execution": {
     "iopub.execute_input": "2025-02-22T12:54:20.899522Z",
     "iopub.status.busy": "2025-02-22T12:54:20.899140Z",
     "iopub.status.idle": "2025-02-22T12:54:20.908194Z",
     "shell.execute_reply": "2025-02-22T12:54:20.906983Z"
    },
    "papermill": {
     "duration": 0.018322,
     "end_time": "2025-02-22T12:54:20.909888",
     "exception": false,
     "start_time": "2025-02-22T12:54:20.891566",
     "status": "completed"
    },
    "tags": []
   },
   "outputs": [
    {
     "data": {
      "application/javascript": [
       "parent.postMessage({\"jupyterEvent\": \"custom.exercise_interaction\", \"data\": {\"outcomeType\": 1, \"valueTowardsCompletion\": 0.2, \"interactionType\": 1, \"questionType\": 2, \"questionId\": \"5_NoMoreFractions\", \"learnToolsVersion\": \"0.3.4\", \"failureMessage\": \"\", \"exceptionClass\": \"\", \"trace\": \"\"}}, \"*\")"
      ],
      "text/plain": [
       "<IPython.core.display.Javascript object>"
      ]
     },
     "metadata": {},
     "output_type": "display_data"
    },
    {
     "data": {
      "text/markdown": [
       "<span style=\"color:#33cc33\">Correct</span>"
      ],
      "text/plain": [
       "Correct"
      ]
     },
     "metadata": {},
     "output_type": "display_data"
    }
   ],
   "source": [
    "def get_actual_cost(sqft_walls, sqft_ceiling, sqft_per_gallon, cost_per_gallon):\n",
    "    total_sqft = sqft_walls + sqft_ceiling\n",
    "    gallons_needed= total_sqft/sqft_per_gallon\n",
    "    gallons_to_buy= math.ceil(gallons_needed)\n",
    "    cost=cost_per_gallon * gallons_to_buy\n",
    "    return cost\n",
    "\n",
    "# Check your answer\n",
    "q5.check()"
   ]
  },
  {
   "cell_type": "code",
   "execution_count": 13,
   "id": "256e58d2",
   "metadata": {
    "execution": {
     "iopub.execute_input": "2025-02-22T12:54:20.924438Z",
     "iopub.status.busy": "2025-02-22T12:54:20.924102Z",
     "iopub.status.idle": "2025-02-22T12:54:20.928030Z",
     "shell.execute_reply": "2025-02-22T12:54:20.926836Z"
    },
    "papermill": {
     "duration": 0.013653,
     "end_time": "2025-02-22T12:54:20.930146",
     "exception": false,
     "start_time": "2025-02-22T12:54:20.916493",
     "status": "completed"
    },
    "tags": []
   },
   "outputs": [],
   "source": [
    "# Uncomment to see a hint\n",
    "#q5.hint()\n",
    "\n",
    "# Uncomment to view the solution\n",
    "#q5.solution()"
   ]
  },
  {
   "cell_type": "markdown",
   "id": "ca459a70",
   "metadata": {
    "papermill": {
     "duration": 0.006274,
     "end_time": "2025-02-22T12:54:20.943247",
     "exception": false,
     "start_time": "2025-02-22T12:54:20.936973",
     "status": "completed"
    },
    "tags": []
   },
   "source": [
    "Once your function is verified as correct, run the next code cell to calculate the updated cost of your project."
   ]
  },
  {
   "cell_type": "code",
   "execution_count": 14,
   "id": "8f9b05c8",
   "metadata": {
    "execution": {
     "iopub.execute_input": "2025-02-22T12:54:20.958759Z",
     "iopub.status.busy": "2025-02-22T12:54:20.958352Z",
     "iopub.status.idle": "2025-02-22T12:54:20.964884Z",
     "shell.execute_reply": "2025-02-22T12:54:20.963747Z"
    },
    "papermill": {
     "duration": 0.01682,
     "end_time": "2025-02-22T12:54:20.967058",
     "exception": false,
     "start_time": "2025-02-22T12:54:20.950238",
     "status": "completed"
    },
    "tags": []
   },
   "outputs": [
    {
     "data": {
      "text/plain": [
       "30"
      ]
     },
     "execution_count": 14,
     "metadata": {},
     "output_type": "execute_result"
    }
   ],
   "source": [
    "get_actual_cost(432, 144, 400, 15) "
   ]
  },
  {
   "cell_type": "markdown",
   "id": "432acb2d",
   "metadata": {
    "papermill": {
     "duration": 0.006423,
     "end_time": "2025-02-22T12:54:20.980701",
     "exception": false,
     "start_time": "2025-02-22T12:54:20.974278",
     "status": "completed"
    },
    "tags": []
   },
   "source": [
    "Say you're working with a slightly larger room.  Run the next code cell to calculate the cost of the project."
   ]
  },
  {
   "cell_type": "code",
   "execution_count": 15,
   "id": "ce21593c",
   "metadata": {
    "execution": {
     "iopub.execute_input": "2025-02-22T12:54:20.995317Z",
     "iopub.status.busy": "2025-02-22T12:54:20.994940Z",
     "iopub.status.idle": "2025-02-22T12:54:21.001437Z",
     "shell.execute_reply": "2025-02-22T12:54:21.000138Z"
    },
    "papermill": {
     "duration": 0.016157,
     "end_time": "2025-02-22T12:54:21.003351",
     "exception": false,
     "start_time": "2025-02-22T12:54:20.987194",
     "status": "completed"
    },
    "tags": []
   },
   "outputs": [
    {
     "data": {
      "text/plain": [
       "45"
      ]
     },
     "execution_count": 15,
     "metadata": {},
     "output_type": "execute_result"
    }
   ],
   "source": [
    "get_actual_cost(594, 288, 400, 15) "
   ]
  },
  {
   "cell_type": "markdown",
   "id": "a577956d",
   "metadata": {
    "papermill": {
     "duration": 0.00651,
     "end_time": "2025-02-22T12:54:21.016708",
     "exception": false,
     "start_time": "2025-02-22T12:54:21.010198",
     "status": "completed"
    },
    "tags": []
   },
   "source": [
    "# Keep going\n",
    "\n",
    "Continue to learn about **[data types](https://www.kaggle.com/alexisbcook/data-types)**."
   ]
  },
  {
   "cell_type": "markdown",
   "id": "5f2f80f0",
   "metadata": {
    "papermill": {
     "duration": 0.00667,
     "end_time": "2025-02-22T12:54:21.029958",
     "exception": false,
     "start_time": "2025-02-22T12:54:21.023288",
     "status": "completed"
    },
    "tags": []
   },
   "source": [
    "---\n",
    "\n",
    "\n",
    "\n",
    "\n",
    "*Have questions or comments? Visit the [course discussion forum](https://www.kaggle.com/learn/intro-to-programming/discussion) to chat with other learners.*"
   ]
  }
 ],
 "metadata": {
  "kaggle": {
   "accelerator": "none",
   "dataSources": [],
   "isGpuEnabled": false,
   "isInternetEnabled": false,
   "language": "python",
   "sourceType": "notebook"
  },
  "kernelspec": {
   "display_name": "Python 3",
   "language": "python",
   "name": "python3"
  },
  "language_info": {
   "codemirror_mode": {
    "name": "ipython",
    "version": 3
   },
   "file_extension": ".py",
   "mimetype": "text/x-python",
   "name": "python",
   "nbconvert_exporter": "python",
   "pygments_lexer": "ipython3",
   "version": "3.10.12"
  },
  "papermill": {
   "default_parameters": {},
   "duration": 5.174855,
   "end_time": "2025-02-22T12:54:21.658799",
   "environment_variables": {},
   "exception": null,
   "input_path": "__notebook__.ipynb",
   "output_path": "__notebook__.ipynb",
   "parameters": {},
   "start_time": "2025-02-22T12:54:16.483944",
   "version": "2.6.0"
  }
 },
 "nbformat": 4,
 "nbformat_minor": 5
}
