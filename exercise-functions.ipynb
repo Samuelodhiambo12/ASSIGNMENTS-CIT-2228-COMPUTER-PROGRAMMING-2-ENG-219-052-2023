{
 "cells": [
  {
   "cell_type": "markdown",
   "id": "ae297ee9",
   "metadata": {
    "papermill": {
     "duration": 0.006162,
     "end_time": "2025-02-26T05:50:51.551919",
     "exception": false,
     "start_time": "2025-02-26T05:50:51.545757",
     "status": "completed"
    },
    "tags": []
   },
   "source": [
    "**This notebook is an exercise in the [Intro to Programming](https://www.kaggle.com/learn/intro-to-programming) course.  You can reference the tutorial at [this link](https://www.kaggle.com/alexisbcook/functions).**\n",
    "\n",
    "---\n"
   ]
  },
  {
   "cell_type": "markdown",
   "id": "e254765a",
   "metadata": {
    "papermill": {
     "duration": 0.006548,
     "end_time": "2025-02-26T05:50:51.563943",
     "exception": false,
     "start_time": "2025-02-26T05:50:51.557395",
     "status": "completed"
    },
    "tags": []
   },
   "source": [
    "In the tutorial, you learned about functions. In this exercise, you'll write some of your own!\n",
    "\n",
    "# Set up the notebook\n",
    "\n",
    "Run the next code cell without changes to set up the notebook."
   ]
  },
  {
   "cell_type": "code",
   "execution_count": 1,
   "id": "ff957a2f",
   "metadata": {
    "execution": {
     "iopub.execute_input": "2025-02-26T05:50:51.576835Z",
     "iopub.status.busy": "2025-02-26T05:50:51.576100Z",
     "iopub.status.idle": "2025-02-26T05:50:52.788909Z",
     "shell.execute_reply": "2025-02-26T05:50:52.787694Z"
    },
    "papermill": {
     "duration": 1.221653,
     "end_time": "2025-02-26T05:50:52.791201",
     "exception": false,
     "start_time": "2025-02-26T05:50:51.569548",
     "status": "completed"
    },
    "tags": []
   },
   "outputs": [
    {
     "name": "stdout",
     "output_type": "stream",
     "text": [
      "Setup complete.\n"
     ]
    }
   ],
   "source": [
    "# Set up the exercise\n",
    "import math\n",
    "from learntools.core import binder\n",
    "binder.bind(globals())\n",
    "from learntools.intro_to_programming.ex2 import *\n",
    "print('Setup complete.')"
   ]
  },
  {
   "cell_type": "markdown",
   "id": "0861ba50",
   "metadata": {
    "papermill": {
     "duration": 0.00683,
     "end_time": "2025-02-26T05:50:52.807677",
     "exception": false,
     "start_time": "2025-02-26T05:50:52.800847",
     "status": "completed"
    },
    "tags": []
   },
   "source": [
    "# Question 1\n",
    "\n",
    "In the [House Prices - Advanced Regression Techniques competition](https://www.kaggle.com/c/house-prices-advanced-regression-techniques/overview), you need to use information like the number of bedrooms and bathrooms to predict the price of a house.  Inspired by this competition, you'll write your own function to do this.\n",
    "\n",
    "In the next code cell, create a function `get_expected_cost()` that has two arguments:\n",
    "- `beds` - number of bedrooms \n",
    "- `baths` - number of bathrooms\n",
    "\n",
    "It should return the expected cost of a house with that number of bedrooms and bathrooms.  Assume that:\n",
    "- the expected cost for a house with 0 bedrooms and 0 bathrooms is `80000`.  \n",
    "- each bedroom adds `30000` to the expected cost\n",
    "- each bathroom adds `10000` to the expected cost.\n",
    "\n",
    "For instance, \n",
    "- a house with 1 bedroom and 1 bathroom has an expected cost of `120000`, and \n",
    "- a house with 2 bedrooms and 1 bathroom has an expected cost of `150000`."
   ]
  },
  {
   "cell_type": "code",
   "execution_count": 2,
   "id": "f4b81afa",
   "metadata": {
    "execution": {
     "iopub.execute_input": "2025-02-26T05:50:52.821406Z",
     "iopub.status.busy": "2025-02-26T05:50:52.820868Z",
     "iopub.status.idle": "2025-02-26T05:50:52.832599Z",
     "shell.execute_reply": "2025-02-26T05:50:52.831362Z"
    },
    "papermill": {
     "duration": 0.021888,
     "end_time": "2025-02-26T05:50:52.835164",
     "exception": false,
     "start_time": "2025-02-26T05:50:52.813276",
     "status": "completed"
    },
    "tags": []
   },
   "outputs": [
    {
     "data": {
      "application/javascript": [
       "parent.postMessage({\"jupyterEvent\": \"custom.exercise_interaction\", \"data\": {\"outcomeType\": 1, \"valueTowardsCompletion\": 0.2, \"interactionType\": 1, \"questionType\": 2, \"questionId\": \"1_GetExpectedCost\", \"learnToolsVersion\": \"0.3.4\", \"failureMessage\": \"\", \"exceptionClass\": \"\", \"trace\": \"\"}}, \"*\")"
      ],
      "text/plain": [
       "<IPython.core.display.Javascript object>"
      ]
     },
     "metadata": {},
     "output_type": "display_data"
    },
    {
     "data": {
      "text/markdown": [
       "<span style=\"color:#33cc33\">Correct</span>"
      ],
      "text/plain": [
       "Correct"
      ]
     },
     "metadata": {},
     "output_type": "display_data"
    }
   ],
   "source": [
    "# TODO: Complete the function\n",
    "def get_expected_cost(beds, baths):\n",
    "    value = 80000 + 30000 * beds + 10000 * baths\n",
    "    return value\n",
    "\n",
    "#Check your answer \n",
    "q1.check()"
   ]
  },
  {
   "cell_type": "code",
   "execution_count": 3,
   "id": "36092769",
   "metadata": {
    "execution": {
     "iopub.execute_input": "2025-02-26T05:50:52.856383Z",
     "iopub.status.busy": "2025-02-26T05:50:52.855716Z",
     "iopub.status.idle": "2025-02-26T05:50:52.860686Z",
     "shell.execute_reply": "2025-02-26T05:50:52.859120Z"
    },
    "papermill": {
     "duration": 0.019384,
     "end_time": "2025-02-26T05:50:52.863530",
     "exception": false,
     "start_time": "2025-02-26T05:50:52.844146",
     "status": "completed"
    },
    "tags": []
   },
   "outputs": [],
   "source": [
    "# Uncomment to see a hint\n",
    "#q1.hint()\n",
    "\n",
    "# Uncomment to view the solution\n",
    "#q1.solution()"
   ]
  },
  {
   "cell_type": "code",
   "execution_count": 4,
   "id": "63273e14",
   "metadata": {
    "execution": {
     "iopub.execute_input": "2025-02-26T05:50:52.879617Z",
     "iopub.status.busy": "2025-02-26T05:50:52.879083Z",
     "iopub.status.idle": "2025-02-26T05:50:52.884591Z",
     "shell.execute_reply": "2025-02-26T05:50:52.883344Z"
    },
    "papermill": {
     "duration": 0.016604,
     "end_time": "2025-02-26T05:50:52.886502",
     "exception": false,
     "start_time": "2025-02-26T05:50:52.869898",
     "status": "completed"
    },
    "tags": []
   },
   "outputs": [],
   "source": [
    "# Uncomment to see a hint\n",
    "#q1.hint()\n",
    "\n",
    "# Uncomment to view the solution\n",
    "#q1.solution()"
   ]
  },
  {
   "cell_type": "markdown",
   "id": "c2259aae",
   "metadata": {
    "papermill": {
     "duration": 0.005226,
     "end_time": "2025-02-26T05:50:52.897460",
     "exception": false,
     "start_time": "2025-02-26T05:50:52.892234",
     "status": "completed"
    },
    "tags": []
   },
   "source": [
    "# Question 2\n",
    "\n",
    "You are thinking about buying a home and want to get an idea of how much you will spend, based on the number of bedrooms and bathrooms.  You are trying to decide between four different options:\n",
    "- Option 1: house with two bedrooms and three bathrooms\n",
    "- Option 2: house with three bedrooms and two bathrooms\n",
    "- Option 3: house with three bedrooms and three bathrooms\n",
    "- Option 4: house with three bedrooms and four bathrooms\n",
    "\n",
    "Use the `get_expected_cost()` function you defined in question 1 to set `option_1`, `option_2`, `option_3`, and `option_4` to the expected cost of each option."
   ]
  },
  {
   "cell_type": "code",
   "execution_count": 5,
   "id": "92b5630d",
   "metadata": {
    "execution": {
     "iopub.execute_input": "2025-02-26T05:50:52.911423Z",
     "iopub.status.busy": "2025-02-26T05:50:52.910923Z",
     "iopub.status.idle": "2025-02-26T05:50:52.926146Z",
     "shell.execute_reply": "2025-02-26T05:50:52.924189Z"
    },
    "papermill": {
     "duration": 0.025054,
     "end_time": "2025-02-26T05:50:52.929313",
     "exception": false,
     "start_time": "2025-02-26T05:50:52.904259",
     "status": "completed"
    },
    "tags": []
   },
   "outputs": [
    {
     "name": "stdout",
     "output_type": "stream",
     "text": [
      "170000\n",
      "190000\n",
      "200000\n",
      "210000\n"
     ]
    },
    {
     "data": {
      "application/javascript": [
       "parent.postMessage({\"jupyterEvent\": \"custom.exercise_interaction\", \"data\": {\"outcomeType\": 1, \"valueTowardsCompletion\": 0.2, \"interactionType\": 1, \"questionType\": 1, \"questionId\": \"2_RunGetExpectedCost\", \"learnToolsVersion\": \"0.3.4\", \"failureMessage\": \"\", \"exceptionClass\": \"\", \"trace\": \"\"}}, \"*\")"
      ],
      "text/plain": [
       "<IPython.core.display.Javascript object>"
      ]
     },
     "metadata": {},
     "output_type": "display_data"
    },
    {
     "data": {
      "text/markdown": [
       "<span style=\"color:#33cc33\">Correct</span>"
      ],
      "text/plain": [
       "Correct"
      ]
     },
     "metadata": {},
     "output_type": "display_data"
    }
   ],
   "source": [
    "# TODO: Use the get_expected_cost function to fill in each value\n",
    "option_one = get_expected_cost(2,3)\n",
    "option_two = get_expected_cost(3,2)\n",
    "option_three = get_expected_cost(3,3)\n",
    "option_four = get_expected_cost(3,4)\n",
    "\n",
    "print(option_one)\n",
    "print(option_two)\n",
    "print(option_three)\n",
    "print(option_four)\n",
    "\n",
    "# Check your answer\n",
    "q2.check()"
   ]
  },
  {
   "cell_type": "code",
   "execution_count": 6,
   "id": "f86d7eca",
   "metadata": {
    "execution": {
     "iopub.execute_input": "2025-02-26T05:50:52.950584Z",
     "iopub.status.busy": "2025-02-26T05:50:52.950020Z",
     "iopub.status.idle": "2025-02-26T05:50:52.956570Z",
     "shell.execute_reply": "2025-02-26T05:50:52.954246Z"
    },
    "papermill": {
     "duration": 0.018679,
     "end_time": "2025-02-26T05:50:52.959938",
     "exception": false,
     "start_time": "2025-02-26T05:50:52.941259",
     "status": "completed"
    },
    "tags": []
   },
   "outputs": [],
   "source": [
    "# Uncomment to see a hint\n",
    "#q2.hint()\n",
    "\n",
    "# Uncomment to view the solution\n",
    "#q2.solution()"
   ]
  },
  {
   "cell_type": "markdown",
   "id": "fd14c046",
   "metadata": {
    "papermill": {
     "duration": 0.008895,
     "end_time": "2025-02-26T05:50:52.982265",
     "exception": false,
     "start_time": "2025-02-26T05:50:52.973370",
     "status": "completed"
    },
    "tags": []
   },
   "source": [
    "# # Question 3\n",
    "\n",
    "You're a home decorator, and you'd like to use Python to streamline some of your work.  Specifically, you're creating a tool that you intend to use to calculate the cost of painting a room.\n",
    "\n",
    "As a first step, define a function `get_cost()` that takes as input:\n",
    "- `sqft_walls` = total square feet of walls to be painted\n",
    "- `sqft_ceiling` = square feet of ceiling to be painted\n",
    "- `sqft_per_gallon` = number of square feet that you can cover with one gallon of paint\n",
    "- `cost_per_gallon` = cost (in dollars) of one gallon of paint\n",
    "\n",
    "It should return the cost (in dollars) of putting one coat of paint on all walls and the ceiling.  Assume you can buy the exact amount of paint that you need, so you can buy partial gallons (e.g., if you need 7.523 gallons, you can buy that exact amount, instead of needing to buy 8 gallons and waste some paint).  Do not round your answer."
   ]
  },
  {
   "cell_type": "code",
   "execution_count": 7,
   "id": "960cf820",
   "metadata": {
    "execution": {
     "iopub.execute_input": "2025-02-26T05:50:52.997297Z",
     "iopub.status.busy": "2025-02-26T05:50:52.996891Z",
     "iopub.status.idle": "2025-02-26T05:50:53.008048Z",
     "shell.execute_reply": "2025-02-26T05:50:53.006478Z"
    },
    "papermill": {
     "duration": 0.021253,
     "end_time": "2025-02-26T05:50:53.010339",
     "exception": false,
     "start_time": "2025-02-26T05:50:52.989086",
     "status": "completed"
    },
    "tags": []
   },
   "outputs": [
    {
     "data": {
      "application/javascript": [
       "parent.postMessage({\"jupyterEvent\": \"custom.exercise_interaction\", \"data\": {\"outcomeType\": 1, \"valueTowardsCompletion\": 0.2, \"interactionType\": 1, \"questionType\": 2, \"questionId\": \"3_GetCostPaint\", \"learnToolsVersion\": \"0.3.4\", \"failureMessage\": \"\", \"exceptionClass\": \"\", \"trace\": \"\"}}, \"*\")"
      ],
      "text/plain": [
       "<IPython.core.display.Javascript object>"
      ]
     },
     "metadata": {},
     "output_type": "display_data"
    },
    {
     "data": {
      "text/markdown": [
       "<span style=\"color:#33cc33\">Correct</span>"
      ],
      "text/plain": [
       "Correct"
      ]
     },
     "metadata": {},
     "output_type": "display_data"
    }
   ],
   "source": [
    "# TODO: Finish defining the function\n",
    "def get_cost(sqft_walls, sqft_ceiling, sqft_per_gallon, cost_per_gallon):\n",
    "    total_sqft = sqft_walls + sqft_ceiling\n",
    "    gallons_needed= total_sqft / sqft_per_gallon\n",
    "    cost= cost_per_gallon * gallons_needed\n",
    "    return cost\n",
    "\n",
    "# Check your answer\n",
    "q3.check()"
   ]
  },
  {
   "cell_type": "code",
   "execution_count": 8,
   "id": "46e7d2db",
   "metadata": {
    "execution": {
     "iopub.execute_input": "2025-02-26T05:50:53.025115Z",
     "iopub.status.busy": "2025-02-26T05:50:53.024616Z",
     "iopub.status.idle": "2025-02-26T05:50:53.030661Z",
     "shell.execute_reply": "2025-02-26T05:50:53.029128Z"
    },
    "papermill": {
     "duration": 0.015774,
     "end_time": "2025-02-26T05:50:53.032966",
     "exception": false,
     "start_time": "2025-02-26T05:50:53.017192",
     "status": "completed"
    },
    "tags": []
   },
   "outputs": [],
   "source": [
    "# Uncomment to see a hint\n",
    "#q3.hint()\n",
    "\n",
    "# Uncomment to view the solution\n",
    "#q3.solution()"
   ]
  },
  {
   "cell_type": "markdown",
   "id": "2b66afb4",
   "metadata": {
    "papermill": {
     "duration": 0.007319,
     "end_time": "2025-02-26T05:50:53.047581",
     "exception": false,
     "start_time": "2025-02-26T05:50:53.040262",
     "status": "completed"
    },
    "tags": []
   },
   "source": [
    "# Question 4\n",
    "\n",
    "Use the `get_cost()` function you defined in Question 3 to calculate the cost of applying one coat of paint to a room with:\n",
    "- 432 square feet of walls, and\n",
    "- 144 square feet of ceiling.\n",
    "\n",
    "Assume that one gallon of paint covers 400 square feet and costs $15.  As in Question 3, assume you can buy partial gallons of paint.  Do not round your answer."
   ]
  },
  {
   "cell_type": "code",
   "execution_count": 9,
   "id": "12e98d25",
   "metadata": {
    "execution": {
     "iopub.execute_input": "2025-02-26T05:50:53.061875Z",
     "iopub.status.busy": "2025-02-26T05:50:53.061546Z",
     "iopub.status.idle": "2025-02-26T05:50:53.070916Z",
     "shell.execute_reply": "2025-02-26T05:50:53.069538Z"
    },
    "papermill": {
     "duration": 0.019729,
     "end_time": "2025-02-26T05:50:53.073703",
     "exception": false,
     "start_time": "2025-02-26T05:50:53.053974",
     "status": "completed"
    },
    "tags": []
   },
   "outputs": [
    {
     "data": {
      "application/javascript": [
       "parent.postMessage({\"jupyterEvent\": \"custom.exercise_interaction\", \"data\": {\"outcomeType\": 1, \"valueTowardsCompletion\": 0.2, \"interactionType\": 1, \"questionType\": 1, \"questionId\": \"4_GetCostPaintExample\", \"learnToolsVersion\": \"0.3.4\", \"failureMessage\": \"\", \"exceptionClass\": \"\", \"trace\": \"\"}}, \"*\")"
      ],
      "text/plain": [
       "<IPython.core.display.Javascript object>"
      ]
     },
     "metadata": {},
     "output_type": "display_data"
    },
    {
     "data": {
      "text/markdown": [
       "<span style=\"color:#33cc33\">Correct</span>"
      ],
      "text/plain": [
       "Correct"
      ]
     },
     "metadata": {},
     "output_type": "display_data"
    }
   ],
   "source": [
    "# TODO: Set the project_cost variable to the cost of the project\n",
    "project_cost = get_cost(432, 144, 400, 15)\n",
    "\n",
    "# Check your answer\n",
    "q4.check()"
   ]
  },
  {
   "cell_type": "code",
   "execution_count": 10,
   "id": "97a4fc09",
   "metadata": {
    "execution": {
     "iopub.execute_input": "2025-02-26T05:50:53.089915Z",
     "iopub.status.busy": "2025-02-26T05:50:53.089441Z",
     "iopub.status.idle": "2025-02-26T05:50:53.095190Z",
     "shell.execute_reply": "2025-02-26T05:50:53.093476Z"
    },
    "papermill": {
     "duration": 0.01654,
     "end_time": "2025-02-26T05:50:53.097978",
     "exception": false,
     "start_time": "2025-02-26T05:50:53.081438",
     "status": "completed"
    },
    "tags": []
   },
   "outputs": [],
   "source": [
    "# Uncomment to see a hint\n",
    "#q4.hint()\n",
    "\n",
    "# Uncomment to view the solution\n",
    "#q4.solution()"
   ]
  },
  {
   "cell_type": "markdown",
   "id": "977d4ae0",
   "metadata": {
    "papermill": {
     "duration": 0.006896,
     "end_time": "2025-02-26T05:50:53.111963",
     "exception": false,
     "start_time": "2025-02-26T05:50:53.105067",
     "status": "completed"
    },
    "tags": []
   },
   "source": [
    "# 🌶️ Question 5\n",
    "\n",
    "Now say you can no longer buy fractions of a gallon.  (For instance, if you need 4.3 gallons to do a project, then you have to buy 5 gallons of paint.)\n",
    "\n",
    "With this new scenario, you will create a new function `get_actual_cost` that uses the same inputs and calculates the cost of your project.\n",
    "\n",
    "One function that you'll need to use to do this is `math.ceil()`.  We demonstrate usage of this function in the code cell below.  It takes as a number as input and rounds the number up to the nearest integer.  \n",
    "\n",
    "Run the next code cell to test this function for yourself.  Feel free to change the value of `test_value` and make sure `math.ceil()` returns the number you expect."
   ]
  },
  {
   "cell_type": "code",
   "execution_count": 11,
   "id": "8da932ce",
   "metadata": {
    "execution": {
     "iopub.execute_input": "2025-02-26T05:50:53.129109Z",
     "iopub.status.busy": "2025-02-26T05:50:53.128624Z",
     "iopub.status.idle": "2025-02-26T05:50:53.135407Z",
     "shell.execute_reply": "2025-02-26T05:50:53.133751Z"
    },
    "papermill": {
     "duration": 0.01925,
     "end_time": "2025-02-26T05:50:53.138940",
     "exception": false,
     "start_time": "2025-02-26T05:50:53.119690",
     "status": "completed"
    },
    "tags": []
   },
   "outputs": [
    {
     "name": "stdout",
     "output_type": "stream",
     "text": [
      "3\n"
     ]
    }
   ],
   "source": [
    "test_value = 2.17\n",
    "\n",
    "rounded_value = math.ceil(test_value)\n",
    "print(rounded_value)"
   ]
  },
  {
   "cell_type": "markdown",
   "id": "883ed87b",
   "metadata": {
    "papermill": {
     "duration": 0.008547,
     "end_time": "2025-02-26T05:50:53.154549",
     "exception": false,
     "start_time": "2025-02-26T05:50:53.146002",
     "status": "completed"
    },
    "tags": []
   },
   "source": [
    "Use the next code cell to define the function `get_actual_cost()`.  You'll need to use the `math.ceil()` function to do this.\n",
    "\n",
    "When answering this question, note that it's completely valid to define a function that makes use of another function.  For instance, we can define a function `round_up_and_divide_by_three` that makes use of the `math.ceil` function:\n",
    "```\n",
    "def round_up_and_divide_by_three(num):\n",
    "    new_value = math.ceil(num)\n",
    "    final_value = new_value / 3\n",
    "    return final_value\n",
    "```"
   ]
  },
  {
   "cell_type": "code",
   "execution_count": 12,
   "id": "203bf7bf",
   "metadata": {
    "execution": {
     "iopub.execute_input": "2025-02-26T05:50:53.169756Z",
     "iopub.status.busy": "2025-02-26T05:50:53.169258Z",
     "iopub.status.idle": "2025-02-26T05:50:53.181655Z",
     "shell.execute_reply": "2025-02-26T05:50:53.180505Z"
    },
    "papermill": {
     "duration": 0.022094,
     "end_time": "2025-02-26T05:50:53.183954",
     "exception": false,
     "start_time": "2025-02-26T05:50:53.161860",
     "status": "completed"
    },
    "tags": []
   },
   "outputs": [
    {
     "data": {
      "application/javascript": [
       "parent.postMessage({\"jupyterEvent\": \"custom.exercise_interaction\", \"data\": {\"outcomeType\": 1, \"valueTowardsCompletion\": 0.2, \"interactionType\": 1, \"questionType\": 2, \"questionId\": \"5_NoMoreFractions\", \"learnToolsVersion\": \"0.3.4\", \"failureMessage\": \"\", \"exceptionClass\": \"\", \"trace\": \"\"}}, \"*\")"
      ],
      "text/plain": [
       "<IPython.core.display.Javascript object>"
      ]
     },
     "metadata": {},
     "output_type": "display_data"
    },
    {
     "data": {
      "text/markdown": [
       "<span style=\"color:#33cc33\">Correct</span>"
      ],
      "text/plain": [
       "Correct"
      ]
     },
     "metadata": {},
     "output_type": "display_data"
    }
   ],
   "source": [
    "def get_actual_cost(sqft_walls, sqft_ceiling, sqft_per_gallon, cost_per_gallon):\n",
    "    total_sqft = sqft_walls + sqft_ceiling\n",
    "    gallons_needed= total_sqft/sqft_per_gallon\n",
    "    gallons_to_buy= math.ceil(gallons_needed)\n",
    "    cost=cost_per_gallon * gallons_to_buy\n",
    "    return cost\n",
    "\n",
    "# Check your answer\n",
    "q5.check()"
   ]
  },
  {
   "cell_type": "code",
   "execution_count": 13,
   "id": "04746d53",
   "metadata": {
    "execution": {
     "iopub.execute_input": "2025-02-26T05:50:53.200731Z",
     "iopub.status.busy": "2025-02-26T05:50:53.199933Z",
     "iopub.status.idle": "2025-02-26T05:50:53.206092Z",
     "shell.execute_reply": "2025-02-26T05:50:53.204489Z"
    },
    "papermill": {
     "duration": 0.016869,
     "end_time": "2025-02-26T05:50:53.208470",
     "exception": false,
     "start_time": "2025-02-26T05:50:53.191601",
     "status": "completed"
    },
    "tags": []
   },
   "outputs": [],
   "source": [
    "# Uncomment to see a hint\n",
    "#q5.hint()\n",
    "\n",
    "# Uncomment to view the solution\n",
    "#q5.solution()"
   ]
  },
  {
   "cell_type": "markdown",
   "id": "b868491b",
   "metadata": {
    "papermill": {
     "duration": 0.007522,
     "end_time": "2025-02-26T05:50:53.222729",
     "exception": false,
     "start_time": "2025-02-26T05:50:53.215207",
     "status": "completed"
    },
    "tags": []
   },
   "source": [
    "Once your function is verified as correct, run the next code cell to calculate the updated cost of your project."
   ]
  },
  {
   "cell_type": "code",
   "execution_count": 14,
   "id": "0b42ec66",
   "metadata": {
    "execution": {
     "iopub.execute_input": "2025-02-26T05:50:53.238269Z",
     "iopub.status.busy": "2025-02-26T05:50:53.237731Z",
     "iopub.status.idle": "2025-02-26T05:50:53.246353Z",
     "shell.execute_reply": "2025-02-26T05:50:53.244958Z"
    },
    "papermill": {
     "duration": 0.019156,
     "end_time": "2025-02-26T05:50:53.248820",
     "exception": false,
     "start_time": "2025-02-26T05:50:53.229664",
     "status": "completed"
    },
    "tags": []
   },
   "outputs": [
    {
     "data": {
      "text/plain": [
       "30"
      ]
     },
     "execution_count": 14,
     "metadata": {},
     "output_type": "execute_result"
    }
   ],
   "source": [
    "get_actual_cost(432, 144, 400, 15) "
   ]
  },
  {
   "cell_type": "markdown",
   "id": "aa96bb0d",
   "metadata": {
    "papermill": {
     "duration": 0.006786,
     "end_time": "2025-02-26T05:50:53.262845",
     "exception": false,
     "start_time": "2025-02-26T05:50:53.256059",
     "status": "completed"
    },
    "tags": []
   },
   "source": [
    "Say you're working with a slightly larger room.  Run the next code cell to calculate the cost of the project."
   ]
  },
  {
   "cell_type": "code",
   "execution_count": 15,
   "id": "db06cc28",
   "metadata": {
    "execution": {
     "iopub.execute_input": "2025-02-26T05:50:53.277543Z",
     "iopub.status.busy": "2025-02-26T05:50:53.277063Z",
     "iopub.status.idle": "2025-02-26T05:50:53.284937Z",
     "shell.execute_reply": "2025-02-26T05:50:53.282865Z"
    },
    "papermill": {
     "duration": 0.017246,
     "end_time": "2025-02-26T05:50:53.286768",
     "exception": false,
     "start_time": "2025-02-26T05:50:53.269522",
     "status": "completed"
    },
    "tags": []
   },
   "outputs": [
    {
     "data": {
      "text/plain": [
       "45"
      ]
     },
     "execution_count": 15,
     "metadata": {},
     "output_type": "execute_result"
    }
   ],
   "source": [
    "get_actual_cost(594, 288, 400, 15) "
   ]
  },
  {
   "cell_type": "markdown",
   "id": "b39e2fcd",
   "metadata": {
    "papermill": {
     "duration": 0.00659,
     "end_time": "2025-02-26T05:50:53.300366",
     "exception": false,
     "start_time": "2025-02-26T05:50:53.293776",
     "status": "completed"
    },
    "tags": []
   },
   "source": [
    "# Keep going\n",
    "\n",
    "Continue to learn about **[data types](https://www.kaggle.com/alexisbcook/data-types)**."
   ]
  },
  {
   "cell_type": "markdown",
   "id": "fe7371ce",
   "metadata": {
    "papermill": {
     "duration": 0.007183,
     "end_time": "2025-02-26T05:50:53.314555",
     "exception": false,
     "start_time": "2025-02-26T05:50:53.307372",
     "status": "completed"
    },
    "tags": []
   },
   "source": [
    "---\n",
    "\n",
    "\n",
    "\n",
    "\n",
    "*Have questions or comments? Visit the [course discussion forum](https://www.kaggle.com/learn/intro-to-programming/discussion) to chat with other learners.*"
   ]
  }
 ],
 "metadata": {
  "kaggle": {
   "accelerator": "none",
   "dataSources": [],
   "isGpuEnabled": false,
   "isInternetEnabled": false,
   "language": "python",
   "sourceType": "notebook"
  },
  "kernelspec": {
   "display_name": "Python 3",
   "language": "python",
   "name": "python3"
  },
  "language_info": {
   "codemirror_mode": {
    "name": "ipython",
    "version": 3
   },
   "file_extension": ".py",
   "mimetype": "text/x-python",
   "name": "python",
   "nbconvert_exporter": "python",
   "pygments_lexer": "ipython3",
   "version": "3.10.12"
  },
  "papermill": {
   "default_parameters": {},
   "duration": 5.467596,
   "end_time": "2025-02-26T05:50:53.946540",
   "environment_variables": {},
   "exception": null,
   "input_path": "__notebook__.ipynb",
   "output_path": "__notebook__.ipynb",
   "parameters": {},
   "start_time": "2025-02-26T05:50:48.478944",
   "version": "2.6.0"
  }
 },
 "nbformat": 4,
 "nbformat_minor": 5
}
