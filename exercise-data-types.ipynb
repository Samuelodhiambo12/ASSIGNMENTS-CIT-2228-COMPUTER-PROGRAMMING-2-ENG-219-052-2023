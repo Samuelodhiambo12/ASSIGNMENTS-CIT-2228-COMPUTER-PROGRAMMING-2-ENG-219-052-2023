{
 "cells": [
  {
   "cell_type": "markdown",
   "id": "0ccee10d",
   "metadata": {
    "papermill": {
     "duration": 0.005686,
     "end_time": "2025-02-22T13:34:25.439450",
     "exception": false,
     "start_time": "2025-02-22T13:34:25.433764",
     "status": "completed"
    },
    "tags": []
   },
   "source": [
    "**This notebook is an exercise in the [Intro to Programming](https://www.kaggle.com/learn/intro-to-programming) course.  You can reference the tutorial at [this link](https://www.kaggle.com/alexisbcook/data-types).**\n",
    "\n",
    "---\n"
   ]
  },
  {
   "cell_type": "markdown",
   "id": "5b35c99d",
   "metadata": {
    "papermill": {
     "duration": 0.004744,
     "end_time": "2025-02-22T13:34:25.449372",
     "exception": false,
     "start_time": "2025-02-22T13:34:25.444628",
     "status": "completed"
    },
    "tags": []
   },
   "source": [
    "In the tutorial, you learned about four different data types: floats, integers, strings, and booleans.  In this exercise, you'll experiment with them.\n",
    "\n",
    "# Set up the notebook\n",
    "\n",
    "Run the next code cell without changes to set up the notebook."
   ]
  },
  {
   "cell_type": "code",
   "execution_count": 1,
   "id": "202cbac8",
   "metadata": {
    "execution": {
     "iopub.execute_input": "2025-02-22T13:34:25.460808Z",
     "iopub.status.busy": "2025-02-22T13:34:25.460437Z",
     "iopub.status.idle": "2025-02-22T13:34:26.458126Z",
     "shell.execute_reply": "2025-02-22T13:34:26.457094Z"
    },
    "papermill": {
     "duration": 1.005231,
     "end_time": "2025-02-22T13:34:26.459856",
     "exception": false,
     "start_time": "2025-02-22T13:34:25.454625",
     "status": "completed"
    },
    "tags": []
   },
   "outputs": [
    {
     "name": "stdout",
     "output_type": "stream",
     "text": [
      "Setup complete.\n"
     ]
    }
   ],
   "source": [
    "# Set up the exercise\n",
    "from learntools.core import binder\n",
    "binder.bind(globals())\n",
    "from learntools.intro_to_programming.ex3 import *\n",
    "print('Setup complete.')"
   ]
  },
  {
   "cell_type": "markdown",
   "id": "3ef6b855",
   "metadata": {
    "papermill": {
     "duration": 0.004759,
     "end_time": "2025-02-22T13:34:26.469924",
     "exception": false,
     "start_time": "2025-02-22T13:34:26.465165",
     "status": "completed"
    },
    "tags": []
   },
   "source": [
    "# Question 1\n",
    "\n",
    "You have seen how to convert a float to an integer with the `int` function.  Try this out yourself by running the code cell below."
   ]
  },
  {
   "cell_type": "code",
   "execution_count": 2,
   "id": "f01ea7aa",
   "metadata": {
    "execution": {
     "iopub.execute_input": "2025-02-22T13:34:26.481062Z",
     "iopub.status.busy": "2025-02-22T13:34:26.480630Z",
     "iopub.status.idle": "2025-02-22T13:34:26.486273Z",
     "shell.execute_reply": "2025-02-22T13:34:26.485348Z"
    },
    "papermill": {
     "duration": 0.012853,
     "end_time": "2025-02-22T13:34:26.487739",
     "exception": false,
     "start_time": "2025-02-22T13:34:26.474886",
     "status": "completed"
    },
    "tags": []
   },
   "outputs": [
    {
     "name": "stdout",
     "output_type": "stream",
     "text": [
      "1.0\n",
      "<class 'float'>\n",
      "1\n",
      "<class 'int'>\n"
     ]
    }
   ],
   "source": [
    "# Define a float\n",
    "y = 1.\n",
    "print(y)\n",
    "print(type(y))\n",
    "\n",
    "# Convert float to integer with the int function\n",
    "z = int(y)\n",
    "print(z)\n",
    "print(type(z))"
   ]
  },
  {
   "cell_type": "markdown",
   "id": "013e1950",
   "metadata": {
    "papermill": {
     "duration": 0.004731,
     "end_time": "2025-02-22T13:34:26.497579",
     "exception": false,
     "start_time": "2025-02-22T13:34:26.492848",
     "status": "completed"
    },
    "tags": []
   },
   "source": [
    "In this case, the float you are using has no numbers after the decimal.  \n",
    "- But what happens when you try to convert a float with a fractional part to an integer?  \n",
    "- How does the outcome of the `int` function change for positive and negative numbers?\n",
    "\n",
    "Use the next code cell to investigate and answer these questions.  Feel free to add or remove any lines of code -- it is your workspace!"
   ]
  },
  {
   "cell_type": "code",
   "execution_count": 3,
   "id": "113e16b1",
   "metadata": {
    "execution": {
     "iopub.execute_input": "2025-02-22T13:34:26.508873Z",
     "iopub.status.busy": "2025-02-22T13:34:26.508557Z",
     "iopub.status.idle": "2025-02-22T13:34:26.513789Z",
     "shell.execute_reply": "2025-02-22T13:34:26.512758Z"
    },
    "papermill": {
     "duration": 0.012689,
     "end_time": "2025-02-22T13:34:26.515299",
     "exception": false,
     "start_time": "2025-02-22T13:34:26.502610",
     "status": "completed"
    },
    "tags": []
   },
   "outputs": [
    {
     "name": "stdout",
     "output_type": "stream",
     "text": [
      "1\n",
      "1\n",
      "-2\n"
     ]
    }
   ],
   "source": [
    "# Uncomment and run this code to get started!\n",
    "print(int(1.2321))\n",
    "print(int(1.747))\n",
    "print(int(-2.19774))"
   ]
  },
  {
   "cell_type": "markdown",
   "id": "0f0836ff",
   "metadata": {
    "papermill": {
     "duration": 0.005013,
     "end_time": "2025-02-22T13:34:26.525656",
     "exception": false,
     "start_time": "2025-02-22T13:34:26.520643",
     "status": "completed"
    },
    "tags": []
   },
   "source": [
    "Once you have an answer, run the code cell below to see the solution.  Viewing the solution will give you credit for answering the problem."
   ]
  },
  {
   "cell_type": "code",
   "execution_count": 4,
   "id": "f52bf9c5",
   "metadata": {
    "execution": {
     "iopub.execute_input": "2025-02-22T13:34:26.537044Z",
     "iopub.status.busy": "2025-02-22T13:34:26.536705Z",
     "iopub.status.idle": "2025-02-22T13:34:26.540545Z",
     "shell.execute_reply": "2025-02-22T13:34:26.539472Z"
    },
    "papermill": {
     "duration": 0.011524,
     "end_time": "2025-02-22T13:34:26.542312",
     "exception": false,
     "start_time": "2025-02-22T13:34:26.530788",
     "status": "completed"
    },
    "tags": []
   },
   "outputs": [],
   "source": [
    "# Check your answer (Run this code cell to receive credit!)\n",
    "#q1.check()"
   ]
  },
  {
   "cell_type": "markdown",
   "id": "919b8646",
   "metadata": {
    "papermill": {
     "duration": 0.004824,
     "end_time": "2025-02-22T13:34:26.552462",
     "exception": false,
     "start_time": "2025-02-22T13:34:26.547638",
     "status": "completed"
    },
    "tags": []
   },
   "source": [
    "# Question 2\n",
    "\n",
    "In the tutorial, you learned about booleans (which can take a value of `True` or `False`), in addition to integers, floats, and strings.  For this question, your goal is to determine what happens when you multiply a boolean by any of these data types.  Specifically, \n",
    "- What happens when you multiply an integer or float by `True`?  What happens when you multiply them by `False`?  How does the answer change if the numbers are positive or negative?\n",
    "- What happens when you multiply a string by `True`?  By `False`?\n",
    "\n",
    "Use the next code cell for your investigation. "
   ]
  },
  {
   "cell_type": "code",
   "execution_count": 5,
   "id": "3d30c5b5",
   "metadata": {
    "execution": {
     "iopub.execute_input": "2025-02-22T13:34:26.563780Z",
     "iopub.status.busy": "2025-02-22T13:34:26.563405Z",
     "iopub.status.idle": "2025-02-22T13:34:26.568888Z",
     "shell.execute_reply": "2025-02-22T13:34:26.567992Z"
    },
    "papermill": {
     "duration": 0.012711,
     "end_time": "2025-02-22T13:34:26.570299",
     "exception": false,
     "start_time": "2025-02-22T13:34:26.557588",
     "status": "completed"
    },
    "tags": []
   },
   "outputs": [
    {
     "name": "stdout",
     "output_type": "stream",
     "text": [
      "3\n",
      "-3.1\n",
      "<class 'str'>\n",
      "0\n"
     ]
    }
   ],
   "source": [
    "# Uncomment and run this code to get started!\n",
    "print(3 * True)\n",
    "print(-3.1 * True)\n",
    "print(type(\"abc\" * False))\n",
    "print(len(\"abc\" * False))"
   ]
  },
  {
   "cell_type": "markdown",
   "id": "9b4e2835",
   "metadata": {
    "papermill": {
     "duration": 0.00493,
     "end_time": "2025-02-22T13:34:26.580648",
     "exception": false,
     "start_time": "2025-02-22T13:34:26.575718",
     "status": "completed"
    },
    "tags": []
   },
   "source": [
    "Once you have an answer, run the code cell below to see the solution.  Viewing the solution will give you credit for answering the problem."
   ]
  },
  {
   "cell_type": "code",
   "execution_count": 6,
   "id": "1e07d2a6",
   "metadata": {
    "execution": {
     "iopub.execute_input": "2025-02-22T13:34:26.591941Z",
     "iopub.status.busy": "2025-02-22T13:34:26.591625Z",
     "iopub.status.idle": "2025-02-22T13:34:26.594910Z",
     "shell.execute_reply": "2025-02-22T13:34:26.594061Z"
    },
    "papermill": {
     "duration": 0.01059,
     "end_time": "2025-02-22T13:34:26.596293",
     "exception": false,
     "start_time": "2025-02-22T13:34:26.585703",
     "status": "completed"
    },
    "tags": []
   },
   "outputs": [],
   "source": [
    "# Check your answer (Run this code cell to receive credit!)\n",
    "#q2.check()"
   ]
  },
  {
   "cell_type": "markdown",
   "id": "e3419349",
   "metadata": {
    "papermill": {
     "duration": 0.004919,
     "end_time": "2025-02-22T13:34:26.606569",
     "exception": false,
     "start_time": "2025-02-22T13:34:26.601650",
     "status": "completed"
    },
    "tags": []
   },
   "source": [
    "# Question 3\n",
    "\n",
    "In this question, you will build off your work from the previous exercise to write a function that estimates the value of a house.\n",
    "\n",
    "Use the next code cell to create a function `get_expected_cost` that takes as input three variables:\n",
    "- `beds` - number of bedrooms (data type float)\n",
    "- `baths` - number of bathrooms (data type float)\n",
    "- `has_basement` - whether or not the house has a basement (data type boolean)\n",
    "\n",
    "It should return the expected cost of a house with those characteristics. Assume that:\n",
    "- the expected cost for a house with 0 bedrooms and 0 bathrooms, and no basement is 80000, \n",
    "- each bedroom adds 30000 to the expected cost,\n",
    "- each bathroom adds 10000 to the expected cost, and\n",
    "- a basement adds 40000 to the expected cost.\n",
    "\n",
    "For instance,\n",
    "- a house with 1 bedroom, 1 bathroom, and no basement has an expected cost of 80000 + 30000 + 10000 = 120000.  This value will be calculated with `get_expected_cost(1, 1, False)`.\n",
    "- a house with 2 bedrooms, 1 bathroom, and a basement has an expected cost of 80000 + 2*30000 + 10000 + 40000 = 190000.  This value will be calculated with `get_expected_cost(2, 1, True)`.\n",
    "\n",
    "Remember you can always get a hint by uncommenting `q3.hint()` in the code cell following the next!"
   ]
  },
  {
   "cell_type": "code",
   "execution_count": 7,
   "id": "4a2f2763",
   "metadata": {
    "execution": {
     "iopub.execute_input": "2025-02-22T13:34:26.617919Z",
     "iopub.status.busy": "2025-02-22T13:34:26.617604Z",
     "iopub.status.idle": "2025-02-22T13:34:26.625311Z",
     "shell.execute_reply": "2025-02-22T13:34:26.624442Z"
    },
    "papermill": {
     "duration": 0.015102,
     "end_time": "2025-02-22T13:34:26.626777",
     "exception": false,
     "start_time": "2025-02-22T13:34:26.611675",
     "status": "completed"
    },
    "tags": []
   },
   "outputs": [
    {
     "data": {
      "application/javascript": [
       "parent.postMessage({\"jupyterEvent\": \"custom.exercise_interaction\", \"data\": {\"outcomeType\": 1, \"valueTowardsCompletion\": 0.2, \"interactionType\": 1, \"questionType\": 2, \"questionId\": \"3_EstimateHouseValueBool\", \"learnToolsVersion\": \"0.3.4\", \"failureMessage\": \"\", \"exceptionClass\": \"\", \"trace\": \"\"}}, \"*\")"
      ],
      "text/plain": [
       "<IPython.core.display.Javascript object>"
      ]
     },
     "metadata": {},
     "output_type": "display_data"
    },
    {
     "data": {
      "text/markdown": [
       "<span style=\"color:#33cc33\">Correct</span>"
      ],
      "text/plain": [
       "Correct"
      ]
     },
     "metadata": {},
     "output_type": "display_data"
    }
   ],
   "source": [
    "# TODO: Complete the function\n",
    "def get_expected_cost(beds, baths, has_basement):\n",
    "    value = 80000 + beds * 30000 + baths *10000 + has_basement*40000\n",
    "    return value\n",
    "\n",
    "# Check your answer \n",
    "q3.check()"
   ]
  },
  {
   "cell_type": "code",
   "execution_count": 8,
   "id": "930c2c3d",
   "metadata": {
    "execution": {
     "iopub.execute_input": "2025-02-22T13:34:26.639088Z",
     "iopub.status.busy": "2025-02-22T13:34:26.638753Z",
     "iopub.status.idle": "2025-02-22T13:34:26.642423Z",
     "shell.execute_reply": "2025-02-22T13:34:26.641523Z"
    },
    "papermill": {
     "duration": 0.011549,
     "end_time": "2025-02-22T13:34:26.644038",
     "exception": false,
     "start_time": "2025-02-22T13:34:26.632489",
     "status": "completed"
    },
    "tags": []
   },
   "outputs": [],
   "source": [
    "# Uncomment to see a hint\n",
    "#q3.hint()\n",
    "\n",
    "# Uncomment to view the solution\n",
    "#q3.solution()"
   ]
  },
  {
   "cell_type": "markdown",
   "id": "b988dae6",
   "metadata": {
    "papermill": {
     "duration": 0.005169,
     "end_time": "2025-02-22T13:34:26.654814",
     "exception": false,
     "start_time": "2025-02-22T13:34:26.649645",
     "status": "completed"
    },
    "tags": []
   },
   "source": [
    "# Question 4\n",
    "\n",
    "We'll continue our study of boolean arithmetic.  For this question, your task is to provide a description of what happpens when you add booleans. \n",
    "\n",
    "Use the next code cell for your investigation.  Feel free to add or remove any lines of code - use it as your workspace!"
   ]
  },
  {
   "cell_type": "code",
   "execution_count": 9,
   "id": "05a31d5b",
   "metadata": {
    "execution": {
     "iopub.execute_input": "2025-02-22T13:34:26.666678Z",
     "iopub.status.busy": "2025-02-22T13:34:26.666316Z",
     "iopub.status.idle": "2025-02-22T13:34:26.671967Z",
     "shell.execute_reply": "2025-02-22T13:34:26.671066Z"
    },
    "papermill": {
     "duration": 0.01318,
     "end_time": "2025-02-22T13:34:26.673444",
     "exception": false,
     "start_time": "2025-02-22T13:34:26.660264",
     "status": "completed"
    },
    "tags": []
   },
   "outputs": [
    {
     "name": "stdout",
     "output_type": "stream",
     "text": [
      "0\n",
      "1\n",
      "1\n",
      "2\n",
      "3\n"
     ]
    }
   ],
   "source": [
    "print(False + False)\n",
    "print(True + False)\n",
    "print(False + True)\n",
    "print(True + True)\n",
    "print(False + True + True + True)"
   ]
  },
  {
   "cell_type": "markdown",
   "id": "d878a499",
   "metadata": {
    "papermill": {
     "duration": 0.00515,
     "end_time": "2025-02-22T13:34:26.684165",
     "exception": false,
     "start_time": "2025-02-22T13:34:26.679015",
     "status": "completed"
    },
    "tags": []
   },
   "source": [
    "Once you have an answer, run the code cell below to see the solution.  Viewing the solution will give you credit for answering the problem."
   ]
  },
  {
   "cell_type": "code",
   "execution_count": 10,
   "id": "cd11b294",
   "metadata": {
    "execution": {
     "iopub.execute_input": "2025-02-22T13:34:26.696360Z",
     "iopub.status.busy": "2025-02-22T13:34:26.696013Z",
     "iopub.status.idle": "2025-02-22T13:34:26.699655Z",
     "shell.execute_reply": "2025-02-22T13:34:26.698702Z"
    },
    "papermill": {
     "duration": 0.011467,
     "end_time": "2025-02-22T13:34:26.701292",
     "exception": false,
     "start_time": "2025-02-22T13:34:26.689825",
     "status": "completed"
    },
    "tags": []
   },
   "outputs": [],
   "source": [
    "# Check your answer (Run this code cell to receive credit!)\n",
    "#q4.check()"
   ]
  },
  {
   "cell_type": "markdown",
   "id": "63aa766f",
   "metadata": {
    "papermill": {
     "duration": 0.0057,
     "end_time": "2025-02-22T13:34:26.712596",
     "exception": false,
     "start_time": "2025-02-22T13:34:26.706896",
     "status": "completed"
    },
    "tags": []
   },
   "source": [
    "# 🌶️ Question 5\n",
    "\n",
    "You own an online shop where you sell rings with custom engravings.  You offer both gold plated and solid gold rings.\n",
    "- Gold plated rings have a base cost of \\\\$50, and you charge \\\\$7 per engraved unit.  \n",
    "- Solid gold rings have a base cost of \\\\$100, and you charge \\\\$10 per engraved unit.\n",
    "- Spaces and punctuation are counted as engraved units.\n",
    "\n",
    "Write a function `cost_of_project()` that takes two arguments:\n",
    "- `engraving` - a Python string with the text of the engraving\n",
    "- `solid_gold` - a Boolean that indicates whether the ring is solid gold\n",
    "\n",
    "It should return the cost of the project.  This question should be fairly challenging, and you may need a hint."
   ]
  },
  {
   "cell_type": "code",
   "execution_count": 11,
   "id": "385ca4f8",
   "metadata": {
    "execution": {
     "iopub.execute_input": "2025-02-22T13:34:26.724634Z",
     "iopub.status.busy": "2025-02-22T13:34:26.724222Z",
     "iopub.status.idle": "2025-02-22T13:34:26.731448Z",
     "shell.execute_reply": "2025-02-22T13:34:26.730492Z"
    },
    "papermill": {
     "duration": 0.014793,
     "end_time": "2025-02-22T13:34:26.732975",
     "exception": false,
     "start_time": "2025-02-22T13:34:26.718182",
     "status": "completed"
    },
    "tags": []
   },
   "outputs": [
    {
     "data": {
      "application/javascript": [
       "parent.postMessage({\"jupyterEvent\": \"custom.exercise_interaction\", \"data\": {\"outcomeType\": 1, \"valueTowardsCompletion\": 0.2, \"interactionType\": 1, \"questionType\": 2, \"questionId\": \"5_CustomEngravings\", \"learnToolsVersion\": \"0.3.4\", \"failureMessage\": \"\", \"exceptionClass\": \"\", \"trace\": \"\"}}, \"*\")"
      ],
      "text/plain": [
       "<IPython.core.display.Javascript object>"
      ]
     },
     "metadata": {},
     "output_type": "display_data"
    },
    {
     "data": {
      "text/markdown": [
       "<span style=\"color:#33cc33\">Correct</span>"
      ],
      "text/plain": [
       "Correct"
      ]
     },
     "metadata": {},
     "output_type": "display_data"
    }
   ],
   "source": [
    "def cost_of_project(engraving, solid_gold):\n",
    "    cost = solid_gold * (100 + 10 * len(engraving)) +(not solid_gold) * (50 + 7 *len(engraving) )\n",
    "    return cost\n",
    "\n",
    "# Check your answer\n",
    "q5.check()"
   ]
  },
  {
   "cell_type": "code",
   "execution_count": 12,
   "id": "de362432",
   "metadata": {
    "execution": {
     "iopub.execute_input": "2025-02-22T13:34:26.746187Z",
     "iopub.status.busy": "2025-02-22T13:34:26.745866Z",
     "iopub.status.idle": "2025-02-22T13:34:26.749317Z",
     "shell.execute_reply": "2025-02-22T13:34:26.748422Z"
    },
    "papermill": {
     "duration": 0.011769,
     "end_time": "2025-02-22T13:34:26.750978",
     "exception": false,
     "start_time": "2025-02-22T13:34:26.739209",
     "status": "completed"
    },
    "tags": []
   },
   "outputs": [],
   "source": [
    "# Uncomment to see a hint\n",
    "#q5.hint()\n",
    "\n",
    "# Uncomment to view the solution\n",
    "#q5.solution()"
   ]
  },
  {
   "cell_type": "markdown",
   "id": "8ddbee15",
   "metadata": {
    "papermill": {
     "duration": 0.005329,
     "end_time": "2025-02-22T13:34:26.762147",
     "exception": false,
     "start_time": "2025-02-22T13:34:26.756818",
     "status": "completed"
    },
    "tags": []
   },
   "source": [
    "Run the next code cell to calculate the cost of engraving `Charlie+Denver` on a solid gold ring."
   ]
  },
  {
   "cell_type": "code",
   "execution_count": 13,
   "id": "fd75e6d1",
   "metadata": {
    "execution": {
     "iopub.execute_input": "2025-02-22T13:34:26.774742Z",
     "iopub.status.busy": "2025-02-22T13:34:26.774394Z",
     "iopub.status.idle": "2025-02-22T13:34:26.779123Z",
     "shell.execute_reply": "2025-02-22T13:34:26.778087Z"
    },
    "papermill": {
     "duration": 0.012831,
     "end_time": "2025-02-22T13:34:26.780705",
     "exception": false,
     "start_time": "2025-02-22T13:34:26.767874",
     "status": "completed"
    },
    "tags": []
   },
   "outputs": [
    {
     "name": "stdout",
     "output_type": "stream",
     "text": [
      "240\n"
     ]
    }
   ],
   "source": [
    "project_one = cost_of_project(\"Charlie+Denver\", True)\n",
    "print(project_one)"
   ]
  },
  {
   "cell_type": "markdown",
   "id": "e9ae1328",
   "metadata": {
    "papermill": {
     "duration": 0.005234,
     "end_time": "2025-02-22T13:34:26.791772",
     "exception": false,
     "start_time": "2025-02-22T13:34:26.786538",
     "status": "completed"
    },
    "tags": []
   },
   "source": [
    "Use the next code cell to calculate the cost of engraving `08/10/2000` on a gold plated ring."
   ]
  },
  {
   "cell_type": "code",
   "execution_count": 14,
   "id": "528ed7ba",
   "metadata": {
    "execution": {
     "iopub.execute_input": "2025-02-22T13:34:26.803907Z",
     "iopub.status.busy": "2025-02-22T13:34:26.803578Z",
     "iopub.status.idle": "2025-02-22T13:34:26.808074Z",
     "shell.execute_reply": "2025-02-22T13:34:26.807094Z"
    },
    "papermill": {
     "duration": 0.012291,
     "end_time": "2025-02-22T13:34:26.809527",
     "exception": false,
     "start_time": "2025-02-22T13:34:26.797236",
     "status": "completed"
    },
    "tags": []
   },
   "outputs": [
    {
     "name": "stdout",
     "output_type": "stream",
     "text": [
      "120\n"
     ]
    }
   ],
   "source": [
    "project_two = cost_of_project(\"08/10/2000\", False)\n",
    "print(project_two)"
   ]
  },
  {
   "cell_type": "markdown",
   "id": "481a21bc",
   "metadata": {
    "papermill": {
     "duration": 0.005595,
     "end_time": "2025-02-22T13:34:26.821073",
     "exception": false,
     "start_time": "2025-02-22T13:34:26.815478",
     "status": "completed"
    },
    "tags": []
   },
   "source": [
    "# Keep going\n",
    "\n",
    "Continue to the next lesson to **[learn about conditions and conditional statements](https://www.kaggle.com/alexisbcook/conditions-and-conditional-statements)**."
   ]
  },
  {
   "cell_type": "markdown",
   "id": "967014e8",
   "metadata": {
    "papermill": {
     "duration": 0.005445,
     "end_time": "2025-02-22T13:34:26.832286",
     "exception": false,
     "start_time": "2025-02-22T13:34:26.826841",
     "status": "completed"
    },
    "tags": []
   },
   "source": [
    "---\n",
    "\n",
    "\n",
    "\n",
    "\n",
    "*Have questions or comments? Visit the [course discussion forum](https://www.kaggle.com/learn/intro-to-programming/discussion) to chat with other learners.*"
   ]
  }
 ],
 "metadata": {
  "kaggle": {
   "accelerator": "none",
   "dataSources": [],
   "isGpuEnabled": false,
   "isInternetEnabled": false,
   "language": "python",
   "sourceType": "notebook"
  },
  "kernelspec": {
   "display_name": "Python 3",
   "language": "python",
   "name": "python3"
  },
  "language_info": {
   "codemirror_mode": {
    "name": "ipython",
    "version": 3
   },
   "file_extension": ".py",
   "mimetype": "text/x-python",
   "name": "python",
   "nbconvert_exporter": "python",
   "pygments_lexer": "ipython3",
   "version": "3.10.12"
  },
  "papermill": {
   "default_parameters": {},
   "duration": 4.67111,
   "end_time": "2025-02-22T13:34:27.357036",
   "environment_variables": {},
   "exception": null,
   "input_path": "__notebook__.ipynb",
   "output_path": "__notebook__.ipynb",
   "parameters": {},
   "start_time": "2025-02-22T13:34:22.685926",
   "version": "2.3.3"
  }
 },
 "nbformat": 4,
 "nbformat_minor": 5
}
