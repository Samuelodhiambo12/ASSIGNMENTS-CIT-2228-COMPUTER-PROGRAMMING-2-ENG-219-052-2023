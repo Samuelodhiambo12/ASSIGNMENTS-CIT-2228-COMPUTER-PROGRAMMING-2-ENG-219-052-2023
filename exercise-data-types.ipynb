{
 "cells": [
  {
   "cell_type": "markdown",
   "id": "a198fc68",
   "metadata": {
    "papermill": {
     "duration": 0.007811,
     "end_time": "2025-02-22T13:27:58.516523",
     "exception": false,
     "start_time": "2025-02-22T13:27:58.508712",
     "status": "completed"
    },
    "tags": []
   },
   "source": [
    "**This notebook is an exercise in the [Intro to Programming](https://www.kaggle.com/learn/intro-to-programming) course.  You can reference the tutorial at [this link](https://www.kaggle.com/alexisbcook/data-types).**\n",
    "\n",
    "---\n"
   ]
  },
  {
   "cell_type": "markdown",
   "id": "047405bd",
   "metadata": {
    "papermill": {
     "duration": 0.005033,
     "end_time": "2025-02-22T13:27:58.527194",
     "exception": false,
     "start_time": "2025-02-22T13:27:58.522161",
     "status": "completed"
    },
    "tags": []
   },
   "source": [
    "In the tutorial, you learned about four different data types: floats, integers, strings, and booleans.  In this exercise, you'll experiment with them.\n",
    "\n",
    "# Set up the notebook\n",
    "\n",
    "Run the next code cell without changes to set up the notebook."
   ]
  },
  {
   "cell_type": "code",
   "execution_count": 1,
   "id": "e68015f2",
   "metadata": {
    "execution": {
     "iopub.execute_input": "2025-02-22T13:27:58.539298Z",
     "iopub.status.busy": "2025-02-22T13:27:58.538789Z",
     "iopub.status.idle": "2025-02-22T13:27:59.561371Z",
     "shell.execute_reply": "2025-02-22T13:27:59.560060Z"
    },
    "papermill": {
     "duration": 1.031289,
     "end_time": "2025-02-22T13:27:59.563720",
     "exception": false,
     "start_time": "2025-02-22T13:27:58.532431",
     "status": "completed"
    },
    "tags": []
   },
   "outputs": [
    {
     "name": "stdout",
     "output_type": "stream",
     "text": [
      "Setup complete.\n"
     ]
    }
   ],
   "source": [
    "# Set up the exercise\n",
    "from learntools.core import binder\n",
    "binder.bind(globals())\n",
    "from learntools.intro_to_programming.ex3 import *\n",
    "print('Setup complete.')"
   ]
  },
  {
   "cell_type": "markdown",
   "id": "919392de",
   "metadata": {
    "papermill": {
     "duration": 0.004945,
     "end_time": "2025-02-22T13:27:59.574530",
     "exception": false,
     "start_time": "2025-02-22T13:27:59.569585",
     "status": "completed"
    },
    "tags": []
   },
   "source": [
    "# Question 1\n",
    "\n",
    "You have seen how to convert a float to an integer with the `int` function.  Try this out yourself by running the code cell below."
   ]
  },
  {
   "cell_type": "code",
   "execution_count": 2,
   "id": "191017e4",
   "metadata": {
    "execution": {
     "iopub.execute_input": "2025-02-22T13:27:59.586926Z",
     "iopub.status.busy": "2025-02-22T13:27:59.586432Z",
     "iopub.status.idle": "2025-02-22T13:27:59.591687Z",
     "shell.execute_reply": "2025-02-22T13:27:59.590657Z"
    },
    "papermill": {
     "duration": 0.013621,
     "end_time": "2025-02-22T13:27:59.593344",
     "exception": false,
     "start_time": "2025-02-22T13:27:59.579723",
     "status": "completed"
    },
    "tags": []
   },
   "outputs": [
    {
     "name": "stdout",
     "output_type": "stream",
     "text": [
      "1.0\n",
      "<class 'float'>\n",
      "1\n",
      "<class 'int'>\n"
     ]
    }
   ],
   "source": [
    "# Define a float\n",
    "y = 1.\n",
    "print(y)\n",
    "print(type(y))\n",
    "\n",
    "# Convert float to integer with the int function\n",
    "z = int(y)\n",
    "print(z)\n",
    "print(type(z))"
   ]
  },
  {
   "cell_type": "markdown",
   "id": "ec01cd35",
   "metadata": {
    "papermill": {
     "duration": 0.0049,
     "end_time": "2025-02-22T13:27:59.603534",
     "exception": false,
     "start_time": "2025-02-22T13:27:59.598634",
     "status": "completed"
    },
    "tags": []
   },
   "source": [
    "In this case, the float you are using has no numbers after the decimal.  \n",
    "- But what happens when you try to convert a float with a fractional part to an integer?  \n",
    "- How does the outcome of the `int` function change for positive and negative numbers?\n",
    "\n",
    "Use the next code cell to investigate and answer these questions.  Feel free to add or remove any lines of code -- it is your workspace!"
   ]
  },
  {
   "cell_type": "code",
   "execution_count": 3,
   "id": "74b30eda",
   "metadata": {
    "execution": {
     "iopub.execute_input": "2025-02-22T13:27:59.615202Z",
     "iopub.status.busy": "2025-02-22T13:27:59.614810Z",
     "iopub.status.idle": "2025-02-22T13:27:59.619555Z",
     "shell.execute_reply": "2025-02-22T13:27:59.618525Z"
    },
    "papermill": {
     "duration": 0.012392,
     "end_time": "2025-02-22T13:27:59.621129",
     "exception": false,
     "start_time": "2025-02-22T13:27:59.608737",
     "status": "completed"
    },
    "tags": []
   },
   "outputs": [
    {
     "name": "stdout",
     "output_type": "stream",
     "text": [
      "1\n",
      "1\n",
      "-2\n"
     ]
    }
   ],
   "source": [
    "# Uncomment and run this code to get started!\n",
    "print(int(1.2321))\n",
    "print(int(1.747))\n",
    "print(int(-2.19774))"
   ]
  },
  {
   "cell_type": "markdown",
   "id": "529e24e4",
   "metadata": {
    "papermill": {
     "duration": 0.005166,
     "end_time": "2025-02-22T13:27:59.631806",
     "exception": false,
     "start_time": "2025-02-22T13:27:59.626640",
     "status": "completed"
    },
    "tags": []
   },
   "source": [
    "Once you have an answer, run the code cell below to see the solution.  Viewing the solution will give you credit for answering the problem."
   ]
  },
  {
   "cell_type": "code",
   "execution_count": 4,
   "id": "4f1b3e55",
   "metadata": {
    "execution": {
     "iopub.execute_input": "2025-02-22T13:27:59.644065Z",
     "iopub.status.busy": "2025-02-22T13:27:59.643677Z",
     "iopub.status.idle": "2025-02-22T13:27:59.647315Z",
     "shell.execute_reply": "2025-02-22T13:27:59.646333Z"
    },
    "papermill": {
     "duration": 0.01128,
     "end_time": "2025-02-22T13:27:59.648760",
     "exception": false,
     "start_time": "2025-02-22T13:27:59.637480",
     "status": "completed"
    },
    "tags": []
   },
   "outputs": [],
   "source": [
    "# Check your answer (Run this code cell to receive credit!)\n",
    "#q1.check()"
   ]
  },
  {
   "cell_type": "markdown",
   "id": "26d7e6f1",
   "metadata": {
    "papermill": {
     "duration": 0.005119,
     "end_time": "2025-02-22T13:27:59.659523",
     "exception": false,
     "start_time": "2025-02-22T13:27:59.654404",
     "status": "completed"
    },
    "tags": []
   },
   "source": [
    "# Question 2\n",
    "\n",
    "In the tutorial, you learned about booleans (which can take a value of `True` or `False`), in addition to integers, floats, and strings.  For this question, your goal is to determine what happens when you multiply a boolean by any of these data types.  Specifically, \n",
    "- What happens when you multiply an integer or float by `True`?  What happens when you multiply them by `False`?  How does the answer change if the numbers are positive or negative?\n",
    "- What happens when you multiply a string by `True`?  By `False`?\n",
    "\n",
    "Use the next code cell for your investigation. "
   ]
  },
  {
   "cell_type": "code",
   "execution_count": 5,
   "id": "8d023212",
   "metadata": {
    "execution": {
     "iopub.execute_input": "2025-02-22T13:27:59.671926Z",
     "iopub.status.busy": "2025-02-22T13:27:59.671527Z",
     "iopub.status.idle": "2025-02-22T13:27:59.677824Z",
     "shell.execute_reply": "2025-02-22T13:27:59.676779Z"
    },
    "papermill": {
     "duration": 0.014684,
     "end_time": "2025-02-22T13:27:59.679501",
     "exception": false,
     "start_time": "2025-02-22T13:27:59.664817",
     "status": "completed"
    },
    "tags": []
   },
   "outputs": [
    {
     "name": "stdout",
     "output_type": "stream",
     "text": [
      "3\n",
      "-3.1\n",
      "<class 'str'>\n",
      "0\n"
     ]
    }
   ],
   "source": [
    "# Uncomment and run this code to get started!\n",
    "print(3 * True)\n",
    "print(-3.1 * True)\n",
    "print(type(\"abc\" * False))\n",
    "print(len(\"abc\" * False))"
   ]
  },
  {
   "cell_type": "markdown",
   "id": "3eb3255a",
   "metadata": {
    "papermill": {
     "duration": 0.005221,
     "end_time": "2025-02-22T13:27:59.690470",
     "exception": false,
     "start_time": "2025-02-22T13:27:59.685249",
     "status": "completed"
    },
    "tags": []
   },
   "source": [
    "Once you have an answer, run the code cell below to see the solution.  Viewing the solution will give you credit for answering the problem."
   ]
  },
  {
   "cell_type": "code",
   "execution_count": 6,
   "id": "fcf048c5",
   "metadata": {
    "execution": {
     "iopub.execute_input": "2025-02-22T13:27:59.702628Z",
     "iopub.status.busy": "2025-02-22T13:27:59.702276Z",
     "iopub.status.idle": "2025-02-22T13:27:59.706037Z",
     "shell.execute_reply": "2025-02-22T13:27:59.705211Z"
    },
    "papermill": {
     "duration": 0.011737,
     "end_time": "2025-02-22T13:27:59.707617",
     "exception": false,
     "start_time": "2025-02-22T13:27:59.695880",
     "status": "completed"
    },
    "tags": []
   },
   "outputs": [],
   "source": [
    "# Check your answer (Run this code cell to receive credit!)\n",
    "#q2.check()"
   ]
  },
  {
   "cell_type": "markdown",
   "id": "b98339a1",
   "metadata": {
    "papermill": {
     "duration": 0.005128,
     "end_time": "2025-02-22T13:27:59.718432",
     "exception": false,
     "start_time": "2025-02-22T13:27:59.713304",
     "status": "completed"
    },
    "tags": []
   },
   "source": [
    "# Question 3\n",
    "\n",
    "In this question, you will build off your work from the previous exercise to write a function that estimates the value of a house.\n",
    "\n",
    "Use the next code cell to create a function `get_expected_cost` that takes as input three variables:\n",
    "- `beds` - number of bedrooms (data type float)\n",
    "- `baths` - number of bathrooms (data type float)\n",
    "- `has_basement` - whether or not the house has a basement (data type boolean)\n",
    "\n",
    "It should return the expected cost of a house with those characteristics. Assume that:\n",
    "- the expected cost for a house with 0 bedrooms and 0 bathrooms, and no basement is 80000, \n",
    "- each bedroom adds 30000 to the expected cost,\n",
    "- each bathroom adds 10000 to the expected cost, and\n",
    "- a basement adds 40000 to the expected cost.\n",
    "\n",
    "For instance,\n",
    "- a house with 1 bedroom, 1 bathroom, and no basement has an expected cost of 80000 + 30000 + 10000 = 120000.  This value will be calculated with `get_expected_cost(1, 1, False)`.\n",
    "- a house with 2 bedrooms, 1 bathroom, and a basement has an expected cost of 80000 + 2*30000 + 10000 + 40000 = 190000.  This value will be calculated with `get_expected_cost(2, 1, True)`.\n",
    "\n",
    "Remember you can always get a hint by uncommenting `q3.hint()` in the code cell following the next!"
   ]
  },
  {
   "cell_type": "code",
   "execution_count": 7,
   "id": "4144a11d",
   "metadata": {
    "execution": {
     "iopub.execute_input": "2025-02-22T13:27:59.730415Z",
     "iopub.status.busy": "2025-02-22T13:27:59.730020Z",
     "iopub.status.idle": "2025-02-22T13:27:59.738589Z",
     "shell.execute_reply": "2025-02-22T13:27:59.737576Z"
    },
    "papermill": {
     "duration": 0.016625,
     "end_time": "2025-02-22T13:27:59.740396",
     "exception": false,
     "start_time": "2025-02-22T13:27:59.723771",
     "status": "completed"
    },
    "tags": []
   },
   "outputs": [
    {
     "data": {
      "application/javascript": [
       "parent.postMessage({\"jupyterEvent\": \"custom.exercise_interaction\", \"data\": {\"outcomeType\": 1, \"valueTowardsCompletion\": 0.2, \"interactionType\": 1, \"questionType\": 2, \"questionId\": \"3_EstimateHouseValueBool\", \"learnToolsVersion\": \"0.3.4\", \"failureMessage\": \"\", \"exceptionClass\": \"\", \"trace\": \"\"}}, \"*\")"
      ],
      "text/plain": [
       "<IPython.core.display.Javascript object>"
      ]
     },
     "metadata": {},
     "output_type": "display_data"
    },
    {
     "data": {
      "text/markdown": [
       "<span style=\"color:#33cc33\">Correct</span>"
      ],
      "text/plain": [
       "Correct"
      ]
     },
     "metadata": {},
     "output_type": "display_data"
    }
   ],
   "source": [
    "# TODO: Complete the function\n",
    "def get_expected_cost(beds, baths, has_basement):\n",
    "    value = 80000 + beds * 30000 + baths *10000 + has_basement*40000\n",
    "    return value\n",
    "\n",
    "# Check your answer \n",
    "q3.check()"
   ]
  },
  {
   "cell_type": "code",
   "execution_count": 8,
   "id": "1ff8f17b",
   "metadata": {
    "execution": {
     "iopub.execute_input": "2025-02-22T13:27:59.753419Z",
     "iopub.status.busy": "2025-02-22T13:27:59.753055Z",
     "iopub.status.idle": "2025-02-22T13:27:59.756586Z",
     "shell.execute_reply": "2025-02-22T13:27:59.755797Z"
    },
    "papermill": {
     "duration": 0.011807,
     "end_time": "2025-02-22T13:27:59.758175",
     "exception": false,
     "start_time": "2025-02-22T13:27:59.746368",
     "status": "completed"
    },
    "tags": []
   },
   "outputs": [],
   "source": [
    "# Uncomment to see a hint\n",
    "#q3.hint()\n",
    "\n",
    "# Uncomment to view the solution\n",
    "#q3.solution()"
   ]
  },
  {
   "cell_type": "markdown",
   "id": "0cd2a84f",
   "metadata": {
    "papermill": {
     "duration": 0.005511,
     "end_time": "2025-02-22T13:27:59.769577",
     "exception": false,
     "start_time": "2025-02-22T13:27:59.764066",
     "status": "completed"
    },
    "tags": []
   },
   "source": [
    "# Question 4\n",
    "\n",
    "We'll continue our study of boolean arithmetic.  For this question, your task is to provide a description of what happpens when you add booleans. \n",
    "\n",
    "Use the next code cell for your investigation.  Feel free to add or remove any lines of code - use it as your workspace!"
   ]
  },
  {
   "cell_type": "code",
   "execution_count": 9,
   "id": "d3b3d1ae",
   "metadata": {
    "execution": {
     "iopub.execute_input": "2025-02-22T13:27:59.782581Z",
     "iopub.status.busy": "2025-02-22T13:27:59.782233Z",
     "iopub.status.idle": "2025-02-22T13:27:59.788692Z",
     "shell.execute_reply": "2025-02-22T13:27:59.787364Z"
    },
    "papermill": {
     "duration": 0.014736,
     "end_time": "2025-02-22T13:27:59.790444",
     "exception": false,
     "start_time": "2025-02-22T13:27:59.775708",
     "status": "completed"
    },
    "tags": []
   },
   "outputs": [
    {
     "name": "stdout",
     "output_type": "stream",
     "text": [
      "0\n",
      "1\n",
      "1\n",
      "2\n",
      "3\n"
     ]
    }
   ],
   "source": [
    "print(False + False)\n",
    "print(True + False)\n",
    "print(False + True)\n",
    "print(True + True)\n",
    "print(False + True + True + True)"
   ]
  },
  {
   "cell_type": "markdown",
   "id": "51db4a61",
   "metadata": {
    "papermill": {
     "duration": 0.005498,
     "end_time": "2025-02-22T13:27:59.801908",
     "exception": false,
     "start_time": "2025-02-22T13:27:59.796410",
     "status": "completed"
    },
    "tags": []
   },
   "source": [
    "Once you have an answer, run the code cell below to see the solution.  Viewing the solution will give you credit for answering the problem."
   ]
  },
  {
   "cell_type": "code",
   "execution_count": 10,
   "id": "eff445ad",
   "metadata": {
    "execution": {
     "iopub.execute_input": "2025-02-22T13:27:59.815158Z",
     "iopub.status.busy": "2025-02-22T13:27:59.814592Z",
     "iopub.status.idle": "2025-02-22T13:27:59.818783Z",
     "shell.execute_reply": "2025-02-22T13:27:59.817668Z"
    },
    "papermill": {
     "duration": 0.012889,
     "end_time": "2025-02-22T13:27:59.820709",
     "exception": false,
     "start_time": "2025-02-22T13:27:59.807820",
     "status": "completed"
    },
    "tags": []
   },
   "outputs": [],
   "source": [
    "# Check your answer (Run this code cell to receive credit!)\n",
    "#q4.check()"
   ]
  },
  {
   "cell_type": "markdown",
   "id": "41f444d3",
   "metadata": {
    "papermill": {
     "duration": 0.005573,
     "end_time": "2025-02-22T13:27:59.832174",
     "exception": false,
     "start_time": "2025-02-22T13:27:59.826601",
     "status": "completed"
    },
    "tags": []
   },
   "source": [
    "# 🌶️ Question 5\n",
    "\n",
    "You own an online shop where you sell rings with custom engravings.  You offer both gold plated and solid gold rings.\n",
    "- Gold plated rings have a base cost of \\\\$50, and you charge \\\\$7 per engraved unit.  \n",
    "- Solid gold rings have a base cost of \\\\$100, and you charge \\\\$10 per engraved unit.\n",
    "- Spaces and punctuation are counted as engraved units.\n",
    "\n",
    "Write a function `cost_of_project()` that takes two arguments:\n",
    "- `engraving` - a Python string with the text of the engraving\n",
    "- `solid_gold` - a Boolean that indicates whether the ring is solid gold\n",
    "\n",
    "It should return the cost of the project.  This question should be fairly challenging, and you may need a hint."
   ]
  },
  {
   "cell_type": "code",
   "execution_count": 11,
   "id": "731ce727",
   "metadata": {
    "execution": {
     "iopub.execute_input": "2025-02-22T13:27:59.845329Z",
     "iopub.status.busy": "2025-02-22T13:27:59.844951Z",
     "iopub.status.idle": "2025-02-22T13:27:59.852608Z",
     "shell.execute_reply": "2025-02-22T13:27:59.851694Z"
    },
    "papermill": {
     "duration": 0.016319,
     "end_time": "2025-02-22T13:27:59.854288",
     "exception": false,
     "start_time": "2025-02-22T13:27:59.837969",
     "status": "completed"
    },
    "tags": []
   },
   "outputs": [
    {
     "data": {
      "application/javascript": [
       "parent.postMessage({\"jupyterEvent\": \"custom.exercise_interaction\", \"data\": {\"outcomeType\": 1, \"valueTowardsCompletion\": 0.2, \"interactionType\": 1, \"questionType\": 2, \"questionId\": \"5_CustomEngravings\", \"learnToolsVersion\": \"0.3.4\", \"failureMessage\": \"\", \"exceptionClass\": \"\", \"trace\": \"\"}}, \"*\")"
      ],
      "text/plain": [
       "<IPython.core.display.Javascript object>"
      ]
     },
     "metadata": {},
     "output_type": "display_data"
    },
    {
     "data": {
      "text/markdown": [
       "<span style=\"color:#33cc33\">Correct</span>"
      ],
      "text/plain": [
       "Correct"
      ]
     },
     "metadata": {},
     "output_type": "display_data"
    }
   ],
   "source": [
    "def cost_of_project(engraving, solid_gold):\n",
    "    cost = solid_gold * (100 + 10 * len(engraving)) +(not solid_gold) * (50 + 7 *len(engraving) )\n",
    "    return cost\n",
    "\n",
    "# Check your answer\n",
    "q5.check()"
   ]
  },
  {
   "cell_type": "code",
   "execution_count": 12,
   "id": "d6e03258",
   "metadata": {
    "execution": {
     "iopub.execute_input": "2025-02-22T13:27:59.867260Z",
     "iopub.status.busy": "2025-02-22T13:27:59.866869Z",
     "iopub.status.idle": "2025-02-22T13:27:59.871534Z",
     "shell.execute_reply": "2025-02-22T13:27:59.870534Z"
    },
    "papermill": {
     "duration": 0.013006,
     "end_time": "2025-02-22T13:27:59.873287",
     "exception": false,
     "start_time": "2025-02-22T13:27:59.860281",
     "status": "completed"
    },
    "tags": []
   },
   "outputs": [],
   "source": [
    "# Uncomment to see a hint\n",
    "#q5.hint()\n",
    "\n",
    "# Uncomment to view the solution\n",
    "#q5.solution()"
   ]
  },
  {
   "cell_type": "markdown",
   "id": "3ce3e808",
   "metadata": {
    "papermill": {
     "duration": 0.005494,
     "end_time": "2025-02-22T13:27:59.884908",
     "exception": false,
     "start_time": "2025-02-22T13:27:59.879414",
     "status": "completed"
    },
    "tags": []
   },
   "source": [
    "Run the next code cell to calculate the cost of engraving `Charlie+Denver` on a solid gold ring."
   ]
  },
  {
   "cell_type": "code",
   "execution_count": 13,
   "id": "1cc30f92",
   "metadata": {
    "execution": {
     "iopub.execute_input": "2025-02-22T13:27:59.898047Z",
     "iopub.status.busy": "2025-02-22T13:27:59.897677Z",
     "iopub.status.idle": "2025-02-22T13:27:59.902679Z",
     "shell.execute_reply": "2025-02-22T13:27:59.901798Z"
    },
    "papermill": {
     "duration": 0.013319,
     "end_time": "2025-02-22T13:27:59.904294",
     "exception": false,
     "start_time": "2025-02-22T13:27:59.890975",
     "status": "completed"
    },
    "tags": []
   },
   "outputs": [
    {
     "name": "stdout",
     "output_type": "stream",
     "text": [
      "240\n"
     ]
    }
   ],
   "source": [
    "project_one = cost_of_project(\"Charlie+Denver\", True)\n",
    "print(project_one)"
   ]
  },
  {
   "cell_type": "markdown",
   "id": "86782af1",
   "metadata": {
    "papermill": {
     "duration": 0.005753,
     "end_time": "2025-02-22T13:27:59.916166",
     "exception": false,
     "start_time": "2025-02-22T13:27:59.910413",
     "status": "completed"
    },
    "tags": []
   },
   "source": [
    "Use the next code cell to calculate the cost of engraving `08/10/2000` on a gold plated ring."
   ]
  },
  {
   "cell_type": "code",
   "execution_count": 14,
   "id": "1f6ac0b2",
   "metadata": {
    "execution": {
     "iopub.execute_input": "2025-02-22T13:27:59.929530Z",
     "iopub.status.busy": "2025-02-22T13:27:59.929156Z",
     "iopub.status.idle": "2025-02-22T13:27:59.934322Z",
     "shell.execute_reply": "2025-02-22T13:27:59.933161Z"
    },
    "papermill": {
     "duration": 0.013702,
     "end_time": "2025-02-22T13:27:59.935904",
     "exception": false,
     "start_time": "2025-02-22T13:27:59.922202",
     "status": "completed"
    },
    "tags": []
   },
   "outputs": [
    {
     "name": "stdout",
     "output_type": "stream",
     "text": [
      "120\n"
     ]
    }
   ],
   "source": [
    "project_two = cost_of_project(\"08/10/2000\", False)\n",
    "print(project_two)"
   ]
  },
  {
   "cell_type": "markdown",
   "id": "9c2d73a4",
   "metadata": {
    "papermill": {
     "duration": 0.005753,
     "end_time": "2025-02-22T13:27:59.947874",
     "exception": false,
     "start_time": "2025-02-22T13:27:59.942121",
     "status": "completed"
    },
    "tags": []
   },
   "source": [
    "# Keep going\n",
    "\n",
    "Continue to the next lesson to **[learn about conditions and conditional statements](https://www.kaggle.com/alexisbcook/conditions-and-conditional-statements)**."
   ]
  },
  {
   "cell_type": "markdown",
   "id": "fc49bd42",
   "metadata": {
    "papermill": {
     "duration": 0.006407,
     "end_time": "2025-02-22T13:27:59.960365",
     "exception": false,
     "start_time": "2025-02-22T13:27:59.953958",
     "status": "completed"
    },
    "tags": []
   },
   "source": [
    "---\n",
    "\n",
    "\n",
    "\n",
    "\n",
    "*Have questions or comments? Visit the [course discussion forum](https://www.kaggle.com/learn/intro-to-programming/discussion) to chat with other learners.*"
   ]
  }
 ],
 "metadata": {
  "kaggle": {
   "accelerator": "none",
   "dataSources": [],
   "isGpuEnabled": false,
   "isInternetEnabled": false,
   "language": "python",
   "sourceType": "notebook"
  },
  "kernelspec": {
   "display_name": "Python 3",
   "language": "python",
   "name": "python3"
  },
  "language_info": {
   "codemirror_mode": {
    "name": "ipython",
    "version": 3
   },
   "file_extension": ".py",
   "mimetype": "text/x-python",
   "name": "python",
   "nbconvert_exporter": "python",
   "pygments_lexer": "ipython3",
   "version": "3.10.12"
  },
  "papermill": {
   "default_parameters": {},
   "duration": 4.889878,
   "end_time": "2025-02-22T13:28:00.486119",
   "environment_variables": {},
   "exception": null,
   "input_path": "__notebook__.ipynb",
   "output_path": "__notebook__.ipynb",
   "parameters": {},
   "start_time": "2025-02-22T13:27:55.596241",
   "version": "2.3.3"
  }
 },
 "nbformat": 4,
 "nbformat_minor": 5
}
