{
 "cells": [
  {
   "cell_type": "markdown",
   "id": "e82da96a",
   "metadata": {
    "papermill": {
     "duration": 0.007428,
     "end_time": "2025-04-28T19:15:40.602081",
     "exception": false,
     "start_time": "2025-04-28T19:15:40.594653",
     "status": "completed"
    },
    "tags": []
   },
   "source": [
    "**This notebook is an exercise in the [Python](https://www.kaggle.com/learn/python) course.  You can reference the tutorial at [this link](https://www.kaggle.com/colinmorris/booleans-and-conditionals).**\n",
    "\n",
    "---\n"
   ]
  },
  {
   "cell_type": "markdown",
   "id": "679a95ed",
   "metadata": {
    "papermill": {
     "duration": 0.008391,
     "end_time": "2025-04-28T19:15:40.617875",
     "exception": false,
     "start_time": "2025-04-28T19:15:40.609484",
     "status": "completed"
    },
    "tags": []
   },
   "source": [
    "In this exercise, you'll put to work what you have learned about booleans and conditionals.\n",
    "\n",
    "To get started, **run the setup code below** before writing your own code (and if you leave this notebook and come back later, don't forget to run the setup code again)."
   ]
  },
  {
   "cell_type": "code",
   "execution_count": 1,
   "id": "bc58e185",
   "metadata": {
    "execution": {
     "iopub.execute_input": "2025-04-28T19:15:40.635265Z",
     "iopub.status.busy": "2025-04-28T19:15:40.634946Z",
     "iopub.status.idle": "2025-04-28T19:15:43.025570Z",
     "shell.execute_reply": "2025-04-28T19:15:43.024207Z"
    },
    "papermill": {
     "duration": 2.402006,
     "end_time": "2025-04-28T19:15:43.027475",
     "exception": false,
     "start_time": "2025-04-28T19:15:40.625469",
     "status": "completed"
    },
    "tags": []
   },
   "outputs": [
    {
     "name": "stdout",
     "output_type": "stream",
     "text": [
      "Setup complete.\n"
     ]
    }
   ],
   "source": [
    "from learntools.core import binder; binder.bind(globals())\n",
    "from learntools.python.ex3 import *\n",
    "print('Setup complete.')"
   ]
  },
  {
   "cell_type": "markdown",
   "id": "cf6cf674",
   "metadata": {
    "papermill": {
     "duration": 0.006647,
     "end_time": "2025-04-28T19:15:43.041479",
     "exception": false,
     "start_time": "2025-04-28T19:15:43.034832",
     "status": "completed"
    },
    "tags": []
   },
   "source": [
    "# 1.\n",
    "\n",
    "Many programming languages have [`sign`](https://en.wikipedia.org/wiki/Sign_function) available as a built-in function. Python doesn't, but we can define our own!\n",
    "\n",
    "In the cell below, define a function called `sign` which takes a numerical argument and returns -1 if it's negative, 1 if it's positive, and 0 if it's 0."
   ]
  },
  {
   "cell_type": "code",
   "execution_count": 2,
   "id": "31584d26",
   "metadata": {
    "execution": {
     "iopub.execute_input": "2025-04-28T19:15:43.055800Z",
     "iopub.status.busy": "2025-04-28T19:15:43.055299Z",
     "iopub.status.idle": "2025-04-28T19:15:43.065529Z",
     "shell.execute_reply": "2025-04-28T19:15:43.064456Z"
    },
    "papermill": {
     "duration": 0.019338,
     "end_time": "2025-04-28T19:15:43.067325",
     "exception": false,
     "start_time": "2025-04-28T19:15:43.047987",
     "status": "completed"
    },
    "tags": []
   },
   "outputs": [
    {
     "data": {
      "application/javascript": [
       "parent.postMessage({\"jupyterEvent\": \"custom.exercise_interaction\", \"data\": {\"outcomeType\": 1, \"valueTowardsCompletion\": 0.2, \"interactionType\": 1, \"questionType\": 2, \"questionId\": \"1_SignFunctionProblem\", \"learnToolsVersion\": \"0.3.5\", \"failureMessage\": \"\", \"exceptionClass\": \"\", \"trace\": \"\"}}, \"*\")"
      ],
      "text/plain": [
       "<IPython.core.display.Javascript object>"
      ]
     },
     "metadata": {},
     "output_type": "display_data"
    },
    {
     "data": {
      "text/markdown": [
       "<span style=\"color:#33cc33\">Correct</span>"
      ],
      "text/plain": [
       "Correct"
      ]
     },
     "metadata": {},
     "output_type": "display_data"
    }
   ],
   "source": [
    "def sign(y):\n",
    " if y > 0:\n",
    "     return 1\n",
    " elif y< 0:\n",
    "     return -1\n",
    " else:\n",
    "     return 0\n",
    "\n",
    "# Check your answer\n",
    "q1.check()"
   ]
  },
  {
   "cell_type": "code",
   "execution_count": 3,
   "id": "11a0b106",
   "metadata": {
    "execution": {
     "iopub.execute_input": "2025-04-28T19:15:43.082882Z",
     "iopub.status.busy": "2025-04-28T19:15:43.082538Z",
     "iopub.status.idle": "2025-04-28T19:15:43.086808Z",
     "shell.execute_reply": "2025-04-28T19:15:43.085945Z"
    },
    "papermill": {
     "duration": 0.01395,
     "end_time": "2025-04-28T19:15:43.088540",
     "exception": false,
     "start_time": "2025-04-28T19:15:43.074590",
     "status": "completed"
    },
    "tags": []
   },
   "outputs": [],
   "source": [
    "#q1.solution()"
   ]
  },
  {
   "cell_type": "markdown",
   "id": "33a7a237",
   "metadata": {
    "papermill": {
     "duration": 0.006477,
     "end_time": "2025-04-28T19:15:43.102092",
     "exception": false,
     "start_time": "2025-04-28T19:15:43.095615",
     "status": "completed"
    },
    "tags": []
   },
   "source": [
    "# 2.\n",
    "\n",
    "We've decided to add \"logging\" to our `to_smash` function from the previous exercise."
   ]
  },
  {
   "cell_type": "code",
   "execution_count": 4,
   "id": "69a0bac5",
   "metadata": {
    "execution": {
     "iopub.execute_input": "2025-04-28T19:15:43.117038Z",
     "iopub.status.busy": "2025-04-28T19:15:43.116700Z",
     "iopub.status.idle": "2025-04-28T19:15:43.124856Z",
     "shell.execute_reply": "2025-04-28T19:15:43.123638Z"
    },
    "papermill": {
     "duration": 0.017961,
     "end_time": "2025-04-28T19:15:43.126603",
     "exception": false,
     "start_time": "2025-04-28T19:15:43.108642",
     "status": "completed"
    },
    "tags": []
   },
   "outputs": [
    {
     "name": "stdout",
     "output_type": "stream",
     "text": [
      "Splitting 91 candies\n"
     ]
    },
    {
     "data": {
      "text/plain": [
       "1"
      ]
     },
     "execution_count": 4,
     "metadata": {},
     "output_type": "execute_result"
    }
   ],
   "source": [
    "def to_smash(total_candies:91):\n",
    "    print(\"Splitting\", total_candies, \"candies\")\n",
    "    return total_candies % 3  \n",
    "\n",
    "to_smash(91)"
   ]
  },
  {
   "cell_type": "markdown",
   "id": "eb867355",
   "metadata": {
    "papermill": {
     "duration": 0.006899,
     "end_time": "2025-04-28T19:15:43.140532",
     "exception": false,
     "start_time": "2025-04-28T19:15:43.133633",
     "status": "completed"
    },
    "tags": []
   },
   "source": [
    "What happens if we call it with `total_candies = 1`?"
   ]
  },
  {
   "cell_type": "code",
   "execution_count": 5,
   "id": "c40bf348",
   "metadata": {
    "execution": {
     "iopub.execute_input": "2025-04-28T19:15:43.155449Z",
     "iopub.status.busy": "2025-04-28T19:15:43.155022Z",
     "iopub.status.idle": "2025-04-28T19:15:43.161846Z",
     "shell.execute_reply": "2025-04-28T19:15:43.160764Z"
    },
    "papermill": {
     "duration": 0.016357,
     "end_time": "2025-04-28T19:15:43.163591",
     "exception": false,
     "start_time": "2025-04-28T19:15:43.147234",
     "status": "completed"
    },
    "tags": []
   },
   "outputs": [
    {
     "name": "stdout",
     "output_type": "stream",
     "text": [
      "Splitting 1 candies\n"
     ]
    },
    {
     "data": {
      "text/plain": [
       "1"
      ]
     },
     "execution_count": 5,
     "metadata": {},
     "output_type": "execute_result"
    }
   ],
   "source": [
    "to_smash(1)"
   ]
  },
  {
   "cell_type": "markdown",
   "id": "0ccd4389",
   "metadata": {
    "papermill": {
     "duration": 0.006586,
     "end_time": "2025-04-28T19:15:43.177263",
     "exception": false,
     "start_time": "2025-04-28T19:15:43.170677",
     "status": "completed"
    },
    "tags": []
   },
   "source": [
    "That isn't great grammar!\n",
    "\n",
    "Modify the definition in the cell below to correct the grammar of our print statement. (If there's only one candy, we should use the singular \"candy\" instead of the plural \"candies\")"
   ]
  },
  {
   "cell_type": "code",
   "execution_count": 6,
   "id": "a1206e1c",
   "metadata": {
    "execution": {
     "iopub.execute_input": "2025-04-28T19:15:43.191954Z",
     "iopub.status.busy": "2025-04-28T19:15:43.191633Z",
     "iopub.status.idle": "2025-04-28T19:15:43.199392Z",
     "shell.execute_reply": "2025-04-28T19:15:43.198395Z"
    },
    "papermill": {
     "duration": 0.017281,
     "end_time": "2025-04-28T19:15:43.201247",
     "exception": false,
     "start_time": "2025-04-28T19:15:43.183966",
     "status": "completed"
    },
    "tags": []
   },
   "outputs": [
    {
     "name": "stdout",
     "output_type": "stream",
     "text": [
      "Splitting 91 candies\n",
      "Splitting  1 candy\n"
     ]
    },
    {
     "data": {
      "text/plain": [
       "1"
      ]
     },
     "execution_count": 6,
     "metadata": {},
     "output_type": "execute_result"
    }
   ],
   "source": [
    "def to_smash(total_candy:91):\n",
    "   if total_candy==1:\n",
    "       print(\"Splitting \",total_candy,\"candy\")\n",
    "   else: \n",
    "    print(\"Splitting\", total_candy, \"candies\")\n",
    "   return total_candy % 3\n",
    "\n",
    "to_smash(91)\n",
    "to_smash(1)"
   ]
  },
  {
   "cell_type": "markdown",
   "id": "aef6710f",
   "metadata": {
    "papermill": {
     "duration": 0.008171,
     "end_time": "2025-04-28T19:15:43.216712",
     "exception": false,
     "start_time": "2025-04-28T19:15:43.208541",
     "status": "completed"
    },
    "tags": []
   },
   "source": [
    "To get credit for completing this problem, and to see the official answer, run the code cell below."
   ]
  },
  {
   "cell_type": "code",
   "execution_count": 7,
   "id": "758bd6b1",
   "metadata": {
    "execution": {
     "iopub.execute_input": "2025-04-28T19:15:43.231949Z",
     "iopub.status.busy": "2025-04-28T19:15:43.231623Z",
     "iopub.status.idle": "2025-04-28T19:15:43.236073Z",
     "shell.execute_reply": "2025-04-28T19:15:43.235026Z"
    },
    "papermill": {
     "duration": 0.014099,
     "end_time": "2025-04-28T19:15:43.237804",
     "exception": false,
     "start_time": "2025-04-28T19:15:43.223705",
     "status": "completed"
    },
    "tags": []
   },
   "outputs": [],
   "source": [
    "#q2.solution()"
   ]
  },
  {
   "cell_type": "markdown",
   "id": "3b0971f8",
   "metadata": {
    "papermill": {
     "duration": 0.006797,
     "end_time": "2025-04-28T19:15:43.253109",
     "exception": false,
     "start_time": "2025-04-28T19:15:43.246312",
     "status": "completed"
    },
    "tags": []
   },
   "source": [
    "# 3. <span title=\"A bit spicy\" style=\"color: darkgreen \">🌶️</span>\n",
    "\n",
    "In the tutorial, we talked about deciding whether we're prepared for the weather. I said that I'm safe from today's weather if...\n",
    "- I have an umbrella...\n",
    "- or if the rain isn't too heavy and I have a hood...\n",
    "- otherwise, I'm still fine unless it's raining *and* it's a workday\n",
    "\n",
    "The function below uses our first attempt at turning this logic into a Python expression. I claimed that there was a bug in that code. Can you find it?\n",
    "\n",
    "To prove that `prepared_for_weather` is buggy, come up with a set of inputs where either:\n",
    "- the function returns `False` (but should have returned `True`), or\n",
    "- the function returned `True` (but should have returned `False`).\n",
    "\n",
    "To get credit for completing this question, your code should return a <font color='#33cc33'>Correct</font> result."
   ]
  },
  {
   "cell_type": "code",
   "execution_count": 8,
   "id": "a034b35a",
   "metadata": {
    "execution": {
     "iopub.execute_input": "2025-04-28T19:15:43.268672Z",
     "iopub.status.busy": "2025-04-28T19:15:43.268304Z",
     "iopub.status.idle": "2025-04-28T19:15:43.279560Z",
     "shell.execute_reply": "2025-04-28T19:15:43.278451Z"
    },
    "papermill": {
     "duration": 0.021414,
     "end_time": "2025-04-28T19:15:43.281546",
     "exception": false,
     "start_time": "2025-04-28T19:15:43.260132",
     "status": "completed"
    },
    "tags": []
   },
   "outputs": [
    {
     "name": "stdout",
     "output_type": "stream",
     "text": [
      "False\n"
     ]
    },
    {
     "data": {
      "application/javascript": [
       "parent.postMessage({\"jupyterEvent\": \"custom.exercise_interaction\", \"data\": {\"outcomeType\": 1, \"valueTowardsCompletion\": 0.2, \"interactionType\": 1, \"questionType\": 1, \"questionId\": \"3_WeatherDebug\", \"learnToolsVersion\": \"0.3.5\", \"failureMessage\": \"\", \"exceptionClass\": \"\", \"trace\": \"\"}}, \"*\")"
      ],
      "text/plain": [
       "<IPython.core.display.Javascript object>"
      ]
     },
     "metadata": {},
     "output_type": "display_data"
    },
    {
     "data": {
      "text/markdown": [
       "<span style=\"color:#33cc33\">Correct:</span> \n",
       "\n",
       "One example of a failing test case is:\n",
       "\n",
       "```python\n",
       "have_umbrella = False\n",
       "rain_level = 0.0\n",
       "have_hood = False\n",
       "is_workday = False\n",
       "```\n",
       "\n",
       "Clearly we're prepared for the weather in this case. It's not raining. Not only that, it's not a workday, so we don't even need to leave the house! But our function will return False on these inputs.\n",
       "\n",
       "The key problem is that Python implictly parenthesizes the last part as:\n",
       "\n",
       "```python\n",
       "(not (rain_level > 0)) and is_workday\n",
       "```\n",
       "\n",
       "Whereas what we were trying to express would look more like:\n",
       "\n",
       "```python\n",
       "not (rain_level > 0 and is_workday)\n",
       "```\n"
      ],
      "text/plain": [
       "Correct: \n",
       "\n",
       "One example of a failing test case is:\n",
       "\n",
       "```python\n",
       "have_umbrella = False\n",
       "rain_level = 0.0\n",
       "have_hood = False\n",
       "is_workday = False\n",
       "```\n",
       "\n",
       "Clearly we're prepared for the weather in this case. It's not raining. Not only that, it's not a workday, so we don't even need to leave the house! But our function will return False on these inputs.\n",
       "\n",
       "The key problem is that Python implictly parenthesizes the last part as:\n",
       "\n",
       "```python\n",
       "(not (rain_level > 0)) and is_workday\n",
       "```\n",
       "\n",
       "Whereas what we were trying to express would look more like:\n",
       "\n",
       "```python\n",
       "not (rain_level > 0 and is_workday)\n",
       "```"
      ]
     },
     "metadata": {},
     "output_type": "display_data"
    }
   ],
   "source": [
    "def prepared_for_weather(have_umbrella, rain_level, have_hood, is_workday):\n",
    "    # Don't change this code. Our goal is just to find the bug, not fix it!\n",
    "    return have_umbrella or rain_level < 5 and have_hood or not rain_level >0 and is_workday\n",
    "\n",
    "# Change the values of these inputs so they represent a case where prepared_for_weather\n",
    "# returns the wrong answer.\n",
    "have_umbrella = False\n",
    "rain_level = 0\n",
    "have_hood = False\n",
    "is_workday = False \n",
    "\n",
    "# Check what the function returns given the current values of the variables above\n",
    "actual = prepared_for_weather(have_umbrella, rain_level, have_hood, is_workday)\n",
    "print(actual)\n",
    "\n",
    "# Check your answer\n",
    "q3.check()"
   ]
  },
  {
   "cell_type": "code",
   "execution_count": 9,
   "id": "6be85754",
   "metadata": {
    "execution": {
     "iopub.execute_input": "2025-04-28T19:15:43.298391Z",
     "iopub.status.busy": "2025-04-28T19:15:43.298056Z",
     "iopub.status.idle": "2025-04-28T19:15:43.302773Z",
     "shell.execute_reply": "2025-04-28T19:15:43.301660Z"
    },
    "papermill": {
     "duration": 0.015072,
     "end_time": "2025-04-28T19:15:43.304535",
     "exception": false,
     "start_time": "2025-04-28T19:15:43.289463",
     "status": "completed"
    },
    "tags": []
   },
   "outputs": [],
   "source": [
    "#q3.hint()\n",
    "#q3.solution()"
   ]
  },
  {
   "cell_type": "markdown",
   "id": "aa4accf9",
   "metadata": {
    "papermill": {
     "duration": 0.007353,
     "end_time": "2025-04-28T19:15:43.319840",
     "exception": false,
     "start_time": "2025-04-28T19:15:43.312487",
     "status": "completed"
    },
    "tags": []
   },
   "source": [
    "# 4.\n",
    "\n",
    "The function `is_negative` below is implemented correctly - it returns True if the given number is negative and False otherwise.\n",
    "\n",
    "However, it's more verbose than it needs to be. We can actually reduce the number of lines of code in this function by *75%* while keeping the same behaviour. \n",
    "\n",
    "See if you can come up with an equivalent body that uses just **one line** of code, and put it in the function `concise_is_negative`. (HINT: you don't even need Python's ternary syntax)"
   ]
  },
  {
   "cell_type": "code",
   "execution_count": 10,
   "id": "8ff49c65",
   "metadata": {
    "execution": {
     "iopub.execute_input": "2025-04-28T19:15:43.340858Z",
     "iopub.status.busy": "2025-04-28T19:15:43.340512Z",
     "iopub.status.idle": "2025-04-28T19:15:43.349849Z",
     "shell.execute_reply": "2025-04-28T19:15:43.348888Z"
    },
    "papermill": {
     "duration": 0.021754,
     "end_time": "2025-04-28T19:15:43.351546",
     "exception": false,
     "start_time": "2025-04-28T19:15:43.329792",
     "status": "completed"
    },
    "tags": []
   },
   "outputs": [
    {
     "data": {
      "application/javascript": [
       "parent.postMessage({\"jupyterEvent\": \"custom.exercise_interaction\", \"data\": {\"outcomeType\": 1, \"valueTowardsCompletion\": 0.2, \"interactionType\": 1, \"questionType\": 2, \"questionId\": \"4_ConciseIsNegative\", \"learnToolsVersion\": \"0.3.5\", \"failureMessage\": \"\", \"exceptionClass\": \"\", \"trace\": \"\"}}, \"*\")"
      ],
      "text/plain": [
       "<IPython.core.display.Javascript object>"
      ]
     },
     "metadata": {},
     "output_type": "display_data"
    },
    {
     "data": {
      "text/markdown": [
       "<span style=\"color:#33cc33\">Correct</span>"
      ],
      "text/plain": [
       "Correct"
      ]
     },
     "metadata": {},
     "output_type": "display_data"
    }
   ],
   "source": [
    "def is_negative(number):\n",
    "        if number<0:\n",
    "          return True\n",
    "        else:\n",
    "         return False\n",
    "       \n",
    "def concise_is_negative(number):\n",
    "    return number<0\n",
    "    pass # Your code goes here (try to keep it to one line!)\n",
    "\n",
    "# Check your answer\n",
    "q4.check()"
   ]
  },
  {
   "cell_type": "code",
   "execution_count": 11,
   "id": "b1ed3840",
   "metadata": {
    "execution": {
     "iopub.execute_input": "2025-04-28T19:15:43.369456Z",
     "iopub.status.busy": "2025-04-28T19:15:43.369083Z",
     "iopub.status.idle": "2025-04-28T19:15:43.373928Z",
     "shell.execute_reply": "2025-04-28T19:15:43.372781Z"
    },
    "papermill": {
     "duration": 0.015553,
     "end_time": "2025-04-28T19:15:43.375997",
     "exception": false,
     "start_time": "2025-04-28T19:15:43.360444",
     "status": "completed"
    },
    "tags": []
   },
   "outputs": [],
   "source": [
    "#q4.hint()\n",
    "#q4.solution()"
   ]
  },
  {
   "cell_type": "markdown",
   "id": "42012ed1",
   "metadata": {
    "papermill": {
     "duration": 0.007552,
     "end_time": "2025-04-28T19:15:43.393579",
     "exception": false,
     "start_time": "2025-04-28T19:15:43.386027",
     "status": "completed"
    },
    "tags": []
   },
   "source": [
    "# 5a.\n",
    "\n",
    "The boolean variables `ketchup`, `mustard` and `onion` represent whether a customer wants a particular topping on their hot dog. We want to implement a number of boolean functions that correspond to some yes-or-no questions about the customer's order. For example:"
   ]
  },
  {
   "cell_type": "code",
   "execution_count": 12,
   "id": "896e44aa",
   "metadata": {
    "execution": {
     "iopub.execute_input": "2025-04-28T19:15:43.410676Z",
     "iopub.status.busy": "2025-04-28T19:15:43.410313Z",
     "iopub.status.idle": "2025-04-28T19:15:43.415624Z",
     "shell.execute_reply": "2025-04-28T19:15:43.414412Z"
    },
    "papermill": {
     "duration": 0.015977,
     "end_time": "2025-04-28T19:15:43.417644",
     "exception": false,
     "start_time": "2025-04-28T19:15:43.401667",
     "status": "completed"
    },
    "tags": []
   },
   "outputs": [],
   "source": [
    "def onionless(ketchup, mustard, onion):\n",
    "    \"\"\"Return whether the customer doesn't want onions.\n",
    "    \"\"\"\n",
    "    return not onion"
   ]
  },
  {
   "cell_type": "code",
   "execution_count": 13,
   "id": "c77a774b",
   "metadata": {
    "execution": {
     "iopub.execute_input": "2025-04-28T19:15:43.506717Z",
     "iopub.status.busy": "2025-04-28T19:15:43.506414Z",
     "iopub.status.idle": "2025-04-28T19:15:43.515318Z",
     "shell.execute_reply": "2025-04-28T19:15:43.514448Z"
    },
    "papermill": {
     "duration": 0.019684,
     "end_time": "2025-04-28T19:15:43.517204",
     "exception": false,
     "start_time": "2025-04-28T19:15:43.497520",
     "status": "completed"
    },
    "tags": []
   },
   "outputs": [
    {
     "data": {
      "application/javascript": [
       "parent.postMessage({\"jupyterEvent\": \"custom.exercise_interaction\", \"data\": {\"outcomeType\": 1, \"valueTowardsCompletion\": 0.2, \"interactionType\": 1, \"questionType\": 2, \"questionId\": \"5.1_AllToppings\", \"learnToolsVersion\": \"0.3.5\", \"failureMessage\": \"\", \"exceptionClass\": \"\", \"trace\": \"\"}}, \"*\")"
      ],
      "text/plain": [
       "<IPython.core.display.Javascript object>"
      ]
     },
     "metadata": {},
     "output_type": "display_data"
    },
    {
     "data": {
      "text/markdown": [
       "<span style=\"color:#33cc33\">Correct</span>"
      ],
      "text/plain": [
       "Correct"
      ]
     },
     "metadata": {},
     "output_type": "display_data"
    }
   ],
   "source": [
    "def wants_all_toppings(ketchup, mustard, onion):\n",
    "    \"\"\"Return whether the customer wants \"the works\" (all 3 toppings)\n",
    "    \"\"\"\n",
    "    return (ketchup and mustard and onion)\n",
    "    pass\n",
    "\n",
    "# Check your answer\n",
    "q5.a.check()"
   ]
  },
  {
   "cell_type": "code",
   "execution_count": 14,
   "id": "7d27fe0d",
   "metadata": {
    "execution": {
     "iopub.execute_input": "2025-04-28T19:15:43.533990Z",
     "iopub.status.busy": "2025-04-28T19:15:43.533670Z",
     "iopub.status.idle": "2025-04-28T19:15:43.537855Z",
     "shell.execute_reply": "2025-04-28T19:15:43.536884Z"
    },
    "papermill": {
     "duration": 0.014339,
     "end_time": "2025-04-28T19:15:43.539381",
     "exception": false,
     "start_time": "2025-04-28T19:15:43.525042",
     "status": "completed"
    },
    "tags": []
   },
   "outputs": [],
   "source": [
    "#q5.a.hint()\n",
    "#q5.a.solution()"
   ]
  },
  {
   "cell_type": "markdown",
   "id": "566a768a",
   "metadata": {
    "papermill": {
     "duration": 0.007274,
     "end_time": "2025-04-28T19:15:43.554593",
     "exception": false,
     "start_time": "2025-04-28T19:15:43.547319",
     "status": "completed"
    },
    "tags": []
   },
   "source": [
    "# 5b.\n",
    "\n",
    "For the next function, fill in the body to match the English description in the docstring. "
   ]
  },
  {
   "cell_type": "code",
   "execution_count": 15,
   "id": "1fce1e5d",
   "metadata": {
    "execution": {
     "iopub.execute_input": "2025-04-28T19:15:43.572111Z",
     "iopub.status.busy": "2025-04-28T19:15:43.571766Z",
     "iopub.status.idle": "2025-04-28T19:15:43.580942Z",
     "shell.execute_reply": "2025-04-28T19:15:43.580020Z"
    },
    "papermill": {
     "duration": 0.020878,
     "end_time": "2025-04-28T19:15:43.582981",
     "exception": false,
     "start_time": "2025-04-28T19:15:43.562103",
     "status": "completed"
    },
    "tags": []
   },
   "outputs": [
    {
     "data": {
      "application/javascript": [
       "parent.postMessage({\"jupyterEvent\": \"custom.exercise_interaction\", \"data\": {\"outcomeType\": 1, \"valueTowardsCompletion\": 0.2, \"interactionType\": 1, \"questionType\": 2, \"questionId\": \"5.2_PlainDog\", \"learnToolsVersion\": \"0.3.5\", \"failureMessage\": \"\", \"exceptionClass\": \"\", \"trace\": \"\"}}, \"*\")"
      ],
      "text/plain": [
       "<IPython.core.display.Javascript object>"
      ]
     },
     "metadata": {},
     "output_type": "display_data"
    },
    {
     "data": {
      "text/markdown": [
       "<span style=\"color:#33cc33\">Correct:</span> \n",
       "\n",
       "One solution looks like:\n",
       "```python\n",
       "return not ketchup and not mustard and not onion\n",
       "```\n",
       "\n",
       "We can also [\"factor out\" the nots](https://en.wikipedia.org/wiki/De_Morgan%27s_laws) to get:\n",
       "\n",
       "```python\n",
       "return not (ketchup or mustard or onion)\n",
       "```"
      ],
      "text/plain": [
       "Correct: \n",
       "\n",
       "One solution looks like:\n",
       "```python\n",
       "return not ketchup and not mustard and not onion\n",
       "```\n",
       "\n",
       "We can also [\"factor out\" the nots](https://en.wikipedia.org/wiki/De_Morgan%27s_laws) to get:\n",
       "\n",
       "```python\n",
       "return not (ketchup or mustard or onion)\n",
       "```"
      ]
     },
     "metadata": {},
     "output_type": "display_data"
    }
   ],
   "source": [
    "def wants_plain_hotdog(ketchup, mustard, onion):\n",
    "    \"\"\"Return whether the customer wants a plain hot dog with no toppings.\n",
    "    \"\"\"\n",
    "    return not ( ketchup or mustard or  onion)\n",
    "    pass\n",
    "\n",
    "# Check your answer\n",
    "q5.b.check()"
   ]
  },
  {
   "cell_type": "code",
   "execution_count": 16,
   "id": "e24a8f57",
   "metadata": {
    "execution": {
     "iopub.execute_input": "2025-04-28T19:15:43.600970Z",
     "iopub.status.busy": "2025-04-28T19:15:43.600683Z",
     "iopub.status.idle": "2025-04-28T19:15:43.605343Z",
     "shell.execute_reply": "2025-04-28T19:15:43.604180Z"
    },
    "papermill": {
     "duration": 0.015546,
     "end_time": "2025-04-28T19:15:43.607349",
     "exception": false,
     "start_time": "2025-04-28T19:15:43.591803",
     "status": "completed"
    },
    "tags": []
   },
   "outputs": [],
   "source": [
    "#q5.b.hint()\n",
    "#q5.b.solution()"
   ]
  },
  {
   "cell_type": "markdown",
   "id": "dd21cc85",
   "metadata": {
    "papermill": {
     "duration": 0.007758,
     "end_time": "2025-04-28T19:15:43.624283",
     "exception": false,
     "start_time": "2025-04-28T19:15:43.616525",
     "status": "completed"
    },
    "tags": []
   },
   "source": [
    "# 5c.\n",
    "\n",
    "You know what to do: for the next function, fill in the body to match the English description in the docstring."
   ]
  },
  {
   "cell_type": "code",
   "execution_count": 17,
   "id": "52bb4268",
   "metadata": {
    "execution": {
     "iopub.execute_input": "2025-04-28T19:15:43.641776Z",
     "iopub.status.busy": "2025-04-28T19:15:43.641450Z",
     "iopub.status.idle": "2025-04-28T19:15:43.649777Z",
     "shell.execute_reply": "2025-04-28T19:15:43.648702Z"
    },
    "papermill": {
     "duration": 0.01897,
     "end_time": "2025-04-28T19:15:43.651425",
     "exception": false,
     "start_time": "2025-04-28T19:15:43.632455",
     "status": "completed"
    },
    "tags": []
   },
   "outputs": [
    {
     "data": {
      "application/javascript": [
       "parent.postMessage({\"jupyterEvent\": \"custom.exercise_interaction\", \"data\": {\"outcomeType\": 1, \"valueTowardsCompletion\": 0.2, \"interactionType\": 1, \"questionType\": 2, \"questionId\": \"5.3_OneSauce\", \"learnToolsVersion\": \"0.3.5\", \"failureMessage\": \"\", \"exceptionClass\": \"\", \"trace\": \"\"}}, \"*\")"
      ],
      "text/plain": [
       "<IPython.core.display.Javascript object>"
      ]
     },
     "metadata": {},
     "output_type": "display_data"
    },
    {
     "data": {
      "text/markdown": [
       "<span style=\"color:#33cc33\">Correct</span>"
      ],
      "text/plain": [
       "Correct"
      ]
     },
     "metadata": {},
     "output_type": "display_data"
    }
   ],
   "source": [
    "def exactly_one_sauce(ketchup, mustard, onion):\n",
    "    \"\"\"Return whether the customer wants either ketchup or mustard, but not both.\n",
    "    (You may be familiar with this operation under the name \"exclusive or\")\n",
    "    \"\"\"\n",
    "    return (ketchup and not mustard ) or (mustard and not ketchup )\n",
    "    pass\n",
    "\n",
    "# Check your answer\n",
    "q5.c.check()"
   ]
  },
  {
   "cell_type": "code",
   "execution_count": 18,
   "id": "e90d66a3",
   "metadata": {
    "execution": {
     "iopub.execute_input": "2025-04-28T19:15:43.669056Z",
     "iopub.status.busy": "2025-04-28T19:15:43.668796Z",
     "iopub.status.idle": "2025-04-28T19:15:43.672912Z",
     "shell.execute_reply": "2025-04-28T19:15:43.671901Z"
    },
    "papermill": {
     "duration": 0.014709,
     "end_time": "2025-04-28T19:15:43.674536",
     "exception": false,
     "start_time": "2025-04-28T19:15:43.659827",
     "status": "completed"
    },
    "tags": []
   },
   "outputs": [],
   "source": [
    "#q5.c.hint()\n",
    "#q5.c.solution()"
   ]
  },
  {
   "cell_type": "markdown",
   "id": "b5c66a1c",
   "metadata": {
    "papermill": {
     "duration": 0.007993,
     "end_time": "2025-04-28T19:15:43.690701",
     "exception": false,
     "start_time": "2025-04-28T19:15:43.682708",
     "status": "completed"
    },
    "tags": []
   },
   "source": [
    "# 6. <span title=\"A bit spicy\" style=\"color: darkgreen \">🌶️</span>\n",
    "\n",
    "We’ve seen that calling `bool()` on an integer returns `False` if it’s equal to 0 and `True` otherwise. What happens if we call `int()` on a bool? Try it out in the notebook cell below.\n",
    "\n",
    "Can you take advantage of this to write a succinct function that corresponds to the English sentence \"does the customer want exactly one topping?\"?"
   ]
  },
  {
   "cell_type": "code",
   "execution_count": 19,
   "id": "0f285c16",
   "metadata": {
    "execution": {
     "iopub.execute_input": "2025-04-28T19:15:43.708929Z",
     "iopub.status.busy": "2025-04-28T19:15:43.708629Z",
     "iopub.status.idle": "2025-04-28T19:15:43.717282Z",
     "shell.execute_reply": "2025-04-28T19:15:43.716501Z"
    },
    "papermill": {
     "duration": 0.01996,
     "end_time": "2025-04-28T19:15:43.718778",
     "exception": false,
     "start_time": "2025-04-28T19:15:43.698818",
     "status": "completed"
    },
    "tags": []
   },
   "outputs": [
    {
     "data": {
      "application/javascript": [
       "parent.postMessage({\"jupyterEvent\": \"custom.exercise_interaction\", \"data\": {\"outcomeType\": 1, \"valueTowardsCompletion\": 0.2, \"interactionType\": 1, \"questionType\": 2, \"questionId\": \"6_OneTopping\", \"learnToolsVersion\": \"0.3.5\", \"failureMessage\": \"\", \"exceptionClass\": \"\", \"trace\": \"\"}}, \"*\")"
      ],
      "text/plain": [
       "<IPython.core.display.Javascript object>"
      ]
     },
     "metadata": {},
     "output_type": "display_data"
    },
    {
     "data": {
      "text/markdown": [
       "<span style=\"color:#33cc33\">Correct:</span> \n",
       "\n",
       "This condition would be pretty complicated to express using just `and`, `or` and `not`, but using boolean-to-integer conversion gives us this short solution:\n",
       "```python\n",
       "return (int(ketchup) + int(mustard) + int(onion)) == 1\n",
       "```\n",
       "\n",
       "Fun fact: we don't technically need to call `int` on the arguments. Just by doing addition with booleans, Python implicitly does the integer conversion. So we could also write...\n",
       "\n",
       "```python\n",
       "return (ketchup + mustard + onion) == 1\n",
       "```"
      ],
      "text/plain": [
       "Correct: \n",
       "\n",
       "This condition would be pretty complicated to express using just `and`, `or` and `not`, but using boolean-to-integer conversion gives us this short solution:\n",
       "```python\n",
       "return (int(ketchup) + int(mustard) + int(onion)) == 1\n",
       "```\n",
       "\n",
       "Fun fact: we don't technically need to call `int` on the arguments. Just by doing addition with booleans, Python implicitly does the integer conversion. So we could also write...\n",
       "\n",
       "```python\n",
       "return (ketchup + mustard + onion) == 1\n",
       "```"
      ]
     },
     "metadata": {},
     "output_type": "display_data"
    }
   ],
   "source": [
    "def exactly_one_topping(ketchup, mustard, onion):\n",
    "    \"\"\"Return whether the customer wants exactly one of the three available toppings\n",
    "    on their hot dog.\n",
    "    \"\"\"\n",
    "    return (ketchup and not mustard and not onion) or (mustard and not ketchup and not onion) or (onion and not ketchup and not mustard )\n",
    "    pass\n",
    "\n",
    "# Check your answer\n",
    "q6.check()"
   ]
  },
  {
   "cell_type": "code",
   "execution_count": 20,
   "id": "48b9a79e",
   "metadata": {
    "execution": {
     "iopub.execute_input": "2025-04-28T19:15:43.738150Z",
     "iopub.status.busy": "2025-04-28T19:15:43.737862Z",
     "iopub.status.idle": "2025-04-28T19:15:43.741845Z",
     "shell.execute_reply": "2025-04-28T19:15:43.740959Z"
    },
    "papermill": {
     "duration": 0.015217,
     "end_time": "2025-04-28T19:15:43.743222",
     "exception": false,
     "start_time": "2025-04-28T19:15:43.728005",
     "status": "completed"
    },
    "tags": []
   },
   "outputs": [],
   "source": [
    "#q6.hint()\n",
    "#q6.solution()"
   ]
  },
  {
   "cell_type": "markdown",
   "id": "6db42efc",
   "metadata": {
    "papermill": {
     "duration": 0.008071,
     "end_time": "2025-04-28T19:15:43.759587",
     "exception": false,
     "start_time": "2025-04-28T19:15:43.751516",
     "status": "completed"
    },
    "tags": []
   },
   "source": [
    "# 7. <span title=\"A bit spicy\" style=\"color: darkgreen \">🌶️</span> (Optional)\n",
    "\n",
    "In this problem we'll be working with a simplified version of [blackjack](https://en.wikipedia.org/wiki/Blackjack) (aka twenty-one). In this version there is one player (who you'll control) and a dealer. Play proceeds as follows:\n",
    "\n",
    "- The player is dealt two face-up cards. The dealer is dealt one face-up card.\n",
    "- The player may ask to be dealt another card ('hit') as many times as they wish. If the sum of their cards exceeds 21, they lose the round immediately.\n",
    "- The dealer then deals additional cards to himself until either:\n",
    "    - the sum of the dealer's cards exceeds 21, in which case the player wins the round\n",
    "    - the sum of the dealer's cards is greater than or equal to 17. If the player's total is greater than the dealer's, the player wins. Otherwise, the dealer wins (even in case of a tie).\n",
    "    \n",
    "When calculating the sum of cards, Jack, Queen, and King count for 10. Aces can count as 1 or 11 (when referring to a player's \"total\" above, we mean the largest total that can be made without exceeding 21. So e.g. A+8 = 19, A+8+8 = 17)\n",
    "\n",
    "For this problem, you'll write a function representing the player's decision-making strategy in this game. We've provided a very unintelligent implementation below:"
   ]
  },
  {
   "cell_type": "code",
   "execution_count": 21,
   "id": "d97fb76e",
   "metadata": {
    "execution": {
     "iopub.execute_input": "2025-04-28T19:15:43.778108Z",
     "iopub.status.busy": "2025-04-28T19:15:43.777845Z",
     "iopub.status.idle": "2025-04-28T19:15:43.783136Z",
     "shell.execute_reply": "2025-04-28T19:15:43.782035Z"
    },
    "papermill": {
     "duration": 0.016931,
     "end_time": "2025-04-28T19:15:43.785323",
     "exception": false,
     "start_time": "2025-04-28T19:15:43.768392",
     "status": "completed"
    },
    "tags": []
   },
   "outputs": [],
   "source": [
    "def should_hit(dealer_total, player_total, player_low_aces, player_high_aces):\n",
    "    \"\"\"Return True if the player should hit (request another card) given the current game\n",
    "    state, or False if the player should stay.\n",
    "    When calculating a hand's total value, we count aces as \"high\" (with value 11) if doing so\n",
    "    doesn't bring the total above 21, otherwise we count them as low (with value 1). \n",
    "    For example, if the player's hand is {A, A, A, 7}, we will count it as 11 + 1 + 1 + 7,\n",
    "    and therefore set player_total=20, player_low_aces=2, player_high_aces=1.\n",
    "    \"\"\"\n",
    "    return False"
   ]
  },
  {
   "cell_type": "markdown",
   "id": "654e3a4b",
   "metadata": {
    "papermill": {
     "duration": 0.008981,
     "end_time": "2025-04-28T19:15:43.802934",
     "exception": false,
     "start_time": "2025-04-28T19:15:43.793953",
     "status": "completed"
    },
    "tags": []
   },
   "source": [
    "This very conservative agent *always* sticks with the hand of two cards that they're dealt.\n",
    "\n",
    "We'll be simulating games between your player agent and our own dealer agent by calling your function.\n",
    "\n",
    "Try running the function below to see an example of a simulated game:"
   ]
  },
  {
   "cell_type": "code",
   "execution_count": 22,
   "id": "2cc57f2d",
   "metadata": {
    "execution": {
     "iopub.execute_input": "2025-04-28T19:15:43.821054Z",
     "iopub.status.busy": "2025-04-28T19:15:43.820755Z",
     "iopub.status.idle": "2025-04-28T19:15:43.826325Z",
     "shell.execute_reply": "2025-04-28T19:15:43.825173Z"
    },
    "papermill": {
     "duration": 0.016666,
     "end_time": "2025-04-28T19:15:43.828145",
     "exception": false,
     "start_time": "2025-04-28T19:15:43.811479",
     "status": "completed"
    },
    "tags": []
   },
   "outputs": [
    {
     "name": "stdout",
     "output_type": "stream",
     "text": [
      "Player starts with 2 and 7 (total = 9)\n",
      "Dealer starts with 7\n",
      "\n",
      "__Player's turn__\n",
      "Player stays\n",
      "\n",
      "__Dealer's turn__\n",
      "Dealer hits and receives 7. (total = 14)\n",
      "Dealer hits and receives Q. (total = 24)\n",
      "Dealer busts! Player wins.\n"
     ]
    }
   ],
   "source": [
    "q7.simulate_one_game()"
   ]
  },
  {
   "cell_type": "markdown",
   "id": "a9f4e27e",
   "metadata": {
    "papermill": {
     "duration": 0.007935,
     "end_time": "2025-04-28T19:15:43.845128",
     "exception": false,
     "start_time": "2025-04-28T19:15:43.837193",
     "status": "completed"
    },
    "tags": []
   },
   "source": [
    "The real test of your agent's mettle is their average win rate over many games. Try calling the function below to simulate 50000 games of blackjack (it may take a couple seconds):"
   ]
  },
  {
   "cell_type": "code",
   "execution_count": 23,
   "id": "9ad9d8c7",
   "metadata": {
    "execution": {
     "iopub.execute_input": "2025-04-28T19:15:43.862993Z",
     "iopub.status.busy": "2025-04-28T19:15:43.862713Z",
     "iopub.status.idle": "2025-04-28T19:15:44.750542Z",
     "shell.execute_reply": "2025-04-28T19:15:44.749153Z"
    },
    "papermill": {
     "duration": 0.898964,
     "end_time": "2025-04-28T19:15:44.752224",
     "exception": false,
     "start_time": "2025-04-28T19:15:43.853260",
     "status": "completed"
    },
    "tags": []
   },
   "outputs": [
    {
     "name": "stdout",
     "output_type": "stream",
     "text": [
      "Player won 19009 out of 50000 games (win rate = 38.0%)\n"
     ]
    }
   ],
   "source": [
    "q7.simulate(n_games=50000)"
   ]
  },
  {
   "cell_type": "markdown",
   "id": "91475379",
   "metadata": {
    "papermill": {
     "duration": 0.007854,
     "end_time": "2025-04-28T19:15:44.768602",
     "exception": false,
     "start_time": "2025-04-28T19:15:44.760748",
     "status": "completed"
    },
    "tags": []
   },
   "source": [
    "Our dumb agent that completely ignores the game state still manages to win shockingly often!\n",
    "\n",
    "Try adding some more smarts to the `should_hit` function and see how it affects the results."
   ]
  },
  {
   "cell_type": "code",
   "execution_count": 24,
   "id": "dfc35bfc",
   "metadata": {
    "execution": {
     "iopub.execute_input": "2025-04-28T19:15:44.786397Z",
     "iopub.status.busy": "2025-04-28T19:15:44.786094Z",
     "iopub.status.idle": "2025-04-28T19:15:45.675042Z",
     "shell.execute_reply": "2025-04-28T19:15:45.673926Z"
    },
    "papermill": {
     "duration": 0.899859,
     "end_time": "2025-04-28T19:15:45.676598",
     "exception": false,
     "start_time": "2025-04-28T19:15:44.776739",
     "status": "completed"
    },
    "tags": []
   },
   "outputs": [
    {
     "name": "stdout",
     "output_type": "stream",
     "text": [
      "Player won 19026 out of 50000 games (win rate = 38.1%)\n"
     ]
    }
   ],
   "source": [
    "def should_hit(dealer_total, player_total, player_low_aces, player_high_aces):\n",
    "    \"\"\"Return True if the player should hit (request another card) given the current game\n",
    "    state, or False if the player should stay.\n",
    "    When calculating a hand's total value, we count aces as \"high\" (with value 11) if doing so\n",
    "    doesn't bring the total above 21, otherwise we count them as low (with value 1). \n",
    "    For example, if the player's hand is {A, A, A, 7}, we will count it as 11 + 1 + 1 + 7,\n",
    "    and therefore set player_total=20, player_low_aces=2, player_high_aces=1.\n",
    "    \"\"\"\n",
    "    return False\n",
    "\n",
    "q7.simulate(n_games=50000)"
   ]
  },
  {
   "cell_type": "markdown",
   "id": "d7b67a79",
   "metadata": {
    "papermill": {
     "duration": 0.011083,
     "end_time": "2025-04-28T19:15:45.696345",
     "exception": false,
     "start_time": "2025-04-28T19:15:45.685262",
     "status": "completed"
    },
    "tags": []
   },
   "source": [
    "# Keep Going\n",
    "\n",
    "Learn about **[lists and tuples](https://www.kaggle.com/colinmorris/lists)** to handle multiple items of data in a systematic way."
   ]
  },
  {
   "cell_type": "markdown",
   "id": "3ec621c9",
   "metadata": {
    "papermill": {
     "duration": 0.008705,
     "end_time": "2025-04-28T19:15:45.714308",
     "exception": false,
     "start_time": "2025-04-28T19:15:45.705603",
     "status": "completed"
    },
    "tags": []
   },
   "source": [
    "---\n",
    "\n",
    "\n",
    "\n",
    "\n",
    "*Have questions or comments? Visit the [course discussion forum](https://www.kaggle.com/learn/python/discussion) to chat with other learners.*"
   ]
  }
 ],
 "metadata": {
  "kaggle": {
   "accelerator": "none",
   "dataSources": [],
   "isGpuEnabled": false,
   "isInternetEnabled": false,
   "language": "python",
   "sourceType": "notebook"
  },
  "kernelspec": {
   "display_name": "Python 3",
   "language": "python",
   "name": "python3"
  },
  "language_info": {
   "codemirror_mode": {
    "name": "ipython",
    "version": 3
   },
   "file_extension": ".py",
   "mimetype": "text/x-python",
   "name": "python",
   "nbconvert_exporter": "python",
   "pygments_lexer": "ipython3",
   "version": "3.11.11"
  },
  "learntools_metadata": {
   "lesson_index": 2,
   "type": "exercise"
  },
  "papermill": {
   "default_parameters": {},
   "duration": 10.897926,
   "end_time": "2025-04-28T19:15:46.244800",
   "environment_variables": {},
   "exception": null,
   "input_path": "__notebook__.ipynb",
   "output_path": "__notebook__.ipynb",
   "parameters": {},
   "start_time": "2025-04-28T19:15:35.346874",
   "version": "2.6.0"
  }
 },
 "nbformat": 4,
 "nbformat_minor": 5
}
