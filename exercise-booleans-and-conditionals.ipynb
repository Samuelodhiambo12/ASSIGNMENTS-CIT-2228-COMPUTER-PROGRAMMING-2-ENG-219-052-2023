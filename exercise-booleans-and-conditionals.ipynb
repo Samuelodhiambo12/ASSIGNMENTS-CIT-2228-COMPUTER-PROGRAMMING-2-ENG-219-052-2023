{
 "cells": [
  {
   "cell_type": "markdown",
   "id": "8f0b3959",
   "metadata": {
    "papermill": {
     "duration": 0.007451,
     "end_time": "2025-04-28T19:23:04.853921",
     "exception": false,
     "start_time": "2025-04-28T19:23:04.846470",
     "status": "completed"
    },
    "tags": []
   },
   "source": [
    "**This notebook is an exercise in the [Python](https://www.kaggle.com/learn/python) course.  You can reference the tutorial at [this link](https://www.kaggle.com/colinmorris/booleans-and-conditionals).**\n",
    "\n",
    "---\n"
   ]
  },
  {
   "cell_type": "markdown",
   "id": "4ae0a8d7",
   "metadata": {
    "papermill": {
     "duration": 0.007312,
     "end_time": "2025-04-28T19:23:04.868196",
     "exception": false,
     "start_time": "2025-04-28T19:23:04.860884",
     "status": "completed"
    },
    "tags": []
   },
   "source": [
    "In this exercise, you'll put to work what you have learned about booleans and conditionals.\n",
    "\n",
    "To get started, **run the setup code below** before writing your own code (and if you leave this notebook and come back later, don't forget to run the setup code again)."
   ]
  },
  {
   "cell_type": "code",
   "execution_count": 1,
   "id": "a0e8944c",
   "metadata": {
    "execution": {
     "iopub.execute_input": "2025-04-28T19:23:04.882563Z",
     "iopub.status.busy": "2025-04-28T19:23:04.881630Z",
     "iopub.status.idle": "2025-04-28T19:23:06.861494Z",
     "shell.execute_reply": "2025-04-28T19:23:06.860389Z"
    },
    "papermill": {
     "duration": 1.988659,
     "end_time": "2025-04-28T19:23:06.863098",
     "exception": false,
     "start_time": "2025-04-28T19:23:04.874439",
     "status": "completed"
    },
    "tags": []
   },
   "outputs": [
    {
     "name": "stdout",
     "output_type": "stream",
     "text": [
      "Setup complete.\n"
     ]
    }
   ],
   "source": [
    "from learntools.core import binder; binder.bind(globals())\n",
    "from learntools.python.ex3 import *\n",
    "print('Setup complete.')"
   ]
  },
  {
   "cell_type": "markdown",
   "id": "5bdc10aa",
   "metadata": {
    "papermill": {
     "duration": 0.006064,
     "end_time": "2025-04-28T19:23:06.876413",
     "exception": false,
     "start_time": "2025-04-28T19:23:06.870349",
     "status": "completed"
    },
    "tags": []
   },
   "source": [
    "# 1.\n",
    "\n",
    "Many programming languages have [`sign`](https://en.wikipedia.org/wiki/Sign_function) available as a built-in function. Python doesn't, but we can define our own!\n",
    "\n",
    "In the cell below, define a function called `sign` which takes a numerical argument and returns -1 if it's negative, 1 if it's positive, and 0 if it's 0."
   ]
  },
  {
   "cell_type": "code",
   "execution_count": 2,
   "id": "55709dda",
   "metadata": {
    "execution": {
     "iopub.execute_input": "2025-04-28T19:23:06.890930Z",
     "iopub.status.busy": "2025-04-28T19:23:06.889920Z",
     "iopub.status.idle": "2025-04-28T19:23:06.898871Z",
     "shell.execute_reply": "2025-04-28T19:23:06.898070Z"
    },
    "papermill": {
     "duration": 0.017519,
     "end_time": "2025-04-28T19:23:06.900266",
     "exception": false,
     "start_time": "2025-04-28T19:23:06.882747",
     "status": "completed"
    },
    "tags": []
   },
   "outputs": [
    {
     "data": {
      "application/javascript": [
       "parent.postMessage({\"jupyterEvent\": \"custom.exercise_interaction\", \"data\": {\"outcomeType\": 1, \"valueTowardsCompletion\": 0.2, \"interactionType\": 1, \"questionType\": 2, \"questionId\": \"1_SignFunctionProblem\", \"learnToolsVersion\": \"0.3.5\", \"failureMessage\": \"\", \"exceptionClass\": \"\", \"trace\": \"\"}}, \"*\")"
      ],
      "text/plain": [
       "<IPython.core.display.Javascript object>"
      ]
     },
     "metadata": {},
     "output_type": "display_data"
    },
    {
     "data": {
      "text/markdown": [
       "<span style=\"color:#33cc33\">Correct</span>"
      ],
      "text/plain": [
       "Correct"
      ]
     },
     "metadata": {},
     "output_type": "display_data"
    }
   ],
   "source": [
    "def sign(y):\n",
    " if y > 0:\n",
    "     return 1\n",
    " elif y< 0:\n",
    "     return -1\n",
    " else:\n",
    "     return 0\n",
    "\n",
    "# Check your answer\n",
    "q1.check()"
   ]
  },
  {
   "cell_type": "code",
   "execution_count": 3,
   "id": "ec3ba51c",
   "metadata": {
    "execution": {
     "iopub.execute_input": "2025-04-28T19:23:06.916485Z",
     "iopub.status.busy": "2025-04-28T19:23:06.915705Z",
     "iopub.status.idle": "2025-04-28T19:23:06.920349Z",
     "shell.execute_reply": "2025-04-28T19:23:06.919434Z"
    },
    "papermill": {
     "duration": 0.014484,
     "end_time": "2025-04-28T19:23:06.921765",
     "exception": false,
     "start_time": "2025-04-28T19:23:06.907281",
     "status": "completed"
    },
    "tags": []
   },
   "outputs": [],
   "source": [
    "#q1.solution()"
   ]
  },
  {
   "cell_type": "markdown",
   "id": "c7266725",
   "metadata": {
    "papermill": {
     "duration": 0.006206,
     "end_time": "2025-04-28T19:23:06.934485",
     "exception": false,
     "start_time": "2025-04-28T19:23:06.928279",
     "status": "completed"
    },
    "tags": []
   },
   "source": [
    "# 2.\n",
    "\n",
    "We've decided to add \"logging\" to our `to_smash` function from the previous exercise."
   ]
  },
  {
   "cell_type": "code",
   "execution_count": 4,
   "id": "e861f59d",
   "metadata": {
    "execution": {
     "iopub.execute_input": "2025-04-28T19:23:06.949190Z",
     "iopub.status.busy": "2025-04-28T19:23:06.948812Z",
     "iopub.status.idle": "2025-04-28T19:23:06.956653Z",
     "shell.execute_reply": "2025-04-28T19:23:06.955324Z"
    },
    "papermill": {
     "duration": 0.016973,
     "end_time": "2025-04-28T19:23:06.958224",
     "exception": false,
     "start_time": "2025-04-28T19:23:06.941251",
     "status": "completed"
    },
    "tags": []
   },
   "outputs": [
    {
     "name": "stdout",
     "output_type": "stream",
     "text": [
      "Splitting 91 candies\n"
     ]
    },
    {
     "data": {
      "text/plain": [
       "1"
      ]
     },
     "execution_count": 4,
     "metadata": {},
     "output_type": "execute_result"
    }
   ],
   "source": [
    "def to_smash(total_candies:91):\n",
    "    print(\"Splitting\", total_candies, \"candies\")\n",
    "    return total_candies % 3  \n",
    "\n",
    "to_smash(91)"
   ]
  },
  {
   "cell_type": "markdown",
   "id": "07414e7e",
   "metadata": {
    "papermill": {
     "duration": 0.0062,
     "end_time": "2025-04-28T19:23:06.971144",
     "exception": false,
     "start_time": "2025-04-28T19:23:06.964944",
     "status": "completed"
    },
    "tags": []
   },
   "source": [
    "What happens if we call it with `total_candies = 1`?"
   ]
  },
  {
   "cell_type": "code",
   "execution_count": 5,
   "id": "f37939c6",
   "metadata": {
    "execution": {
     "iopub.execute_input": "2025-04-28T19:23:06.985985Z",
     "iopub.status.busy": "2025-04-28T19:23:06.985672Z",
     "iopub.status.idle": "2025-04-28T19:23:06.992029Z",
     "shell.execute_reply": "2025-04-28T19:23:06.991119Z"
    },
    "papermill": {
     "duration": 0.015891,
     "end_time": "2025-04-28T19:23:06.993587",
     "exception": false,
     "start_time": "2025-04-28T19:23:06.977696",
     "status": "completed"
    },
    "tags": []
   },
   "outputs": [
    {
     "name": "stdout",
     "output_type": "stream",
     "text": [
      "Splitting 1 candies\n"
     ]
    },
    {
     "data": {
      "text/plain": [
       "1"
      ]
     },
     "execution_count": 5,
     "metadata": {},
     "output_type": "execute_result"
    }
   ],
   "source": [
    "to_smash(1)"
   ]
  },
  {
   "cell_type": "markdown",
   "id": "9d3103ee",
   "metadata": {
    "papermill": {
     "duration": 0.007535,
     "end_time": "2025-04-28T19:23:07.008797",
     "exception": false,
     "start_time": "2025-04-28T19:23:07.001262",
     "status": "completed"
    },
    "tags": []
   },
   "source": [
    "That isn't great grammar!\n",
    "\n",
    "Modify the definition in the cell below to correct the grammar of our print statement. (If there's only one candy, we should use the singular \"candy\" instead of the plural \"candies\")"
   ]
  },
  {
   "cell_type": "code",
   "execution_count": 6,
   "id": "b113dedf",
   "metadata": {
    "execution": {
     "iopub.execute_input": "2025-04-28T19:23:07.024559Z",
     "iopub.status.busy": "2025-04-28T19:23:07.024276Z",
     "iopub.status.idle": "2025-04-28T19:23:07.031084Z",
     "shell.execute_reply": "2025-04-28T19:23:07.030210Z"
    },
    "papermill": {
     "duration": 0.016173,
     "end_time": "2025-04-28T19:23:07.032662",
     "exception": false,
     "start_time": "2025-04-28T19:23:07.016489",
     "status": "completed"
    },
    "tags": []
   },
   "outputs": [
    {
     "name": "stdout",
     "output_type": "stream",
     "text": [
      "Splitting 91 candies\n",
      "Splitting  1 candy\n"
     ]
    },
    {
     "data": {
      "text/plain": [
       "1"
      ]
     },
     "execution_count": 6,
     "metadata": {},
     "output_type": "execute_result"
    }
   ],
   "source": [
    "def to_smash(total_candy:91):\n",
    "   if total_candy==1:\n",
    "       print(\"Splitting \",total_candy,\"candy\")\n",
    "   else: \n",
    "    print(\"Splitting\", total_candy, \"candies\")\n",
    "   return total_candy % 3\n",
    "\n",
    "to_smash(91)\n",
    "to_smash(1)"
   ]
  },
  {
   "cell_type": "markdown",
   "id": "903157e3",
   "metadata": {
    "papermill": {
     "duration": 0.007008,
     "end_time": "2025-04-28T19:23:07.048226",
     "exception": false,
     "start_time": "2025-04-28T19:23:07.041218",
     "status": "completed"
    },
    "tags": []
   },
   "source": [
    "To get credit for completing this problem, and to see the official answer, run the code cell below."
   ]
  },
  {
   "cell_type": "code",
   "execution_count": 7,
   "id": "c76f4498",
   "metadata": {
    "execution": {
     "iopub.execute_input": "2025-04-28T19:23:07.063938Z",
     "iopub.status.busy": "2025-04-28T19:23:07.063597Z",
     "iopub.status.idle": "2025-04-28T19:23:07.067993Z",
     "shell.execute_reply": "2025-04-28T19:23:07.067105Z"
    },
    "papermill": {
     "duration": 0.014048,
     "end_time": "2025-04-28T19:23:07.069477",
     "exception": false,
     "start_time": "2025-04-28T19:23:07.055429",
     "status": "completed"
    },
    "tags": []
   },
   "outputs": [],
   "source": [
    "#q2.solution()"
   ]
  },
  {
   "cell_type": "markdown",
   "id": "a8afa508",
   "metadata": {
    "papermill": {
     "duration": 0.007085,
     "end_time": "2025-04-28T19:23:07.085906",
     "exception": false,
     "start_time": "2025-04-28T19:23:07.078821",
     "status": "completed"
    },
    "tags": []
   },
   "source": [
    "# 3. <span title=\"A bit spicy\" style=\"color: darkgreen \">🌶️</span>\n",
    "\n",
    "In the tutorial, we talked about deciding whether we're prepared for the weather. I said that I'm safe from today's weather if...\n",
    "- I have an umbrella...\n",
    "- or if the rain isn't too heavy and I have a hood...\n",
    "- otherwise, I'm still fine unless it's raining *and* it's a workday\n",
    "\n",
    "The function below uses our first attempt at turning this logic into a Python expression. I claimed that there was a bug in that code. Can you find it?\n",
    "\n",
    "To prove that `prepared_for_weather` is buggy, come up with a set of inputs where either:\n",
    "- the function returns `False` (but should have returned `True`), or\n",
    "- the function returned `True` (but should have returned `False`).\n",
    "\n",
    "To get credit for completing this question, your code should return a <font color='#33cc33'>Correct</font> result."
   ]
  },
  {
   "cell_type": "code",
   "execution_count": 8,
   "id": "daf8d158",
   "metadata": {
    "execution": {
     "iopub.execute_input": "2025-04-28T19:23:07.100866Z",
     "iopub.status.busy": "2025-04-28T19:23:07.100536Z",
     "iopub.status.idle": "2025-04-28T19:23:07.109812Z",
     "shell.execute_reply": "2025-04-28T19:23:07.108861Z"
    },
    "papermill": {
     "duration": 0.018544,
     "end_time": "2025-04-28T19:23:07.111252",
     "exception": false,
     "start_time": "2025-04-28T19:23:07.092708",
     "status": "completed"
    },
    "tags": []
   },
   "outputs": [
    {
     "name": "stdout",
     "output_type": "stream",
     "text": [
      "False\n"
     ]
    },
    {
     "data": {
      "application/javascript": [
       "parent.postMessage({\"jupyterEvent\": \"custom.exercise_interaction\", \"data\": {\"outcomeType\": 1, \"valueTowardsCompletion\": 0.2, \"interactionType\": 1, \"questionType\": 1, \"questionId\": \"3_WeatherDebug\", \"learnToolsVersion\": \"0.3.5\", \"failureMessage\": \"\", \"exceptionClass\": \"\", \"trace\": \"\"}}, \"*\")"
      ],
      "text/plain": [
       "<IPython.core.display.Javascript object>"
      ]
     },
     "metadata": {},
     "output_type": "display_data"
    },
    {
     "data": {
      "text/markdown": [
       "<span style=\"color:#33cc33\">Correct:</span> \n",
       "\n",
       "One example of a failing test case is:\n",
       "\n",
       "```python\n",
       "have_umbrella = False\n",
       "rain_level = 0.0\n",
       "have_hood = False\n",
       "is_workday = False\n",
       "```\n",
       "\n",
       "Clearly we're prepared for the weather in this case. It's not raining. Not only that, it's not a workday, so we don't even need to leave the house! But our function will return False on these inputs.\n",
       "\n",
       "The key problem is that Python implictly parenthesizes the last part as:\n",
       "\n",
       "```python\n",
       "(not (rain_level > 0)) and is_workday\n",
       "```\n",
       "\n",
       "Whereas what we were trying to express would look more like:\n",
       "\n",
       "```python\n",
       "not (rain_level > 0 and is_workday)\n",
       "```\n"
      ],
      "text/plain": [
       "Correct: \n",
       "\n",
       "One example of a failing test case is:\n",
       "\n",
       "```python\n",
       "have_umbrella = False\n",
       "rain_level = 0.0\n",
       "have_hood = False\n",
       "is_workday = False\n",
       "```\n",
       "\n",
       "Clearly we're prepared for the weather in this case. It's not raining. Not only that, it's not a workday, so we don't even need to leave the house! But our function will return False on these inputs.\n",
       "\n",
       "The key problem is that Python implictly parenthesizes the last part as:\n",
       "\n",
       "```python\n",
       "(not (rain_level > 0)) and is_workday\n",
       "```\n",
       "\n",
       "Whereas what we were trying to express would look more like:\n",
       "\n",
       "```python\n",
       "not (rain_level > 0 and is_workday)\n",
       "```"
      ]
     },
     "metadata": {},
     "output_type": "display_data"
    }
   ],
   "source": [
    "def prepared_for_weather(have_umbrella, rain_level, have_hood, is_workday):\n",
    "    # Don't change this code. Our goal is just to find the bug, not fix it!\n",
    "    return have_umbrella or rain_level < 5 and have_hood or not rain_level >0 and is_workday\n",
    "\n",
    "# Change the values of these inputs so they represent a case where prepared_for_weather\n",
    "# returns the wrong answer.\n",
    "have_umbrella = False\n",
    "rain_level = 0\n",
    "have_hood = False\n",
    "is_workday = False \n",
    "\n",
    "# Check what the function returns given the current values of the variables above\n",
    "actual = prepared_for_weather(have_umbrella, rain_level, have_hood, is_workday)\n",
    "print(actual)\n",
    "\n",
    "# Check your answer\n",
    "q3.check()"
   ]
  },
  {
   "cell_type": "code",
   "execution_count": 9,
   "id": "da9d6c92",
   "metadata": {
    "execution": {
     "iopub.execute_input": "2025-04-28T19:23:07.126871Z",
     "iopub.status.busy": "2025-04-28T19:23:07.126542Z",
     "iopub.status.idle": "2025-04-28T19:23:07.130675Z",
     "shell.execute_reply": "2025-04-28T19:23:07.129832Z"
    },
    "papermill": {
     "duration": 0.013645,
     "end_time": "2025-04-28T19:23:07.132199",
     "exception": false,
     "start_time": "2025-04-28T19:23:07.118554",
     "status": "completed"
    },
    "tags": []
   },
   "outputs": [],
   "source": [
    "#q3.hint()\n",
    "#q3.solution()"
   ]
  },
  {
   "cell_type": "markdown",
   "id": "f3d92692",
   "metadata": {
    "papermill": {
     "duration": 0.006846,
     "end_time": "2025-04-28T19:23:07.146390",
     "exception": false,
     "start_time": "2025-04-28T19:23:07.139544",
     "status": "completed"
    },
    "tags": []
   },
   "source": [
    "# 4.\n",
    "\n",
    "The function `is_negative` below is implemented correctly - it returns True if the given number is negative and False otherwise.\n",
    "\n",
    "However, it's more verbose than it needs to be. We can actually reduce the number of lines of code in this function by *75%* while keeping the same behaviour. \n",
    "\n",
    "See if you can come up with an equivalent body that uses just **one line** of code, and put it in the function `concise_is_negative`. (HINT: you don't even need Python's ternary syntax)"
   ]
  },
  {
   "cell_type": "code",
   "execution_count": 10,
   "id": "4202112d",
   "metadata": {
    "execution": {
     "iopub.execute_input": "2025-04-28T19:23:07.161637Z",
     "iopub.status.busy": "2025-04-28T19:23:07.161336Z",
     "iopub.status.idle": "2025-04-28T19:23:07.168847Z",
     "shell.execute_reply": "2025-04-28T19:23:07.168155Z"
    },
    "papermill": {
     "duration": 0.016901,
     "end_time": "2025-04-28T19:23:07.170255",
     "exception": false,
     "start_time": "2025-04-28T19:23:07.153354",
     "status": "completed"
    },
    "tags": []
   },
   "outputs": [
    {
     "data": {
      "application/javascript": [
       "parent.postMessage({\"jupyterEvent\": \"custom.exercise_interaction\", \"data\": {\"outcomeType\": 1, \"valueTowardsCompletion\": 0.2, \"interactionType\": 1, \"questionType\": 2, \"questionId\": \"4_ConciseIsNegative\", \"learnToolsVersion\": \"0.3.5\", \"failureMessage\": \"\", \"exceptionClass\": \"\", \"trace\": \"\"}}, \"*\")"
      ],
      "text/plain": [
       "<IPython.core.display.Javascript object>"
      ]
     },
     "metadata": {},
     "output_type": "display_data"
    },
    {
     "data": {
      "text/markdown": [
       "<span style=\"color:#33cc33\">Correct</span>"
      ],
      "text/plain": [
       "Correct"
      ]
     },
     "metadata": {},
     "output_type": "display_data"
    }
   ],
   "source": [
    "def is_negative(number):\n",
    "        if number<0:\n",
    "          return True\n",
    "        else:\n",
    "         return False\n",
    "       \n",
    "def concise_is_negative(number):\n",
    "    return number<0\n",
    "    pass # Your code goes here (try to keep it to one line!)\n",
    "\n",
    "# Check your answer\n",
    "q4.check()"
   ]
  },
  {
   "cell_type": "code",
   "execution_count": 11,
   "id": "99676806",
   "metadata": {
    "execution": {
     "iopub.execute_input": "2025-04-28T19:23:07.186428Z",
     "iopub.status.busy": "2025-04-28T19:23:07.186095Z",
     "iopub.status.idle": "2025-04-28T19:23:07.190170Z",
     "shell.execute_reply": "2025-04-28T19:23:07.189277Z"
    },
    "papermill": {
     "duration": 0.014019,
     "end_time": "2025-04-28T19:23:07.191751",
     "exception": false,
     "start_time": "2025-04-28T19:23:07.177732",
     "status": "completed"
    },
    "tags": []
   },
   "outputs": [],
   "source": [
    "#q4.hint()\n",
    "#q4.solution()"
   ]
  },
  {
   "cell_type": "markdown",
   "id": "00ec6d4f",
   "metadata": {
    "papermill": {
     "duration": 0.00701,
     "end_time": "2025-04-28T19:23:07.206667",
     "exception": false,
     "start_time": "2025-04-28T19:23:07.199657",
     "status": "completed"
    },
    "tags": []
   },
   "source": [
    "# 5a.\n",
    "\n",
    "The boolean variables `ketchup`, `mustard` and `onion` represent whether a customer wants a particular topping on their hot dog. We want to implement a number of boolean functions that correspond to some yes-or-no questions about the customer's order. For example:"
   ]
  },
  {
   "cell_type": "code",
   "execution_count": 12,
   "id": "62af2661",
   "metadata": {
    "execution": {
     "iopub.execute_input": "2025-04-28T19:23:07.222854Z",
     "iopub.status.busy": "2025-04-28T19:23:07.222550Z",
     "iopub.status.idle": "2025-04-28T19:23:07.227244Z",
     "shell.execute_reply": "2025-04-28T19:23:07.226326Z"
    },
    "papermill": {
     "duration": 0.014468,
     "end_time": "2025-04-28T19:23:07.228769",
     "exception": false,
     "start_time": "2025-04-28T19:23:07.214301",
     "status": "completed"
    },
    "tags": []
   },
   "outputs": [],
   "source": [
    "def onionless(ketchup, mustard, onion):\n",
    "    \"\"\"Return whether the customer doesn't want onions.\n",
    "    \"\"\"\n",
    "    return not onion"
   ]
  },
  {
   "cell_type": "code",
   "execution_count": 13,
   "id": "4d869365",
   "metadata": {
    "execution": {
     "iopub.execute_input": "2025-04-28T19:23:07.313652Z",
     "iopub.status.busy": "2025-04-28T19:23:07.313355Z",
     "iopub.status.idle": "2025-04-28T19:23:07.321965Z",
     "shell.execute_reply": "2025-04-28T19:23:07.321093Z"
    },
    "papermill": {
     "duration": 0.019987,
     "end_time": "2025-04-28T19:23:07.323481",
     "exception": false,
     "start_time": "2025-04-28T19:23:07.303494",
     "status": "completed"
    },
    "tags": []
   },
   "outputs": [
    {
     "data": {
      "application/javascript": [
       "parent.postMessage({\"jupyterEvent\": \"custom.exercise_interaction\", \"data\": {\"outcomeType\": 1, \"valueTowardsCompletion\": 0.2, \"interactionType\": 1, \"questionType\": 2, \"questionId\": \"5.1_AllToppings\", \"learnToolsVersion\": \"0.3.5\", \"failureMessage\": \"\", \"exceptionClass\": \"\", \"trace\": \"\"}}, \"*\")"
      ],
      "text/plain": [
       "<IPython.core.display.Javascript object>"
      ]
     },
     "metadata": {},
     "output_type": "display_data"
    },
    {
     "data": {
      "text/markdown": [
       "<span style=\"color:#33cc33\">Correct</span>"
      ],
      "text/plain": [
       "Correct"
      ]
     },
     "metadata": {},
     "output_type": "display_data"
    }
   ],
   "source": [
    "def wants_all_toppings(ketchup, mustard, onion):\n",
    "    \"\"\"Return whether the customer wants \"the works\" (all 3 toppings)\n",
    "    \"\"\"\n",
    "    return (ketchup and mustard and onion)\n",
    "    pass\n",
    "\n",
    "# Check your answer\n",
    "q5.a.check()"
   ]
  },
  {
   "cell_type": "code",
   "execution_count": 14,
   "id": "925bccc5",
   "metadata": {
    "execution": {
     "iopub.execute_input": "2025-04-28T19:23:07.340477Z",
     "iopub.status.busy": "2025-04-28T19:23:07.340169Z",
     "iopub.status.idle": "2025-04-28T19:23:07.344215Z",
     "shell.execute_reply": "2025-04-28T19:23:07.343279Z"
    },
    "papermill": {
     "duration": 0.014398,
     "end_time": "2025-04-28T19:23:07.345755",
     "exception": false,
     "start_time": "2025-04-28T19:23:07.331357",
     "status": "completed"
    },
    "tags": []
   },
   "outputs": [],
   "source": [
    "#q5.a.hint()\n",
    "#q5.a.solution()"
   ]
  },
  {
   "cell_type": "markdown",
   "id": "4c689884",
   "metadata": {
    "papermill": {
     "duration": 0.007937,
     "end_time": "2025-04-28T19:23:07.362151",
     "exception": false,
     "start_time": "2025-04-28T19:23:07.354214",
     "status": "completed"
    },
    "tags": []
   },
   "source": [
    "# 5b.\n",
    "\n",
    "For the next function, fill in the body to match the English description in the docstring. "
   ]
  },
  {
   "cell_type": "code",
   "execution_count": 15,
   "id": "b9ff5a64",
   "metadata": {
    "execution": {
     "iopub.execute_input": "2025-04-28T19:23:07.379202Z",
     "iopub.status.busy": "2025-04-28T19:23:07.378873Z",
     "iopub.status.idle": "2025-04-28T19:23:07.386871Z",
     "shell.execute_reply": "2025-04-28T19:23:07.385635Z"
    },
    "papermill": {
     "duration": 0.019124,
     "end_time": "2025-04-28T19:23:07.388840",
     "exception": false,
     "start_time": "2025-04-28T19:23:07.369716",
     "status": "completed"
    },
    "tags": []
   },
   "outputs": [
    {
     "data": {
      "application/javascript": [
       "parent.postMessage({\"jupyterEvent\": \"custom.exercise_interaction\", \"data\": {\"outcomeType\": 1, \"valueTowardsCompletion\": 0.2, \"interactionType\": 1, \"questionType\": 2, \"questionId\": \"5.2_PlainDog\", \"learnToolsVersion\": \"0.3.5\", \"failureMessage\": \"\", \"exceptionClass\": \"\", \"trace\": \"\"}}, \"*\")"
      ],
      "text/plain": [
       "<IPython.core.display.Javascript object>"
      ]
     },
     "metadata": {},
     "output_type": "display_data"
    },
    {
     "data": {
      "text/markdown": [
       "<span style=\"color:#33cc33\">Correct:</span> \n",
       "\n",
       "One solution looks like:\n",
       "```python\n",
       "return not ketchup and not mustard and not onion\n",
       "```\n",
       "\n",
       "We can also [\"factor out\" the nots](https://en.wikipedia.org/wiki/De_Morgan%27s_laws) to get:\n",
       "\n",
       "```python\n",
       "return not (ketchup or mustard or onion)\n",
       "```"
      ],
      "text/plain": [
       "Correct: \n",
       "\n",
       "One solution looks like:\n",
       "```python\n",
       "return not ketchup and not mustard and not onion\n",
       "```\n",
       "\n",
       "We can also [\"factor out\" the nots](https://en.wikipedia.org/wiki/De_Morgan%27s_laws) to get:\n",
       "\n",
       "```python\n",
       "return not (ketchup or mustard or onion)\n",
       "```"
      ]
     },
     "metadata": {},
     "output_type": "display_data"
    }
   ],
   "source": [
    "def wants_plain_hotdog(ketchup, mustard, onion):\n",
    "    \"\"\"Return whether the customer wants a plain hot dog with no toppings.\n",
    "    \"\"\"\n",
    "    return not ( ketchup or mustard or  onion)\n",
    "    pass\n",
    "\n",
    "# Check your answer\n",
    "q5.b.check()"
   ]
  },
  {
   "cell_type": "code",
   "execution_count": 16,
   "id": "7fa95e72",
   "metadata": {
    "execution": {
     "iopub.execute_input": "2025-04-28T19:23:07.406884Z",
     "iopub.status.busy": "2025-04-28T19:23:07.406591Z",
     "iopub.status.idle": "2025-04-28T19:23:07.410628Z",
     "shell.execute_reply": "2025-04-28T19:23:07.409713Z"
    },
    "papermill": {
     "duration": 0.015192,
     "end_time": "2025-04-28T19:23:07.412434",
     "exception": false,
     "start_time": "2025-04-28T19:23:07.397242",
     "status": "completed"
    },
    "tags": []
   },
   "outputs": [],
   "source": [
    "#q5.b.hint()\n",
    "#q5.b.solution()"
   ]
  },
  {
   "cell_type": "markdown",
   "id": "60babe78",
   "metadata": {
    "papermill": {
     "duration": 0.007551,
     "end_time": "2025-04-28T19:23:07.428099",
     "exception": false,
     "start_time": "2025-04-28T19:23:07.420548",
     "status": "completed"
    },
    "tags": []
   },
   "source": [
    "# 5c.\n",
    "\n",
    "You know what to do: for the next function, fill in the body to match the English description in the docstring."
   ]
  },
  {
   "cell_type": "code",
   "execution_count": 17,
   "id": "bc1665f4",
   "metadata": {
    "execution": {
     "iopub.execute_input": "2025-04-28T19:23:07.444991Z",
     "iopub.status.busy": "2025-04-28T19:23:07.444652Z",
     "iopub.status.idle": "2025-04-28T19:23:07.452898Z",
     "shell.execute_reply": "2025-04-28T19:23:07.452080Z"
    },
    "papermill": {
     "duration": 0.0186,
     "end_time": "2025-04-28T19:23:07.454537",
     "exception": false,
     "start_time": "2025-04-28T19:23:07.435937",
     "status": "completed"
    },
    "tags": []
   },
   "outputs": [
    {
     "data": {
      "application/javascript": [
       "parent.postMessage({\"jupyterEvent\": \"custom.exercise_interaction\", \"data\": {\"outcomeType\": 1, \"valueTowardsCompletion\": 0.2, \"interactionType\": 1, \"questionType\": 2, \"questionId\": \"5.3_OneSauce\", \"learnToolsVersion\": \"0.3.5\", \"failureMessage\": \"\", \"exceptionClass\": \"\", \"trace\": \"\"}}, \"*\")"
      ],
      "text/plain": [
       "<IPython.core.display.Javascript object>"
      ]
     },
     "metadata": {},
     "output_type": "display_data"
    },
    {
     "data": {
      "text/markdown": [
       "<span style=\"color:#33cc33\">Correct</span>"
      ],
      "text/plain": [
       "Correct"
      ]
     },
     "metadata": {},
     "output_type": "display_data"
    }
   ],
   "source": [
    "def exactly_one_sauce(ketchup, mustard, onion):\n",
    "    \"\"\"Return whether the customer wants either ketchup or mustard, but not both.\n",
    "    (You may be familiar with this operation under the name \"exclusive or\")\n",
    "    \"\"\"\n",
    "    return (ketchup and not mustard ) or (mustard and not ketchup )\n",
    "    pass\n",
    "\n",
    "# Check your answer\n",
    "q5.c.check()"
   ]
  },
  {
   "cell_type": "code",
   "execution_count": 18,
   "id": "22fb18db",
   "metadata": {
    "execution": {
     "iopub.execute_input": "2025-04-28T19:23:07.473299Z",
     "iopub.status.busy": "2025-04-28T19:23:07.472948Z",
     "iopub.status.idle": "2025-04-28T19:23:07.477258Z",
     "shell.execute_reply": "2025-04-28T19:23:07.476316Z"
    },
    "papermill": {
     "duration": 0.016054,
     "end_time": "2025-04-28T19:23:07.478796",
     "exception": false,
     "start_time": "2025-04-28T19:23:07.462742",
     "status": "completed"
    },
    "tags": []
   },
   "outputs": [],
   "source": [
    "#q5.c.hint()\n",
    "#q5.c.solution()"
   ]
  },
  {
   "cell_type": "markdown",
   "id": "3bb12d17",
   "metadata": {
    "papermill": {
     "duration": 0.007939,
     "end_time": "2025-04-28T19:23:07.495450",
     "exception": false,
     "start_time": "2025-04-28T19:23:07.487511",
     "status": "completed"
    },
    "tags": []
   },
   "source": [
    "# 6. <span title=\"A bit spicy\" style=\"color: darkgreen \">🌶️</span>\n",
    "\n",
    "We’ve seen that calling `bool()` on an integer returns `False` if it’s equal to 0 and `True` otherwise. What happens if we call `int()` on a bool? Try it out in the notebook cell below.\n",
    "\n",
    "Can you take advantage of this to write a succinct function that corresponds to the English sentence \"does the customer want exactly one topping?\"?"
   ]
  },
  {
   "cell_type": "code",
   "execution_count": 19,
   "id": "cc09728b",
   "metadata": {
    "execution": {
     "iopub.execute_input": "2025-04-28T19:23:07.512949Z",
     "iopub.status.busy": "2025-04-28T19:23:07.512648Z",
     "iopub.status.idle": "2025-04-28T19:23:07.520906Z",
     "shell.execute_reply": "2025-04-28T19:23:07.520128Z"
    },
    "papermill": {
     "duration": 0.019151,
     "end_time": "2025-04-28T19:23:07.522569",
     "exception": false,
     "start_time": "2025-04-28T19:23:07.503418",
     "status": "completed"
    },
    "tags": []
   },
   "outputs": [
    {
     "data": {
      "application/javascript": [
       "parent.postMessage({\"jupyterEvent\": \"custom.exercise_interaction\", \"data\": {\"outcomeType\": 1, \"valueTowardsCompletion\": 0.2, \"interactionType\": 1, \"questionType\": 2, \"questionId\": \"6_OneTopping\", \"learnToolsVersion\": \"0.3.5\", \"failureMessage\": \"\", \"exceptionClass\": \"\", \"trace\": \"\"}}, \"*\")"
      ],
      "text/plain": [
       "<IPython.core.display.Javascript object>"
      ]
     },
     "metadata": {},
     "output_type": "display_data"
    },
    {
     "data": {
      "text/markdown": [
       "<span style=\"color:#33cc33\">Correct:</span> \n",
       "\n",
       "This condition would be pretty complicated to express using just `and`, `or` and `not`, but using boolean-to-integer conversion gives us this short solution:\n",
       "```python\n",
       "return (int(ketchup) + int(mustard) + int(onion)) == 1\n",
       "```\n",
       "\n",
       "Fun fact: we don't technically need to call `int` on the arguments. Just by doing addition with booleans, Python implicitly does the integer conversion. So we could also write...\n",
       "\n",
       "```python\n",
       "return (ketchup + mustard + onion) == 1\n",
       "```"
      ],
      "text/plain": [
       "Correct: \n",
       "\n",
       "This condition would be pretty complicated to express using just `and`, `or` and `not`, but using boolean-to-integer conversion gives us this short solution:\n",
       "```python\n",
       "return (int(ketchup) + int(mustard) + int(onion)) == 1\n",
       "```\n",
       "\n",
       "Fun fact: we don't technically need to call `int` on the arguments. Just by doing addition with booleans, Python implicitly does the integer conversion. So we could also write...\n",
       "\n",
       "```python\n",
       "return (ketchup + mustard + onion) == 1\n",
       "```"
      ]
     },
     "metadata": {},
     "output_type": "display_data"
    }
   ],
   "source": [
    "def exactly_one_topping(ketchup, mustard, onion):\n",
    "    \"\"\"Return whether the customer wants exactly one of the three available toppings\n",
    "    on their hot dog.\n",
    "    \"\"\"\n",
    "    return (ketchup and not mustard and not onion) or (mustard and not ketchup and not onion) or (onion and not ketchup and not mustard )\n",
    "    pass\n",
    "\n",
    "# Check your answer\n",
    "q6.check()"
   ]
  },
  {
   "cell_type": "code",
   "execution_count": 20,
   "id": "e6131124",
   "metadata": {
    "execution": {
     "iopub.execute_input": "2025-04-28T19:23:07.542810Z",
     "iopub.status.busy": "2025-04-28T19:23:07.542464Z",
     "iopub.status.idle": "2025-04-28T19:23:07.546570Z",
     "shell.execute_reply": "2025-04-28T19:23:07.545487Z"
    },
    "papermill": {
     "duration": 0.016203,
     "end_time": "2025-04-28T19:23:07.548218",
     "exception": false,
     "start_time": "2025-04-28T19:23:07.532015",
     "status": "completed"
    },
    "tags": []
   },
   "outputs": [],
   "source": [
    "#q6.hint()\n",
    "#q6.solution()"
   ]
  },
  {
   "cell_type": "markdown",
   "id": "ee42aa88",
   "metadata": {
    "papermill": {
     "duration": 0.0082,
     "end_time": "2025-04-28T19:23:07.564706",
     "exception": false,
     "start_time": "2025-04-28T19:23:07.556506",
     "status": "completed"
    },
    "tags": []
   },
   "source": [
    "# 7. <span title=\"A bit spicy\" style=\"color: darkgreen \">🌶️</span> (Optional)\n",
    "\n",
    "In this problem we'll be working with a simplified version of [blackjack](https://en.wikipedia.org/wiki/Blackjack) (aka twenty-one). In this version there is one player (who you'll control) and a dealer. Play proceeds as follows:\n",
    "\n",
    "- The player is dealt two face-up cards. The dealer is dealt one face-up card.\n",
    "- The player may ask to be dealt another card ('hit') as many times as they wish. If the sum of their cards exceeds 21, they lose the round immediately.\n",
    "- The dealer then deals additional cards to himself until either:\n",
    "    - the sum of the dealer's cards exceeds 21, in which case the player wins the round\n",
    "    - the sum of the dealer's cards is greater than or equal to 17. If the player's total is greater than the dealer's, the player wins. Otherwise, the dealer wins (even in case of a tie).\n",
    "    \n",
    "When calculating the sum of cards, Jack, Queen, and King count for 10. Aces can count as 1 or 11 (when referring to a player's \"total\" above, we mean the largest total that can be made without exceeding 21. So e.g. A+8 = 19, A+8+8 = 17)\n",
    "\n",
    "For this problem, you'll write a function representing the player's decision-making strategy in this game. We've provided a very unintelligent implementation below:"
   ]
  },
  {
   "cell_type": "code",
   "execution_count": 21,
   "id": "45e6792b",
   "metadata": {
    "execution": {
     "iopub.execute_input": "2025-04-28T19:23:07.582484Z",
     "iopub.status.busy": "2025-04-28T19:23:07.582156Z",
     "iopub.status.idle": "2025-04-28T19:23:07.586933Z",
     "shell.execute_reply": "2025-04-28T19:23:07.585990Z"
    },
    "papermill": {
     "duration": 0.015629,
     "end_time": "2025-04-28T19:23:07.588487",
     "exception": false,
     "start_time": "2025-04-28T19:23:07.572858",
     "status": "completed"
    },
    "tags": []
   },
   "outputs": [],
   "source": [
    "def should_hit(dealer_total, player_total, player_low_aces, player_high_aces):\n",
    "    \"\"\"Return True if the player should hit (request another card) given the current game\n",
    "    state, or False if the player should stay.\n",
    "    When calculating a hand's total value, we count aces as \"high\" (with value 11) if doing so\n",
    "    doesn't bring the total above 21, otherwise we count them as low (with value 1). \n",
    "    For example, if the player's hand is {A, A, A, 7}, we will count it as 11 + 1 + 1 + 7,\n",
    "    and therefore set player_total=20, player_low_aces=2, player_high_aces=1.\n",
    "    \"\"\"\n",
    "    return False"
   ]
  },
  {
   "cell_type": "markdown",
   "id": "b49807c6",
   "metadata": {
    "papermill": {
     "duration": 0.007925,
     "end_time": "2025-04-28T19:23:07.604768",
     "exception": false,
     "start_time": "2025-04-28T19:23:07.596843",
     "status": "completed"
    },
    "tags": []
   },
   "source": [
    "This very conservative agent *always* sticks with the hand of two cards that they're dealt.\n",
    "\n",
    "We'll be simulating games between your player agent and our own dealer agent by calling your function.\n",
    "\n",
    "Try running the function below to see an example of a simulated game:"
   ]
  },
  {
   "cell_type": "code",
   "execution_count": 22,
   "id": "93f5c077",
   "metadata": {
    "execution": {
     "iopub.execute_input": "2025-04-28T19:23:07.622231Z",
     "iopub.status.busy": "2025-04-28T19:23:07.621906Z",
     "iopub.status.idle": "2025-04-28T19:23:07.628188Z",
     "shell.execute_reply": "2025-04-28T19:23:07.626181Z"
    },
    "papermill": {
     "duration": 0.017448,
     "end_time": "2025-04-28T19:23:07.630302",
     "exception": false,
     "start_time": "2025-04-28T19:23:07.612854",
     "status": "completed"
    },
    "tags": []
   },
   "outputs": [
    {
     "name": "stdout",
     "output_type": "stream",
     "text": [
      "Player starts with 5 and 6 (total = 11)\n",
      "Dealer starts with J\n",
      "\n",
      "__Player's turn__\n",
      "Player stays\n",
      "\n",
      "__Dealer's turn__\n",
      "Dealer hits and receives 10. (total = 20)\n",
      "Dealer stands.\n",
      "Dealer wins. 20 >= 11\n"
     ]
    }
   ],
   "source": [
    "q7.simulate_one_game()"
   ]
  },
  {
   "cell_type": "markdown",
   "id": "ac42f8f6",
   "metadata": {
    "papermill": {
     "duration": 0.010042,
     "end_time": "2025-04-28T19:23:07.648966",
     "exception": false,
     "start_time": "2025-04-28T19:23:07.638924",
     "status": "completed"
    },
    "tags": []
   },
   "source": [
    "The real test of your agent's mettle is their average win rate over many games. Try calling the function below to simulate 50000 games of blackjack (it may take a couple seconds):"
   ]
  },
  {
   "cell_type": "code",
   "execution_count": 23,
   "id": "56269bc8",
   "metadata": {
    "execution": {
     "iopub.execute_input": "2025-04-28T19:23:07.667641Z",
     "iopub.status.busy": "2025-04-28T19:23:07.666918Z",
     "iopub.status.idle": "2025-04-28T19:23:08.544191Z",
     "shell.execute_reply": "2025-04-28T19:23:08.543125Z"
    },
    "papermill": {
     "duration": 0.887746,
     "end_time": "2025-04-28T19:23:08.545576",
     "exception": false,
     "start_time": "2025-04-28T19:23:07.657830",
     "status": "completed"
    },
    "tags": []
   },
   "outputs": [
    {
     "name": "stdout",
     "output_type": "stream",
     "text": [
      "Player won 18967 out of 50000 games (win rate = 37.9%)\n"
     ]
    }
   ],
   "source": [
    "q7.simulate(n_games=50000)"
   ]
  },
  {
   "cell_type": "markdown",
   "id": "bd18d6b2",
   "metadata": {
    "papermill": {
     "duration": 0.007854,
     "end_time": "2025-04-28T19:23:08.561935",
     "exception": false,
     "start_time": "2025-04-28T19:23:08.554081",
     "status": "completed"
    },
    "tags": []
   },
   "source": [
    "Our dumb agent that completely ignores the game state still manages to win shockingly often!\n",
    "\n",
    "Try adding some more smarts to the `should_hit` function and see how it affects the results."
   ]
  },
  {
   "cell_type": "code",
   "execution_count": 24,
   "id": "1aa528dd",
   "metadata": {
    "execution": {
     "iopub.execute_input": "2025-04-28T19:23:08.580020Z",
     "iopub.status.busy": "2025-04-28T19:23:08.579717Z",
     "iopub.status.idle": "2025-04-28T19:23:09.431537Z",
     "shell.execute_reply": "2025-04-28T19:23:09.430759Z"
    },
    "papermill": {
     "duration": 0.862771,
     "end_time": "2025-04-28T19:23:09.433294",
     "exception": false,
     "start_time": "2025-04-28T19:23:08.570523",
     "status": "completed"
    },
    "tags": []
   },
   "outputs": [
    {
     "name": "stdout",
     "output_type": "stream",
     "text": [
      "Player won 19001 out of 50000 games (win rate = 38.0%)\n"
     ]
    }
   ],
   "source": [
    "def should_hit(dealer_total, player_total, player_low_aces, player_high_aces):\n",
    "    \"\"\"Return True if the player should hit (request another card) given the current game\n",
    "    state, or False if the player should stay.\n",
    "    When calculating a hand's total value, we count aces as \"high\" (with value 11) if doing so\n",
    "    doesn't bring the total above 21, otherwise we count them as low (with value 1). \n",
    "    For example, if the player's hand is {A, A, A, 7}, we will count it as 11 + 1 + 1 + 7,\n",
    "    and therefore set player_total=20, player_low_aces=2, player_high_aces=1.\n",
    "    \"\"\"\n",
    "    return False\n",
    "\n",
    "q7.simulate(n_games=50000)"
   ]
  },
  {
   "cell_type": "markdown",
   "id": "57f8b6b7",
   "metadata": {
    "papermill": {
     "duration": 0.007856,
     "end_time": "2025-04-28T19:23:09.450786",
     "exception": false,
     "start_time": "2025-04-28T19:23:09.442930",
     "status": "completed"
    },
    "tags": []
   },
   "source": [
    "# Keep Going\n",
    "\n",
    "Learn about **[lists and tuples](https://www.kaggle.com/colinmorris/lists)** to handle multiple items of data in a systematic way."
   ]
  },
  {
   "cell_type": "markdown",
   "id": "5aea91b6",
   "metadata": {
    "papermill": {
     "duration": 0.007701,
     "end_time": "2025-04-28T19:23:09.466503",
     "exception": false,
     "start_time": "2025-04-28T19:23:09.458802",
     "status": "completed"
    },
    "tags": []
   },
   "source": [
    "---\n",
    "\n",
    "\n",
    "\n",
    "\n",
    "*Have questions or comments? Visit the [course discussion forum](https://www.kaggle.com/learn/python/discussion) to chat with other learners.*"
   ]
  }
 ],
 "metadata": {
  "kaggle": {
   "accelerator": "none",
   "dataSources": [],
   "isGpuEnabled": false,
   "isInternetEnabled": false,
   "language": "python",
   "sourceType": "notebook"
  },
  "kernelspec": {
   "display_name": "Python 3",
   "language": "python",
   "name": "python3"
  },
  "language_info": {
   "codemirror_mode": {
    "name": "ipython",
    "version": 3
   },
   "file_extension": ".py",
   "mimetype": "text/x-python",
   "name": "python",
   "nbconvert_exporter": "python",
   "pygments_lexer": "ipython3",
   "version": "3.11.11"
  },
  "learntools_metadata": {
   "lesson_index": 2,
   "type": "exercise"
  },
  "papermill": {
   "default_parameters": {},
   "duration": 11.3476,
   "end_time": "2025-04-28T19:23:09.995507",
   "environment_variables": {},
   "exception": null,
   "input_path": "__notebook__.ipynb",
   "output_path": "__notebook__.ipynb",
   "parameters": {},
   "start_time": "2025-04-28T19:22:58.647907",
   "version": "2.6.0"
  }
 },
 "nbformat": 4,
 "nbformat_minor": 5
}
