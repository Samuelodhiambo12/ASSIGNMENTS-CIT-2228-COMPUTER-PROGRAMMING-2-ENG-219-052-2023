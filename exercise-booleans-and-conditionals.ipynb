{
 "cells": [
  {
   "cell_type": "markdown",
   "id": "a9ebb035",
   "metadata": {
    "papermill": {
     "duration": 0.007438,
     "end_time": "2025-04-28T19:28:14.865890",
     "exception": false,
     "start_time": "2025-04-28T19:28:14.858452",
     "status": "completed"
    },
    "tags": []
   },
   "source": [
    "**This notebook is an exercise in the [Python](https://www.kaggle.com/learn/python) course.  You can reference the tutorial at [this link](https://www.kaggle.com/colinmorris/booleans-and-conditionals).**\n",
    "\n",
    "---\n"
   ]
  },
  {
   "cell_type": "markdown",
   "id": "abe7be82",
   "metadata": {
    "papermill": {
     "duration": 0.00765,
     "end_time": "2025-04-28T19:28:14.881167",
     "exception": false,
     "start_time": "2025-04-28T19:28:14.873517",
     "status": "completed"
    },
    "tags": []
   },
   "source": [
    "In this exercise, you'll put to work what you have learned about booleans and conditionals.\n",
    "\n",
    "To get started, **run the setup code below** before writing your own code (and if you leave this notebook and come back later, don't forget to run the setup code again)."
   ]
  },
  {
   "cell_type": "code",
   "execution_count": 1,
   "id": "0943ee76",
   "metadata": {
    "execution": {
     "iopub.execute_input": "2025-04-28T19:28:14.896018Z",
     "iopub.status.busy": "2025-04-28T19:28:14.895692Z",
     "iopub.status.idle": "2025-04-28T19:28:16.973574Z",
     "shell.execute_reply": "2025-04-28T19:28:16.972581Z"
    },
    "papermill": {
     "duration": 2.087452,
     "end_time": "2025-04-28T19:28:16.975306",
     "exception": false,
     "start_time": "2025-04-28T19:28:14.887854",
     "status": "completed"
    },
    "tags": []
   },
   "outputs": [
    {
     "name": "stdout",
     "output_type": "stream",
     "text": [
      "Setup complete.\n"
     ]
    }
   ],
   "source": [
    "from learntools.core import binder; binder.bind(globals())\n",
    "from learntools.python.ex3 import *\n",
    "print('Setup complete.')"
   ]
  },
  {
   "cell_type": "markdown",
   "id": "87be280e",
   "metadata": {
    "papermill": {
     "duration": 0.006226,
     "end_time": "2025-04-28T19:28:16.988106",
     "exception": false,
     "start_time": "2025-04-28T19:28:16.981880",
     "status": "completed"
    },
    "tags": []
   },
   "source": [
    "# 1.\n",
    "\n",
    "Many programming languages have [`sign`](https://en.wikipedia.org/wiki/Sign_function) available as a built-in function. Python doesn't, but we can define our own!\n",
    "\n",
    "In the cell below, define a function called `sign` which takes a numerical argument and returns -1 if it's negative, 1 if it's positive, and 0 if it's 0."
   ]
  },
  {
   "cell_type": "code",
   "execution_count": 2,
   "id": "cf009495",
   "metadata": {
    "execution": {
     "iopub.execute_input": "2025-04-28T19:28:17.003249Z",
     "iopub.status.busy": "2025-04-28T19:28:17.002812Z",
     "iopub.status.idle": "2025-04-28T19:28:17.012383Z",
     "shell.execute_reply": "2025-04-28T19:28:17.011390Z"
    },
    "papermill": {
     "duration": 0.018915,
     "end_time": "2025-04-28T19:28:17.013818",
     "exception": false,
     "start_time": "2025-04-28T19:28:16.994903",
     "status": "completed"
    },
    "tags": []
   },
   "outputs": [
    {
     "data": {
      "application/javascript": [
       "parent.postMessage({\"jupyterEvent\": \"custom.exercise_interaction\", \"data\": {\"outcomeType\": 1, \"valueTowardsCompletion\": 0.2, \"interactionType\": 1, \"questionType\": 2, \"questionId\": \"1_SignFunctionProblem\", \"learnToolsVersion\": \"0.3.5\", \"failureMessage\": \"\", \"exceptionClass\": \"\", \"trace\": \"\"}}, \"*\")"
      ],
      "text/plain": [
       "<IPython.core.display.Javascript object>"
      ]
     },
     "metadata": {},
     "output_type": "display_data"
    },
    {
     "data": {
      "text/markdown": [
       "<span style=\"color:#33cc33\">Correct</span>"
      ],
      "text/plain": [
       "Correct"
      ]
     },
     "metadata": {},
     "output_type": "display_data"
    }
   ],
   "source": [
    "def sign(y):\n",
    " if y > 0:\n",
    "     return 1\n",
    " elif y< 0:\n",
    "     return -1\n",
    " else:\n",
    "     return 0\n",
    "\n",
    "# Check your answer\n",
    "q1.check()"
   ]
  },
  {
   "cell_type": "code",
   "execution_count": 3,
   "id": "3b9f9c81",
   "metadata": {
    "execution": {
     "iopub.execute_input": "2025-04-28T19:28:17.028256Z",
     "iopub.status.busy": "2025-04-28T19:28:17.027885Z",
     "iopub.status.idle": "2025-04-28T19:28:17.031829Z",
     "shell.execute_reply": "2025-04-28T19:28:17.031148Z"
    },
    "papermill": {
     "duration": 0.012731,
     "end_time": "2025-04-28T19:28:17.033217",
     "exception": false,
     "start_time": "2025-04-28T19:28:17.020486",
     "status": "completed"
    },
    "tags": []
   },
   "outputs": [],
   "source": [
    "#q1.solution()"
   ]
  },
  {
   "cell_type": "markdown",
   "id": "3fcf458d",
   "metadata": {
    "papermill": {
     "duration": 0.006124,
     "end_time": "2025-04-28T19:28:17.045895",
     "exception": false,
     "start_time": "2025-04-28T19:28:17.039771",
     "status": "completed"
    },
    "tags": []
   },
   "source": [
    "# 2.\n",
    "\n",
    "We've decided to add \"logging\" to our `to_smash` function from the previous exercise."
   ]
  },
  {
   "cell_type": "code",
   "execution_count": 4,
   "id": "8e2fe318",
   "metadata": {
    "execution": {
     "iopub.execute_input": "2025-04-28T19:28:17.062144Z",
     "iopub.status.busy": "2025-04-28T19:28:17.061208Z",
     "iopub.status.idle": "2025-04-28T19:28:17.068265Z",
     "shell.execute_reply": "2025-04-28T19:28:17.067226Z"
    },
    "papermill": {
     "duration": 0.01693,
     "end_time": "2025-04-28T19:28:17.069809",
     "exception": false,
     "start_time": "2025-04-28T19:28:17.052879",
     "status": "completed"
    },
    "tags": []
   },
   "outputs": [
    {
     "name": "stdout",
     "output_type": "stream",
     "text": [
      "Splitting 91 candies\n"
     ]
    },
    {
     "data": {
      "text/plain": [
       "1"
      ]
     },
     "execution_count": 4,
     "metadata": {},
     "output_type": "execute_result"
    }
   ],
   "source": [
    "def to_smash(total_candies:91):\n",
    "    print(\"Splitting\", total_candies, \"candies\")\n",
    "    return total_candies % 3  \n",
    "\n",
    "to_smash(91)"
   ]
  },
  {
   "cell_type": "markdown",
   "id": "67a0032f",
   "metadata": {
    "papermill": {
     "duration": 0.006322,
     "end_time": "2025-04-28T19:28:17.082867",
     "exception": false,
     "start_time": "2025-04-28T19:28:17.076545",
     "status": "completed"
    },
    "tags": []
   },
   "source": [
    "What happens if we call it with `total_candies = 1`?"
   ]
  },
  {
   "cell_type": "code",
   "execution_count": 5,
   "id": "e90f457c",
   "metadata": {
    "execution": {
     "iopub.execute_input": "2025-04-28T19:28:17.097042Z",
     "iopub.status.busy": "2025-04-28T19:28:17.096774Z",
     "iopub.status.idle": "2025-04-28T19:28:17.102811Z",
     "shell.execute_reply": "2025-04-28T19:28:17.101971Z"
    },
    "papermill": {
     "duration": 0.014751,
     "end_time": "2025-04-28T19:28:17.104171",
     "exception": false,
     "start_time": "2025-04-28T19:28:17.089420",
     "status": "completed"
    },
    "tags": []
   },
   "outputs": [
    {
     "name": "stdout",
     "output_type": "stream",
     "text": [
      "Splitting 1 candies\n"
     ]
    },
    {
     "data": {
      "text/plain": [
       "1"
      ]
     },
     "execution_count": 5,
     "metadata": {},
     "output_type": "execute_result"
    }
   ],
   "source": [
    "to_smash(1)"
   ]
  },
  {
   "cell_type": "markdown",
   "id": "186e814d",
   "metadata": {
    "papermill": {
     "duration": 0.006326,
     "end_time": "2025-04-28T19:28:17.117228",
     "exception": false,
     "start_time": "2025-04-28T19:28:17.110902",
     "status": "completed"
    },
    "tags": []
   },
   "source": [
    "That isn't great grammar!\n",
    "\n",
    "Modify the definition in the cell below to correct the grammar of our print statement. (If there's only one candy, we should use the singular \"candy\" instead of the plural \"candies\")"
   ]
  },
  {
   "cell_type": "code",
   "execution_count": 6,
   "id": "59cb9ba2",
   "metadata": {
    "execution": {
     "iopub.execute_input": "2025-04-28T19:28:17.131845Z",
     "iopub.status.busy": "2025-04-28T19:28:17.131561Z",
     "iopub.status.idle": "2025-04-28T19:28:17.138711Z",
     "shell.execute_reply": "2025-04-28T19:28:17.137866Z"
    },
    "papermill": {
     "duration": 0.016088,
     "end_time": "2025-04-28T19:28:17.140034",
     "exception": false,
     "start_time": "2025-04-28T19:28:17.123946",
     "status": "completed"
    },
    "tags": []
   },
   "outputs": [
    {
     "name": "stdout",
     "output_type": "stream",
     "text": [
      "Splitting 91 candies\n",
      "Splitting  1 candy\n"
     ]
    },
    {
     "data": {
      "text/plain": [
       "1"
      ]
     },
     "execution_count": 6,
     "metadata": {},
     "output_type": "execute_result"
    }
   ],
   "source": [
    "def to_smash(total_candy:91):\n",
    "   if total_candy==1:\n",
    "       print(\"Splitting \",total_candy,\"candy\")\n",
    "   else: \n",
    "    print(\"Splitting\", total_candy, \"candies\")\n",
    "   return total_candy % 3\n",
    "\n",
    "to_smash(91)\n",
    "to_smash(1)"
   ]
  },
  {
   "cell_type": "markdown",
   "id": "f087c3eb",
   "metadata": {
    "papermill": {
     "duration": 0.00701,
     "end_time": "2025-04-28T19:28:17.154176",
     "exception": false,
     "start_time": "2025-04-28T19:28:17.147166",
     "status": "completed"
    },
    "tags": []
   },
   "source": [
    "To get credit for completing this problem, and to see the official answer, run the code cell below."
   ]
  },
  {
   "cell_type": "code",
   "execution_count": 7,
   "id": "a1d1f8ab",
   "metadata": {
    "execution": {
     "iopub.execute_input": "2025-04-28T19:28:17.169291Z",
     "iopub.status.busy": "2025-04-28T19:28:17.168890Z",
     "iopub.status.idle": "2025-04-28T19:28:17.173384Z",
     "shell.execute_reply": "2025-04-28T19:28:17.172303Z"
    },
    "papermill": {
     "duration": 0.013917,
     "end_time": "2025-04-28T19:28:17.175145",
     "exception": false,
     "start_time": "2025-04-28T19:28:17.161228",
     "status": "completed"
    },
    "tags": []
   },
   "outputs": [],
   "source": [
    "#q2.solution()"
   ]
  },
  {
   "cell_type": "markdown",
   "id": "a2813128",
   "metadata": {
    "papermill": {
     "duration": 0.007264,
     "end_time": "2025-04-28T19:28:17.189438",
     "exception": false,
     "start_time": "2025-04-28T19:28:17.182174",
     "status": "completed"
    },
    "tags": []
   },
   "source": [
    "# 3. <span title=\"A bit spicy\" style=\"color: darkgreen \">🌶️</span>\n",
    "\n",
    "In the tutorial, we talked about deciding whether we're prepared for the weather. I said that I'm safe from today's weather if...\n",
    "- I have an umbrella...\n",
    "- or if the rain isn't too heavy and I have a hood...\n",
    "- otherwise, I'm still fine unless it's raining *and* it's a workday\n",
    "\n",
    "The function below uses our first attempt at turning this logic into a Python expression. I claimed that there was a bug in that code. Can you find it?\n",
    "\n",
    "To prove that `prepared_for_weather` is buggy, come up with a set of inputs where either:\n",
    "- the function returns `False` (but should have returned `True`), or\n",
    "- the function returned `True` (but should have returned `False`).\n",
    "\n",
    "To get credit for completing this question, your code should return a <font color='#33cc33'>Correct</font> result."
   ]
  },
  {
   "cell_type": "code",
   "execution_count": 8,
   "id": "d210c118",
   "metadata": {
    "execution": {
     "iopub.execute_input": "2025-04-28T19:28:17.204482Z",
     "iopub.status.busy": "2025-04-28T19:28:17.204166Z",
     "iopub.status.idle": "2025-04-28T19:28:17.213431Z",
     "shell.execute_reply": "2025-04-28T19:28:17.212465Z"
    },
    "papermill": {
     "duration": 0.018631,
     "end_time": "2025-04-28T19:28:17.214900",
     "exception": false,
     "start_time": "2025-04-28T19:28:17.196269",
     "status": "completed"
    },
    "tags": []
   },
   "outputs": [
    {
     "name": "stdout",
     "output_type": "stream",
     "text": [
      "False\n"
     ]
    },
    {
     "data": {
      "application/javascript": [
       "parent.postMessage({\"jupyterEvent\": \"custom.exercise_interaction\", \"data\": {\"outcomeType\": 1, \"valueTowardsCompletion\": 0.2, \"interactionType\": 1, \"questionType\": 1, \"questionId\": \"3_WeatherDebug\", \"learnToolsVersion\": \"0.3.5\", \"failureMessage\": \"\", \"exceptionClass\": \"\", \"trace\": \"\"}}, \"*\")"
      ],
      "text/plain": [
       "<IPython.core.display.Javascript object>"
      ]
     },
     "metadata": {},
     "output_type": "display_data"
    },
    {
     "data": {
      "text/markdown": [
       "<span style=\"color:#33cc33\">Correct:</span> \n",
       "\n",
       "One example of a failing test case is:\n",
       "\n",
       "```python\n",
       "have_umbrella = False\n",
       "rain_level = 0.0\n",
       "have_hood = False\n",
       "is_workday = False\n",
       "```\n",
       "\n",
       "Clearly we're prepared for the weather in this case. It's not raining. Not only that, it's not a workday, so we don't even need to leave the house! But our function will return False on these inputs.\n",
       "\n",
       "The key problem is that Python implictly parenthesizes the last part as:\n",
       "\n",
       "```python\n",
       "(not (rain_level > 0)) and is_workday\n",
       "```\n",
       "\n",
       "Whereas what we were trying to express would look more like:\n",
       "\n",
       "```python\n",
       "not (rain_level > 0 and is_workday)\n",
       "```\n"
      ],
      "text/plain": [
       "Correct: \n",
       "\n",
       "One example of a failing test case is:\n",
       "\n",
       "```python\n",
       "have_umbrella = False\n",
       "rain_level = 0.0\n",
       "have_hood = False\n",
       "is_workday = False\n",
       "```\n",
       "\n",
       "Clearly we're prepared for the weather in this case. It's not raining. Not only that, it's not a workday, so we don't even need to leave the house! But our function will return False on these inputs.\n",
       "\n",
       "The key problem is that Python implictly parenthesizes the last part as:\n",
       "\n",
       "```python\n",
       "(not (rain_level > 0)) and is_workday\n",
       "```\n",
       "\n",
       "Whereas what we were trying to express would look more like:\n",
       "\n",
       "```python\n",
       "not (rain_level > 0 and is_workday)\n",
       "```"
      ]
     },
     "metadata": {},
     "output_type": "display_data"
    }
   ],
   "source": [
    "def prepared_for_weather(have_umbrella, rain_level, have_hood, is_workday):\n",
    "    # Don't change this code. Our goal is just to find the bug, not fix it!\n",
    "    return have_umbrella or rain_level < 5 and have_hood or not rain_level >0 and is_workday\n",
    "\n",
    "# Change the values of these inputs so they represent a case where prepared_for_weather\n",
    "# returns the wrong answer.\n",
    "have_umbrella = False\n",
    "rain_level = 0\n",
    "have_hood = False\n",
    "is_workday = False \n",
    "\n",
    "# Check what the function returns given the current values of the variables above\n",
    "actual = prepared_for_weather(have_umbrella, rain_level, have_hood, is_workday)\n",
    "print(actual)\n",
    "\n",
    "# Check your answer\n",
    "q3.check()"
   ]
  },
  {
   "cell_type": "code",
   "execution_count": 9,
   "id": "110ff2ed",
   "metadata": {
    "execution": {
     "iopub.execute_input": "2025-04-28T19:28:17.231609Z",
     "iopub.status.busy": "2025-04-28T19:28:17.231130Z",
     "iopub.status.idle": "2025-04-28T19:28:17.235714Z",
     "shell.execute_reply": "2025-04-28T19:28:17.234757Z"
    },
    "papermill": {
     "duration": 0.014934,
     "end_time": "2025-04-28T19:28:17.237562",
     "exception": false,
     "start_time": "2025-04-28T19:28:17.222628",
     "status": "completed"
    },
    "tags": []
   },
   "outputs": [],
   "source": [
    "#q3.hint()\n",
    "#q3.solution()"
   ]
  },
  {
   "cell_type": "markdown",
   "id": "25b6d929",
   "metadata": {
    "papermill": {
     "duration": 0.007326,
     "end_time": "2025-04-28T19:28:17.252230",
     "exception": false,
     "start_time": "2025-04-28T19:28:17.244904",
     "status": "completed"
    },
    "tags": []
   },
   "source": [
    "# 4.\n",
    "\n",
    "The function `is_negative` below is implemented correctly - it returns True if the given number is negative and False otherwise.\n",
    "\n",
    "However, it's more verbose than it needs to be. We can actually reduce the number of lines of code in this function by *75%* while keeping the same behaviour. \n",
    "\n",
    "See if you can come up with an equivalent body that uses just **one line** of code, and put it in the function `concise_is_negative`. (HINT: you don't even need Python's ternary syntax)"
   ]
  },
  {
   "cell_type": "code",
   "execution_count": 10,
   "id": "b0603e6f",
   "metadata": {
    "execution": {
     "iopub.execute_input": "2025-04-28T19:28:17.268185Z",
     "iopub.status.busy": "2025-04-28T19:28:17.267515Z",
     "iopub.status.idle": "2025-04-28T19:28:17.275598Z",
     "shell.execute_reply": "2025-04-28T19:28:17.274618Z"
    },
    "papermill": {
     "duration": 0.018007,
     "end_time": "2025-04-28T19:28:17.277450",
     "exception": false,
     "start_time": "2025-04-28T19:28:17.259443",
     "status": "completed"
    },
    "tags": []
   },
   "outputs": [
    {
     "data": {
      "application/javascript": [
       "parent.postMessage({\"jupyterEvent\": \"custom.exercise_interaction\", \"data\": {\"outcomeType\": 1, \"valueTowardsCompletion\": 0.2, \"interactionType\": 1, \"questionType\": 2, \"questionId\": \"4_ConciseIsNegative\", \"learnToolsVersion\": \"0.3.5\", \"failureMessage\": \"\", \"exceptionClass\": \"\", \"trace\": \"\"}}, \"*\")"
      ],
      "text/plain": [
       "<IPython.core.display.Javascript object>"
      ]
     },
     "metadata": {},
     "output_type": "display_data"
    },
    {
     "data": {
      "text/markdown": [
       "<span style=\"color:#33cc33\">Correct</span>"
      ],
      "text/plain": [
       "Correct"
      ]
     },
     "metadata": {},
     "output_type": "display_data"
    }
   ],
   "source": [
    "def is_negative(number):\n",
    "        if number<0:\n",
    "          return True\n",
    "        else:\n",
    "         return False\n",
    "       \n",
    "def concise_is_negative(number):\n",
    "    return number<0\n",
    "    pass # Your code goes here (try to keep it to one line!)\n",
    "\n",
    "# Check your answer\n",
    "q4.check()"
   ]
  },
  {
   "cell_type": "code",
   "execution_count": 11,
   "id": "191a3dbc",
   "metadata": {
    "execution": {
     "iopub.execute_input": "2025-04-28T19:28:17.293427Z",
     "iopub.status.busy": "2025-04-28T19:28:17.293041Z",
     "iopub.status.idle": "2025-04-28T19:28:17.297015Z",
     "shell.execute_reply": "2025-04-28T19:28:17.296142Z"
    },
    "papermill": {
     "duration": 0.013526,
     "end_time": "2025-04-28T19:28:17.298572",
     "exception": false,
     "start_time": "2025-04-28T19:28:17.285046",
     "status": "completed"
    },
    "tags": []
   },
   "outputs": [],
   "source": [
    "#q4.hint()\n",
    "#q4.solution()"
   ]
  },
  {
   "cell_type": "markdown",
   "id": "8f9e3dd5",
   "metadata": {
    "papermill": {
     "duration": 0.006992,
     "end_time": "2025-04-28T19:28:17.313001",
     "exception": false,
     "start_time": "2025-04-28T19:28:17.306009",
     "status": "completed"
    },
    "tags": []
   },
   "source": [
    "# 5a.\n",
    "\n",
    "The boolean variables `ketchup`, `mustard` and `onion` represent whether a customer wants a particular topping on their hot dog. We want to implement a number of boolean functions that correspond to some yes-or-no questions about the customer's order. For example:"
   ]
  },
  {
   "cell_type": "code",
   "execution_count": 12,
   "id": "5a997751",
   "metadata": {
    "execution": {
     "iopub.execute_input": "2025-04-28T19:28:17.328628Z",
     "iopub.status.busy": "2025-04-28T19:28:17.328291Z",
     "iopub.status.idle": "2025-04-28T19:28:17.333047Z",
     "shell.execute_reply": "2025-04-28T19:28:17.332000Z"
    },
    "papermill": {
     "duration": 0.014557,
     "end_time": "2025-04-28T19:28:17.334771",
     "exception": false,
     "start_time": "2025-04-28T19:28:17.320214",
     "status": "completed"
    },
    "tags": []
   },
   "outputs": [],
   "source": [
    "def onionless(ketchup, mustard, onion):\n",
    "    \"\"\"Return whether the customer doesn't want onions.\n",
    "    \"\"\"\n",
    "    return not onion"
   ]
  },
  {
   "cell_type": "code",
   "execution_count": 13,
   "id": "ce6b456c",
   "metadata": {
    "execution": {
     "iopub.execute_input": "2025-04-28T19:28:17.414028Z",
     "iopub.status.busy": "2025-04-28T19:28:17.413697Z",
     "iopub.status.idle": "2025-04-28T19:28:17.421452Z",
     "shell.execute_reply": "2025-04-28T19:28:17.420389Z"
    },
    "papermill": {
     "duration": 0.017802,
     "end_time": "2025-04-28T19:28:17.423004",
     "exception": false,
     "start_time": "2025-04-28T19:28:17.405202",
     "status": "completed"
    },
    "tags": []
   },
   "outputs": [
    {
     "data": {
      "application/javascript": [
       "parent.postMessage({\"jupyterEvent\": \"custom.exercise_interaction\", \"data\": {\"outcomeType\": 1, \"valueTowardsCompletion\": 0.2, \"interactionType\": 1, \"questionType\": 2, \"questionId\": \"5.1_AllToppings\", \"learnToolsVersion\": \"0.3.5\", \"failureMessage\": \"\", \"exceptionClass\": \"\", \"trace\": \"\"}}, \"*\")"
      ],
      "text/plain": [
       "<IPython.core.display.Javascript object>"
      ]
     },
     "metadata": {},
     "output_type": "display_data"
    },
    {
     "data": {
      "text/markdown": [
       "<span style=\"color:#33cc33\">Correct</span>"
      ],
      "text/plain": [
       "Correct"
      ]
     },
     "metadata": {},
     "output_type": "display_data"
    }
   ],
   "source": [
    "def wants_all_toppings(ketchup, mustard, onion):\n",
    "    \"\"\"Return whether the customer wants \"the works\" (all 3 toppings)\n",
    "    \"\"\"\n",
    "    return (ketchup and mustard and onion)\n",
    "    pass\n",
    "\n",
    "# Check your answer\n",
    "q5.a.check()"
   ]
  },
  {
   "cell_type": "code",
   "execution_count": 14,
   "id": "fcc83c70",
   "metadata": {
    "execution": {
     "iopub.execute_input": "2025-04-28T19:28:17.439536Z",
     "iopub.status.busy": "2025-04-28T19:28:17.439195Z",
     "iopub.status.idle": "2025-04-28T19:28:17.443176Z",
     "shell.execute_reply": "2025-04-28T19:28:17.442359Z"
    },
    "papermill": {
     "duration": 0.013991,
     "end_time": "2025-04-28T19:28:17.444750",
     "exception": false,
     "start_time": "2025-04-28T19:28:17.430759",
     "status": "completed"
    },
    "tags": []
   },
   "outputs": [],
   "source": [
    "#q5.a.hint()\n",
    "#q5.a.solution()"
   ]
  },
  {
   "cell_type": "markdown",
   "id": "e4fb13cf",
   "metadata": {
    "papermill": {
     "duration": 0.007164,
     "end_time": "2025-04-28T19:28:17.459740",
     "exception": false,
     "start_time": "2025-04-28T19:28:17.452576",
     "status": "completed"
    },
    "tags": []
   },
   "source": [
    "# 5b.\n",
    "\n",
    "For the next function, fill in the body to match the English description in the docstring. "
   ]
  },
  {
   "cell_type": "code",
   "execution_count": 15,
   "id": "55f0ef5c",
   "metadata": {
    "execution": {
     "iopub.execute_input": "2025-04-28T19:28:17.476098Z",
     "iopub.status.busy": "2025-04-28T19:28:17.475740Z",
     "iopub.status.idle": "2025-04-28T19:28:17.483705Z",
     "shell.execute_reply": "2025-04-28T19:28:17.482791Z"
    },
    "papermill": {
     "duration": 0.01802,
     "end_time": "2025-04-28T19:28:17.485257",
     "exception": false,
     "start_time": "2025-04-28T19:28:17.467237",
     "status": "completed"
    },
    "tags": []
   },
   "outputs": [
    {
     "data": {
      "application/javascript": [
       "parent.postMessage({\"jupyterEvent\": \"custom.exercise_interaction\", \"data\": {\"outcomeType\": 1, \"valueTowardsCompletion\": 0.2, \"interactionType\": 1, \"questionType\": 2, \"questionId\": \"5.2_PlainDog\", \"learnToolsVersion\": \"0.3.5\", \"failureMessage\": \"\", \"exceptionClass\": \"\", \"trace\": \"\"}}, \"*\")"
      ],
      "text/plain": [
       "<IPython.core.display.Javascript object>"
      ]
     },
     "metadata": {},
     "output_type": "display_data"
    },
    {
     "data": {
      "text/markdown": [
       "<span style=\"color:#33cc33\">Correct:</span> \n",
       "\n",
       "One solution looks like:\n",
       "```python\n",
       "return not ketchup and not mustard and not onion\n",
       "```\n",
       "\n",
       "We can also [\"factor out\" the nots](https://en.wikipedia.org/wiki/De_Morgan%27s_laws) to get:\n",
       "\n",
       "```python\n",
       "return not (ketchup or mustard or onion)\n",
       "```"
      ],
      "text/plain": [
       "Correct: \n",
       "\n",
       "One solution looks like:\n",
       "```python\n",
       "return not ketchup and not mustard and not onion\n",
       "```\n",
       "\n",
       "We can also [\"factor out\" the nots](https://en.wikipedia.org/wiki/De_Morgan%27s_laws) to get:\n",
       "\n",
       "```python\n",
       "return not (ketchup or mustard or onion)\n",
       "```"
      ]
     },
     "metadata": {},
     "output_type": "display_data"
    }
   ],
   "source": [
    "def wants_plain_hotdog(ketchup, mustard, onion):\n",
    "    \"\"\"Return whether the customer wants a plain hot dog with no toppings.\n",
    "    \"\"\"\n",
    "    return not ( ketchup or mustard or  onion)\n",
    "    pass\n",
    "\n",
    "# Check your answer\n",
    "q5.b.check()"
   ]
  },
  {
   "cell_type": "code",
   "execution_count": 16,
   "id": "20713145",
   "metadata": {
    "execution": {
     "iopub.execute_input": "2025-04-28T19:28:17.503130Z",
     "iopub.status.busy": "2025-04-28T19:28:17.502758Z",
     "iopub.status.idle": "2025-04-28T19:28:17.506752Z",
     "shell.execute_reply": "2025-04-28T19:28:17.505989Z"
    },
    "papermill": {
     "duration": 0.014706,
     "end_time": "2025-04-28T19:28:17.508285",
     "exception": false,
     "start_time": "2025-04-28T19:28:17.493579",
     "status": "completed"
    },
    "tags": []
   },
   "outputs": [],
   "source": [
    "#q5.b.hint()\n",
    "#q5.b.solution()"
   ]
  },
  {
   "cell_type": "markdown",
   "id": "c67b695d",
   "metadata": {
    "papermill": {
     "duration": 0.007793,
     "end_time": "2025-04-28T19:28:17.524263",
     "exception": false,
     "start_time": "2025-04-28T19:28:17.516470",
     "status": "completed"
    },
    "tags": []
   },
   "source": [
    "# 5c.\n",
    "\n",
    "You know what to do: for the next function, fill in the body to match the English description in the docstring."
   ]
  },
  {
   "cell_type": "code",
   "execution_count": 17,
   "id": "5b987c44",
   "metadata": {
    "execution": {
     "iopub.execute_input": "2025-04-28T19:28:17.541032Z",
     "iopub.status.busy": "2025-04-28T19:28:17.540728Z",
     "iopub.status.idle": "2025-04-28T19:28:17.548807Z",
     "shell.execute_reply": "2025-04-28T19:28:17.547887Z"
    },
    "papermill": {
     "duration": 0.018408,
     "end_time": "2025-04-28T19:28:17.550424",
     "exception": false,
     "start_time": "2025-04-28T19:28:17.532016",
     "status": "completed"
    },
    "tags": []
   },
   "outputs": [
    {
     "data": {
      "application/javascript": [
       "parent.postMessage({\"jupyterEvent\": \"custom.exercise_interaction\", \"data\": {\"outcomeType\": 1, \"valueTowardsCompletion\": 0.2, \"interactionType\": 1, \"questionType\": 2, \"questionId\": \"5.3_OneSauce\", \"learnToolsVersion\": \"0.3.5\", \"failureMessage\": \"\", \"exceptionClass\": \"\", \"trace\": \"\"}}, \"*\")"
      ],
      "text/plain": [
       "<IPython.core.display.Javascript object>"
      ]
     },
     "metadata": {},
     "output_type": "display_data"
    },
    {
     "data": {
      "text/markdown": [
       "<span style=\"color:#33cc33\">Correct</span>"
      ],
      "text/plain": [
       "Correct"
      ]
     },
     "metadata": {},
     "output_type": "display_data"
    }
   ],
   "source": [
    "def exactly_one_sauce(ketchup, mustard, onion):\n",
    "    \"\"\"Return whether the customer wants either ketchup or mustard, but not both.\n",
    "    (You may be familiar with this operation under the name \"exclusive or\")\n",
    "    \"\"\"\n",
    "    return (ketchup and not mustard ) or (mustard and not ketchup )\n",
    "    pass\n",
    "\n",
    "# Check your answer\n",
    "q5.c.check()"
   ]
  },
  {
   "cell_type": "code",
   "execution_count": 18,
   "id": "515817d2",
   "metadata": {
    "execution": {
     "iopub.execute_input": "2025-04-28T19:28:17.568576Z",
     "iopub.status.busy": "2025-04-28T19:28:17.567583Z",
     "iopub.status.idle": "2025-04-28T19:28:17.571916Z",
     "shell.execute_reply": "2025-04-28T19:28:17.570986Z"
    },
    "papermill": {
     "duration": 0.01489,
     "end_time": "2025-04-28T19:28:17.573511",
     "exception": false,
     "start_time": "2025-04-28T19:28:17.558621",
     "status": "completed"
    },
    "tags": []
   },
   "outputs": [],
   "source": [
    "#q5.c.hint()\n",
    "#q5.c.solution()"
   ]
  },
  {
   "cell_type": "markdown",
   "id": "785d5d87",
   "metadata": {
    "papermill": {
     "duration": 0.007749,
     "end_time": "2025-04-28T19:28:17.589430",
     "exception": false,
     "start_time": "2025-04-28T19:28:17.581681",
     "status": "completed"
    },
    "tags": []
   },
   "source": [
    "# 6. <span title=\"A bit spicy\" style=\"color: darkgreen \">🌶️</span>\n",
    "\n",
    "We’ve seen that calling `bool()` on an integer returns `False` if it’s equal to 0 and `True` otherwise. What happens if we call `int()` on a bool? Try it out in the notebook cell below.\n",
    "\n",
    "Can you take advantage of this to write a succinct function that corresponds to the English sentence \"does the customer want exactly one topping?\"?"
   ]
  },
  {
   "cell_type": "code",
   "execution_count": 19,
   "id": "47535444",
   "metadata": {
    "execution": {
     "iopub.execute_input": "2025-04-28T19:28:17.606564Z",
     "iopub.status.busy": "2025-04-28T19:28:17.606245Z",
     "iopub.status.idle": "2025-04-28T19:28:17.614297Z",
     "shell.execute_reply": "2025-04-28T19:28:17.613424Z"
    },
    "papermill": {
     "duration": 0.018605,
     "end_time": "2025-04-28T19:28:17.615900",
     "exception": false,
     "start_time": "2025-04-28T19:28:17.597295",
     "status": "completed"
    },
    "tags": []
   },
   "outputs": [
    {
     "data": {
      "application/javascript": [
       "parent.postMessage({\"jupyterEvent\": \"custom.exercise_interaction\", \"data\": {\"outcomeType\": 1, \"valueTowardsCompletion\": 0.2, \"interactionType\": 1, \"questionType\": 2, \"questionId\": \"6_OneTopping\", \"learnToolsVersion\": \"0.3.5\", \"failureMessage\": \"\", \"exceptionClass\": \"\", \"trace\": \"\"}}, \"*\")"
      ],
      "text/plain": [
       "<IPython.core.display.Javascript object>"
      ]
     },
     "metadata": {},
     "output_type": "display_data"
    },
    {
     "data": {
      "text/markdown": [
       "<span style=\"color:#33cc33\">Correct:</span> \n",
       "\n",
       "This condition would be pretty complicated to express using just `and`, `or` and `not`, but using boolean-to-integer conversion gives us this short solution:\n",
       "```python\n",
       "return (int(ketchup) + int(mustard) + int(onion)) == 1\n",
       "```\n",
       "\n",
       "Fun fact: we don't technically need to call `int` on the arguments. Just by doing addition with booleans, Python implicitly does the integer conversion. So we could also write...\n",
       "\n",
       "```python\n",
       "return (ketchup + mustard + onion) == 1\n",
       "```"
      ],
      "text/plain": [
       "Correct: \n",
       "\n",
       "This condition would be pretty complicated to express using just `and`, `or` and `not`, but using boolean-to-integer conversion gives us this short solution:\n",
       "```python\n",
       "return (int(ketchup) + int(mustard) + int(onion)) == 1\n",
       "```\n",
       "\n",
       "Fun fact: we don't technically need to call `int` on the arguments. Just by doing addition with booleans, Python implicitly does the integer conversion. So we could also write...\n",
       "\n",
       "```python\n",
       "return (ketchup + mustard + onion) == 1\n",
       "```"
      ]
     },
     "metadata": {},
     "output_type": "display_data"
    }
   ],
   "source": [
    "def exactly_one_topping(ketchup, mustard, onion):\n",
    "    \"\"\"Return whether the customer wants exactly one of the three available toppings\n",
    "    on their hot dog.\n",
    "    \"\"\"\n",
    "    return (ketchup and not mustard and not onion) or (mustard and not ketchup and not onion) or (onion and not ketchup and not mustard )\n",
    "    pass\n",
    "\n",
    "# Check your answer\n",
    "q6.check()"
   ]
  },
  {
   "cell_type": "code",
   "execution_count": 20,
   "id": "9245b1ee",
   "metadata": {
    "execution": {
     "iopub.execute_input": "2025-04-28T19:28:17.634405Z",
     "iopub.status.busy": "2025-04-28T19:28:17.634041Z",
     "iopub.status.idle": "2025-04-28T19:28:17.638202Z",
     "shell.execute_reply": "2025-04-28T19:28:17.637355Z"
    },
    "papermill": {
     "duration": 0.015308,
     "end_time": "2025-04-28T19:28:17.639793",
     "exception": false,
     "start_time": "2025-04-28T19:28:17.624485",
     "status": "completed"
    },
    "tags": []
   },
   "outputs": [],
   "source": [
    "#q6.hint()\n",
    "#q6.solution()"
   ]
  },
  {
   "cell_type": "markdown",
   "id": "9997a876",
   "metadata": {
    "papermill": {
     "duration": 0.009063,
     "end_time": "2025-04-28T19:28:17.657392",
     "exception": false,
     "start_time": "2025-04-28T19:28:17.648329",
     "status": "completed"
    },
    "tags": []
   },
   "source": [
    "# 7. <span title=\"A bit spicy\" style=\"color: darkgreen \">🌶️</span> (Optional)\n",
    "\n",
    "In this problem we'll be working with a simplified version of [blackjack](https://en.wikipedia.org/wiki/Blackjack) (aka twenty-one). In this version there is one player (who you'll control) and a dealer. Play proceeds as follows:\n",
    "\n",
    "- The player is dealt two face-up cards. The dealer is dealt one face-up card.\n",
    "- The player may ask to be dealt another card ('hit') as many times as they wish. If the sum of their cards exceeds 21, they lose the round immediately.\n",
    "- The dealer then deals additional cards to himself until either:\n",
    "    - the sum of the dealer's cards exceeds 21, in which case the player wins the round\n",
    "    - the sum of the dealer's cards is greater than or equal to 17. If the player's total is greater than the dealer's, the player wins. Otherwise, the dealer wins (even in case of a tie).\n",
    "    \n",
    "When calculating the sum of cards, Jack, Queen, and King count for 10. Aces can count as 1 or 11 (when referring to a player's \"total\" above, we mean the largest total that can be made without exceeding 21. So e.g. A+8 = 19, A+8+8 = 17)\n",
    "\n",
    "For this problem, you'll write a function representing the player's decision-making strategy in this game. We've provided a very unintelligent implementation below:"
   ]
  },
  {
   "cell_type": "code",
   "execution_count": 21,
   "id": "83bce1e2",
   "metadata": {
    "execution": {
     "iopub.execute_input": "2025-04-28T19:28:17.676741Z",
     "iopub.status.busy": "2025-04-28T19:28:17.676463Z",
     "iopub.status.idle": "2025-04-28T19:28:17.680962Z",
     "shell.execute_reply": "2025-04-28T19:28:17.680168Z"
    },
    "papermill": {
     "duration": 0.016729,
     "end_time": "2025-04-28T19:28:17.682597",
     "exception": false,
     "start_time": "2025-04-28T19:28:17.665868",
     "status": "completed"
    },
    "tags": []
   },
   "outputs": [],
   "source": [
    "def should_hit(dealer_total, player_total, player_low_aces, player_high_aces):\n",
    "    \"\"\"Return True if the player should hit (request another card) given the current game\n",
    "    state, or False if the player should stay.\n",
    "    When calculating a hand's total value, we count aces as \"high\" (with value 11) if doing so\n",
    "    doesn't bring the total above 21, otherwise we count them as low (with value 1). \n",
    "    For example, if the player's hand is {A, A, A, 7}, we will count it as 11 + 1 + 1 + 7,\n",
    "    and therefore set player_total=20, player_low_aces=2, player_high_aces=1.\n",
    "    \"\"\"\n",
    "    return False"
   ]
  },
  {
   "cell_type": "markdown",
   "id": "46774830",
   "metadata": {
    "papermill": {
     "duration": 0.012094,
     "end_time": "2025-04-28T19:28:17.704254",
     "exception": false,
     "start_time": "2025-04-28T19:28:17.692160",
     "status": "completed"
    },
    "tags": []
   },
   "source": [
    "This very conservative agent *always* sticks with the hand of two cards that they're dealt.\n",
    "\n",
    "We'll be simulating games between your player agent and our own dealer agent by calling your function.\n",
    "\n",
    "Try running the function below to see an example of a simulated game:"
   ]
  },
  {
   "cell_type": "code",
   "execution_count": 22,
   "id": "ab04697c",
   "metadata": {
    "execution": {
     "iopub.execute_input": "2025-04-28T19:28:17.727996Z",
     "iopub.status.busy": "2025-04-28T19:28:17.726940Z",
     "iopub.status.idle": "2025-04-28T19:28:17.735050Z",
     "shell.execute_reply": "2025-04-28T19:28:17.734051Z"
    },
    "papermill": {
     "duration": 0.021957,
     "end_time": "2025-04-28T19:28:17.736940",
     "exception": false,
     "start_time": "2025-04-28T19:28:17.714983",
     "status": "completed"
    },
    "tags": []
   },
   "outputs": [
    {
     "name": "stdout",
     "output_type": "stream",
     "text": [
      "Player starts with 7 and K (total = 17)\n",
      "Dealer starts with J\n",
      "\n",
      "__Player's turn__\n",
      "Player stays\n",
      "\n",
      "__Dealer's turn__\n",
      "Dealer hits and receives 10. (total = 20)\n",
      "Dealer stands.\n",
      "Dealer wins. 20 >= 17\n"
     ]
    }
   ],
   "source": [
    "q7.simulate_one_game()"
   ]
  },
  {
   "cell_type": "markdown",
   "id": "5c6f9014",
   "metadata": {
    "papermill": {
     "duration": 0.010942,
     "end_time": "2025-04-28T19:28:17.761177",
     "exception": false,
     "start_time": "2025-04-28T19:28:17.750235",
     "status": "completed"
    },
    "tags": []
   },
   "source": [
    "The real test of your agent's mettle is their average win rate over many games. Try calling the function below to simulate 50000 games of blackjack (it may take a couple seconds):"
   ]
  },
  {
   "cell_type": "code",
   "execution_count": 23,
   "id": "7bd6fe87",
   "metadata": {
    "execution": {
     "iopub.execute_input": "2025-04-28T19:28:17.779617Z",
     "iopub.status.busy": "2025-04-28T19:28:17.779312Z",
     "iopub.status.idle": "2025-04-28T19:28:18.735878Z",
     "shell.execute_reply": "2025-04-28T19:28:18.734817Z"
    },
    "papermill": {
     "duration": 0.968088,
     "end_time": "2025-04-28T19:28:18.737620",
     "exception": false,
     "start_time": "2025-04-28T19:28:17.769532",
     "status": "completed"
    },
    "tags": []
   },
   "outputs": [
    {
     "name": "stdout",
     "output_type": "stream",
     "text": [
      "Player won 19028 out of 50000 games (win rate = 38.1%)\n"
     ]
    }
   ],
   "source": [
    "q7.simulate(n_games=50000)"
   ]
  },
  {
   "cell_type": "markdown",
   "id": "1e11d18c",
   "metadata": {
    "papermill": {
     "duration": 0.008914,
     "end_time": "2025-04-28T19:28:18.755129",
     "exception": false,
     "start_time": "2025-04-28T19:28:18.746215",
     "status": "completed"
    },
    "tags": []
   },
   "source": [
    "Our dumb agent that completely ignores the game state still manages to win shockingly often!\n",
    "\n",
    "Try adding some more smarts to the `should_hit` function and see how it affects the results."
   ]
  },
  {
   "cell_type": "code",
   "execution_count": 24,
   "id": "321eb028",
   "metadata": {
    "execution": {
     "iopub.execute_input": "2025-04-28T19:28:18.774265Z",
     "iopub.status.busy": "2025-04-28T19:28:18.773896Z",
     "iopub.status.idle": "2025-04-28T19:28:19.665501Z",
     "shell.execute_reply": "2025-04-28T19:28:19.664010Z"
    },
    "papermill": {
     "duration": 0.904176,
     "end_time": "2025-04-28T19:28:19.667715",
     "exception": false,
     "start_time": "2025-04-28T19:28:18.763539",
     "status": "completed"
    },
    "tags": []
   },
   "outputs": [
    {
     "name": "stdout",
     "output_type": "stream",
     "text": [
      "Player won 19162 out of 50000 games (win rate = 38.3%)\n"
     ]
    }
   ],
   "source": [
    "def should_hit(dealer_total, player_total, player_low_aces, player_high_aces):\n",
    "    \"\"\"Return True if the player should hit (request another card) given the current game\n",
    "    state, or False if the player should stay.\n",
    "    When calculating a hand's total value, we count aces as \"high\" (with value 11) if doing so\n",
    "    doesn't bring the total above 21, otherwise we count them as low (with value 1). \n",
    "    For example, if the player's hand is {A, A, A, 7}, we will count it as 11 + 1 + 1 + 7,\n",
    "    and therefore set player_total=20, player_low_aces=2, player_high_aces=1.\n",
    "    \"\"\"\n",
    "    return False\n",
    "\n",
    "q7.simulate(n_games=50000)"
   ]
  },
  {
   "cell_type": "markdown",
   "id": "cb465227",
   "metadata": {
    "papermill": {
     "duration": 0.008306,
     "end_time": "2025-04-28T19:28:19.685247",
     "exception": false,
     "start_time": "2025-04-28T19:28:19.676941",
     "status": "completed"
    },
    "tags": []
   },
   "source": [
    "# Keep Going\n",
    "\n",
    "Learn about **[lists and tuples](https://www.kaggle.com/colinmorris/lists)** to handle multiple items of data in a systematic way."
   ]
  },
  {
   "cell_type": "markdown",
   "id": "ce11c37a",
   "metadata": {
    "papermill": {
     "duration": 0.008497,
     "end_time": "2025-04-28T19:28:19.702360",
     "exception": false,
     "start_time": "2025-04-28T19:28:19.693863",
     "status": "completed"
    },
    "tags": []
   },
   "source": [
    "---\n",
    "\n",
    "\n",
    "\n",
    "\n",
    "*Have questions or comments? Visit the [course discussion forum](https://www.kaggle.com/learn/python/discussion) to chat with other learners.*"
   ]
  }
 ],
 "metadata": {
  "kaggle": {
   "accelerator": "none",
   "dataSources": [],
   "isGpuEnabled": false,
   "isInternetEnabled": false,
   "language": "python",
   "sourceType": "notebook"
  },
  "kernelspec": {
   "display_name": "Python 3",
   "language": "python",
   "name": "python3"
  },
  "language_info": {
   "codemirror_mode": {
    "name": "ipython",
    "version": 3
   },
   "file_extension": ".py",
   "mimetype": "text/x-python",
   "name": "python",
   "nbconvert_exporter": "python",
   "pygments_lexer": "ipython3",
   "version": "3.11.11"
  },
  "learntools_metadata": {
   "lesson_index": 2,
   "type": "exercise"
  },
  "papermill": {
   "default_parameters": {},
   "duration": 10.376796,
   "end_time": "2025-04-28T19:28:20.231587",
   "environment_variables": {},
   "exception": null,
   "input_path": "__notebook__.ipynb",
   "output_path": "__notebook__.ipynb",
   "parameters": {},
   "start_time": "2025-04-28T19:28:09.854791",
   "version": "2.6.0"
  }
 },
 "nbformat": 4,
 "nbformat_minor": 5
}
