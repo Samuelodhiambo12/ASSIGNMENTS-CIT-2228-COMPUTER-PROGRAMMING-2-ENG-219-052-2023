{
 "cells": [
  {
   "cell_type": "markdown",
   "id": "e1556468",
   "metadata": {
    "papermill": {
     "duration": 0.007848,
     "end_time": "2025-05-03T15:43:15.556229",
     "exception": false,
     "start_time": "2025-05-03T15:43:15.548381",
     "status": "completed"
    },
    "tags": []
   },
   "source": [
    "**This notebook is an exercise in the [Python](https://www.kaggle.com/learn/python) course.  You can reference the tutorial at [this link](https://www.kaggle.com/colinmorris/booleans-and-conditionals).**\n",
    "\n",
    "---\n"
   ]
  },
  {
   "cell_type": "markdown",
   "id": "448777f7",
   "metadata": {
    "papermill": {
     "duration": 0.007994,
     "end_time": "2025-05-03T15:43:15.571696",
     "exception": false,
     "start_time": "2025-05-03T15:43:15.563702",
     "status": "completed"
    },
    "tags": []
   },
   "source": [
    "In this exercise, you'll put to work what you have learned about booleans and conditionals.\n",
    "\n",
    "To get started, **run the setup code below** before writing your own code (and if you leave this notebook and come back later, don't forget to run the setup code again)."
   ]
  },
  {
   "cell_type": "code",
   "execution_count": 1,
   "id": "945a28a7",
   "metadata": {
    "execution": {
     "iopub.execute_input": "2025-05-03T15:43:15.588577Z",
     "iopub.status.busy": "2025-05-03T15:43:15.588113Z",
     "iopub.status.idle": "2025-05-03T15:43:17.945387Z",
     "shell.execute_reply": "2025-05-03T15:43:17.943876Z"
    },
    "papermill": {
     "duration": 2.368837,
     "end_time": "2025-05-03T15:43:17.947726",
     "exception": false,
     "start_time": "2025-05-03T15:43:15.578889",
     "status": "completed"
    },
    "tags": []
   },
   "outputs": [
    {
     "name": "stdout",
     "output_type": "stream",
     "text": [
      "Setup complete.\n"
     ]
    }
   ],
   "source": [
    "from learntools.core import binder; binder.bind(globals())\n",
    "from learntools.python.ex3 import *\n",
    "print('Setup complete.')"
   ]
  },
  {
   "cell_type": "markdown",
   "id": "8741d845",
   "metadata": {
    "papermill": {
     "duration": 0.009269,
     "end_time": "2025-05-03T15:43:17.969519",
     "exception": false,
     "start_time": "2025-05-03T15:43:17.960250",
     "status": "completed"
    },
    "tags": []
   },
   "source": [
    "# 1.\n",
    "\n",
    "Many programming languages have [`sign`](https://en.wikipedia.org/wiki/Sign_function) available as a built-in function. Python doesn't, but we can define our own!\n",
    "\n",
    "In the cell below, define a function called `sign` which takes a numerical argument and returns -1 if it's negative, 1 if it's positive, and 0 if it's 0."
   ]
  },
  {
   "cell_type": "code",
   "execution_count": 2,
   "id": "06a758f7",
   "metadata": {
    "execution": {
     "iopub.execute_input": "2025-05-03T15:43:17.985225Z",
     "iopub.status.busy": "2025-05-03T15:43:17.984632Z",
     "iopub.status.idle": "2025-05-03T15:43:17.996880Z",
     "shell.execute_reply": "2025-05-03T15:43:17.995678Z"
    },
    "papermill": {
     "duration": 0.021966,
     "end_time": "2025-05-03T15:43:17.998916",
     "exception": false,
     "start_time": "2025-05-03T15:43:17.976950",
     "status": "completed"
    },
    "tags": []
   },
   "outputs": [
    {
     "data": {
      "application/javascript": [
       "parent.postMessage({\"jupyterEvent\": \"custom.exercise_interaction\", \"data\": {\"outcomeType\": 1, \"valueTowardsCompletion\": 0.2, \"interactionType\": 1, \"questionType\": 2, \"questionId\": \"1_SignFunctionProblem\", \"learnToolsVersion\": \"0.3.5\", \"failureMessage\": \"\", \"exceptionClass\": \"\", \"trace\": \"\"}}, \"*\")"
      ],
      "text/plain": [
       "<IPython.core.display.Javascript object>"
      ]
     },
     "metadata": {},
     "output_type": "display_data"
    },
    {
     "data": {
      "text/markdown": [
       "<span style=\"color:#33cc33\">Correct</span>"
      ],
      "text/plain": [
       "Correct"
      ]
     },
     "metadata": {},
     "output_type": "display_data"
    }
   ],
   "source": [
    "def sign(y):\n",
    " if y > 0:\n",
    "     return 1\n",
    " elif y< 0:\n",
    "     return -1\n",
    " else:\n",
    "     return 0\n",
    "\n",
    "# Check your answer\n",
    "q1.check()"
   ]
  },
  {
   "cell_type": "code",
   "execution_count": 3,
   "id": "a85a4965",
   "metadata": {
    "execution": {
     "iopub.execute_input": "2025-05-03T15:43:18.019505Z",
     "iopub.status.busy": "2025-05-03T15:43:18.018491Z",
     "iopub.status.idle": "2025-05-03T15:43:18.023182Z",
     "shell.execute_reply": "2025-05-03T15:43:18.022212Z"
    },
    "papermill": {
     "duration": 0.014757,
     "end_time": "2025-05-03T15:43:18.024764",
     "exception": false,
     "start_time": "2025-05-03T15:43:18.010007",
     "status": "completed"
    },
    "tags": []
   },
   "outputs": [],
   "source": [
    "#q1.solution()"
   ]
  },
  {
   "cell_type": "markdown",
   "id": "ed594903",
   "metadata": {
    "papermill": {
     "duration": 0.006332,
     "end_time": "2025-05-03T15:43:18.038027",
     "exception": false,
     "start_time": "2025-05-03T15:43:18.031695",
     "status": "completed"
    },
    "tags": []
   },
   "source": [
    "# 2.\n",
    "\n",
    "We've decided to add \"logging\" to our `to_smash` function from the previous exercise."
   ]
  },
  {
   "cell_type": "code",
   "execution_count": 4,
   "id": "0feea977",
   "metadata": {
    "execution": {
     "iopub.execute_input": "2025-05-03T15:43:18.054199Z",
     "iopub.status.busy": "2025-05-03T15:43:18.053103Z",
     "iopub.status.idle": "2025-05-03T15:43:18.063591Z",
     "shell.execute_reply": "2025-05-03T15:43:18.061633Z"
    },
    "papermill": {
     "duration": 0.020111,
     "end_time": "2025-05-03T15:43:18.065496",
     "exception": false,
     "start_time": "2025-05-03T15:43:18.045385",
     "status": "completed"
    },
    "tags": []
   },
   "outputs": [
    {
     "name": "stdout",
     "output_type": "stream",
     "text": [
      "Splitting 91 candies\n"
     ]
    },
    {
     "data": {
      "text/plain": [
       "1"
      ]
     },
     "execution_count": 4,
     "metadata": {},
     "output_type": "execute_result"
    }
   ],
   "source": [
    "def to_smash(total_candies:91):\n",
    "    print(\"Splitting\", total_candies, \"candies\")\n",
    "    return total_candies % 3  \n",
    "\n",
    "to_smash(91)"
   ]
  },
  {
   "cell_type": "markdown",
   "id": "3c64bdfb",
   "metadata": {
    "papermill": {
     "duration": 0.006987,
     "end_time": "2025-05-03T15:43:18.080750",
     "exception": false,
     "start_time": "2025-05-03T15:43:18.073763",
     "status": "completed"
    },
    "tags": []
   },
   "source": [
    "What happens if we call it with `total_candies = 1`?"
   ]
  },
  {
   "cell_type": "code",
   "execution_count": 5,
   "id": "2daf8d36",
   "metadata": {
    "execution": {
     "iopub.execute_input": "2025-05-03T15:43:18.097370Z",
     "iopub.status.busy": "2025-05-03T15:43:18.096925Z",
     "iopub.status.idle": "2025-05-03T15:43:18.106534Z",
     "shell.execute_reply": "2025-05-03T15:43:18.104900Z"
    },
    "papermill": {
     "duration": 0.021557,
     "end_time": "2025-05-03T15:43:18.109576",
     "exception": false,
     "start_time": "2025-05-03T15:43:18.088019",
     "status": "completed"
    },
    "tags": []
   },
   "outputs": [
    {
     "name": "stdout",
     "output_type": "stream",
     "text": [
      "Splitting 1 candies\n"
     ]
    },
    {
     "data": {
      "text/plain": [
       "1"
      ]
     },
     "execution_count": 5,
     "metadata": {},
     "output_type": "execute_result"
    }
   ],
   "source": [
    "to_smash(1)\n"
   ]
  },
  {
   "cell_type": "markdown",
   "id": "04ca833e",
   "metadata": {
    "papermill": {
     "duration": 0.008068,
     "end_time": "2025-05-03T15:43:18.128174",
     "exception": false,
     "start_time": "2025-05-03T15:43:18.120106",
     "status": "completed"
    },
    "tags": []
   },
   "source": [
    "That isn't great grammar!\n",
    "\n",
    "Modify the definition in the cell below to correct the grammar of our print statement. (If there's only one candy, we should use the singular \"candy\" instead of the plural \"candies\")"
   ]
  },
  {
   "cell_type": "code",
   "execution_count": 6,
   "id": "a49dd8f4",
   "metadata": {
    "execution": {
     "iopub.execute_input": "2025-05-03T15:43:18.154006Z",
     "iopub.status.busy": "2025-05-03T15:43:18.153440Z",
     "iopub.status.idle": "2025-05-03T15:43:18.164561Z",
     "shell.execute_reply": "2025-05-03T15:43:18.163310Z"
    },
    "papermill": {
     "duration": 0.030567,
     "end_time": "2025-05-03T15:43:18.166373",
     "exception": false,
     "start_time": "2025-05-03T15:43:18.135806",
     "status": "completed"
    },
    "tags": []
   },
   "outputs": [
    {
     "name": "stdout",
     "output_type": "stream",
     "text": [
      "Splitting 91 candies\n",
      "Splitting  1 candy\n"
     ]
    },
    {
     "data": {
      "application/javascript": [
       "parent.postMessage({\"jupyterEvent\": \"custom.exercise_interaction\", \"data\": {\"outcomeType\": 1, \"valueTowardsCompletion\": 0.2, \"interactionType\": 1, \"questionType\": 4, \"questionId\": \"2_PluralizationProblem\", \"learnToolsVersion\": \"0.3.5\", \"failureMessage\": \"\", \"exceptionClass\": \"\", \"trace\": \"\"}}, \"*\")"
      ],
      "text/plain": [
       "<IPython.core.display.Javascript object>"
      ]
     },
     "metadata": {},
     "output_type": "display_data"
    },
    {
     "data": {
      "text/markdown": [
       "<span style=\"color:#33cc33\">Correct:</span> \n",
       "\n",
       "A straightforward (and totally fine) solution is to replace the original `print` call with:\n",
       "\n",
       "```python\n",
       "if total_candies == 1:\n",
       "    print(\"Splitting 1 candy\")\n",
       "else:\n",
       "    print(\"Splitting\", total_candies, \"candies\")\n",
       "```\n",
       "\n",
       "Here's a slightly more succinct solution using a conditional expression:\n",
       "\n",
       "```python\n",
       "print(\"Splitting\", total_candies, \"candy\" if total_candies == 1 else \"candies\")\n",
       "```"
      ],
      "text/plain": [
       "Correct: \n",
       "\n",
       "A straightforward (and totally fine) solution is to replace the original `print` call with:\n",
       "\n",
       "```python\n",
       "if total_candies == 1:\n",
       "    print(\"Splitting 1 candy\")\n",
       "else:\n",
       "    print(\"Splitting\", total_candies, \"candies\")\n",
       "```\n",
       "\n",
       "Here's a slightly more succinct solution using a conditional expression:\n",
       "\n",
       "```python\n",
       "print(\"Splitting\", total_candies, \"candy\" if total_candies == 1 else \"candies\")\n",
       "```"
      ]
     },
     "metadata": {},
     "output_type": "display_data"
    }
   ],
   "source": [
    "def to_smash(total_candy:91):\n",
    "   if total_candy==1:\n",
    "       print(\"Splitting \",total_candy,\"candy\")\n",
    "   else: \n",
    "    print(\"Splitting\", total_candy, \"candies\")\n",
    "   return total_candy % 3\n",
    "\n",
    "to_smash(91)\n",
    "to_smash(1)\n",
    "q2.check()"
   ]
  },
  {
   "cell_type": "markdown",
   "id": "c2c97496",
   "metadata": {
    "papermill": {
     "duration": 0.008989,
     "end_time": "2025-05-03T15:43:18.183216",
     "exception": false,
     "start_time": "2025-05-03T15:43:18.174227",
     "status": "completed"
    },
    "tags": []
   },
   "source": [
    "To get credit for completing this problem, and to see the official answer, run the code cell below."
   ]
  },
  {
   "cell_type": "code",
   "execution_count": 7,
   "id": "5e7112a6",
   "metadata": {
    "execution": {
     "iopub.execute_input": "2025-05-03T15:43:18.202327Z",
     "iopub.status.busy": "2025-05-03T15:43:18.202010Z",
     "iopub.status.idle": "2025-05-03T15:43:18.206466Z",
     "shell.execute_reply": "2025-05-03T15:43:18.205595Z"
    },
    "papermill": {
     "duration": 0.015421,
     "end_time": "2025-05-03T15:43:18.208175",
     "exception": false,
     "start_time": "2025-05-03T15:43:18.192754",
     "status": "completed"
    },
    "tags": []
   },
   "outputs": [],
   "source": [
    "#q2.solution()"
   ]
  },
  {
   "cell_type": "markdown",
   "id": "58dda49e",
   "metadata": {
    "papermill": {
     "duration": 0.013813,
     "end_time": "2025-05-03T15:43:18.231984",
     "exception": false,
     "start_time": "2025-05-03T15:43:18.218171",
     "status": "completed"
    },
    "tags": []
   },
   "source": [
    "# 3. <span title=\"A bit spicy\" style=\"color: darkgreen \">🌶️</span>\n",
    "\n",
    "In the tutorial, we talked about deciding whether we're prepared for the weather. I said that I'm safe from today's weather if...\n",
    "- I have an umbrella...\n",
    "- or if the rain isn't too heavy and I have a hood...\n",
    "- otherwise, I'm still fine unless it's raining *and* it's a workday\n",
    "\n",
    "The function below uses our first attempt at turning this logic into a Python expression. I claimed that there was a bug in that code. Can you find it?\n",
    "\n",
    "To prove that `prepared_for_weather` is buggy, come up with a set of inputs where either:\n",
    "- the function returns `False` (but should have returned `True`), or\n",
    "- the function returned `True` (but should have returned `False`).\n",
    "\n",
    "To get credit for completing this question, your code should return a <font color='#33cc33'>Correct</font> result."
   ]
  },
  {
   "cell_type": "code",
   "execution_count": 8,
   "id": "33e21988",
   "metadata": {
    "execution": {
     "iopub.execute_input": "2025-05-03T15:43:18.261700Z",
     "iopub.status.busy": "2025-05-03T15:43:18.261161Z",
     "iopub.status.idle": "2025-05-03T15:43:18.276610Z",
     "shell.execute_reply": "2025-05-03T15:43:18.275468Z"
    },
    "papermill": {
     "duration": 0.031273,
     "end_time": "2025-05-03T15:43:18.278236",
     "exception": false,
     "start_time": "2025-05-03T15:43:18.246963",
     "status": "completed"
    },
    "tags": []
   },
   "outputs": [
    {
     "name": "stdout",
     "output_type": "stream",
     "text": [
      "False\n"
     ]
    },
    {
     "data": {
      "application/javascript": [
       "parent.postMessage({\"jupyterEvent\": \"custom.exercise_interaction\", \"data\": {\"outcomeType\": 1, \"valueTowardsCompletion\": 0.2, \"interactionType\": 1, \"questionType\": 1, \"questionId\": \"3_WeatherDebug\", \"learnToolsVersion\": \"0.3.5\", \"failureMessage\": \"\", \"exceptionClass\": \"\", \"trace\": \"\"}}, \"*\")"
      ],
      "text/plain": [
       "<IPython.core.display.Javascript object>"
      ]
     },
     "metadata": {},
     "output_type": "display_data"
    },
    {
     "data": {
      "text/markdown": [
       "<span style=\"color:#33cc33\">Correct:</span> \n",
       "\n",
       "One example of a failing test case is:\n",
       "\n",
       "```python\n",
       "have_umbrella = False\n",
       "rain_level = 0.0\n",
       "have_hood = False\n",
       "is_workday = False\n",
       "```\n",
       "\n",
       "Clearly we're prepared for the weather in this case. It's not raining. Not only that, it's not a workday, so we don't even need to leave the house! But our function will return False on these inputs.\n",
       "\n",
       "The key problem is that Python implictly parenthesizes the last part as:\n",
       "\n",
       "```python\n",
       "(not (rain_level > 0)) and is_workday\n",
       "```\n",
       "\n",
       "Whereas what we were trying to express would look more like:\n",
       "\n",
       "```python\n",
       "not (rain_level > 0 and is_workday)\n",
       "```\n"
      ],
      "text/plain": [
       "Correct: \n",
       "\n",
       "One example of a failing test case is:\n",
       "\n",
       "```python\n",
       "have_umbrella = False\n",
       "rain_level = 0.0\n",
       "have_hood = False\n",
       "is_workday = False\n",
       "```\n",
       "\n",
       "Clearly we're prepared for the weather in this case. It's not raining. Not only that, it's not a workday, so we don't even need to leave the house! But our function will return False on these inputs.\n",
       "\n",
       "The key problem is that Python implictly parenthesizes the last part as:\n",
       "\n",
       "```python\n",
       "(not (rain_level > 0)) and is_workday\n",
       "```\n",
       "\n",
       "Whereas what we were trying to express would look more like:\n",
       "\n",
       "```python\n",
       "not (rain_level > 0 and is_workday)\n",
       "```"
      ]
     },
     "metadata": {},
     "output_type": "display_data"
    }
   ],
   "source": [
    "def prepared_for_weather(have_umbrella, rain_level, have_hood, is_workday):\n",
    "    # Don't change this code. Our goal is just to find the bug, not fix it!\n",
    "    return have_umbrella or rain_level < 5 and have_hood or not rain_level >0 and is_workday\n",
    "\n",
    "# Change the values of these inputs so they represent a case where prepared_for_weather\n",
    "# returns the wrong answer.\n",
    "have_umbrella = False\n",
    "rain_level = 0\n",
    "have_hood = False\n",
    "is_workday = False \n",
    "\n",
    "# Check what the function returns given the current values of the variables above\n",
    "actual = prepared_for_weather(have_umbrella, rain_level, have_hood, is_workday)\n",
    "print(actual)\n",
    "\n",
    "# Check your answer\n",
    "q3.check()"
   ]
  },
  {
   "cell_type": "code",
   "execution_count": 9,
   "id": "3a86e489",
   "metadata": {
    "execution": {
     "iopub.execute_input": "2025-05-03T15:43:18.298579Z",
     "iopub.status.busy": "2025-05-03T15:43:18.298228Z",
     "iopub.status.idle": "2025-05-03T15:43:18.307747Z",
     "shell.execute_reply": "2025-05-03T15:43:18.306050Z"
    },
    "papermill": {
     "duration": 0.023151,
     "end_time": "2025-05-03T15:43:18.310343",
     "exception": false,
     "start_time": "2025-05-03T15:43:18.287192",
     "status": "completed"
    },
    "tags": []
   },
   "outputs": [],
   "source": [
    "#q3.hint()\n",
    "#q3.solution()"
   ]
  },
  {
   "cell_type": "markdown",
   "id": "1b3dbc72",
   "metadata": {
    "papermill": {
     "duration": 0.012984,
     "end_time": "2025-05-03T15:43:18.332469",
     "exception": false,
     "start_time": "2025-05-03T15:43:18.319485",
     "status": "completed"
    },
    "tags": []
   },
   "source": [
    "# 4.\n",
    "\n",
    "The function `is_negative` below is implemented correctly - it returns True if the given number is negative and False otherwise.\n",
    "\n",
    "However, it's more verbose than it needs to be. We can actually reduce the number of lines of code in this function by *75%* while keeping the same behaviour. \n",
    "\n",
    "See if you can come up with an equivalent body that uses just **one line** of code, and put it in the function `concise_is_negative`. (HINT: you don't even need Python's ternary syntax)"
   ]
  },
  {
   "cell_type": "code",
   "execution_count": 10,
   "id": "e0c70b2e",
   "metadata": {
    "execution": {
     "iopub.execute_input": "2025-05-03T15:43:18.355249Z",
     "iopub.status.busy": "2025-05-03T15:43:18.354815Z",
     "iopub.status.idle": "2025-05-03T15:43:18.369926Z",
     "shell.execute_reply": "2025-05-03T15:43:18.368604Z"
    },
    "papermill": {
     "duration": 0.030448,
     "end_time": "2025-05-03T15:43:18.372021",
     "exception": false,
     "start_time": "2025-05-03T15:43:18.341573",
     "status": "completed"
    },
    "tags": []
   },
   "outputs": [
    {
     "data": {
      "application/javascript": [
       "parent.postMessage({\"jupyterEvent\": \"custom.exercise_interaction\", \"data\": {\"outcomeType\": 1, \"valueTowardsCompletion\": 0.2, \"interactionType\": 1, \"questionType\": 2, \"questionId\": \"4_ConciseIsNegative\", \"learnToolsVersion\": \"0.3.5\", \"failureMessage\": \"\", \"exceptionClass\": \"\", \"trace\": \"\"}}, \"*\")"
      ],
      "text/plain": [
       "<IPython.core.display.Javascript object>"
      ]
     },
     "metadata": {},
     "output_type": "display_data"
    },
    {
     "data": {
      "text/markdown": [
       "<span style=\"color:#33cc33\">Correct</span>"
      ],
      "text/plain": [
       "Correct"
      ]
     },
     "metadata": {},
     "output_type": "display_data"
    }
   ],
   "source": [
    "def is_negative(number):\n",
    "        if number<0:\n",
    "          return True\n",
    "        else:\n",
    "         return False\n",
    "       \n",
    "def concise_is_negative(number):\n",
    "    return number<0\n",
    "    pass # Your code goes here (try to keep it to one line!)\n",
    "\n",
    "# Check your answer\n",
    "q4.check()"
   ]
  },
  {
   "cell_type": "code",
   "execution_count": 11,
   "id": "5b66fb09",
   "metadata": {
    "execution": {
     "iopub.execute_input": "2025-05-03T15:43:18.395908Z",
     "iopub.status.busy": "2025-05-03T15:43:18.395453Z",
     "iopub.status.idle": "2025-05-03T15:43:18.402134Z",
     "shell.execute_reply": "2025-05-03T15:43:18.400561Z"
    },
    "papermill": {
     "duration": 0.018987,
     "end_time": "2025-05-03T15:43:18.404455",
     "exception": false,
     "start_time": "2025-05-03T15:43:18.385468",
     "status": "completed"
    },
    "tags": []
   },
   "outputs": [],
   "source": [
    "#q4.hint()\n",
    "#q4.solution()"
   ]
  },
  {
   "cell_type": "markdown",
   "id": "27e54da7",
   "metadata": {
    "papermill": {
     "duration": 0.010354,
     "end_time": "2025-05-03T15:43:18.424486",
     "exception": false,
     "start_time": "2025-05-03T15:43:18.414132",
     "status": "completed"
    },
    "tags": []
   },
   "source": [
    "# 5a.\n",
    "\n",
    "The boolean variables `ketchup`, `mustard` and `onion` represent whether a customer wants a particular topping on their hot dog. We want to implement a number of boolean functions that correspond to some yes-or-no questions about the customer's order. For example:"
   ]
  },
  {
   "cell_type": "code",
   "execution_count": 12,
   "id": "b0e79c5c",
   "metadata": {
    "execution": {
     "iopub.execute_input": "2025-05-03T15:43:18.449503Z",
     "iopub.status.busy": "2025-05-03T15:43:18.448888Z",
     "iopub.status.idle": "2025-05-03T15:43:18.457665Z",
     "shell.execute_reply": "2025-05-03T15:43:18.456253Z"
    },
    "papermill": {
     "duration": 0.024915,
     "end_time": "2025-05-03T15:43:18.459583",
     "exception": false,
     "start_time": "2025-05-03T15:43:18.434668",
     "status": "completed"
    },
    "tags": []
   },
   "outputs": [],
   "source": [
    "def onionless(ketchup, mustard, onion):\n",
    "    \"\"\"Return whether the customer doesn't want onions.\n",
    "    \"\"\"\n",
    "    return not onion"
   ]
  },
  {
   "cell_type": "code",
   "execution_count": 13,
   "id": "cba6b57b",
   "metadata": {
    "execution": {
     "iopub.execute_input": "2025-05-03T15:43:18.556326Z",
     "iopub.status.busy": "2025-05-03T15:43:18.555890Z",
     "iopub.status.idle": "2025-05-03T15:43:18.566914Z",
     "shell.execute_reply": "2025-05-03T15:43:18.565891Z"
    },
    "papermill": {
     "duration": 0.025286,
     "end_time": "2025-05-03T15:43:18.568934",
     "exception": false,
     "start_time": "2025-05-03T15:43:18.543648",
     "status": "completed"
    },
    "tags": []
   },
   "outputs": [
    {
     "data": {
      "application/javascript": [
       "parent.postMessage({\"jupyterEvent\": \"custom.exercise_interaction\", \"data\": {\"outcomeType\": 1, \"valueTowardsCompletion\": 0.2, \"interactionType\": 1, \"questionType\": 2, \"questionId\": \"5.1_AllToppings\", \"learnToolsVersion\": \"0.3.5\", \"failureMessage\": \"\", \"exceptionClass\": \"\", \"trace\": \"\"}}, \"*\")"
      ],
      "text/plain": [
       "<IPython.core.display.Javascript object>"
      ]
     },
     "metadata": {},
     "output_type": "display_data"
    },
    {
     "data": {
      "text/markdown": [
       "<span style=\"color:#33cc33\">Correct</span>"
      ],
      "text/plain": [
       "Correct"
      ]
     },
     "metadata": {},
     "output_type": "display_data"
    }
   ],
   "source": [
    "def wants_all_toppings(ketchup, mustard, onion):\n",
    "    \"\"\"Return whether the customer wants \"the works\" (all 3 toppings)\n",
    "    \"\"\"\n",
    "    return (ketchup and mustard and onion)\n",
    "    pass\n",
    "\n",
    "# Check your answer\n",
    "q5.a.check()"
   ]
  },
  {
   "cell_type": "code",
   "execution_count": 14,
   "id": "cd4ccaa7",
   "metadata": {
    "execution": {
     "iopub.execute_input": "2025-05-03T15:43:18.589599Z",
     "iopub.status.busy": "2025-05-03T15:43:18.589252Z",
     "iopub.status.idle": "2025-05-03T15:43:18.593889Z",
     "shell.execute_reply": "2025-05-03T15:43:18.592684Z"
    },
    "papermill": {
     "duration": 0.017749,
     "end_time": "2025-05-03T15:43:18.595665",
     "exception": false,
     "start_time": "2025-05-03T15:43:18.577916",
     "status": "completed"
    },
    "tags": []
   },
   "outputs": [],
   "source": [
    "#q5.a.hint()\n",
    "#q5.a.solution()"
   ]
  },
  {
   "cell_type": "markdown",
   "id": "8b50bd0c",
   "metadata": {
    "papermill": {
     "duration": 0.008504,
     "end_time": "2025-05-03T15:43:18.613140",
     "exception": false,
     "start_time": "2025-05-03T15:43:18.604636",
     "status": "completed"
    },
    "tags": []
   },
   "source": [
    "# 5b.\n",
    "\n",
    "For the next function, fill in the body to match the English description in the docstring. "
   ]
  },
  {
   "cell_type": "code",
   "execution_count": 15,
   "id": "87e4d59c",
   "metadata": {
    "execution": {
     "iopub.execute_input": "2025-05-03T15:43:18.631960Z",
     "iopub.status.busy": "2025-05-03T15:43:18.630999Z",
     "iopub.status.idle": "2025-05-03T15:43:18.639861Z",
     "shell.execute_reply": "2025-05-03T15:43:18.638973Z"
    },
    "papermill": {
     "duration": 0.020252,
     "end_time": "2025-05-03T15:43:18.641504",
     "exception": false,
     "start_time": "2025-05-03T15:43:18.621252",
     "status": "completed"
    },
    "tags": []
   },
   "outputs": [
    {
     "data": {
      "application/javascript": [
       "parent.postMessage({\"jupyterEvent\": \"custom.exercise_interaction\", \"data\": {\"outcomeType\": 1, \"valueTowardsCompletion\": 0.2, \"interactionType\": 1, \"questionType\": 2, \"questionId\": \"5.2_PlainDog\", \"learnToolsVersion\": \"0.3.5\", \"failureMessage\": \"\", \"exceptionClass\": \"\", \"trace\": \"\"}}, \"*\")"
      ],
      "text/plain": [
       "<IPython.core.display.Javascript object>"
      ]
     },
     "metadata": {},
     "output_type": "display_data"
    },
    {
     "data": {
      "text/markdown": [
       "<span style=\"color:#33cc33\">Correct:</span> \n",
       "\n",
       "One solution looks like:\n",
       "```python\n",
       "return not ketchup and not mustard and not onion\n",
       "```\n",
       "\n",
       "We can also [\"factor out\" the nots](https://en.wikipedia.org/wiki/De_Morgan%27s_laws) to get:\n",
       "\n",
       "```python\n",
       "return not (ketchup or mustard or onion)\n",
       "```"
      ],
      "text/plain": [
       "Correct: \n",
       "\n",
       "One solution looks like:\n",
       "```python\n",
       "return not ketchup and not mustard and not onion\n",
       "```\n",
       "\n",
       "We can also [\"factor out\" the nots](https://en.wikipedia.org/wiki/De_Morgan%27s_laws) to get:\n",
       "\n",
       "```python\n",
       "return not (ketchup or mustard or onion)\n",
       "```"
      ]
     },
     "metadata": {},
     "output_type": "display_data"
    }
   ],
   "source": [
    "def wants_plain_hotdog(ketchup, mustard, onion):\n",
    "    \"\"\"Return whether the customer wants a plain hot dog with no toppings.\n",
    "    \"\"\"\n",
    "    return not ( ketchup or mustard or  onion)\n",
    "    pass\n",
    "\n",
    "# Check your answer\n",
    "q5.b.check()"
   ]
  },
  {
   "cell_type": "code",
   "execution_count": 16,
   "id": "2b5244ea",
   "metadata": {
    "execution": {
     "iopub.execute_input": "2025-05-03T15:43:18.660182Z",
     "iopub.status.busy": "2025-05-03T15:43:18.659782Z",
     "iopub.status.idle": "2025-05-03T15:43:18.664625Z",
     "shell.execute_reply": "2025-05-03T15:43:18.663506Z"
    },
    "papermill": {
     "duration": 0.016851,
     "end_time": "2025-05-03T15:43:18.666668",
     "exception": false,
     "start_time": "2025-05-03T15:43:18.649817",
     "status": "completed"
    },
    "tags": []
   },
   "outputs": [],
   "source": [
    "#q5.b.hint()\n",
    "#q5.b.solution()"
   ]
  },
  {
   "cell_type": "markdown",
   "id": "dcbbc699",
   "metadata": {
    "papermill": {
     "duration": 0.008543,
     "end_time": "2025-05-03T15:43:18.689571",
     "exception": false,
     "start_time": "2025-05-03T15:43:18.681028",
     "status": "completed"
    },
    "tags": []
   },
   "source": [
    "# 5c.\n",
    "\n",
    "You know what to do: for the next function, fill in the body to match the English description in the docstring."
   ]
  },
  {
   "cell_type": "code",
   "execution_count": 17,
   "id": "460002a5",
   "metadata": {
    "execution": {
     "iopub.execute_input": "2025-05-03T15:43:18.708989Z",
     "iopub.status.busy": "2025-05-03T15:43:18.708358Z",
     "iopub.status.idle": "2025-05-03T15:43:18.718866Z",
     "shell.execute_reply": "2025-05-03T15:43:18.717697Z"
    },
    "papermill": {
     "duration": 0.02289,
     "end_time": "2025-05-03T15:43:18.720894",
     "exception": false,
     "start_time": "2025-05-03T15:43:18.698004",
     "status": "completed"
    },
    "tags": []
   },
   "outputs": [
    {
     "data": {
      "application/javascript": [
       "parent.postMessage({\"jupyterEvent\": \"custom.exercise_interaction\", \"data\": {\"outcomeType\": 1, \"valueTowardsCompletion\": 0.2, \"interactionType\": 1, \"questionType\": 2, \"questionId\": \"5.3_OneSauce\", \"learnToolsVersion\": \"0.3.5\", \"failureMessage\": \"\", \"exceptionClass\": \"\", \"trace\": \"\"}}, \"*\")"
      ],
      "text/plain": [
       "<IPython.core.display.Javascript object>"
      ]
     },
     "metadata": {},
     "output_type": "display_data"
    },
    {
     "data": {
      "text/markdown": [
       "<span style=\"color:#33cc33\">Correct</span>"
      ],
      "text/plain": [
       "Correct"
      ]
     },
     "metadata": {},
     "output_type": "display_data"
    }
   ],
   "source": [
    "def exactly_one_sauce(ketchup, mustard, onion):\n",
    "    \"\"\"Return whether the customer wants either ketchup or mustard, but not both.\n",
    "    (You may be familiar with this operation under the name \"exclusive or\")\n",
    "    \"\"\"\n",
    "    return (ketchup and not mustard ) or (mustard and not ketchup )\n",
    "    pass\n",
    "\n",
    "# Check your answer\n",
    "q5.c.check()"
   ]
  },
  {
   "cell_type": "code",
   "execution_count": 18,
   "id": "b72b588e",
   "metadata": {
    "execution": {
     "iopub.execute_input": "2025-05-03T15:43:18.745141Z",
     "iopub.status.busy": "2025-05-03T15:43:18.744692Z",
     "iopub.status.idle": "2025-05-03T15:43:18.750400Z",
     "shell.execute_reply": "2025-05-03T15:43:18.749459Z"
    },
    "papermill": {
     "duration": 0.018804,
     "end_time": "2025-05-03T15:43:18.752770",
     "exception": false,
     "start_time": "2025-05-03T15:43:18.733966",
     "status": "completed"
    },
    "tags": []
   },
   "outputs": [],
   "source": [
    "#q5.c.hint()\n",
    "#q5.c.solution()"
   ]
  },
  {
   "cell_type": "markdown",
   "id": "d70d135f",
   "metadata": {
    "papermill": {
     "duration": 0.009516,
     "end_time": "2025-05-03T15:43:18.778354",
     "exception": false,
     "start_time": "2025-05-03T15:43:18.768838",
     "status": "completed"
    },
    "tags": []
   },
   "source": [
    "# 6. <span title=\"A bit spicy\" style=\"color: darkgreen \">🌶️</span>\n",
    "\n",
    "We’ve seen that calling `bool()` on an integer returns `False` if it’s equal to 0 and `True` otherwise. What happens if we call `int()` on a bool? Try it out in the notebook cell below.\n",
    "\n",
    "Can you take advantage of this to write a succinct function that corresponds to the English sentence \"does the customer want exactly one topping?\"?"
   ]
  },
  {
   "cell_type": "code",
   "execution_count": 19,
   "id": "0c117ce4",
   "metadata": {
    "execution": {
     "iopub.execute_input": "2025-05-03T15:43:18.800000Z",
     "iopub.status.busy": "2025-05-03T15:43:18.799644Z",
     "iopub.status.idle": "2025-05-03T15:43:18.811228Z",
     "shell.execute_reply": "2025-05-03T15:43:18.809918Z"
    },
    "papermill": {
     "duration": 0.025687,
     "end_time": "2025-05-03T15:43:18.813782",
     "exception": false,
     "start_time": "2025-05-03T15:43:18.788095",
     "status": "completed"
    },
    "tags": []
   },
   "outputs": [
    {
     "data": {
      "application/javascript": [
       "parent.postMessage({\"jupyterEvent\": \"custom.exercise_interaction\", \"data\": {\"outcomeType\": 1, \"valueTowardsCompletion\": 0.2, \"interactionType\": 1, \"questionType\": 2, \"questionId\": \"6_OneTopping\", \"learnToolsVersion\": \"0.3.5\", \"failureMessage\": \"\", \"exceptionClass\": \"\", \"trace\": \"\"}}, \"*\")"
      ],
      "text/plain": [
       "<IPython.core.display.Javascript object>"
      ]
     },
     "metadata": {},
     "output_type": "display_data"
    },
    {
     "data": {
      "text/markdown": [
       "<span style=\"color:#33cc33\">Correct:</span> \n",
       "\n",
       "This condition would be pretty complicated to express using just `and`, `or` and `not`, but using boolean-to-integer conversion gives us this short solution:\n",
       "```python\n",
       "return (int(ketchup) + int(mustard) + int(onion)) == 1\n",
       "```\n",
       "\n",
       "Fun fact: we don't technically need to call `int` on the arguments. Just by doing addition with booleans, Python implicitly does the integer conversion. So we could also write...\n",
       "\n",
       "```python\n",
       "return (ketchup + mustard + onion) == 1\n",
       "```"
      ],
      "text/plain": [
       "Correct: \n",
       "\n",
       "This condition would be pretty complicated to express using just `and`, `or` and `not`, but using boolean-to-integer conversion gives us this short solution:\n",
       "```python\n",
       "return (int(ketchup) + int(mustard) + int(onion)) == 1\n",
       "```\n",
       "\n",
       "Fun fact: we don't technically need to call `int` on the arguments. Just by doing addition with booleans, Python implicitly does the integer conversion. So we could also write...\n",
       "\n",
       "```python\n",
       "return (ketchup + mustard + onion) == 1\n",
       "```"
      ]
     },
     "metadata": {},
     "output_type": "display_data"
    }
   ],
   "source": [
    "def exactly_one_topping(ketchup, mustard, onion):\n",
    "    \"\"\"Return whether the customer wants exactly one of the three available toppings\n",
    "    on their hot dog.\n",
    "    \"\"\"\n",
    "    return (ketchup and not mustard and not onion) or (mustard and not ketchup and not onion) or (onion and not ketchup and not mustard )\n",
    "    pass\n",
    "\n",
    "# Check your answer\n",
    "q6.check()"
   ]
  },
  {
   "cell_type": "code",
   "execution_count": 20,
   "id": "d624f44d",
   "metadata": {
    "execution": {
     "iopub.execute_input": "2025-05-03T15:43:18.837962Z",
     "iopub.status.busy": "2025-05-03T15:43:18.837632Z",
     "iopub.status.idle": "2025-05-03T15:43:18.842451Z",
     "shell.execute_reply": "2025-05-03T15:43:18.841467Z"
    },
    "papermill": {
     "duration": 0.018246,
     "end_time": "2025-05-03T15:43:18.845755",
     "exception": false,
     "start_time": "2025-05-03T15:43:18.827509",
     "status": "completed"
    },
    "tags": []
   },
   "outputs": [],
   "source": [
    "#q6.hint()\n",
    "#q6.solution()"
   ]
  },
  {
   "cell_type": "markdown",
   "id": "6b660f18",
   "metadata": {
    "papermill": {
     "duration": 0.008838,
     "end_time": "2025-05-03T15:43:18.869805",
     "exception": false,
     "start_time": "2025-05-03T15:43:18.860967",
     "status": "completed"
    },
    "tags": []
   },
   "source": [
    "# 7. <span title=\"A bit spicy\" style=\"color: darkgreen \">🌶️</span> (Optional)\n",
    "\n",
    "In this problem we'll be working with a simplified version of [blackjack](https://en.wikipedia.org/wiki/Blackjack) (aka twenty-one). In this version there is one player (who you'll control) and a dealer. Play proceeds as follows:\n",
    "\n",
    "- The player is dealt two face-up cards. The dealer is dealt one face-up card.\n",
    "- The player may ask to be dealt another card ('hit') as many times as they wish. If the sum of their cards exceeds 21, they lose the round immediately.\n",
    "- The dealer then deals additional cards to himself until either:\n",
    "    - the sum of the dealer's cards exceeds 21, in which case the player wins the round\n",
    "    - the sum of the dealer's cards is greater than or equal to 17. If the player's total is greater than the dealer's, the player wins. Otherwise, the dealer wins (even in case of a tie).\n",
    "    \n",
    "When calculating the sum of cards, Jack, Queen, and King count for 10. Aces can count as 1 or 11 (when referring to a player's \"total\" above, we mean the largest total that can be made without exceeding 21. So e.g. A+8 = 19, A+8+8 = 17)\n",
    "\n",
    "For this problem, you'll write a function representing the player's decision-making strategy in this game. We've provided a very unintelligent implementation below:"
   ]
  },
  {
   "cell_type": "code",
   "execution_count": 21,
   "id": "f2e69489",
   "metadata": {
    "execution": {
     "iopub.execute_input": "2025-05-03T15:43:18.889536Z",
     "iopub.status.busy": "2025-05-03T15:43:18.889171Z",
     "iopub.status.idle": "2025-05-03T15:43:18.894633Z",
     "shell.execute_reply": "2025-05-03T15:43:18.893517Z"
    },
    "papermill": {
     "duration": 0.018494,
     "end_time": "2025-05-03T15:43:18.897460",
     "exception": false,
     "start_time": "2025-05-03T15:43:18.878966",
     "status": "completed"
    },
    "tags": []
   },
   "outputs": [],
   "source": [
    "def should_hit(dealer_total, player_total, player_low_aces, player_high_aces):\n",
    "    \"\"\"Return True if the player should hit (request another card) given the current game\n",
    "    state, or False if the player should stay.\n",
    "    When calculating a hand's total value, we count aces as \"high\" (with value 11) if doing so\n",
    "    doesn't bring the total above 21, otherwise we count them as low (with value 1). \n",
    "    For example, if the player's hand is {A, A, A, 7}, we will count it as 11 + 1 + 1 + 7,\n",
    "    and therefore set player_total=20, player_low_aces=2, player_high_aces=1.\n",
    "    \"\"\"\n",
    "    return False"
   ]
  },
  {
   "cell_type": "markdown",
   "id": "9853d32f",
   "metadata": {
    "papermill": {
     "duration": 0.009237,
     "end_time": "2025-05-03T15:43:18.922548",
     "exception": false,
     "start_time": "2025-05-03T15:43:18.913311",
     "status": "completed"
    },
    "tags": []
   },
   "source": [
    "This very conservative agent *always* sticks with the hand of two cards that they're dealt.\n",
    "\n",
    "We'll be simulating games between your player agent and our own dealer agent by calling your function.\n",
    "\n",
    "Try running the function below to see an example of a simulated game:"
   ]
  },
  {
   "cell_type": "code",
   "execution_count": 22,
   "id": "7c5d382d",
   "metadata": {
    "execution": {
     "iopub.execute_input": "2025-05-03T15:43:18.941996Z",
     "iopub.status.busy": "2025-05-03T15:43:18.941678Z",
     "iopub.status.idle": "2025-05-03T15:43:18.951068Z",
     "shell.execute_reply": "2025-05-03T15:43:18.948945Z"
    },
    "papermill": {
     "duration": 0.02165,
     "end_time": "2025-05-03T15:43:18.953779",
     "exception": false,
     "start_time": "2025-05-03T15:43:18.932129",
     "status": "completed"
    },
    "tags": []
   },
   "outputs": [
    {
     "name": "stdout",
     "output_type": "stream",
     "text": [
      "Player starts with 2 and 5 (total = 7)\n",
      "Dealer starts with 10\n",
      "\n",
      "__Player's turn__\n",
      "Player stays\n",
      "\n",
      "__Dealer's turn__\n",
      "Dealer hits and receives 3. (total = 13)\n",
      "Dealer hits and receives J. (total = 23)\n",
      "Dealer busts! Player wins.\n"
     ]
    }
   ],
   "source": [
    "q7.simulate_one_game()"
   ]
  },
  {
   "cell_type": "markdown",
   "id": "2eec721e",
   "metadata": {
    "papermill": {
     "duration": 0.008621,
     "end_time": "2025-05-03T15:43:18.977393",
     "exception": false,
     "start_time": "2025-05-03T15:43:18.968772",
     "status": "completed"
    },
    "tags": []
   },
   "source": [
    "The real test of your agent's mettle is their average win rate over many games. Try calling the function below to simulate 50000 games of blackjack (it may take a couple seconds):"
   ]
  },
  {
   "cell_type": "code",
   "execution_count": 23,
   "id": "881d1e9b",
   "metadata": {
    "execution": {
     "iopub.execute_input": "2025-05-03T15:43:18.999569Z",
     "iopub.status.busy": "2025-05-03T15:43:18.999224Z",
     "iopub.status.idle": "2025-05-03T15:43:19.950748Z",
     "shell.execute_reply": "2025-05-03T15:43:19.949493Z"
    },
    "papermill": {
     "duration": 0.964131,
     "end_time": "2025-05-03T15:43:19.952231",
     "exception": false,
     "start_time": "2025-05-03T15:43:18.988100",
     "status": "completed"
    },
    "tags": []
   },
   "outputs": [
    {
     "name": "stdout",
     "output_type": "stream",
     "text": [
      "Player won 18943 out of 50000 games (win rate = 37.9%)\n"
     ]
    }
   ],
   "source": [
    "q7.simulate(n_games=50000)"
   ]
  },
  {
   "cell_type": "markdown",
   "id": "7718c4a4",
   "metadata": {
    "papermill": {
     "duration": 0.008584,
     "end_time": "2025-05-03T15:43:19.971216",
     "exception": false,
     "start_time": "2025-05-03T15:43:19.962632",
     "status": "completed"
    },
    "tags": []
   },
   "source": [
    "Our dumb agent that completely ignores the game state still manages to win shockingly often!\n",
    "\n",
    "Try adding some more smarts to the `should_hit` function and see how it affects the results."
   ]
  },
  {
   "cell_type": "code",
   "execution_count": 24,
   "id": "e372551f",
   "metadata": {
    "execution": {
     "iopub.execute_input": "2025-05-03T15:43:19.990122Z",
     "iopub.status.busy": "2025-05-03T15:43:19.989809Z",
     "iopub.status.idle": "2025-05-03T15:43:20.086049Z",
     "shell.execute_reply": "2025-05-03T15:43:20.084146Z"
    },
    "papermill": {
     "duration": 0.107556,
     "end_time": "2025-05-03T15:43:20.087795",
     "exception": false,
     "start_time": "2025-05-03T15:43:19.980239",
     "status": "completed"
    },
    "tags": []
   },
   "outputs": [
    {
     "name": "stdout",
     "output_type": "stream",
     "text": [
      "Player won 1901 out of 5000 games (win rate = 38.0%)\n"
     ]
    }
   ],
   "source": [
    "def should_hit(dealer_total, player_total, player_low_aces, player_high_aces):\n",
    "    \"\"\"Return True if the player should hit (request another card) given the current game\n",
    "    state, or False if the player should stay.\n",
    "    When calculating a hand's total value, we count aces as \"high\" (with value 11) if doing so\n",
    "    doesn't bring the total above 21, otherwise we count them as low (with value 1). \n",
    "    For example, if the player's hand is {A, A, A, 7}, we will count it as 11 + 1 + 1 + 7,\n",
    "    and therefore set player_total=20, player_low_aces=2, player_high_aces=1.\n",
    "    \"\"\"\n",
    "    return False\n",
    "\n",
    "q7.simulate(n_games=5000)"
   ]
  },
  {
   "cell_type": "markdown",
   "id": "9cf29a4e",
   "metadata": {
    "papermill": {
     "duration": 0.009491,
     "end_time": "2025-05-03T15:43:20.106069",
     "exception": false,
     "start_time": "2025-05-03T15:43:20.096578",
     "status": "completed"
    },
    "tags": []
   },
   "source": [
    "# Keep Going\n",
    "\n",
    "Learn about **[lists and tuples](https://www.kaggle.com/colinmorris/lists)** to handle multiple items of data in a systematic way."
   ]
  },
  {
   "cell_type": "markdown",
   "id": "e41e467d",
   "metadata": {
    "papermill": {
     "duration": 0.010556,
     "end_time": "2025-05-03T15:43:20.126630",
     "exception": false,
     "start_time": "2025-05-03T15:43:20.116074",
     "status": "completed"
    },
    "tags": []
   },
   "source": [
    "---\n",
    "\n",
    "\n",
    "\n",
    "\n",
    "*Have questions or comments? Visit the [course discussion forum](https://www.kaggle.com/learn/python/discussion) to chat with other learners.*"
   ]
  }
 ],
 "metadata": {
  "kaggle": {
   "accelerator": "none",
   "dataSources": [],
   "isGpuEnabled": false,
   "isInternetEnabled": false,
   "language": "python",
   "sourceType": "notebook"
  },
  "kernelspec": {
   "display_name": "Python 3",
   "language": "python",
   "name": "python3"
  },
  "language_info": {
   "codemirror_mode": {
    "name": "ipython",
    "version": 3
   },
   "file_extension": ".py",
   "mimetype": "text/x-python",
   "name": "python",
   "nbconvert_exporter": "python",
   "pygments_lexer": "ipython3",
   "version": "3.11.11"
  },
  "learntools_metadata": {
   "lesson_index": 2,
   "type": "exercise"
  },
  "papermill": {
   "default_parameters": {},
   "duration": 11.162207,
   "end_time": "2025-05-03T15:43:20.756851",
   "environment_variables": {},
   "exception": null,
   "input_path": "__notebook__.ipynb",
   "output_path": "__notebook__.ipynb",
   "parameters": {},
   "start_time": "2025-05-03T15:43:09.594644",
   "version": "2.6.0"
  }
 },
 "nbformat": 4,
 "nbformat_minor": 5
}
