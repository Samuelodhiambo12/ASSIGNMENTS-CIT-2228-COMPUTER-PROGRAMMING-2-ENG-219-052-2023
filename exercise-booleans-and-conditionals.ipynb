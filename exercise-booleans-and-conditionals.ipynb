{
 "cells": [
  {
   "cell_type": "markdown",
   "id": "7bd6dc02",
   "metadata": {
    "papermill": {
     "duration": 0.007107,
     "end_time": "2025-04-28T19:18:06.594058",
     "exception": false,
     "start_time": "2025-04-28T19:18:06.586951",
     "status": "completed"
    },
    "tags": []
   },
   "source": [
    "**This notebook is an exercise in the [Python](https://www.kaggle.com/learn/python) course.  You can reference the tutorial at [this link](https://www.kaggle.com/colinmorris/booleans-and-conditionals).**\n",
    "\n",
    "---\n"
   ]
  },
  {
   "cell_type": "markdown",
   "id": "d7733b95",
   "metadata": {
    "papermill": {
     "duration": 0.007018,
     "end_time": "2025-04-28T19:18:06.607642",
     "exception": false,
     "start_time": "2025-04-28T19:18:06.600624",
     "status": "completed"
    },
    "tags": []
   },
   "source": [
    "In this exercise, you'll put to work what you have learned about booleans and conditionals.\n",
    "\n",
    "To get started, **run the setup code below** before writing your own code (and if you leave this notebook and come back later, don't forget to run the setup code again)."
   ]
  },
  {
   "cell_type": "code",
   "execution_count": 1,
   "id": "934c8d5f",
   "metadata": {
    "execution": {
     "iopub.execute_input": "2025-04-28T19:18:06.621297Z",
     "iopub.status.busy": "2025-04-28T19:18:06.620888Z",
     "iopub.status.idle": "2025-04-28T19:18:08.519428Z",
     "shell.execute_reply": "2025-04-28T19:18:08.518319Z"
    },
    "papermill": {
     "duration": 1.907475,
     "end_time": "2025-04-28T19:18:08.521198",
     "exception": false,
     "start_time": "2025-04-28T19:18:06.613723",
     "status": "completed"
    },
    "tags": []
   },
   "outputs": [
    {
     "name": "stdout",
     "output_type": "stream",
     "text": [
      "Setup complete.\n"
     ]
    }
   ],
   "source": [
    "from learntools.core import binder; binder.bind(globals())\n",
    "from learntools.python.ex3 import *\n",
    "print('Setup complete.')"
   ]
  },
  {
   "cell_type": "markdown",
   "id": "4650b50b",
   "metadata": {
    "papermill": {
     "duration": 0.006064,
     "end_time": "2025-04-28T19:18:08.533873",
     "exception": false,
     "start_time": "2025-04-28T19:18:08.527809",
     "status": "completed"
    },
    "tags": []
   },
   "source": [
    "# 1.\n",
    "\n",
    "Many programming languages have [`sign`](https://en.wikipedia.org/wiki/Sign_function) available as a built-in function. Python doesn't, but we can define our own!\n",
    "\n",
    "In the cell below, define a function called `sign` which takes a numerical argument and returns -1 if it's negative, 1 if it's positive, and 0 if it's 0."
   ]
  },
  {
   "cell_type": "code",
   "execution_count": 2,
   "id": "213c204d",
   "metadata": {
    "execution": {
     "iopub.execute_input": "2025-04-28T19:18:08.547701Z",
     "iopub.status.busy": "2025-04-28T19:18:08.547268Z",
     "iopub.status.idle": "2025-04-28T19:18:08.556528Z",
     "shell.execute_reply": "2025-04-28T19:18:08.555670Z"
    },
    "papermill": {
     "duration": 0.017792,
     "end_time": "2025-04-28T19:18:08.558040",
     "exception": false,
     "start_time": "2025-04-28T19:18:08.540248",
     "status": "completed"
    },
    "tags": []
   },
   "outputs": [
    {
     "data": {
      "application/javascript": [
       "parent.postMessage({\"jupyterEvent\": \"custom.exercise_interaction\", \"data\": {\"outcomeType\": 1, \"valueTowardsCompletion\": 0.2, \"interactionType\": 1, \"questionType\": 2, \"questionId\": \"1_SignFunctionProblem\", \"learnToolsVersion\": \"0.3.5\", \"failureMessage\": \"\", \"exceptionClass\": \"\", \"trace\": \"\"}}, \"*\")"
      ],
      "text/plain": [
       "<IPython.core.display.Javascript object>"
      ]
     },
     "metadata": {},
     "output_type": "display_data"
    },
    {
     "data": {
      "text/markdown": [
       "<span style=\"color:#33cc33\">Correct</span>"
      ],
      "text/plain": [
       "Correct"
      ]
     },
     "metadata": {},
     "output_type": "display_data"
    }
   ],
   "source": [
    "def sign(y):\n",
    " if y > 0:\n",
    "     return 1\n",
    " elif y< 0:\n",
    "     return -1\n",
    " else:\n",
    "     return 0\n",
    "\n",
    "# Check your answer\n",
    "q1.check()"
   ]
  },
  {
   "cell_type": "code",
   "execution_count": 3,
   "id": "31102a01",
   "metadata": {
    "execution": {
     "iopub.execute_input": "2025-04-28T19:18:08.572544Z",
     "iopub.status.busy": "2025-04-28T19:18:08.571742Z",
     "iopub.status.idle": "2025-04-28T19:18:08.575927Z",
     "shell.execute_reply": "2025-04-28T19:18:08.575150Z"
    },
    "papermill": {
     "duration": 0.012797,
     "end_time": "2025-04-28T19:18:08.577359",
     "exception": false,
     "start_time": "2025-04-28T19:18:08.564562",
     "status": "completed"
    },
    "tags": []
   },
   "outputs": [],
   "source": [
    "#q1.solution()"
   ]
  },
  {
   "cell_type": "markdown",
   "id": "dee894dd",
   "metadata": {
    "papermill": {
     "duration": 0.006017,
     "end_time": "2025-04-28T19:18:08.589888",
     "exception": false,
     "start_time": "2025-04-28T19:18:08.583871",
     "status": "completed"
    },
    "tags": []
   },
   "source": [
    "# 2.\n",
    "\n",
    "We've decided to add \"logging\" to our `to_smash` function from the previous exercise."
   ]
  },
  {
   "cell_type": "code",
   "execution_count": 4,
   "id": "d03f4ec4",
   "metadata": {
    "execution": {
     "iopub.execute_input": "2025-04-28T19:18:08.603545Z",
     "iopub.status.busy": "2025-04-28T19:18:08.603202Z",
     "iopub.status.idle": "2025-04-28T19:18:08.609807Z",
     "shell.execute_reply": "2025-04-28T19:18:08.609045Z"
    },
    "papermill": {
     "duration": 0.014881,
     "end_time": "2025-04-28T19:18:08.610996",
     "exception": false,
     "start_time": "2025-04-28T19:18:08.596115",
     "status": "completed"
    },
    "tags": []
   },
   "outputs": [
    {
     "name": "stdout",
     "output_type": "stream",
     "text": [
      "Splitting 91 candies\n"
     ]
    },
    {
     "data": {
      "text/plain": [
       "1"
      ]
     },
     "execution_count": 4,
     "metadata": {},
     "output_type": "execute_result"
    }
   ],
   "source": [
    "def to_smash(total_candies:91):\n",
    "    print(\"Splitting\", total_candies, \"candies\")\n",
    "    return total_candies % 3  \n",
    "\n",
    "to_smash(91)"
   ]
  },
  {
   "cell_type": "markdown",
   "id": "032ce2cd",
   "metadata": {
    "papermill": {
     "duration": 0.006043,
     "end_time": "2025-04-28T19:18:08.623443",
     "exception": false,
     "start_time": "2025-04-28T19:18:08.617400",
     "status": "completed"
    },
    "tags": []
   },
   "source": [
    "What happens if we call it with `total_candies = 1`?"
   ]
  },
  {
   "cell_type": "code",
   "execution_count": 5,
   "id": "636586b3",
   "metadata": {
    "execution": {
     "iopub.execute_input": "2025-04-28T19:18:08.637290Z",
     "iopub.status.busy": "2025-04-28T19:18:08.636992Z",
     "iopub.status.idle": "2025-04-28T19:18:08.642939Z",
     "shell.execute_reply": "2025-04-28T19:18:08.642103Z"
    },
    "papermill": {
     "duration": 0.014389,
     "end_time": "2025-04-28T19:18:08.644222",
     "exception": false,
     "start_time": "2025-04-28T19:18:08.629833",
     "status": "completed"
    },
    "tags": []
   },
   "outputs": [
    {
     "name": "stdout",
     "output_type": "stream",
     "text": [
      "Splitting 1 candies\n"
     ]
    },
    {
     "data": {
      "text/plain": [
       "1"
      ]
     },
     "execution_count": 5,
     "metadata": {},
     "output_type": "execute_result"
    }
   ],
   "source": [
    "to_smash(1)"
   ]
  },
  {
   "cell_type": "markdown",
   "id": "6af2cade",
   "metadata": {
    "papermill": {
     "duration": 0.00623,
     "end_time": "2025-04-28T19:18:08.657115",
     "exception": false,
     "start_time": "2025-04-28T19:18:08.650885",
     "status": "completed"
    },
    "tags": []
   },
   "source": [
    "That isn't great grammar!\n",
    "\n",
    "Modify the definition in the cell below to correct the grammar of our print statement. (If there's only one candy, we should use the singular \"candy\" instead of the plural \"candies\")"
   ]
  },
  {
   "cell_type": "code",
   "execution_count": 6,
   "id": "88d9228b",
   "metadata": {
    "execution": {
     "iopub.execute_input": "2025-04-28T19:18:08.671382Z",
     "iopub.status.busy": "2025-04-28T19:18:08.671107Z",
     "iopub.status.idle": "2025-04-28T19:18:08.678267Z",
     "shell.execute_reply": "2025-04-28T19:18:08.677417Z"
    },
    "papermill": {
     "duration": 0.016149,
     "end_time": "2025-04-28T19:18:08.679728",
     "exception": false,
     "start_time": "2025-04-28T19:18:08.663579",
     "status": "completed"
    },
    "tags": []
   },
   "outputs": [
    {
     "name": "stdout",
     "output_type": "stream",
     "text": [
      "Splitting 91 candies\n",
      "Splitting  1 candy\n"
     ]
    },
    {
     "data": {
      "text/plain": [
       "1"
      ]
     },
     "execution_count": 6,
     "metadata": {},
     "output_type": "execute_result"
    }
   ],
   "source": [
    "def to_smash(total_candy:91):\n",
    "   if total_candy==1:\n",
    "       print(\"Splitting \",total_candy,\"candy\")\n",
    "   else: \n",
    "    print(\"Splitting\", total_candy, \"candies\")\n",
    "   return total_candy % 3\n",
    "\n",
    "to_smash(91)\n",
    "to_smash(1)"
   ]
  },
  {
   "cell_type": "markdown",
   "id": "5462d69c",
   "metadata": {
    "papermill": {
     "duration": 0.006581,
     "end_time": "2025-04-28T19:18:08.693285",
     "exception": false,
     "start_time": "2025-04-28T19:18:08.686704",
     "status": "completed"
    },
    "tags": []
   },
   "source": [
    "To get credit for completing this problem, and to see the official answer, run the code cell below."
   ]
  },
  {
   "cell_type": "code",
   "execution_count": 7,
   "id": "2fe85045",
   "metadata": {
    "execution": {
     "iopub.execute_input": "2025-04-28T19:18:08.708509Z",
     "iopub.status.busy": "2025-04-28T19:18:08.708207Z",
     "iopub.status.idle": "2025-04-28T19:18:08.712067Z",
     "shell.execute_reply": "2025-04-28T19:18:08.711266Z"
    },
    "papermill": {
     "duration": 0.013009,
     "end_time": "2025-04-28T19:18:08.713603",
     "exception": false,
     "start_time": "2025-04-28T19:18:08.700594",
     "status": "completed"
    },
    "tags": []
   },
   "outputs": [],
   "source": [
    "#q2.solution()"
   ]
  },
  {
   "cell_type": "markdown",
   "id": "98b4423a",
   "metadata": {
    "papermill": {
     "duration": 0.006462,
     "end_time": "2025-04-28T19:18:08.727071",
     "exception": false,
     "start_time": "2025-04-28T19:18:08.720609",
     "status": "completed"
    },
    "tags": []
   },
   "source": [
    "# 3. <span title=\"A bit spicy\" style=\"color: darkgreen \">🌶️</span>\n",
    "\n",
    "In the tutorial, we talked about deciding whether we're prepared for the weather. I said that I'm safe from today's weather if...\n",
    "- I have an umbrella...\n",
    "- or if the rain isn't too heavy and I have a hood...\n",
    "- otherwise, I'm still fine unless it's raining *and* it's a workday\n",
    "\n",
    "The function below uses our first attempt at turning this logic into a Python expression. I claimed that there was a bug in that code. Can you find it?\n",
    "\n",
    "To prove that `prepared_for_weather` is buggy, come up with a set of inputs where either:\n",
    "- the function returns `False` (but should have returned `True`), or\n",
    "- the function returned `True` (but should have returned `False`).\n",
    "\n",
    "To get credit for completing this question, your code should return a <font color='#33cc33'>Correct</font> result."
   ]
  },
  {
   "cell_type": "code",
   "execution_count": 8,
   "id": "a864536d",
   "metadata": {
    "execution": {
     "iopub.execute_input": "2025-04-28T19:18:08.741639Z",
     "iopub.status.busy": "2025-04-28T19:18:08.741323Z",
     "iopub.status.idle": "2025-04-28T19:18:08.750529Z",
     "shell.execute_reply": "2025-04-28T19:18:08.749565Z"
    },
    "papermill": {
     "duration": 0.01851,
     "end_time": "2025-04-28T19:18:08.752216",
     "exception": false,
     "start_time": "2025-04-28T19:18:08.733706",
     "status": "completed"
    },
    "tags": []
   },
   "outputs": [
    {
     "name": "stdout",
     "output_type": "stream",
     "text": [
      "False\n"
     ]
    },
    {
     "data": {
      "application/javascript": [
       "parent.postMessage({\"jupyterEvent\": \"custom.exercise_interaction\", \"data\": {\"outcomeType\": 1, \"valueTowardsCompletion\": 0.2, \"interactionType\": 1, \"questionType\": 1, \"questionId\": \"3_WeatherDebug\", \"learnToolsVersion\": \"0.3.5\", \"failureMessage\": \"\", \"exceptionClass\": \"\", \"trace\": \"\"}}, \"*\")"
      ],
      "text/plain": [
       "<IPython.core.display.Javascript object>"
      ]
     },
     "metadata": {},
     "output_type": "display_data"
    },
    {
     "data": {
      "text/markdown": [
       "<span style=\"color:#33cc33\">Correct:</span> \n",
       "\n",
       "One example of a failing test case is:\n",
       "\n",
       "```python\n",
       "have_umbrella = False\n",
       "rain_level = 0.0\n",
       "have_hood = False\n",
       "is_workday = False\n",
       "```\n",
       "\n",
       "Clearly we're prepared for the weather in this case. It's not raining. Not only that, it's not a workday, so we don't even need to leave the house! But our function will return False on these inputs.\n",
       "\n",
       "The key problem is that Python implictly parenthesizes the last part as:\n",
       "\n",
       "```python\n",
       "(not (rain_level > 0)) and is_workday\n",
       "```\n",
       "\n",
       "Whereas what we were trying to express would look more like:\n",
       "\n",
       "```python\n",
       "not (rain_level > 0 and is_workday)\n",
       "```\n"
      ],
      "text/plain": [
       "Correct: \n",
       "\n",
       "One example of a failing test case is:\n",
       "\n",
       "```python\n",
       "have_umbrella = False\n",
       "rain_level = 0.0\n",
       "have_hood = False\n",
       "is_workday = False\n",
       "```\n",
       "\n",
       "Clearly we're prepared for the weather in this case. It's not raining. Not only that, it's not a workday, so we don't even need to leave the house! But our function will return False on these inputs.\n",
       "\n",
       "The key problem is that Python implictly parenthesizes the last part as:\n",
       "\n",
       "```python\n",
       "(not (rain_level > 0)) and is_workday\n",
       "```\n",
       "\n",
       "Whereas what we were trying to express would look more like:\n",
       "\n",
       "```python\n",
       "not (rain_level > 0 and is_workday)\n",
       "```"
      ]
     },
     "metadata": {},
     "output_type": "display_data"
    }
   ],
   "source": [
    "def prepared_for_weather(have_umbrella, rain_level, have_hood, is_workday):\n",
    "    # Don't change this code. Our goal is just to find the bug, not fix it!\n",
    "    return have_umbrella or rain_level < 5 and have_hood or not rain_level >0 and is_workday\n",
    "\n",
    "# Change the values of these inputs so they represent a case where prepared_for_weather\n",
    "# returns the wrong answer.\n",
    "have_umbrella = False\n",
    "rain_level = 0\n",
    "have_hood = False\n",
    "is_workday = False \n",
    "\n",
    "# Check what the function returns given the current values of the variables above\n",
    "actual = prepared_for_weather(have_umbrella, rain_level, have_hood, is_workday)\n",
    "print(actual)\n",
    "\n",
    "# Check your answer\n",
    "q3.check()"
   ]
  },
  {
   "cell_type": "code",
   "execution_count": 9,
   "id": "bec45651",
   "metadata": {
    "execution": {
     "iopub.execute_input": "2025-04-28T19:18:08.767615Z",
     "iopub.status.busy": "2025-04-28T19:18:08.767304Z",
     "iopub.status.idle": "2025-04-28T19:18:08.771123Z",
     "shell.execute_reply": "2025-04-28T19:18:08.770206Z"
    },
    "papermill": {
     "duration": 0.013242,
     "end_time": "2025-04-28T19:18:08.772569",
     "exception": false,
     "start_time": "2025-04-28T19:18:08.759327",
     "status": "completed"
    },
    "tags": []
   },
   "outputs": [],
   "source": [
    "#q3.hint()\n",
    "#q3.solution()"
   ]
  },
  {
   "cell_type": "markdown",
   "id": "c326bc63",
   "metadata": {
    "papermill": {
     "duration": 0.008272,
     "end_time": "2025-04-28T19:18:08.788076",
     "exception": false,
     "start_time": "2025-04-28T19:18:08.779804",
     "status": "completed"
    },
    "tags": []
   },
   "source": [
    "# 4.\n",
    "\n",
    "The function `is_negative` below is implemented correctly - it returns True if the given number is negative and False otherwise.\n",
    "\n",
    "However, it's more verbose than it needs to be. We can actually reduce the number of lines of code in this function by *75%* while keeping the same behaviour. \n",
    "\n",
    "See if you can come up with an equivalent body that uses just **one line** of code, and put it in the function `concise_is_negative`. (HINT: you don't even need Python's ternary syntax)"
   ]
  },
  {
   "cell_type": "code",
   "execution_count": 10,
   "id": "2c2aa43c",
   "metadata": {
    "execution": {
     "iopub.execute_input": "2025-04-28T19:18:08.805326Z",
     "iopub.status.busy": "2025-04-28T19:18:08.804524Z",
     "iopub.status.idle": "2025-04-28T19:18:08.812230Z",
     "shell.execute_reply": "2025-04-28T19:18:08.811617Z"
    },
    "papermill": {
     "duration": 0.016922,
     "end_time": "2025-04-28T19:18:08.813387",
     "exception": false,
     "start_time": "2025-04-28T19:18:08.796465",
     "status": "completed"
    },
    "tags": []
   },
   "outputs": [
    {
     "data": {
      "application/javascript": [
       "parent.postMessage({\"jupyterEvent\": \"custom.exercise_interaction\", \"data\": {\"outcomeType\": 1, \"valueTowardsCompletion\": 0.2, \"interactionType\": 1, \"questionType\": 2, \"questionId\": \"4_ConciseIsNegative\", \"learnToolsVersion\": \"0.3.5\", \"failureMessage\": \"\", \"exceptionClass\": \"\", \"trace\": \"\"}}, \"*\")"
      ],
      "text/plain": [
       "<IPython.core.display.Javascript object>"
      ]
     },
     "metadata": {},
     "output_type": "display_data"
    },
    {
     "data": {
      "text/markdown": [
       "<span style=\"color:#33cc33\">Correct</span>"
      ],
      "text/plain": [
       "Correct"
      ]
     },
     "metadata": {},
     "output_type": "display_data"
    }
   ],
   "source": [
    "def is_negative(number):\n",
    "        if number<0:\n",
    "          return True\n",
    "        else:\n",
    "         return False\n",
    "       \n",
    "def concise_is_negative(number):\n",
    "    return number<0\n",
    "    pass # Your code goes here (try to keep it to one line!)\n",
    "\n",
    "# Check your answer\n",
    "q4.check()"
   ]
  },
  {
   "cell_type": "code",
   "execution_count": 11,
   "id": "46ffad17",
   "metadata": {
    "execution": {
     "iopub.execute_input": "2025-04-28T19:18:08.829073Z",
     "iopub.status.busy": "2025-04-28T19:18:08.828796Z",
     "iopub.status.idle": "2025-04-28T19:18:08.832576Z",
     "shell.execute_reply": "2025-04-28T19:18:08.831799Z"
    },
    "papermill": {
     "duration": 0.01335,
     "end_time": "2025-04-28T19:18:08.834069",
     "exception": false,
     "start_time": "2025-04-28T19:18:08.820719",
     "status": "completed"
    },
    "tags": []
   },
   "outputs": [],
   "source": [
    "#q4.hint()\n",
    "#q4.solution()"
   ]
  },
  {
   "cell_type": "markdown",
   "id": "7c9d464d",
   "metadata": {
    "papermill": {
     "duration": 0.006848,
     "end_time": "2025-04-28T19:18:08.848814",
     "exception": false,
     "start_time": "2025-04-28T19:18:08.841966",
     "status": "completed"
    },
    "tags": []
   },
   "source": [
    "# 5a.\n",
    "\n",
    "The boolean variables `ketchup`, `mustard` and `onion` represent whether a customer wants a particular topping on their hot dog. We want to implement a number of boolean functions that correspond to some yes-or-no questions about the customer's order. For example:"
   ]
  },
  {
   "cell_type": "code",
   "execution_count": 12,
   "id": "1278f203",
   "metadata": {
    "execution": {
     "iopub.execute_input": "2025-04-28T19:18:08.864777Z",
     "iopub.status.busy": "2025-04-28T19:18:08.864074Z",
     "iopub.status.idle": "2025-04-28T19:18:08.868904Z",
     "shell.execute_reply": "2025-04-28T19:18:08.867944Z"
    },
    "papermill": {
     "duration": 0.014389,
     "end_time": "2025-04-28T19:18:08.870378",
     "exception": false,
     "start_time": "2025-04-28T19:18:08.855989",
     "status": "completed"
    },
    "tags": []
   },
   "outputs": [],
   "source": [
    "def onionless(ketchup, mustard, onion):\n",
    "    \"\"\"Return whether the customer doesn't want onions.\n",
    "    \"\"\"\n",
    "    return not onion"
   ]
  },
  {
   "cell_type": "code",
   "execution_count": 13,
   "id": "3f6aa0aa",
   "metadata": {
    "execution": {
     "iopub.execute_input": "2025-04-28T19:18:08.948011Z",
     "iopub.status.busy": "2025-04-28T19:18:08.947294Z",
     "iopub.status.idle": "2025-04-28T19:18:08.954494Z",
     "shell.execute_reply": "2025-04-28T19:18:08.953790Z"
    },
    "papermill": {
     "duration": 0.017863,
     "end_time": "2025-04-28T19:18:08.955893",
     "exception": false,
     "start_time": "2025-04-28T19:18:08.938030",
     "status": "completed"
    },
    "tags": []
   },
   "outputs": [
    {
     "data": {
      "application/javascript": [
       "parent.postMessage({\"jupyterEvent\": \"custom.exercise_interaction\", \"data\": {\"outcomeType\": 1, \"valueTowardsCompletion\": 0.2, \"interactionType\": 1, \"questionType\": 2, \"questionId\": \"5.1_AllToppings\", \"learnToolsVersion\": \"0.3.5\", \"failureMessage\": \"\", \"exceptionClass\": \"\", \"trace\": \"\"}}, \"*\")"
      ],
      "text/plain": [
       "<IPython.core.display.Javascript object>"
      ]
     },
     "metadata": {},
     "output_type": "display_data"
    },
    {
     "data": {
      "text/markdown": [
       "<span style=\"color:#33cc33\">Correct</span>"
      ],
      "text/plain": [
       "Correct"
      ]
     },
     "metadata": {},
     "output_type": "display_data"
    }
   ],
   "source": [
    "def wants_all_toppings(ketchup, mustard, onion):\n",
    "    \"\"\"Return whether the customer wants \"the works\" (all 3 toppings)\n",
    "    \"\"\"\n",
    "    return (ketchup and mustard and onion)\n",
    "    pass\n",
    "\n",
    "# Check your answer\n",
    "q5.a.check()"
   ]
  },
  {
   "cell_type": "code",
   "execution_count": 14,
   "id": "32568967",
   "metadata": {
    "execution": {
     "iopub.execute_input": "2025-04-28T19:18:08.972153Z",
     "iopub.status.busy": "2025-04-28T19:18:08.971870Z",
     "iopub.status.idle": "2025-04-28T19:18:08.976043Z",
     "shell.execute_reply": "2025-04-28T19:18:08.974940Z"
    },
    "papermill": {
     "duration": 0.014074,
     "end_time": "2025-04-28T19:18:08.977646",
     "exception": false,
     "start_time": "2025-04-28T19:18:08.963572",
     "status": "completed"
    },
    "tags": []
   },
   "outputs": [],
   "source": [
    "#q5.a.hint()\n",
    "#q5.a.solution()"
   ]
  },
  {
   "cell_type": "markdown",
   "id": "ea6da06d",
   "metadata": {
    "papermill": {
     "duration": 0.007378,
     "end_time": "2025-04-28T19:18:08.992576",
     "exception": false,
     "start_time": "2025-04-28T19:18:08.985198",
     "status": "completed"
    },
    "tags": []
   },
   "source": [
    "# 5b.\n",
    "\n",
    "For the next function, fill in the body to match the English description in the docstring. "
   ]
  },
  {
   "cell_type": "code",
   "execution_count": 15,
   "id": "eb051558",
   "metadata": {
    "execution": {
     "iopub.execute_input": "2025-04-28T19:18:09.009080Z",
     "iopub.status.busy": "2025-04-28T19:18:09.008738Z",
     "iopub.status.idle": "2025-04-28T19:18:09.016238Z",
     "shell.execute_reply": "2025-04-28T19:18:09.015429Z"
    },
    "papermill": {
     "duration": 0.017523,
     "end_time": "2025-04-28T19:18:09.017655",
     "exception": false,
     "start_time": "2025-04-28T19:18:09.000132",
     "status": "completed"
    },
    "tags": []
   },
   "outputs": [
    {
     "data": {
      "application/javascript": [
       "parent.postMessage({\"jupyterEvent\": \"custom.exercise_interaction\", \"data\": {\"outcomeType\": 1, \"valueTowardsCompletion\": 0.2, \"interactionType\": 1, \"questionType\": 2, \"questionId\": \"5.2_PlainDog\", \"learnToolsVersion\": \"0.3.5\", \"failureMessage\": \"\", \"exceptionClass\": \"\", \"trace\": \"\"}}, \"*\")"
      ],
      "text/plain": [
       "<IPython.core.display.Javascript object>"
      ]
     },
     "metadata": {},
     "output_type": "display_data"
    },
    {
     "data": {
      "text/markdown": [
       "<span style=\"color:#33cc33\">Correct:</span> \n",
       "\n",
       "One solution looks like:\n",
       "```python\n",
       "return not ketchup and not mustard and not onion\n",
       "```\n",
       "\n",
       "We can also [\"factor out\" the nots](https://en.wikipedia.org/wiki/De_Morgan%27s_laws) to get:\n",
       "\n",
       "```python\n",
       "return not (ketchup or mustard or onion)\n",
       "```"
      ],
      "text/plain": [
       "Correct: \n",
       "\n",
       "One solution looks like:\n",
       "```python\n",
       "return not ketchup and not mustard and not onion\n",
       "```\n",
       "\n",
       "We can also [\"factor out\" the nots](https://en.wikipedia.org/wiki/De_Morgan%27s_laws) to get:\n",
       "\n",
       "```python\n",
       "return not (ketchup or mustard or onion)\n",
       "```"
      ]
     },
     "metadata": {},
     "output_type": "display_data"
    }
   ],
   "source": [
    "def wants_plain_hotdog(ketchup, mustard, onion):\n",
    "    \"\"\"Return whether the customer wants a plain hot dog with no toppings.\n",
    "    \"\"\"\n",
    "    return not ( ketchup or mustard or  onion)\n",
    "    pass\n",
    "\n",
    "# Check your answer\n",
    "q5.b.check()"
   ]
  },
  {
   "cell_type": "code",
   "execution_count": 16,
   "id": "3e7b7444",
   "metadata": {
    "execution": {
     "iopub.execute_input": "2025-04-28T19:18:09.034869Z",
     "iopub.status.busy": "2025-04-28T19:18:09.034555Z",
     "iopub.status.idle": "2025-04-28T19:18:09.038348Z",
     "shell.execute_reply": "2025-04-28T19:18:09.037536Z"
    },
    "papermill": {
     "duration": 0.014359,
     "end_time": "2025-04-28T19:18:09.039735",
     "exception": false,
     "start_time": "2025-04-28T19:18:09.025376",
     "status": "completed"
    },
    "tags": []
   },
   "outputs": [],
   "source": [
    "#q5.b.hint()\n",
    "#q5.b.solution()"
   ]
  },
  {
   "cell_type": "markdown",
   "id": "683c6b83",
   "metadata": {
    "papermill": {
     "duration": 0.007404,
     "end_time": "2025-04-28T19:18:09.054845",
     "exception": false,
     "start_time": "2025-04-28T19:18:09.047441",
     "status": "completed"
    },
    "tags": []
   },
   "source": [
    "# 5c.\n",
    "\n",
    "You know what to do: for the next function, fill in the body to match the English description in the docstring."
   ]
  },
  {
   "cell_type": "code",
   "execution_count": 17,
   "id": "38d5cbca",
   "metadata": {
    "execution": {
     "iopub.execute_input": "2025-04-28T19:18:09.071496Z",
     "iopub.status.busy": "2025-04-28T19:18:09.071140Z",
     "iopub.status.idle": "2025-04-28T19:18:09.078373Z",
     "shell.execute_reply": "2025-04-28T19:18:09.077529Z"
    },
    "papermill": {
     "duration": 0.017425,
     "end_time": "2025-04-28T19:18:09.079871",
     "exception": false,
     "start_time": "2025-04-28T19:18:09.062446",
     "status": "completed"
    },
    "tags": []
   },
   "outputs": [
    {
     "data": {
      "application/javascript": [
       "parent.postMessage({\"jupyterEvent\": \"custom.exercise_interaction\", \"data\": {\"outcomeType\": 1, \"valueTowardsCompletion\": 0.2, \"interactionType\": 1, \"questionType\": 2, \"questionId\": \"5.3_OneSauce\", \"learnToolsVersion\": \"0.3.5\", \"failureMessage\": \"\", \"exceptionClass\": \"\", \"trace\": \"\"}}, \"*\")"
      ],
      "text/plain": [
       "<IPython.core.display.Javascript object>"
      ]
     },
     "metadata": {},
     "output_type": "display_data"
    },
    {
     "data": {
      "text/markdown": [
       "<span style=\"color:#33cc33\">Correct</span>"
      ],
      "text/plain": [
       "Correct"
      ]
     },
     "metadata": {},
     "output_type": "display_data"
    }
   ],
   "source": [
    "def exactly_one_sauce(ketchup, mustard, onion):\n",
    "    \"\"\"Return whether the customer wants either ketchup or mustard, but not both.\n",
    "    (You may be familiar with this operation under the name \"exclusive or\")\n",
    "    \"\"\"\n",
    "    return (ketchup and not mustard ) or (mustard and not ketchup )\n",
    "    pass\n",
    "\n",
    "# Check your answer\n",
    "q5.c.check()"
   ]
  },
  {
   "cell_type": "code",
   "execution_count": 18,
   "id": "32d1d66c",
   "metadata": {
    "execution": {
     "iopub.execute_input": "2025-04-28T19:18:09.096927Z",
     "iopub.status.busy": "2025-04-28T19:18:09.096616Z",
     "iopub.status.idle": "2025-04-28T19:18:09.100589Z",
     "shell.execute_reply": "2025-04-28T19:18:09.099693Z"
    },
    "papermill": {
     "duration": 0.01403,
     "end_time": "2025-04-28T19:18:09.101944",
     "exception": false,
     "start_time": "2025-04-28T19:18:09.087914",
     "status": "completed"
    },
    "tags": []
   },
   "outputs": [],
   "source": [
    "#q5.c.hint()\n",
    "#q5.c.solution()"
   ]
  },
  {
   "cell_type": "markdown",
   "id": "a187e789",
   "metadata": {
    "papermill": {
     "duration": 0.007623,
     "end_time": "2025-04-28T19:18:09.117504",
     "exception": false,
     "start_time": "2025-04-28T19:18:09.109881",
     "status": "completed"
    },
    "tags": []
   },
   "source": [
    "# 6. <span title=\"A bit spicy\" style=\"color: darkgreen \">🌶️</span>\n",
    "\n",
    "We’ve seen that calling `bool()` on an integer returns `False` if it’s equal to 0 and `True` otherwise. What happens if we call `int()` on a bool? Try it out in the notebook cell below.\n",
    "\n",
    "Can you take advantage of this to write a succinct function that corresponds to the English sentence \"does the customer want exactly one topping?\"?"
   ]
  },
  {
   "cell_type": "code",
   "execution_count": 19,
   "id": "7abcb635",
   "metadata": {
    "execution": {
     "iopub.execute_input": "2025-04-28T19:18:09.134833Z",
     "iopub.status.busy": "2025-04-28T19:18:09.134045Z",
     "iopub.status.idle": "2025-04-28T19:18:09.141928Z",
     "shell.execute_reply": "2025-04-28T19:18:09.141046Z"
    },
    "papermill": {
     "duration": 0.018022,
     "end_time": "2025-04-28T19:18:09.143312",
     "exception": false,
     "start_time": "2025-04-28T19:18:09.125290",
     "status": "completed"
    },
    "tags": []
   },
   "outputs": [
    {
     "data": {
      "application/javascript": [
       "parent.postMessage({\"jupyterEvent\": \"custom.exercise_interaction\", \"data\": {\"outcomeType\": 1, \"valueTowardsCompletion\": 0.2, \"interactionType\": 1, \"questionType\": 2, \"questionId\": \"6_OneTopping\", \"learnToolsVersion\": \"0.3.5\", \"failureMessage\": \"\", \"exceptionClass\": \"\", \"trace\": \"\"}}, \"*\")"
      ],
      "text/plain": [
       "<IPython.core.display.Javascript object>"
      ]
     },
     "metadata": {},
     "output_type": "display_data"
    },
    {
     "data": {
      "text/markdown": [
       "<span style=\"color:#33cc33\">Correct:</span> \n",
       "\n",
       "This condition would be pretty complicated to express using just `and`, `or` and `not`, but using boolean-to-integer conversion gives us this short solution:\n",
       "```python\n",
       "return (int(ketchup) + int(mustard) + int(onion)) == 1\n",
       "```\n",
       "\n",
       "Fun fact: we don't technically need to call `int` on the arguments. Just by doing addition with booleans, Python implicitly does the integer conversion. So we could also write...\n",
       "\n",
       "```python\n",
       "return (ketchup + mustard + onion) == 1\n",
       "```"
      ],
      "text/plain": [
       "Correct: \n",
       "\n",
       "This condition would be pretty complicated to express using just `and`, `or` and `not`, but using boolean-to-integer conversion gives us this short solution:\n",
       "```python\n",
       "return (int(ketchup) + int(mustard) + int(onion)) == 1\n",
       "```\n",
       "\n",
       "Fun fact: we don't technically need to call `int` on the arguments. Just by doing addition with booleans, Python implicitly does the integer conversion. So we could also write...\n",
       "\n",
       "```python\n",
       "return (ketchup + mustard + onion) == 1\n",
       "```"
      ]
     },
     "metadata": {},
     "output_type": "display_data"
    }
   ],
   "source": [
    "def exactly_one_topping(ketchup, mustard, onion):\n",
    "    \"\"\"Return whether the customer wants exactly one of the three available toppings\n",
    "    on their hot dog.\n",
    "    \"\"\"\n",
    "    return (ketchup and not mustard and not onion) or (mustard and not ketchup and not onion) or (onion and not ketchup and not mustard )\n",
    "    pass\n",
    "\n",
    "# Check your answer\n",
    "q6.check()"
   ]
  },
  {
   "cell_type": "code",
   "execution_count": 20,
   "id": "c80953bb",
   "metadata": {
    "execution": {
     "iopub.execute_input": "2025-04-28T19:18:09.161357Z",
     "iopub.status.busy": "2025-04-28T19:18:09.160764Z",
     "iopub.status.idle": "2025-04-28T19:18:09.164520Z",
     "shell.execute_reply": "2025-04-28T19:18:09.163761Z"
    },
    "papermill": {
     "duration": 0.014017,
     "end_time": "2025-04-28T19:18:09.165876",
     "exception": false,
     "start_time": "2025-04-28T19:18:09.151859",
     "status": "completed"
    },
    "tags": []
   },
   "outputs": [],
   "source": [
    "#q6.hint()\n",
    "#q6.solution()"
   ]
  },
  {
   "cell_type": "markdown",
   "id": "32a4b6a7",
   "metadata": {
    "papermill": {
     "duration": 0.007718,
     "end_time": "2025-04-28T19:18:09.181732",
     "exception": false,
     "start_time": "2025-04-28T19:18:09.174014",
     "status": "completed"
    },
    "tags": []
   },
   "source": [
    "# 7. <span title=\"A bit spicy\" style=\"color: darkgreen \">🌶️</span> (Optional)\n",
    "\n",
    "In this problem we'll be working with a simplified version of [blackjack](https://en.wikipedia.org/wiki/Blackjack) (aka twenty-one). In this version there is one player (who you'll control) and a dealer. Play proceeds as follows:\n",
    "\n",
    "- The player is dealt two face-up cards. The dealer is dealt one face-up card.\n",
    "- The player may ask to be dealt another card ('hit') as many times as they wish. If the sum of their cards exceeds 21, they lose the round immediately.\n",
    "- The dealer then deals additional cards to himself until either:\n",
    "    - the sum of the dealer's cards exceeds 21, in which case the player wins the round\n",
    "    - the sum of the dealer's cards is greater than or equal to 17. If the player's total is greater than the dealer's, the player wins. Otherwise, the dealer wins (even in case of a tie).\n",
    "    \n",
    "When calculating the sum of cards, Jack, Queen, and King count for 10. Aces can count as 1 or 11 (when referring to a player's \"total\" above, we mean the largest total that can be made without exceeding 21. So e.g. A+8 = 19, A+8+8 = 17)\n",
    "\n",
    "For this problem, you'll write a function representing the player's decision-making strategy in this game. We've provided a very unintelligent implementation below:"
   ]
  },
  {
   "cell_type": "code",
   "execution_count": 21,
   "id": "55a93a89",
   "metadata": {
    "execution": {
     "iopub.execute_input": "2025-04-28T19:18:09.198976Z",
     "iopub.status.busy": "2025-04-28T19:18:09.198675Z",
     "iopub.status.idle": "2025-04-28T19:18:09.202985Z",
     "shell.execute_reply": "2025-04-28T19:18:09.202288Z"
    },
    "papermill": {
     "duration": 0.014747,
     "end_time": "2025-04-28T19:18:09.204427",
     "exception": false,
     "start_time": "2025-04-28T19:18:09.189680",
     "status": "completed"
    },
    "tags": []
   },
   "outputs": [],
   "source": [
    "def should_hit(dealer_total, player_total, player_low_aces, player_high_aces):\n",
    "    \"\"\"Return True if the player should hit (request another card) given the current game\n",
    "    state, or False if the player should stay.\n",
    "    When calculating a hand's total value, we count aces as \"high\" (with value 11) if doing so\n",
    "    doesn't bring the total above 21, otherwise we count them as low (with value 1). \n",
    "    For example, if the player's hand is {A, A, A, 7}, we will count it as 11 + 1 + 1 + 7,\n",
    "    and therefore set player_total=20, player_low_aces=2, player_high_aces=1.\n",
    "    \"\"\"\n",
    "    return False"
   ]
  },
  {
   "cell_type": "markdown",
   "id": "56c52bcc",
   "metadata": {
    "papermill": {
     "duration": 0.007642,
     "end_time": "2025-04-28T19:18:09.220192",
     "exception": false,
     "start_time": "2025-04-28T19:18:09.212550",
     "status": "completed"
    },
    "tags": []
   },
   "source": [
    "This very conservative agent *always* sticks with the hand of two cards that they're dealt.\n",
    "\n",
    "We'll be simulating games between your player agent and our own dealer agent by calling your function.\n",
    "\n",
    "Try running the function below to see an example of a simulated game:"
   ]
  },
  {
   "cell_type": "code",
   "execution_count": 22,
   "id": "848bdcf4",
   "metadata": {
    "execution": {
     "iopub.execute_input": "2025-04-28T19:18:09.237497Z",
     "iopub.status.busy": "2025-04-28T19:18:09.237152Z",
     "iopub.status.idle": "2025-04-28T19:18:09.242304Z",
     "shell.execute_reply": "2025-04-28T19:18:09.241268Z"
    },
    "papermill": {
     "duration": 0.015616,
     "end_time": "2025-04-28T19:18:09.243717",
     "exception": false,
     "start_time": "2025-04-28T19:18:09.228101",
     "status": "completed"
    },
    "tags": []
   },
   "outputs": [
    {
     "name": "stdout",
     "output_type": "stream",
     "text": [
      "Player starts with K and K (total = 20)\n",
      "Dealer starts with 3\n",
      "\n",
      "__Player's turn__\n",
      "Player stays\n",
      "\n",
      "__Dealer's turn__\n",
      "Dealer hits and receives 2. (total = 5)\n",
      "Dealer hits and receives 6. (total = 11)\n",
      "Dealer hits and receives 7. (total = 18)\n",
      "Dealer stands.\n",
      "Player wins. 20 > 18\n"
     ]
    }
   ],
   "source": [
    "q7.simulate_one_game()"
   ]
  },
  {
   "cell_type": "markdown",
   "id": "87ca0650",
   "metadata": {
    "papermill": {
     "duration": 0.007822,
     "end_time": "2025-04-28T19:18:09.259656",
     "exception": false,
     "start_time": "2025-04-28T19:18:09.251834",
     "status": "completed"
    },
    "tags": []
   },
   "source": [
    "The real test of your agent's mettle is their average win rate over many games. Try calling the function below to simulate 50000 games of blackjack (it may take a couple seconds):"
   ]
  },
  {
   "cell_type": "code",
   "execution_count": 23,
   "id": "10fe21cb",
   "metadata": {
    "execution": {
     "iopub.execute_input": "2025-04-28T19:18:09.276968Z",
     "iopub.status.busy": "2025-04-28T19:18:09.276606Z",
     "iopub.status.idle": "2025-04-28T19:18:10.177676Z",
     "shell.execute_reply": "2025-04-28T19:18:10.176562Z"
    },
    "papermill": {
     "duration": 0.911567,
     "end_time": "2025-04-28T19:18:10.179185",
     "exception": false,
     "start_time": "2025-04-28T19:18:09.267618",
     "status": "completed"
    },
    "tags": []
   },
   "outputs": [
    {
     "name": "stdout",
     "output_type": "stream",
     "text": [
      "Player won 19148 out of 50000 games (win rate = 38.3%)\n"
     ]
    }
   ],
   "source": [
    "q7.simulate(n_games=50000)"
   ]
  },
  {
   "cell_type": "markdown",
   "id": "6857f33a",
   "metadata": {
    "papermill": {
     "duration": 0.008008,
     "end_time": "2025-04-28T19:18:10.195469",
     "exception": false,
     "start_time": "2025-04-28T19:18:10.187461",
     "status": "completed"
    },
    "tags": []
   },
   "source": [
    "Our dumb agent that completely ignores the game state still manages to win shockingly often!\n",
    "\n",
    "Try adding some more smarts to the `should_hit` function and see how it affects the results."
   ]
  },
  {
   "cell_type": "code",
   "execution_count": 24,
   "id": "352f781e",
   "metadata": {
    "execution": {
     "iopub.execute_input": "2025-04-28T19:18:10.212823Z",
     "iopub.status.busy": "2025-04-28T19:18:10.212525Z",
     "iopub.status.idle": "2025-04-28T19:18:11.095288Z",
     "shell.execute_reply": "2025-04-28T19:18:11.094098Z"
    },
    "papermill": {
     "duration": 0.893248,
     "end_time": "2025-04-28T19:18:11.096750",
     "exception": false,
     "start_time": "2025-04-28T19:18:10.203502",
     "status": "completed"
    },
    "tags": []
   },
   "outputs": [
    {
     "name": "stdout",
     "output_type": "stream",
     "text": [
      "Player won 19012 out of 50000 games (win rate = 38.0%)\n"
     ]
    }
   ],
   "source": [
    "def should_hit(dealer_total, player_total, player_low_aces, player_high_aces):\n",
    "    \"\"\"Return True if the player should hit (request another card) given the current game\n",
    "    state, or False if the player should stay.\n",
    "    When calculating a hand's total value, we count aces as \"high\" (with value 11) if doing so\n",
    "    doesn't bring the total above 21, otherwise we count them as low (with value 1). \n",
    "    For example, if the player's hand is {A, A, A, 7}, we will count it as 11 + 1 + 1 + 7,\n",
    "    and therefore set player_total=20, player_low_aces=2, player_high_aces=1.\n",
    "    \"\"\"\n",
    "    return False\n",
    "\n",
    "q7.simulate(n_games=50000)"
   ]
  },
  {
   "cell_type": "markdown",
   "id": "5f73ce25",
   "metadata": {
    "papermill": {
     "duration": 0.008122,
     "end_time": "2025-04-28T19:18:11.113052",
     "exception": false,
     "start_time": "2025-04-28T19:18:11.104930",
     "status": "completed"
    },
    "tags": []
   },
   "source": [
    "# Keep Going\n",
    "\n",
    "Learn about **[lists and tuples](https://www.kaggle.com/colinmorris/lists)** to handle multiple items of data in a systematic way."
   ]
  },
  {
   "cell_type": "markdown",
   "id": "d4532cc9",
   "metadata": {
    "papermill": {
     "duration": 0.008033,
     "end_time": "2025-04-28T19:18:11.129062",
     "exception": false,
     "start_time": "2025-04-28T19:18:11.121029",
     "status": "completed"
    },
    "tags": []
   },
   "source": [
    "---\n",
    "\n",
    "\n",
    "\n",
    "\n",
    "*Have questions or comments? Visit the [course discussion forum](https://www.kaggle.com/learn/python/discussion) to chat with other learners.*"
   ]
  }
 ],
 "metadata": {
  "kaggle": {
   "accelerator": "none",
   "dataSources": [],
   "isGpuEnabled": false,
   "isInternetEnabled": false,
   "language": "python",
   "sourceType": "notebook"
  },
  "kernelspec": {
   "display_name": "Python 3",
   "language": "python",
   "name": "python3"
  },
  "language_info": {
   "codemirror_mode": {
    "name": "ipython",
    "version": 3
   },
   "file_extension": ".py",
   "mimetype": "text/x-python",
   "name": "python",
   "nbconvert_exporter": "python",
   "pygments_lexer": "ipython3",
   "version": "3.11.11"
  },
  "learntools_metadata": {
   "lesson_index": 2,
   "type": "exercise"
  },
  "papermill": {
   "default_parameters": {},
   "duration": 9.744576,
   "end_time": "2025-04-28T19:18:11.656595",
   "environment_variables": {},
   "exception": null,
   "input_path": "__notebook__.ipynb",
   "output_path": "__notebook__.ipynb",
   "parameters": {},
   "start_time": "2025-04-28T19:18:01.912019",
   "version": "2.6.0"
  }
 },
 "nbformat": 4,
 "nbformat_minor": 5
}
