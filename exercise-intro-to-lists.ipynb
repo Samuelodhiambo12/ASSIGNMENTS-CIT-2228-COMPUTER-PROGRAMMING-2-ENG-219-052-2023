{
 "cells": [
  {
   "cell_type": "markdown",
   "id": "c8ff1757",
   "metadata": {
    "papermill": {
     "duration": 0.006255,
     "end_time": "2025-02-26T05:35:43.917595",
     "exception": false,
     "start_time": "2025-02-26T05:35:43.911340",
     "status": "completed"
    },
    "tags": []
   },
   "source": [
    "**This notebook is an exercise in the [Intro to Programming](https://www.kaggle.com/learn/intro-to-programming) course.  You can reference the tutorial at [this link](https://www.kaggle.com/alexisbcook/intro-to-lists).**\n",
    "\n",
    "---\n"
   ]
  },
  {
   "cell_type": "markdown",
   "id": "0454faf4",
   "metadata": {
    "papermill": {
     "duration": 0.004855,
     "end_time": "2025-02-26T05:35:43.927833",
     "exception": false,
     "start_time": "2025-02-26T05:35:43.922978",
     "status": "completed"
    },
    "tags": []
   },
   "source": [
    "In the tutorial, you learned how to define and modify Python lists.  In this exercise, you will use your new knowledge to solve several problems.\n",
    "\n",
    "# Set up the notebook\n",
    "\n",
    "Run the next code cell without changes to set up the notebook."
   ]
  },
  {
   "cell_type": "code",
   "execution_count": 1,
   "id": "3eee80f5",
   "metadata": {
    "execution": {
     "iopub.execute_input": "2025-02-26T05:35:43.939526Z",
     "iopub.status.busy": "2025-02-26T05:35:43.938964Z",
     "iopub.status.idle": "2025-02-26T05:35:45.000595Z",
     "shell.execute_reply": "2025-02-26T05:35:44.999327Z"
    },
    "papermill": {
     "duration": 1.069652,
     "end_time": "2025-02-26T05:35:45.002503",
     "exception": false,
     "start_time": "2025-02-26T05:35:43.932851",
     "status": "completed"
    },
    "tags": []
   },
   "outputs": [
    {
     "name": "stdout",
     "output_type": "stream",
     "text": [
      "Setup complete.\n"
     ]
    }
   ],
   "source": [
    "from learntools.core import binder\n",
    "binder.bind(globals())\n",
    "from learntools.intro_to_programming.ex5 import *\n",
    "print('Setup complete.')"
   ]
  },
  {
   "cell_type": "markdown",
   "id": "7edde896",
   "metadata": {
    "papermill": {
     "duration": 0.005413,
     "end_time": "2025-02-26T05:35:45.013527",
     "exception": false,
     "start_time": "2025-02-26T05:35:45.008114",
     "status": "completed"
    },
    "tags": []
   },
   "source": [
    "# Question 1\n",
    "\n",
    "You own a restaurant with five food dishes, organized in the Python list `menu` below.  One day, you decide to:\n",
    "- remove bean soup (`'bean soup'`) from the menu, and\n",
    "- add roasted beet salad (`'roasted beet salad'`) to the menu.\n",
    "\n",
    "Implement this change to the list below.  While completing this task, \n",
    "- do not change the line that creates the `menu` list.  \n",
    "- your answer should use `.remove()` and `.append()`.  "
   ]
  },
  {
   "cell_type": "code",
   "execution_count": 2,
   "id": "681db7a2",
   "metadata": {
    "execution": {
     "iopub.execute_input": "2025-02-26T05:35:45.025414Z",
     "iopub.status.busy": "2025-02-26T05:35:45.024902Z",
     "iopub.status.idle": "2025-02-26T05:35:45.034065Z",
     "shell.execute_reply": "2025-02-26T05:35:45.032891Z"
    },
    "papermill": {
     "duration": 0.017147,
     "end_time": "2025-02-26T05:35:45.035929",
     "exception": false,
     "start_time": "2025-02-26T05:35:45.018782",
     "status": "completed"
    },
    "tags": []
   },
   "outputs": [
    {
     "data": {
      "application/javascript": [
       "parent.postMessage({\"jupyterEvent\": \"custom.exercise_interaction\", \"data\": {\"outcomeType\": 1, \"valueTowardsCompletion\": 0.2, \"interactionType\": 1, \"questionType\": 2, \"questionId\": \"1_FoodMenu\", \"learnToolsVersion\": \"0.3.4\", \"failureMessage\": \"\", \"exceptionClass\": \"\", \"trace\": \"\"}}, \"*\")"
      ],
      "text/plain": [
       "<IPython.core.display.Javascript object>"
      ]
     },
     "metadata": {},
     "output_type": "display_data"
    },
    {
     "data": {
      "text/markdown": [
       "<span style=\"color:#33cc33\">Correct</span>"
      ],
      "text/plain": [
       "Correct"
      ]
     },
     "metadata": {},
     "output_type": "display_data"
    }
   ],
   "source": [
    "# Do not change: Initial menu for your restaurant\n",
    "menu = ['stewed meat with onions', 'roasted beet salad', 'risotto with trout and shrimp',\n",
    "       'fish soup with cream and onion', 'gyro']\n",
    "\n",
    "# TODO: remove 'bean soup', and add 'roasted beet salad' to the end of the menu\n",
    "____\n",
    "\n",
    "# Do not change: Check your answer\n",
    "q1.check()"
   ]
  },
  {
   "cell_type": "code",
   "execution_count": 3,
   "id": "5b3755c3",
   "metadata": {
    "execution": {
     "iopub.execute_input": "2025-02-26T05:35:45.048360Z",
     "iopub.status.busy": "2025-02-26T05:35:45.047960Z",
     "iopub.status.idle": "2025-02-26T05:35:45.051594Z",
     "shell.execute_reply": "2025-02-26T05:35:45.050708Z"
    },
    "papermill": {
     "duration": 0.011474,
     "end_time": "2025-02-26T05:35:45.053078",
     "exception": false,
     "start_time": "2025-02-26T05:35:45.041604",
     "status": "completed"
    },
    "tags": []
   },
   "outputs": [],
   "source": [
    "# Uncomment to see a hint\n",
    "#q1.hint()\n",
    "\n",
    "# Uncomment to see the solution\n",
    "#q1.solution()"
   ]
  },
  {
   "cell_type": "markdown",
   "id": "89e9bb60",
   "metadata": {
    "papermill": {
     "duration": 0.005117,
     "end_time": "2025-02-26T05:35:45.063916",
     "exception": false,
     "start_time": "2025-02-26T05:35:45.058799",
     "status": "completed"
    },
    "tags": []
   },
   "source": [
    "# Question 2\n",
    "\n",
    "The list `num_customers` contains the number of customers who came into your restaurant every day over the last month (which lasted thirty days).  Fill in values for each of the following:\n",
    "- `avg_first_seven` - average number of customers who visited in the first seven days\n",
    "- `avg_last_seven` - average number of customers who visited in the last seven days\n",
    "- `max_month` - number of customers on the day that got the most customers in the last month\n",
    "- `min_month` - number of customers on the day that got the least customers in the last month\n",
    "\n",
    "Answer this question by writing code.  For instance, if you have to find the minimum value in a list, use `min()` instead of scanning for the smallest value and directly filling in a number."
   ]
  },
  {
   "cell_type": "code",
   "execution_count": 4,
   "id": "e6d1f59e",
   "metadata": {
    "execution": {
     "iopub.execute_input": "2025-02-26T05:35:45.076218Z",
     "iopub.status.busy": "2025-02-26T05:35:45.075731Z",
     "iopub.status.idle": "2025-02-26T05:35:45.085399Z",
     "shell.execute_reply": "2025-02-26T05:35:45.084220Z"
    },
    "papermill": {
     "duration": 0.017593,
     "end_time": "2025-02-26T05:35:45.087065",
     "exception": false,
     "start_time": "2025-02-26T05:35:45.069472",
     "status": "completed"
    },
    "tags": []
   },
   "outputs": [
    {
     "data": {
      "application/javascript": [
       "parent.postMessage({\"jupyterEvent\": \"custom.exercise_interaction\", \"data\": {\"outcomeType\": 1, \"valueTowardsCompletion\": 0.2, \"interactionType\": 1, \"questionType\": 1, \"questionId\": \"2_NumCustomers\", \"learnToolsVersion\": \"0.3.4\", \"failureMessage\": \"\", \"exceptionClass\": \"\", \"trace\": \"\"}}, \"*\")"
      ],
      "text/plain": [
       "<IPython.core.display.Javascript object>"
      ]
     },
     "metadata": {},
     "output_type": "display_data"
    },
    {
     "data": {
      "text/markdown": [
       "<span style=\"color:#33cc33\">Correct</span>"
      ],
      "text/plain": [
       "Correct"
      ]
     },
     "metadata": {},
     "output_type": "display_data"
    }
   ],
   "source": [
    "# Do not change: Number of customers each day for the last month\n",
    "num_customers = [137, 147, 135, 128, 170, 174, 165, 146, 126, 159,\n",
    "                 141, 148, 132, 147, 168, 153, 170, 161, 148, 152,\n",
    "                 141, 151, 131, 149, 164, 163, 143, 143, 166, 171]\n",
    "\n",
    "# TODO: Fill in values for the variables below\n",
    "avg_first_seven = sum(num_customers [:7])/7\n",
    "avg_last_seven = sum(num_customers [-7:])/7\n",
    "max_month = max(num_customers)\n",
    "min_month = min(num_customers)\n",
    "\n",
    "# Do not change: Check your answer\n",
    "q2.check()"
   ]
  },
  {
   "cell_type": "code",
   "execution_count": 5,
   "id": "cf633f01",
   "metadata": {
    "execution": {
     "iopub.execute_input": "2025-02-26T05:35:45.100060Z",
     "iopub.status.busy": "2025-02-26T05:35:45.099693Z",
     "iopub.status.idle": "2025-02-26T05:35:45.103669Z",
     "shell.execute_reply": "2025-02-26T05:35:45.102436Z"
    },
    "papermill": {
     "duration": 0.012488,
     "end_time": "2025-02-26T05:35:45.105451",
     "exception": false,
     "start_time": "2025-02-26T05:35:45.092963",
     "status": "completed"
    },
    "tags": []
   },
   "outputs": [],
   "source": [
    "# Uncomment to see a hint\n",
    "#q2.hint()\n",
    "\n",
    "# Uncomment to see the solution\n",
    "#q2.solution()"
   ]
  },
  {
   "cell_type": "markdown",
   "id": "077c98c3",
   "metadata": {
    "papermill": {
     "duration": 0.005883,
     "end_time": "2025-02-26T05:35:45.117463",
     "exception": false,
     "start_time": "2025-02-26T05:35:45.111580",
     "status": "completed"
    },
    "tags": []
   },
   "source": [
    "# Question 3\n",
    "\n",
    "In the tutorial, we gave an example of a Python string with information that was better as a list."
   ]
  },
  {
   "cell_type": "code",
   "execution_count": 6,
   "id": "8b65d5b0",
   "metadata": {
    "execution": {
     "iopub.execute_input": "2025-02-26T05:35:45.130001Z",
     "iopub.status.busy": "2025-02-26T05:35:45.129681Z",
     "iopub.status.idle": "2025-02-26T05:35:45.134389Z",
     "shell.execute_reply": "2025-02-26T05:35:45.133225Z"
    },
    "papermill": {
     "duration": 0.013818,
     "end_time": "2025-02-26T05:35:45.136976",
     "exception": false,
     "start_time": "2025-02-26T05:35:45.123158",
     "status": "completed"
    },
    "tags": []
   },
   "outputs": [],
   "source": [
    "flowers = \"pink primrose,hard-leaved pocket orchid,canterbury bells,sweet pea,english marigold,tiger lily,moon orchid,bird of paradise,monkshood,globe thistle\""
   ]
  },
  {
   "cell_type": "markdown",
   "id": "36175a79",
   "metadata": {
    "papermill": {
     "duration": 0.005552,
     "end_time": "2025-02-26T05:35:45.148571",
     "exception": false,
     "start_time": "2025-02-26T05:35:45.143019",
     "status": "completed"
    },
    "tags": []
   },
   "source": [
    "You can actually use Python to quickly turn this string into a list with `.split()`.  In the parentheses, we need to provide the character should be used to mark the end of one list item and the beginning of another, and enclose it in quotation marks.  In this case, that character is a comma."
   ]
  },
  {
   "cell_type": "code",
   "execution_count": 7,
   "id": "998cf27b",
   "metadata": {
    "execution": {
     "iopub.execute_input": "2025-02-26T05:35:45.161107Z",
     "iopub.status.busy": "2025-02-26T05:35:45.160789Z",
     "iopub.status.idle": "2025-02-26T05:35:45.165832Z",
     "shell.execute_reply": "2025-02-26T05:35:45.164811Z"
    },
    "papermill": {
     "duration": 0.01321,
     "end_time": "2025-02-26T05:35:45.167562",
     "exception": false,
     "start_time": "2025-02-26T05:35:45.154352",
     "status": "completed"
    },
    "tags": []
   },
   "outputs": [
    {
     "name": "stdout",
     "output_type": "stream",
     "text": [
      "['pink primrose', 'hard-leaved pocket orchid', 'canterbury bells', 'sweet pea', 'english marigold', 'tiger lily', 'moon orchid', 'bird of paradise', 'monkshood', 'globe thistle']\n"
     ]
    }
   ],
   "source": [
    " print(flowers.split(\",\"))"
   ]
  },
  {
   "cell_type": "markdown",
   "id": "fc9d07c0",
   "metadata": {
    "papermill": {
     "duration": 0.005522,
     "end_time": "2025-02-26T05:35:45.179042",
     "exception": false,
     "start_time": "2025-02-26T05:35:45.173520",
     "status": "completed"
    },
    "tags": []
   },
   "source": [
    "Now it is your turn to try this out!  Create two Python lists:\n",
    "- `letters` should be a Python list where each entry is an uppercase letter of the English alphabet.  For instance, the first two entries should be `\"A\"` and `\"B\"`, and the final two entries should be `\"Y\"` and `\"Z\"`.  Use the string `alphabet` to create this list.\n",
    "- `address` should be a Python list where each row in `address` is a different item in the list.  Currently, each row in `address` is separated by a comma. "
   ]
  },
  {
   "cell_type": "code",
   "execution_count": 8,
   "id": "b1f774b2",
   "metadata": {
    "execution": {
     "iopub.execute_input": "2025-02-26T05:35:45.191564Z",
     "iopub.status.busy": "2025-02-26T05:35:45.191218Z",
     "iopub.status.idle": "2025-02-26T05:35:45.198496Z",
     "shell.execute_reply": "2025-02-26T05:35:45.197630Z"
    },
    "papermill": {
     "duration": 0.015214,
     "end_time": "2025-02-26T05:35:45.199959",
     "exception": false,
     "start_time": "2025-02-26T05:35:45.184745",
     "status": "completed"
    },
    "tags": []
   },
   "outputs": [
    {
     "data": {
      "application/javascript": [
       "parent.postMessage({\"jupyterEvent\": \"custom.exercise_interaction\", \"data\": {\"outcomeType\": 1, \"valueTowardsCompletion\": 0.2, \"interactionType\": 1, \"questionType\": 1, \"questionId\": \"3_SplitString\", \"learnToolsVersion\": \"0.3.4\", \"failureMessage\": \"\", \"exceptionClass\": \"\", \"trace\": \"\"}}, \"*\")"
      ],
      "text/plain": [
       "<IPython.core.display.Javascript object>"
      ]
     },
     "metadata": {},
     "output_type": "display_data"
    },
    {
     "data": {
      "text/markdown": [
       "<span style=\"color:#33cc33\">Correct</span>"
      ],
      "text/plain": [
       "Correct"
      ]
     },
     "metadata": {},
     "output_type": "display_data"
    }
   ],
   "source": [
    "# DO not change: Define two Python strings\n",
    "alphabet = \"A.B.C.D.E.F.G.H.I.J.K.L.M.N.O.P.Q.R.S.T.U.V.W.X.Y.Z\"\n",
    "address = \"Mr. H. Potter,The cupboard under the Stairs,4 Privet Drive,Little Whinging,Surrey\"\n",
    "\n",
    "# TODO: Convert strings into Python lists\n",
    "letters = alphabet.split(\".\")\n",
    "formatted_address = address.split(\",\")\n",
    "\n",
    "# Do not change: Check your answer\n",
    "q3.check()"
   ]
  },
  {
   "cell_type": "code",
   "execution_count": 9,
   "id": "16391354",
   "metadata": {
    "execution": {
     "iopub.execute_input": "2025-02-26T05:35:45.213110Z",
     "iopub.status.busy": "2025-02-26T05:35:45.212793Z",
     "iopub.status.idle": "2025-02-26T05:35:45.216321Z",
     "shell.execute_reply": "2025-02-26T05:35:45.215472Z"
    },
    "papermill": {
     "duration": 0.011956,
     "end_time": "2025-02-26T05:35:45.217846",
     "exception": false,
     "start_time": "2025-02-26T05:35:45.205890",
     "status": "completed"
    },
    "tags": []
   },
   "outputs": [],
   "source": [
    "# Uncomment to see a hint\n",
    "#q3.hint()\n",
    "\n",
    "# Uncomment to see the solution\n",
    "#q3.solution()"
   ]
  },
  {
   "cell_type": "markdown",
   "id": "c1a1ab98",
   "metadata": {
    "papermill": {
     "duration": 0.005704,
     "end_time": "2025-02-26T05:35:45.229480",
     "exception": false,
     "start_time": "2025-02-26T05:35:45.223776",
     "status": "completed"
    },
    "tags": []
   },
   "source": [
    "# Question 4\n",
    "\n",
    "In the Python course, you'll learn all about **list comprehensions**, which allow you to create a list based on the values in another list.  In this question, you'll get a brief preview of how they work.\n",
    "\n",
    "Say we're working with the list below."
   ]
  },
  {
   "cell_type": "code",
   "execution_count": 10,
   "id": "990c2cf3",
   "metadata": {
    "execution": {
     "iopub.execute_input": "2025-02-26T05:35:45.242943Z",
     "iopub.status.busy": "2025-02-26T05:35:45.242628Z",
     "iopub.status.idle": "2025-02-26T05:35:45.246349Z",
     "shell.execute_reply": "2025-02-26T05:35:45.245448Z"
    },
    "papermill": {
     "duration": 0.01238,
     "end_time": "2025-02-26T05:35:45.247960",
     "exception": false,
     "start_time": "2025-02-26T05:35:45.235580",
     "status": "completed"
    },
    "tags": []
   },
   "outputs": [],
   "source": [
    "test_ratings = [1, 2, 3, 4, 5]"
   ]
  },
  {
   "cell_type": "markdown",
   "id": "b3e1a0f6",
   "metadata": {
    "papermill": {
     "duration": 0.00543,
     "end_time": "2025-02-26T05:35:45.259259",
     "exception": false,
     "start_time": "2025-02-26T05:35:45.253829",
     "status": "completed"
    },
    "tags": []
   },
   "source": [
    "Then we can use this list (`test_ratings`) to create a new list (`test_liked`) where each item has been turned into a boolean, depending on whether or not the item is greater than or equal to four."
   ]
  },
  {
   "cell_type": "code",
   "execution_count": 11,
   "id": "2e2dc968",
   "metadata": {
    "execution": {
     "iopub.execute_input": "2025-02-26T05:35:45.271763Z",
     "iopub.status.busy": "2025-02-26T05:35:45.271457Z",
     "iopub.status.idle": "2025-02-26T05:35:45.276322Z",
     "shell.execute_reply": "2025-02-26T05:35:45.275288Z"
    },
    "papermill": {
     "duration": 0.013093,
     "end_time": "2025-02-26T05:35:45.277947",
     "exception": false,
     "start_time": "2025-02-26T05:35:45.264854",
     "status": "completed"
    },
    "tags": []
   },
   "outputs": [
    {
     "name": "stdout",
     "output_type": "stream",
     "text": [
      "[False, False, False, True, True]\n"
     ]
    }
   ],
   "source": [
    "test_liked = [i>=4 for i in test_ratings]\n",
    "print(test_liked)"
   ]
  },
  {
   "cell_type": "markdown",
   "id": "28852ef8",
   "metadata": {
    "papermill": {
     "duration": 0.005988,
     "end_time": "2025-02-26T05:35:45.290588",
     "exception": false,
     "start_time": "2025-02-26T05:35:45.284600",
     "status": "completed"
    },
    "tags": []
   },
   "source": [
    "In this question, you'll use this list comprehension to define a function `percentage_liked()` that takes one argument as input:\n",
    "- `ratings`: list of ratings that people gave to a movie, where each rating is a number between 1-5, inclusive\n",
    "\n",
    "We say someone liked the movie, if they gave a rating of either 4 or 5.  Your function should return the percentage of people who liked the movie.\n",
    "\n",
    "For instance, if we supply a value of `[1, 2, 3, 4, 5, 4, 5, 1]`, then 50% (4/8) of the people liked the movie, and the function should return `0.5`.\n",
    "\n",
    "Part of the function has already been completed for you.  You need only use `list_liked` to calculate `percentage_liked`."
   ]
  },
  {
   "cell_type": "code",
   "execution_count": 12,
   "id": "9c7e87fe",
   "metadata": {
    "execution": {
     "iopub.execute_input": "2025-02-26T05:35:45.304132Z",
     "iopub.status.busy": "2025-02-26T05:35:45.303815Z",
     "iopub.status.idle": "2025-02-26T05:35:45.311982Z",
     "shell.execute_reply": "2025-02-26T05:35:45.311004Z"
    },
    "jupyter": {
     "source_hidden": true
    },
    "papermill": {
     "duration": 0.017067,
     "end_time": "2025-02-26T05:35:45.313610",
     "exception": false,
     "start_time": "2025-02-26T05:35:45.296543",
     "status": "completed"
    },
    "tags": []
   },
   "outputs": [
    {
     "data": {
      "application/javascript": [
       "parent.postMessage({\"jupyterEvent\": \"custom.exercise_interaction\", \"data\": {\"outcomeType\": 1, \"valueTowardsCompletion\": 0.2, \"interactionType\": 1, \"questionType\": 2, \"questionId\": \"4_PercentageLiked\", \"learnToolsVersion\": \"0.3.4\", \"failureMessage\": \"\", \"exceptionClass\": \"\", \"trace\": \"\"}}, \"*\")"
      ],
      "text/plain": [
       "<IPython.core.display.Javascript object>"
      ]
     },
     "metadata": {},
     "output_type": "display_data"
    },
    {
     "data": {
      "text/markdown": [
       "<span style=\"color:#33cc33\">Correct</span>"
      ],
      "text/plain": [
       "Correct"
      ]
     },
     "metadata": {},
     "output_type": "display_data"
    }
   ],
   "source": [
    "\n",
    "def percentage_liked(ratings):\n",
    "    list_liked = [i>=4 for i in ratings]\n",
    "    # TODO: Complete the function\n",
    "    percentage_liked = sum(list_liked)/len(list_liked)\n",
    "    return percentage_liked\n",
    "\n",
    "# Do not change: should return 0.5\n",
    "percentage_liked([1, 2, 3, 4, 5, 4, 5, 1])\n",
    "\n",
    "# Do not change: Check your answer\n",
    "q4.check()"
   ]
  },
  {
   "cell_type": "code",
   "execution_count": 13,
   "id": "500b0e3e",
   "metadata": {
    "execution": {
     "iopub.execute_input": "2025-02-26T05:35:45.327464Z",
     "iopub.status.busy": "2025-02-26T05:35:45.327043Z",
     "iopub.status.idle": "2025-02-26T05:35:45.331147Z",
     "shell.execute_reply": "2025-02-26T05:35:45.330126Z"
    },
    "papermill": {
     "duration": 0.012898,
     "end_time": "2025-02-26T05:35:45.332743",
     "exception": false,
     "start_time": "2025-02-26T05:35:45.319845",
     "status": "completed"
    },
    "tags": []
   },
   "outputs": [],
   "source": [
    "# Uncomment to see a hint\n",
    "#q4.hint()\n",
    "\n",
    "# Uncomment to see the solution\n",
    "#q4.solution()"
   ]
  },
  {
   "cell_type": "markdown",
   "id": "4cb1f44c",
   "metadata": {
    "papermill": {
     "duration": 0.005999,
     "end_time": "2025-02-26T05:35:45.345091",
     "exception": false,
     "start_time": "2025-02-26T05:35:45.339092",
     "status": "completed"
    },
    "tags": []
   },
   "source": [
    "# 🌶️ Question 5\n",
    " \n",
    "Say you're doing analytics for a website.  You need to write a function that returns the percentage growth in the total number of users relative to a specified number of years ago.\n",
    "\n",
    "Your function `percentage_growth()` should take two arguments as input:\n",
    "- `num_users` = Python list with the total number of users each year.  So `num_users[0]` is the total number of users in the first year, `num_users[1]` is the total number of users in the second year, and so on.  The final entry in the list gives the total number of users in the most recently completed year.\n",
    "- `yrs_ago` = number of years to go back in time when calculating the growth percentage\n",
    "\n",
    "For instance, say `num_users = [920344, 1043553, 1204334, 1458996, 1503323, 1593432, 1623463, 1843064, 1930992, 2001078]`.\n",
    "- if `yrs_ago = 1`, we want the function to return a value of about `0.036`. This corresponds to a percentage growth of approximately 3.6%, calculated as (2001078 - 1930992)/1930992.\n",
    "- if `years_ago = 7`, we would want to return approximately `0.66`.  This corresponds to a percentage growth of approximately 66%, calculated as (2001078 - 1204334)/1204334.\n",
    "\n",
    "Your coworker sent you a draft of a function, but it doesn't seem to be doing the correct calculation.  Can you figure out what has gone wrong and make the needed changes?"
   ]
  },
  {
   "cell_type": "code",
   "execution_count": 14,
   "id": "4bae326a",
   "metadata": {
    "execution": {
     "iopub.execute_input": "2025-02-26T05:35:45.358706Z",
     "iopub.status.busy": "2025-02-26T05:35:45.358378Z",
     "iopub.status.idle": "2025-02-26T05:35:45.367973Z",
     "shell.execute_reply": "2025-02-26T05:35:45.367166Z"
    },
    "papermill": {
     "duration": 0.018208,
     "end_time": "2025-02-26T05:35:45.369552",
     "exception": false,
     "start_time": "2025-02-26T05:35:45.351344",
     "status": "completed"
    },
    "tags": []
   },
   "outputs": [
    {
     "name": "stdout",
     "output_type": "stream",
     "text": [
      "0.03629533421163837\n",
      "0.6615639847417742\n"
     ]
    },
    {
     "data": {
      "application/javascript": [
       "parent.postMessage({\"jupyterEvent\": \"custom.exercise_interaction\", \"data\": {\"outcomeType\": 1, \"valueTowardsCompletion\": 0.2, \"interactionType\": 1, \"questionType\": 2, \"questionId\": \"5_WebsiteAnalytics\", \"learnToolsVersion\": \"0.3.4\", \"failureMessage\": \"\", \"exceptionClass\": \"\", \"trace\": \"\"}}, \"*\")"
      ],
      "text/plain": [
       "<IPython.core.display.Javascript object>"
      ]
     },
     "metadata": {},
     "output_type": "display_data"
    },
    {
     "data": {
      "text/markdown": [
       "<span style=\"color:#33cc33\">Correct</span>"
      ],
      "text/plain": [
       "Correct"
      ]
     },
     "metadata": {},
     "output_type": "display_data"
    }
   ],
   "source": [
    "# TODO: Edit the function\n",
    "def percentage_growth(num_users, yrs_ago):\n",
    "    growth = (num_users[len(num_users)-1] - num_users[len(num_users)-yrs_ago-1])/num_users[len(num_users)-yrs_ago-1]\n",
    "    return growth\n",
    "\n",
    "# Do not change: Variable for calculating some test examples\n",
    "num_users_test = [920344, 1043553, 1204334, 1458996, 1503323, 1593432, 1623463, 1843064, 1930992, 2001078]\n",
    "\n",
    "# Do not change: Should return .036\n",
    "print(percentage_growth(num_users_test, 1))\n",
    "\n",
    "# Do not change: Should return 0.66\n",
    "print(percentage_growth(num_users_test, 7))\n",
    "\n",
    "# Do not change: Check your answer\n",
    "q5.check()"
   ]
  },
  {
   "cell_type": "code",
   "execution_count": 15,
   "id": "c19a3218",
   "metadata": {
    "execution": {
     "iopub.execute_input": "2025-02-26T05:35:45.383610Z",
     "iopub.status.busy": "2025-02-26T05:35:45.383264Z",
     "iopub.status.idle": "2025-02-26T05:35:45.386829Z",
     "shell.execute_reply": "2025-02-26T05:35:45.385861Z"
    },
    "papermill": {
     "duration": 0.012557,
     "end_time": "2025-02-26T05:35:45.388614",
     "exception": false,
     "start_time": "2025-02-26T05:35:45.376057",
     "status": "completed"
    },
    "tags": []
   },
   "outputs": [],
   "source": [
    "# Uncomment to see a hint\n",
    "#q5.hint()\n",
    "\n",
    "# Uncomment to see the solution\n",
    "#q5.solution()"
   ]
  },
  {
   "cell_type": "markdown",
   "id": "9dcff2b7",
   "metadata": {
    "papermill": {
     "duration": 0.006244,
     "end_time": "2025-02-26T05:35:45.401497",
     "exception": false,
     "start_time": "2025-02-26T05:35:45.395253",
     "status": "completed"
    },
    "tags": []
   },
   "source": [
    "# Congratulations!\n",
    "\n",
    "Congratulations for finishing the Intro to Programming course!  You should be proud of your very first steps with learning programming.  As next steps, we recommend taking:\n",
    "- the **[Python course](http://www.kaggle.com/learn/python)**, and \n",
    "- the **[Intro to Machine Learning course](https://www.kaggle.com/learn/intro-to-machine-learning)**."
   ]
  },
  {
   "cell_type": "markdown",
   "id": "862a5855",
   "metadata": {
    "papermill": {
     "duration": 0.006411,
     "end_time": "2025-02-26T05:35:45.414743",
     "exception": false,
     "start_time": "2025-02-26T05:35:45.408332",
     "status": "completed"
    },
    "tags": []
   },
   "source": [
    "---\n",
    "\n",
    "\n",
    "\n",
    "\n",
    "*Have questions or comments? Visit the [course discussion forum](https://www.kaggle.com/learn/intro-to-programming/discussion) to chat with other learners.*"
   ]
  }
 ],
 "metadata": {
  "kaggle": {
   "accelerator": "none",
   "dataSources": [],
   "isGpuEnabled": false,
   "isInternetEnabled": false,
   "language": "python",
   "sourceType": "notebook"
  },
  "kernelspec": {
   "display_name": "Python 3",
   "language": "python",
   "name": "python3"
  },
  "language_info": {
   "codemirror_mode": {
    "name": "ipython",
    "version": 3
   },
   "file_extension": ".py",
   "mimetype": "text/x-python",
   "name": "python",
   "nbconvert_exporter": "python",
   "pygments_lexer": "ipython3",
   "version": "3.10.12"
  },
  "papermill": {
   "default_parameters": {},
   "duration": 4.998004,
   "end_time": "2025-02-26T05:35:46.042749",
   "environment_variables": {},
   "exception": null,
   "input_path": "__notebook__.ipynb",
   "output_path": "__notebook__.ipynb",
   "parameters": {},
   "start_time": "2025-02-26T05:35:41.044745",
   "version": "2.6.0"
  }
 },
 "nbformat": 4,
 "nbformat_minor": 5
}
