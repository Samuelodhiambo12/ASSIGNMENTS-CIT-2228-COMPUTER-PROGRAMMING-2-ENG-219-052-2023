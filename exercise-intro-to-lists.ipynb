{
 "cells": [
  {
   "cell_type": "markdown",
   "id": "4af82c56",
   "metadata": {
    "papermill": {
     "duration": 0.005676,
     "end_time": "2025-02-26T05:46:27.100230",
     "exception": false,
     "start_time": "2025-02-26T05:46:27.094554",
     "status": "completed"
    },
    "tags": []
   },
   "source": [
    "**This notebook is an exercise in the [Intro to Programming](https://www.kaggle.com/learn/intro-to-programming) course.  You can reference the tutorial at [this link](https://www.kaggle.com/alexisbcook/intro-to-lists).**\n",
    "\n",
    "---\n"
   ]
  },
  {
   "cell_type": "markdown",
   "id": "7ab98bab",
   "metadata": {
    "papermill": {
     "duration": 0.004669,
     "end_time": "2025-02-26T05:46:27.109974",
     "exception": false,
     "start_time": "2025-02-26T05:46:27.105305",
     "status": "completed"
    },
    "tags": []
   },
   "source": [
    "In the tutorial, you learned how to define and modify Python lists.  In this exercise, you will use your new knowledge to solve several problems.\n",
    "\n",
    "# Set up the notebook\n",
    "\n",
    "Run the next code cell without changes to set up the notebook."
   ]
  },
  {
   "cell_type": "code",
   "execution_count": 1,
   "id": "0cc863e1",
   "metadata": {
    "execution": {
     "iopub.execute_input": "2025-02-26T05:46:27.120672Z",
     "iopub.status.busy": "2025-02-26T05:46:27.120288Z",
     "iopub.status.idle": "2025-02-26T05:46:28.099735Z",
     "shell.execute_reply": "2025-02-26T05:46:28.098395Z"
    },
    "papermill": {
     "duration": 0.987007,
     "end_time": "2025-02-26T05:46:28.101649",
     "exception": false,
     "start_time": "2025-02-26T05:46:27.114642",
     "status": "completed"
    },
    "tags": []
   },
   "outputs": [
    {
     "name": "stdout",
     "output_type": "stream",
     "text": [
      "Setup complete.\n"
     ]
    }
   ],
   "source": [
    "from learntools.core import binder\n",
    "binder.bind(globals())\n",
    "from learntools.intro_to_programming.ex5 import *\n",
    "print('Setup complete.')"
   ]
  },
  {
   "cell_type": "markdown",
   "id": "975d97a8",
   "metadata": {
    "papermill": {
     "duration": 0.004703,
     "end_time": "2025-02-26T05:46:28.111653",
     "exception": false,
     "start_time": "2025-02-26T05:46:28.106950",
     "status": "completed"
    },
    "tags": []
   },
   "source": [
    "# Question 1\n",
    "\n",
    "You own a restaurant with five food dishes, organized in the Python list `menu` below.  One day, you decide to:\n",
    "- remove bean soup (`'bean soup'`) from the menu, and\n",
    "- add roasted beet salad (`'roasted beet salad'`) to the menu.\n",
    "\n",
    "Implement this change to the list below.  While completing this task, \n",
    "- do not change the line that creates the `menu` list.  \n",
    "- your answer should use `.remove()` and `.append()`.  "
   ]
  },
  {
   "cell_type": "code",
   "execution_count": 2,
   "id": "35df7435",
   "metadata": {
    "execution": {
     "iopub.execute_input": "2025-02-26T05:46:28.122951Z",
     "iopub.status.busy": "2025-02-26T05:46:28.122467Z",
     "iopub.status.idle": "2025-02-26T05:46:28.132330Z",
     "shell.execute_reply": "2025-02-26T05:46:28.131078Z"
    },
    "papermill": {
     "duration": 0.018012,
     "end_time": "2025-02-26T05:46:28.134547",
     "exception": false,
     "start_time": "2025-02-26T05:46:28.116535",
     "status": "completed"
    },
    "tags": []
   },
   "outputs": [
    {
     "data": {
      "application/javascript": [
       "parent.postMessage({\"jupyterEvent\": \"custom.exercise_interaction\", \"data\": {\"outcomeType\": 1, \"valueTowardsCompletion\": 0.2, \"interactionType\": 1, \"questionType\": 2, \"questionId\": \"1_FoodMenu\", \"learnToolsVersion\": \"0.3.4\", \"failureMessage\": \"\", \"exceptionClass\": \"\", \"trace\": \"\"}}, \"*\")"
      ],
      "text/plain": [
       "<IPython.core.display.Javascript object>"
      ]
     },
     "metadata": {},
     "output_type": "display_data"
    },
    {
     "data": {
      "text/markdown": [
       "<span style=\"color:#33cc33\">Correct</span>"
      ],
      "text/plain": [
       "Correct"
      ]
     },
     "metadata": {},
     "output_type": "display_data"
    }
   ],
   "source": [
    "# Do not change: Initial menu for your restaurant\n",
    "menu = ['stewed meat with onions', 'bean soup', 'risotto with trout and shrimp',\n",
    "       'fish soup with cream and onion', 'gyro']\n",
    "\n",
    "# TODO: remove 'bean soup', and add 'roasted beet salad' to the end of the menu\n",
    "menu.remove('bean soup')\n",
    "menu.append('roasted beet salad')\n",
    "\n",
    "# Do not change: Check your answer\n",
    "q1.check()"
   ]
  },
  {
   "cell_type": "code",
   "execution_count": 3,
   "id": "ac58d202",
   "metadata": {
    "execution": {
     "iopub.execute_input": "2025-02-26T05:46:28.147194Z",
     "iopub.status.busy": "2025-02-26T05:46:28.146810Z",
     "iopub.status.idle": "2025-02-26T05:46:28.150824Z",
     "shell.execute_reply": "2025-02-26T05:46:28.149860Z"
    },
    "papermill": {
     "duration": 0.012384,
     "end_time": "2025-02-26T05:46:28.152742",
     "exception": false,
     "start_time": "2025-02-26T05:46:28.140358",
     "status": "completed"
    },
    "tags": []
   },
   "outputs": [],
   "source": [
    "# Uncomment to see a hint\n",
    "#q1.hint()\n",
    "\n",
    "# Uncomment to see the solution\n",
    "#q1.solution()"
   ]
  },
  {
   "cell_type": "markdown",
   "id": "0841fc4a",
   "metadata": {
    "papermill": {
     "duration": 0.005243,
     "end_time": "2025-02-26T05:46:28.163875",
     "exception": false,
     "start_time": "2025-02-26T05:46:28.158632",
     "status": "completed"
    },
    "tags": []
   },
   "source": [
    "# Question 2\n",
    "\n",
    "The list `num_customers` contains the number of customers who came into your restaurant every day over the last month (which lasted thirty days).  Fill in values for each of the following:\n",
    "- `avg_first_seven` - average number of customers who visited in the first seven days\n",
    "- `avg_last_seven` - average number of customers who visited in the last seven days\n",
    "- `max_month` - number of customers on the day that got the most customers in the last month\n",
    "- `min_month` - number of customers on the day that got the least customers in the last month\n",
    "\n",
    "Answer this question by writing code.  For instance, if you have to find the minimum value in a list, use `min()` instead of scanning for the smallest value and directly filling in a number."
   ]
  },
  {
   "cell_type": "code",
   "execution_count": 4,
   "id": "270244e7",
   "metadata": {
    "execution": {
     "iopub.execute_input": "2025-02-26T05:46:28.176406Z",
     "iopub.status.busy": "2025-02-26T05:46:28.175950Z",
     "iopub.status.idle": "2025-02-26T05:46:28.186282Z",
     "shell.execute_reply": "2025-02-26T05:46:28.184895Z"
    },
    "papermill": {
     "duration": 0.018819,
     "end_time": "2025-02-26T05:46:28.188187",
     "exception": false,
     "start_time": "2025-02-26T05:46:28.169368",
     "status": "completed"
    },
    "tags": []
   },
   "outputs": [
    {
     "data": {
      "application/javascript": [
       "parent.postMessage({\"jupyterEvent\": \"custom.exercise_interaction\", \"data\": {\"outcomeType\": 1, \"valueTowardsCompletion\": 0.2, \"interactionType\": 1, \"questionType\": 1, \"questionId\": \"2_NumCustomers\", \"learnToolsVersion\": \"0.3.4\", \"failureMessage\": \"\", \"exceptionClass\": \"\", \"trace\": \"\"}}, \"*\")"
      ],
      "text/plain": [
       "<IPython.core.display.Javascript object>"
      ]
     },
     "metadata": {},
     "output_type": "display_data"
    },
    {
     "data": {
      "text/markdown": [
       "<span style=\"color:#33cc33\">Correct</span>"
      ],
      "text/plain": [
       "Correct"
      ]
     },
     "metadata": {},
     "output_type": "display_data"
    }
   ],
   "source": [
    "# Do not change: Number of customers each day for the last month\n",
    "num_customers = [137, 147, 135, 128, 170, 174, 165, 146, 126, 159,\n",
    "                 141, 148, 132, 147, 168, 153, 170, 161, 148, 152,\n",
    "                 141, 151, 131, 149, 164, 163, 143, 143, 166, 171]\n",
    "\n",
    "# TODO: Fill in values for the variables below\n",
    "avg_first_seven = sum(num_customers [:7])/7\n",
    "avg_last_seven = sum(num_customers [-7:])/7\n",
    "max_month = max(num_customers)\n",
    "min_month = min(num_customers)\n",
    "\n",
    "# Do not change: Check your answer\n",
    "q2.check()"
   ]
  },
  {
   "cell_type": "code",
   "execution_count": 5,
   "id": "b09842c2",
   "metadata": {
    "execution": {
     "iopub.execute_input": "2025-02-26T05:46:28.201083Z",
     "iopub.status.busy": "2025-02-26T05:46:28.200669Z",
     "iopub.status.idle": "2025-02-26T05:46:28.204871Z",
     "shell.execute_reply": "2025-02-26T05:46:28.203664Z"
    },
    "papermill": {
     "duration": 0.012825,
     "end_time": "2025-02-26T05:46:28.206753",
     "exception": false,
     "start_time": "2025-02-26T05:46:28.193928",
     "status": "completed"
    },
    "tags": []
   },
   "outputs": [],
   "source": [
    "# Uncomment to see a hint\n",
    "#q2.hint()\n",
    "\n",
    "# Uncomment to see the solution\n",
    "#q2.solution()"
   ]
  },
  {
   "cell_type": "markdown",
   "id": "65387f0f",
   "metadata": {
    "papermill": {
     "duration": 0.005417,
     "end_time": "2025-02-26T05:46:28.218202",
     "exception": false,
     "start_time": "2025-02-26T05:46:28.212785",
     "status": "completed"
    },
    "tags": []
   },
   "source": [
    "# Question 3\n",
    "\n",
    "In the tutorial, we gave an example of a Python string with information that was better as a list."
   ]
  },
  {
   "cell_type": "code",
   "execution_count": 6,
   "id": "cf05e4d9",
   "metadata": {
    "execution": {
     "iopub.execute_input": "2025-02-26T05:46:28.231524Z",
     "iopub.status.busy": "2025-02-26T05:46:28.230900Z",
     "iopub.status.idle": "2025-02-26T05:46:28.236109Z",
     "shell.execute_reply": "2025-02-26T05:46:28.234834Z"
    },
    "papermill": {
     "duration": 0.014356,
     "end_time": "2025-02-26T05:46:28.238307",
     "exception": false,
     "start_time": "2025-02-26T05:46:28.223951",
     "status": "completed"
    },
    "tags": []
   },
   "outputs": [],
   "source": [
    "flowers = \"pink primrose,hard-leaved pocket orchid,canterbury bells,sweet pea,english marigold,tiger lily,moon orchid,bird of paradise,monkshood,globe thistle\""
   ]
  },
  {
   "cell_type": "markdown",
   "id": "2d20c30e",
   "metadata": {
    "papermill": {
     "duration": 0.005348,
     "end_time": "2025-02-26T05:46:28.249690",
     "exception": false,
     "start_time": "2025-02-26T05:46:28.244342",
     "status": "completed"
    },
    "tags": []
   },
   "source": [
    "You can actually use Python to quickly turn this string into a list with `.split()`.  In the parentheses, we need to provide the character should be used to mark the end of one list item and the beginning of another, and enclose it in quotation marks.  In this case, that character is a comma."
   ]
  },
  {
   "cell_type": "code",
   "execution_count": 7,
   "id": "6a04870f",
   "metadata": {
    "execution": {
     "iopub.execute_input": "2025-02-26T05:46:28.262435Z",
     "iopub.status.busy": "2025-02-26T05:46:28.261997Z",
     "iopub.status.idle": "2025-02-26T05:46:28.267677Z",
     "shell.execute_reply": "2025-02-26T05:46:28.266006Z"
    },
    "papermill": {
     "duration": 0.014366,
     "end_time": "2025-02-26T05:46:28.269673",
     "exception": false,
     "start_time": "2025-02-26T05:46:28.255307",
     "status": "completed"
    },
    "tags": []
   },
   "outputs": [
    {
     "name": "stdout",
     "output_type": "stream",
     "text": [
      "['pink primrose', 'hard-leaved pocket orchid', 'canterbury bells', 'sweet pea', 'english marigold', 'tiger lily', 'moon orchid', 'bird of paradise', 'monkshood', 'globe thistle']\n"
     ]
    }
   ],
   "source": [
    " print(flowers.split(\",\"))"
   ]
  },
  {
   "cell_type": "markdown",
   "id": "deb926dd",
   "metadata": {
    "papermill": {
     "duration": 0.00543,
     "end_time": "2025-02-26T05:46:28.281032",
     "exception": false,
     "start_time": "2025-02-26T05:46:28.275602",
     "status": "completed"
    },
    "tags": []
   },
   "source": [
    "Now it is your turn to try this out!  Create two Python lists:\n",
    "- `letters` should be a Python list where each entry is an uppercase letter of the English alphabet.  For instance, the first two entries should be `\"A\"` and `\"B\"`, and the final two entries should be `\"Y\"` and `\"Z\"`.  Use the string `alphabet` to create this list.\n",
    "- `address` should be a Python list where each row in `address` is a different item in the list.  Currently, each row in `address` is separated by a comma. "
   ]
  },
  {
   "cell_type": "code",
   "execution_count": 8,
   "id": "a6c5b167",
   "metadata": {
    "execution": {
     "iopub.execute_input": "2025-02-26T05:46:28.293245Z",
     "iopub.status.busy": "2025-02-26T05:46:28.292849Z",
     "iopub.status.idle": "2025-02-26T05:46:28.300712Z",
     "shell.execute_reply": "2025-02-26T05:46:28.299601Z"
    },
    "papermill": {
     "duration": 0.01608,
     "end_time": "2025-02-26T05:46:28.302590",
     "exception": false,
     "start_time": "2025-02-26T05:46:28.286510",
     "status": "completed"
    },
    "tags": []
   },
   "outputs": [
    {
     "data": {
      "application/javascript": [
       "parent.postMessage({\"jupyterEvent\": \"custom.exercise_interaction\", \"data\": {\"outcomeType\": 1, \"valueTowardsCompletion\": 0.2, \"interactionType\": 1, \"questionType\": 1, \"questionId\": \"3_SplitString\", \"learnToolsVersion\": \"0.3.4\", \"failureMessage\": \"\", \"exceptionClass\": \"\", \"trace\": \"\"}}, \"*\")"
      ],
      "text/plain": [
       "<IPython.core.display.Javascript object>"
      ]
     },
     "metadata": {},
     "output_type": "display_data"
    },
    {
     "data": {
      "text/markdown": [
       "<span style=\"color:#33cc33\">Correct</span>"
      ],
      "text/plain": [
       "Correct"
      ]
     },
     "metadata": {},
     "output_type": "display_data"
    }
   ],
   "source": [
    "# DO not change: Define two Python strings\n",
    "alphabet = \"A.B.C.D.E.F.G.H.I.J.K.L.M.N.O.P.Q.R.S.T.U.V.W.X.Y.Z\"\n",
    "address = \"Mr. H. Potter,The cupboard under the Stairs,4 Privet Drive,Little Whinging,Surrey\"\n",
    "\n",
    "# TODO: Convert strings into Python lists\n",
    "letters = alphabet.split(\".\")\n",
    "formatted_address = address.split(\",\")\n",
    "\n",
    "# Do not change: Check your answer\n",
    "q3.check()"
   ]
  },
  {
   "cell_type": "code",
   "execution_count": 9,
   "id": "52db00f7",
   "metadata": {
    "execution": {
     "iopub.execute_input": "2025-02-26T05:46:28.316378Z",
     "iopub.status.busy": "2025-02-26T05:46:28.315942Z",
     "iopub.status.idle": "2025-02-26T05:46:28.320201Z",
     "shell.execute_reply": "2025-02-26T05:46:28.319028Z"
    },
    "papermill": {
     "duration": 0.013086,
     "end_time": "2025-02-26T05:46:28.321924",
     "exception": false,
     "start_time": "2025-02-26T05:46:28.308838",
     "status": "completed"
    },
    "tags": []
   },
   "outputs": [],
   "source": [
    "# Uncomment to see a hint\n",
    "#q3.hint()\n",
    "\n",
    "# Uncomment to see the solution\n",
    "#q3.solution()"
   ]
  },
  {
   "cell_type": "markdown",
   "id": "1e0c63c0",
   "metadata": {
    "papermill": {
     "duration": 0.005862,
     "end_time": "2025-02-26T05:46:28.334206",
     "exception": false,
     "start_time": "2025-02-26T05:46:28.328344",
     "status": "completed"
    },
    "tags": []
   },
   "source": [
    "# Question 4\n",
    "\n",
    "In the Python course, you'll learn all about **list comprehensions**, which allow you to create a list based on the values in another list.  In this question, you'll get a brief preview of how they work.\n",
    "\n",
    "Say we're working with the list below."
   ]
  },
  {
   "cell_type": "code",
   "execution_count": 10,
   "id": "ee1a8cf1",
   "metadata": {
    "execution": {
     "iopub.execute_input": "2025-02-26T05:46:28.347748Z",
     "iopub.status.busy": "2025-02-26T05:46:28.347364Z",
     "iopub.status.idle": "2025-02-26T05:46:28.351860Z",
     "shell.execute_reply": "2025-02-26T05:46:28.350699Z"
    },
    "papermill": {
     "duration": 0.013651,
     "end_time": "2025-02-26T05:46:28.353924",
     "exception": false,
     "start_time": "2025-02-26T05:46:28.340273",
     "status": "completed"
    },
    "tags": []
   },
   "outputs": [],
   "source": [
    "test_ratings = [1, 2, 3, 4, 5]"
   ]
  },
  {
   "cell_type": "markdown",
   "id": "4fe48131",
   "metadata": {
    "papermill": {
     "duration": 0.006018,
     "end_time": "2025-02-26T05:46:28.366324",
     "exception": false,
     "start_time": "2025-02-26T05:46:28.360306",
     "status": "completed"
    },
    "tags": []
   },
   "source": [
    "Then we can use this list (`test_ratings`) to create a new list (`test_liked`) where each item has been turned into a boolean, depending on whether or not the item is greater than or equal to four."
   ]
  },
  {
   "cell_type": "code",
   "execution_count": 11,
   "id": "43a4d813",
   "metadata": {
    "execution": {
     "iopub.execute_input": "2025-02-26T05:46:28.381459Z",
     "iopub.status.busy": "2025-02-26T05:46:28.381057Z",
     "iopub.status.idle": "2025-02-26T05:46:28.386921Z",
     "shell.execute_reply": "2025-02-26T05:46:28.385456Z"
    },
    "papermill": {
     "duration": 0.01504,
     "end_time": "2025-02-26T05:46:28.388784",
     "exception": false,
     "start_time": "2025-02-26T05:46:28.373744",
     "status": "completed"
    },
    "tags": []
   },
   "outputs": [
    {
     "name": "stdout",
     "output_type": "stream",
     "text": [
      "[False, False, False, True, True]\n"
     ]
    }
   ],
   "source": [
    "test_liked = [i>=4 for i in test_ratings]\n",
    "print(test_liked)"
   ]
  },
  {
   "cell_type": "markdown",
   "id": "9a910fc1",
   "metadata": {
    "papermill": {
     "duration": 0.00583,
     "end_time": "2025-02-26T05:46:28.400936",
     "exception": false,
     "start_time": "2025-02-26T05:46:28.395106",
     "status": "completed"
    },
    "tags": []
   },
   "source": [
    "In this question, you'll use this list comprehension to define a function `percentage_liked()` that takes one argument as input:\n",
    "- `ratings`: list of ratings that people gave to a movie, where each rating is a number between 1-5, inclusive\n",
    "\n",
    "We say someone liked the movie, if they gave a rating of either 4 or 5.  Your function should return the percentage of people who liked the movie.\n",
    "\n",
    "For instance, if we supply a value of `[1, 2, 3, 4, 5, 4, 5, 1]`, then 50% (4/8) of the people liked the movie, and the function should return `0.5`.\n",
    "\n",
    "Part of the function has already been completed for you.  You need only use `list_liked` to calculate `percentage_liked`."
   ]
  },
  {
   "cell_type": "code",
   "execution_count": 12,
   "id": "21cccfcd",
   "metadata": {
    "execution": {
     "iopub.execute_input": "2025-02-26T05:46:28.414290Z",
     "iopub.status.busy": "2025-02-26T05:46:28.413896Z",
     "iopub.status.idle": "2025-02-26T05:46:28.422768Z",
     "shell.execute_reply": "2025-02-26T05:46:28.421666Z"
    },
    "jupyter": {
     "source_hidden": true
    },
    "papermill": {
     "duration": 0.017736,
     "end_time": "2025-02-26T05:46:28.424757",
     "exception": false,
     "start_time": "2025-02-26T05:46:28.407021",
     "status": "completed"
    },
    "tags": []
   },
   "outputs": [
    {
     "data": {
      "application/javascript": [
       "parent.postMessage({\"jupyterEvent\": \"custom.exercise_interaction\", \"data\": {\"outcomeType\": 1, \"valueTowardsCompletion\": 0.2, \"interactionType\": 1, \"questionType\": 2, \"questionId\": \"4_PercentageLiked\", \"learnToolsVersion\": \"0.3.4\", \"failureMessage\": \"\", \"exceptionClass\": \"\", \"trace\": \"\"}}, \"*\")"
      ],
      "text/plain": [
       "<IPython.core.display.Javascript object>"
      ]
     },
     "metadata": {},
     "output_type": "display_data"
    },
    {
     "data": {
      "text/markdown": [
       "<span style=\"color:#33cc33\">Correct</span>"
      ],
      "text/plain": [
       "Correct"
      ]
     },
     "metadata": {},
     "output_type": "display_data"
    }
   ],
   "source": [
    "\n",
    "def percentage_liked(ratings):\n",
    "    list_liked = [i>=4 for i in ratings]\n",
    "    # TODO: Complete the function\n",
    "    percentage_liked = sum(list_liked)/len(list_liked)\n",
    "    return percentage_liked\n",
    "\n",
    "# Do not change: should return 0.5\n",
    "percentage_liked([1, 2, 3, 4, 5, 4, 5, 1])\n",
    "\n",
    "# Do not change: Check your answer\n",
    "q4.check()"
   ]
  },
  {
   "cell_type": "code",
   "execution_count": 13,
   "id": "ff5c5085",
   "metadata": {
    "execution": {
     "iopub.execute_input": "2025-02-26T05:46:28.439102Z",
     "iopub.status.busy": "2025-02-26T05:46:28.438705Z",
     "iopub.status.idle": "2025-02-26T05:46:28.442815Z",
     "shell.execute_reply": "2025-02-26T05:46:28.441686Z"
    },
    "papermill": {
     "duration": 0.013196,
     "end_time": "2025-02-26T05:46:28.444519",
     "exception": false,
     "start_time": "2025-02-26T05:46:28.431323",
     "status": "completed"
    },
    "tags": []
   },
   "outputs": [],
   "source": [
    "# Uncomment to see a hint\n",
    "#q4.hint()\n",
    "\n",
    "# Uncomment to see the solution\n",
    "#q4.solution()"
   ]
  },
  {
   "cell_type": "markdown",
   "id": "e61e359a",
   "metadata": {
    "papermill": {
     "duration": 0.00588,
     "end_time": "2025-02-26T05:46:28.456783",
     "exception": false,
     "start_time": "2025-02-26T05:46:28.450903",
     "status": "completed"
    },
    "tags": []
   },
   "source": [
    "# 🌶️ Question 5\n",
    " \n",
    "Say you're doing analytics for a website.  You need to write a function that returns the percentage growth in the total number of users relative to a specified number of years ago.\n",
    "\n",
    "Your function `percentage_growth()` should take two arguments as input:\n",
    "- `num_users` = Python list with the total number of users each year.  So `num_users[0]` is the total number of users in the first year, `num_users[1]` is the total number of users in the second year, and so on.  The final entry in the list gives the total number of users in the most recently completed year.\n",
    "- `yrs_ago` = number of years to go back in time when calculating the growth percentage\n",
    "\n",
    "For instance, say `num_users = [920344, 1043553, 1204334, 1458996, 1503323, 1593432, 1623463, 1843064, 1930992, 2001078]`.\n",
    "- if `yrs_ago = 1`, we want the function to return a value of about `0.036`. This corresponds to a percentage growth of approximately 3.6%, calculated as (2001078 - 1930992)/1930992.\n",
    "- if `years_ago = 7`, we would want to return approximately `0.66`.  This corresponds to a percentage growth of approximately 66%, calculated as (2001078 - 1204334)/1204334.\n",
    "\n",
    "Your coworker sent you a draft of a function, but it doesn't seem to be doing the correct calculation.  Can you figure out what has gone wrong and make the needed changes?"
   ]
  },
  {
   "cell_type": "code",
   "execution_count": 14,
   "id": "07bfbdf9",
   "metadata": {
    "execution": {
     "iopub.execute_input": "2025-02-26T05:46:28.470652Z",
     "iopub.status.busy": "2025-02-26T05:46:28.470279Z",
     "iopub.status.idle": "2025-02-26T05:46:28.480947Z",
     "shell.execute_reply": "2025-02-26T05:46:28.479912Z"
    },
    "papermill": {
     "duration": 0.020068,
     "end_time": "2025-02-26T05:46:28.482977",
     "exception": false,
     "start_time": "2025-02-26T05:46:28.462909",
     "status": "completed"
    },
    "tags": []
   },
   "outputs": [
    {
     "name": "stdout",
     "output_type": "stream",
     "text": [
      "0.03629533421163837\n",
      "0.6615639847417742\n"
     ]
    },
    {
     "data": {
      "application/javascript": [
       "parent.postMessage({\"jupyterEvent\": \"custom.exercise_interaction\", \"data\": {\"outcomeType\": 1, \"valueTowardsCompletion\": 0.2, \"interactionType\": 1, \"questionType\": 2, \"questionId\": \"5_WebsiteAnalytics\", \"learnToolsVersion\": \"0.3.4\", \"failureMessage\": \"\", \"exceptionClass\": \"\", \"trace\": \"\"}}, \"*\")"
      ],
      "text/plain": [
       "<IPython.core.display.Javascript object>"
      ]
     },
     "metadata": {},
     "output_type": "display_data"
    },
    {
     "data": {
      "text/markdown": [
       "<span style=\"color:#33cc33\">Correct</span>"
      ],
      "text/plain": [
       "Correct"
      ]
     },
     "metadata": {},
     "output_type": "display_data"
    }
   ],
   "source": [
    "# TODO: Edit the function\n",
    "def percentage_growth(num_users, yrs_ago):\n",
    "    growth = (num_users[len(num_users)-1] - num_users[len(num_users)-yrs_ago-1])/num_users[len(num_users)-yrs_ago-1]\n",
    "    return growth\n",
    "\n",
    "# Do not change: Variable for calculating some test examples\n",
    "num_users_test = [920344, 1043553, 1204334, 1458996, 1503323, 1593432, 1623463, 1843064, 1930992, 2001078]\n",
    "\n",
    "# Do not change: Should return .036\n",
    "print(percentage_growth(num_users_test, 1))\n",
    "\n",
    "# Do not change: Should return 0.66\n",
    "print(percentage_growth(num_users_test, 7))\n",
    "\n",
    "# Do not change: Check your answer\n",
    "q5.check()"
   ]
  },
  {
   "cell_type": "code",
   "execution_count": 15,
   "id": "e001da29",
   "metadata": {
    "execution": {
     "iopub.execute_input": "2025-02-26T05:46:28.497765Z",
     "iopub.status.busy": "2025-02-26T05:46:28.497424Z",
     "iopub.status.idle": "2025-02-26T05:46:28.501565Z",
     "shell.execute_reply": "2025-02-26T05:46:28.500365Z"
    },
    "papermill": {
     "duration": 0.013475,
     "end_time": "2025-02-26T05:46:28.503317",
     "exception": false,
     "start_time": "2025-02-26T05:46:28.489842",
     "status": "completed"
    },
    "tags": []
   },
   "outputs": [],
   "source": [
    "# Uncomment to see a hint\n",
    "#q5.hint()\n",
    "\n",
    "# Uncomment to see the solution\n",
    "#q5.solution()"
   ]
  },
  {
   "cell_type": "markdown",
   "id": "bf99a429",
   "metadata": {
    "papermill": {
     "duration": 0.006288,
     "end_time": "2025-02-26T05:46:28.516374",
     "exception": false,
     "start_time": "2025-02-26T05:46:28.510086",
     "status": "completed"
    },
    "tags": []
   },
   "source": [
    "# Congratulations!\n",
    "\n",
    "Congratulations for finishing the Intro to Programming course!  You should be proud of your very first steps with learning programming.  As next steps, we recommend taking:\n",
    "- the **[Python course](http://www.kaggle.com/learn/python)**, and \n",
    "- the **[Intro to Machine Learning course](https://www.kaggle.com/learn/intro-to-machine-learning)**."
   ]
  },
  {
   "cell_type": "markdown",
   "id": "88a02791",
   "metadata": {
    "papermill": {
     "duration": 0.006263,
     "end_time": "2025-02-26T05:46:28.529086",
     "exception": false,
     "start_time": "2025-02-26T05:46:28.522823",
     "status": "completed"
    },
    "tags": []
   },
   "source": [
    "---\n",
    "\n",
    "\n",
    "\n",
    "\n",
    "*Have questions or comments? Visit the [course discussion forum](https://www.kaggle.com/learn/intro-to-programming/discussion) to chat with other learners.*"
   ]
  }
 ],
 "metadata": {
  "kaggle": {
   "accelerator": "none",
   "dataSources": [],
   "isGpuEnabled": false,
   "isInternetEnabled": false,
   "language": "python",
   "sourceType": "notebook"
  },
  "kernelspec": {
   "display_name": "Python 3",
   "language": "python",
   "name": "python3"
  },
  "language_info": {
   "codemirror_mode": {
    "name": "ipython",
    "version": 3
   },
   "file_extension": ".py",
   "mimetype": "text/x-python",
   "name": "python",
   "nbconvert_exporter": "python",
   "pygments_lexer": "ipython3",
   "version": "3.10.12"
  },
  "papermill": {
   "default_parameters": {},
   "duration": 4.777947,
   "end_time": "2025-02-26T05:46:29.155488",
   "environment_variables": {},
   "exception": null,
   "input_path": "__notebook__.ipynb",
   "output_path": "__notebook__.ipynb",
   "parameters": {},
   "start_time": "2025-02-26T05:46:24.377541",
   "version": "2.6.0"
  }
 },
 "nbformat": 4,
 "nbformat_minor": 5
}
